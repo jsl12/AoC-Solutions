{
 "cells": [
  {
   "cell_type": "code",
   "execution_count": null,
   "id": "42bb4367-5543-42c6-b466-260036e93478",
   "metadata": {},
   "outputs": [],
   "source": [
    "%load_ext autoreload\n",
    "%autoreload 2"
   ]
  },
  {
   "cell_type": "code",
   "execution_count": null,
   "id": "d2460511-39ac-44c2-9191-2aa6fa21d6f9",
   "metadata": {},
   "outputs": [],
   "source": [
    "from aoc_input import read, read_factory, read_ints, read_lines\n",
    "\n",
    "import day1\n",
    "import day2\n",
    "import day3\n",
    "import day4\n",
    "import day5\n",
    "import day6\n",
    "import day7"
   ]
  },
  {
   "cell_type": "code",
   "execution_count": null,
   "id": "3a0e94f1-dc4d-4f37-b711-8c3c6937bbee",
   "metadata": {},
   "outputs": [],
   "source": [
    "print(day1.part1(read_ints(1)))\n",
    "print(day1.part2(read_ints(1)))"
   ]
  },
  {
   "cell_type": "code",
   "execution_count": null,
   "id": "6dffb25a-8e5e-4b4b-aa58-5e90fa6d1c6a",
   "metadata": {},
   "outputs": [],
   "source": [
    "print(day2.part1(read_lines(2)))\n",
    "print(day2.part2(read_lines(2)))"
   ]
  },
  {
   "cell_type": "code",
   "execution_count": null,
   "id": "6d69a0a5-84c3-4dd5-a718-90a5dc0f48cb",
   "metadata": {},
   "outputs": [],
   "source": [
    "print(day3.part1(read_lines(3)))\n",
    "print(day3.part2(read_lines(3)))"
   ]
  },
  {
   "cell_type": "code",
   "execution_count": null,
   "id": "ec11d3d3-1bd8-4041-964d-bcc112d4f9fc",
   "metadata": {
    "tags": []
   },
   "outputs": [],
   "source": [
    "print(day4.part1(read(4)))\n",
    "print(day4.part2(read(4)))"
   ]
  },
  {
   "cell_type": "code",
   "execution_count": null,
   "id": "a29f6d03-d3bd-4034-99cb-8e7aa2d99bc2",
   "metadata": {},
   "outputs": [],
   "source": [
    "print(day5.part1(read_lines(5)))\n",
    "print(day5.part2(read_lines(5)))"
   ]
  },
  {
   "cell_type": "code",
   "execution_count": null,
   "id": "2e993b9f-1ea9-4d20-87ab-326d25b6f942",
   "metadata": {},
   "outputs": [],
   "source": [
    "print(day6.part1(read(6)))\n",
    "# print(day6.part2(read(6)))"
   ]
  },
  {
   "cell_type": "code",
   "execution_count": null,
   "id": "55ae06b8-251c-41b0-bade-957c20a53f9a",
   "metadata": {},
   "outputs": [],
   "source": [
    "print(day7.part1(read(7)))"
   ]
  },
  {
   "cell_type": "code",
   "execution_count": null,
   "id": "e38da39d-da1d-400e-a16b-6b578fae7b57",
   "metadata": {},
   "outputs": [],
   "source": []
  }
 ],
 "metadata": {
  "kernelspec": {
   "display_name": "Python 3 (ipykernel)",
   "language": "python",
   "name": "python3"
  },
  "language_info": {
   "codemirror_mode": {
    "name": "ipython",
    "version": 3
   },
   "file_extension": ".py",
   "mimetype": "text/x-python",
   "name": "python",
   "nbconvert_exporter": "python",
   "pygments_lexer": "ipython3",
   "version": "3.10.0"
  }
 },
 "nbformat": 4,
 "nbformat_minor": 5
}
