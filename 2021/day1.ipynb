{
 "cells": [
  {
   "cell_type": "code",
   "execution_count": 1,
   "id": "a31ba2ec-41a3-4a54-b64e-97946b9f3fb7",
   "metadata": {},
   "outputs": [],
   "source": [
    "from pathlib import Path\n",
    "from typing import List\n",
    "\n",
    "from rich import print"
   ]
  },
  {
   "cell_type": "code",
   "execution_count": 2,
   "id": "05bedf2d-df26-4428-bc11-244894ed0b4a",
   "metadata": {
    "tags": []
   },
   "outputs": [],
   "source": [
    "def get_input(day: int):\n",
    "    return (Path('inputs') / f'day{day}.txt').open('r').read().splitlines()\n",
    "\n",
    "inp = list(map(int, get_input(1)))"
   ]
  },
  {
   "cell_type": "code",
   "execution_count": 3,
   "id": "31bac4cc-db1b-4769-b617-4d0eb4b90a0a",
   "metadata": {},
   "outputs": [
    {
     "data": {
      "text/plain": [
       "[199, 200, 208, 210, 200, 207, 240, 269, 260, 263]"
      ]
     },
     "execution_count": 3,
     "metadata": {},
     "output_type": "execute_result"
    }
   ],
   "source": [
    "nums = \"\"\"199\n",
    "200\n",
    "208\n",
    "210\n",
    "200\n",
    "207\n",
    "240\n",
    "269\n",
    "260\n",
    "263\"\"\".splitlines()\n",
    "nums = list(map(int, nums))\n",
    "nums"
   ]
  },
  {
   "cell_type": "code",
   "execution_count": 4,
   "id": "a613f4ee-c5eb-4d76-8e31-00c52e9bb8e9",
   "metadata": {},
   "outputs": [],
   "source": [
    "def day1(nums: List[int]):\n",
    "    return sum([n > i for n, i in zip(nums[1:], nums)])"
   ]
  },
  {
   "cell_type": "code",
   "execution_count": 5,
   "id": "3aa05975-370a-48e2-a5b6-ffcfb42ffad1",
   "metadata": {},
   "outputs": [
    {
     "data": {
      "text/plain": [
       "1602"
      ]
     },
     "execution_count": 5,
     "metadata": {},
     "output_type": "execute_result"
    }
   ],
   "source": [
    "day1(inp)"
   ]
  },
  {
   "cell_type": "code",
   "execution_count": 6,
   "id": "85d50098-4cdb-4839-bd5d-f95581fc69b6",
   "metadata": {},
   "outputs": [
    {
     "data": {
      "text/plain": [
       "1633"
      ]
     },
     "execution_count": 6,
     "metadata": {},
     "output_type": "execute_result"
    }
   ],
   "source": [
    "def day1_2(nums: List[int], n):\n",
    "    sums = map(sum, (nums[i:i+n] for i in range(len(nums))))\n",
    "    return day1(list(sums))\n",
    "\n",
    "day1_2(inp, 3)"
   ]
  },
  {
   "cell_type": "code",
   "execution_count": 7,
   "id": "8e236d4d-850f-4945-9c0b-7238591c6dd9",
   "metadata": {},
   "outputs": [
    {
     "name": "stdout",
     "output_type": "stream",
     "text": [
      "878 µs ± 102 µs per loop (mean ± std. dev. of 100 runs, 10 loops each)\n"
     ]
    }
   ],
   "source": [
    "%%timeit -n 10 -r 100\n",
    "day1_2(inp, 3)"
   ]
  },
  {
   "cell_type": "code",
   "execution_count": null,
   "id": "3fb49a20-70fd-4e4a-aa07-86849fdd41af",
   "metadata": {},
   "outputs": [],
   "source": [
    "!pip install matplotlib"
   ]
  }
 ],
 "metadata": {
  "kernelspec": {
   "display_name": "Python 3 (ipykernel)",
   "language": "python",
   "name": "python3"
  },
  "language_info": {
   "codemirror_mode": {
    "name": "ipython",
    "version": 3
   },
   "file_extension": ".py",
   "mimetype": "text/x-python",
   "name": "python",
   "nbconvert_exporter": "python",
   "pygments_lexer": "ipython3",
   "version": "3.10.0"
  }
 },
 "nbformat": 4,
 "nbformat_minor": 5
}
