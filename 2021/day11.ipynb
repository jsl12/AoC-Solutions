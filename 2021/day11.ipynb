{
 "cells": [
  {
   "cell_type": "code",
   "execution_count": 1,
   "id": "3f158771-f140-47f0-b041-f2a6f97cb456",
   "metadata": {},
   "outputs": [],
   "source": [
    "%load_ext autoreload\n",
    "%autoreload 2"
   ]
  },
  {
   "cell_type": "code",
   "execution_count": 8,
   "id": "b76cc4e3-eff3-400a-b993-e77d5e14a757",
   "metadata": {},
   "outputs": [],
   "source": [
    "from itertools import combinations\n",
    "\n",
    "from aoc_input import read, read_lines\n",
    "from rich import print\n",
    "from rich.panel import Panel\n",
    "\n",
    "import re\n",
    "import itertools\n",
    "\n",
    "from day11 import Octopi, make_array\n",
    "\n",
    "import numpy as np"
   ]
  },
  {
   "cell_type": "code",
   "execution_count": 12,
   "id": "4434814b-c45c-4e2e-9038-c9c82035e748",
   "metadata": {},
   "outputs": [
    {
     "data": {
      "text/html": [
       "<pre style=\"white-space:pre;overflow-x:auto;line-height:normal;font-family:Menlo,'DejaVu Sans Mono',consolas,'Courier New',monospace\">╭─ Octopi, Step 0 ─╮\n",
       "│  1  1  1  1  1   │\n",
       "│  1  <span style=\"color: #800000; text-decoration-color: #800000; font-weight: bold\">9</span>  <span style=\"color: #800000; text-decoration-color: #800000; font-weight: bold\">9</span>  <span style=\"color: #800000; text-decoration-color: #800000; font-weight: bold\">9</span>  1   │\n",
       "│  1  <span style=\"color: #800000; text-decoration-color: #800000; font-weight: bold\">9</span>  1  <span style=\"color: #800000; text-decoration-color: #800000; font-weight: bold\">9</span>  1   │\n",
       "│  1  <span style=\"color: #800000; text-decoration-color: #800000; font-weight: bold\">9</span>  <span style=\"color: #800000; text-decoration-color: #800000; font-weight: bold\">9</span>  <span style=\"color: #800000; text-decoration-color: #800000; font-weight: bold\">9</span>  1   │\n",
       "│  1  1  1  1  1   │\n",
       "╰──────────────────╯\n",
       "</pre>\n"
      ],
      "text/plain": [
       "╭─ Octopi, Step 0 ─╮\n",
       "│  1  1  1  1  1   │\n",
       "│  1  \u001b[1;31m9\u001b[0m  \u001b[1;31m9\u001b[0m  \u001b[1;31m9\u001b[0m  1   │\n",
       "│  1  \u001b[1;31m9\u001b[0m  1  \u001b[1;31m9\u001b[0m  1   │\n",
       "│  1  \u001b[1;31m9\u001b[0m  \u001b[1;31m9\u001b[0m  \u001b[1;31m9\u001b[0m  1   │\n",
       "│  1  1  1  1  1   │\n",
       "╰──────────────────╯\n"
      ]
     },
     "metadata": {},
     "output_type": "display_data"
    },
    {
     "data": {
      "text/html": [
       "<pre style=\"white-space:pre;overflow-x:auto;line-height:normal;font-family:Menlo,'DejaVu Sans Mono',consolas,'Courier New',monospace\">Flashing, <span style=\"color: #008080; text-decoration-color: #008080; font-weight: bold\">8</span> points\n",
       "</pre>\n"
      ],
      "text/plain": [
       "Flashing, \u001b[1;36m8\u001b[0m points\n"
      ]
     },
     "metadata": {},
     "output_type": "display_data"
    },
    {
     "data": {
      "text/html": [
       "<pre style=\"white-space:pre;overflow-x:auto;line-height:normal;font-family:Menlo,'DejaVu Sans Mono',consolas,'Courier New',monospace\">Flashing, <span style=\"color: #008080; text-decoration-color: #008080; font-weight: bold\">1</span> points\n",
       "</pre>\n"
      ],
      "text/plain": [
       "Flashing, \u001b[1;36m1\u001b[0m points\n"
      ]
     },
     "metadata": {},
     "output_type": "display_data"
    },
    {
     "data": {
      "text/html": [
       "<pre style=\"white-space:pre;overflow-x:auto;line-height:normal;font-family:Menlo,'DejaVu Sans Mono',consolas,'Courier New',monospace\">╭─ Octopi, Step 1 ─╮\n",
       "│  3  4  5  4  3   │\n",
       "│  4  <span style=\"color: #008000; text-decoration-color: #008000; font-weight: bold\">0</span>  <span style=\"color: #008000; text-decoration-color: #008000; font-weight: bold\">0</span>  <span style=\"color: #008000; text-decoration-color: #008000; font-weight: bold\">0</span>  4   │\n",
       "│  5  <span style=\"color: #008000; text-decoration-color: #008000; font-weight: bold\">0</span>  <span style=\"color: #008000; text-decoration-color: #008000; font-weight: bold\">0</span>  <span style=\"color: #008000; text-decoration-color: #008000; font-weight: bold\">0</span>  5   │\n",
       "│  4  <span style=\"color: #008000; text-decoration-color: #008000; font-weight: bold\">0</span>  <span style=\"color: #008000; text-decoration-color: #008000; font-weight: bold\">0</span>  <span style=\"color: #008000; text-decoration-color: #008000; font-weight: bold\">0</span>  4   │\n",
       "│  3  4  5  4  3   │\n",
       "╰──────────────────╯\n",
       "</pre>\n"
      ],
      "text/plain": [
       "╭─ Octopi, Step 1 ─╮\n",
       "│  3  4  5  4  3   │\n",
       "│  4  \u001b[1;32m0\u001b[0m  \u001b[1;32m0\u001b[0m  \u001b[1;32m0\u001b[0m  4   │\n",
       "│  5  \u001b[1;32m0\u001b[0m  \u001b[1;32m0\u001b[0m  \u001b[1;32m0\u001b[0m  5   │\n",
       "│  4  \u001b[1;32m0\u001b[0m  \u001b[1;32m0\u001b[0m  \u001b[1;32m0\u001b[0m  4   │\n",
       "│  3  4  5  4  3   │\n",
       "╰──────────────────╯\n"
      ]
     },
     "metadata": {},
     "output_type": "display_data"
    }
   ],
   "source": [
    "o = Octopi(\"\"\"11111\n",
    "19991\n",
    "19191\n",
    "19991\n",
    "11111\"\"\")\n",
    "print(o)\n",
    "\n",
    "o.flash()\n",
    "print(o)\n",
    "\n",
    "# o.increase_energy()\n",
    "# print(o)\n",
    "# o.advance()\n",
    "# print(o)"
   ]
  },
  {
   "cell_type": "code",
   "execution_count": 52,
   "id": "352f05c7-2efd-47ba-9ccc-5946c1878031",
   "metadata": {},
   "outputs": [],
   "source": [
    "sample = \"\"\"Before any steps:\n",
    "5483143223\n",
    "2745854711\n",
    "5264556173\n",
    "6141336146\n",
    "6357385478\n",
    "4167524645\n",
    "2176841721\n",
    "6882881134\n",
    "4846848554\n",
    "5283751526\n",
    "\n",
    "After step 1:\n",
    "6594254334\n",
    "3856965822\n",
    "6375667284\n",
    "7252447257\n",
    "7468496589\n",
    "5278635756\n",
    "3287952832\n",
    "7993992245\n",
    "5957959665\n",
    "6394862637\n",
    "\n",
    "After step 2:\n",
    "8807476555\n",
    "5089087054\n",
    "8597889608\n",
    "8485769600\n",
    "8700908800\n",
    "6600088989\n",
    "6800005943\n",
    "0000007456\n",
    "9000000876\n",
    "8700006848\n",
    "\n",
    "After step 3:\n",
    "0050900866\n",
    "8500800575\n",
    "9900000039\n",
    "9700000041\n",
    "9935080063\n",
    "7712300000\n",
    "7911250009\n",
    "2211130000\n",
    "0421125000\n",
    "0021119000\n",
    "\n",
    "After step 4:\n",
    "2263031977\n",
    "0923031697\n",
    "0032221150\n",
    "0041111163\n",
    "0076191174\n",
    "0053411122\n",
    "0042361120\n",
    "5532241122\n",
    "1532247211\n",
    "1132230211\n",
    "\n",
    "After step 5:\n",
    "4484144000\n",
    "2044144000\n",
    "2253333493\n",
    "1152333274\n",
    "1187303285\n",
    "1164633233\n",
    "1153472231\n",
    "6643352233\n",
    "2643358322\n",
    "2243341322\n",
    "\n",
    "After step 6:\n",
    "5595255111\n",
    "3155255222\n",
    "3364444605\n",
    "2263444496\n",
    "2298414396\n",
    "2275744344\n",
    "2264583342\n",
    "7754463344\n",
    "3754469433\n",
    "3354452433\n",
    "\n",
    "After step 7:\n",
    "6707366222\n",
    "4377366333\n",
    "4475555827\n",
    "3496655709\n",
    "3500625609\n",
    "3509955566\n",
    "3486694453\n",
    "8865585555\n",
    "4865580644\n",
    "4465574644\n",
    "\n",
    "After step 8:\n",
    "7818477333\n",
    "5488477444\n",
    "5697666949\n",
    "4608766830\n",
    "4734946730\n",
    "4740097688\n",
    "6900007564\n",
    "0000009666\n",
    "8000004755\n",
    "6800007755\n",
    "\n",
    "After step 9:\n",
    "9060000644\n",
    "7800000976\n",
    "6900000080\n",
    "5840000082\n",
    "5858000093\n",
    "6962400000\n",
    "8021250009\n",
    "2221130009\n",
    "9111128097\n",
    "7911119976\n",
    "\n",
    "After step 10:\n",
    "0481112976\n",
    "0031112009\n",
    "0041112504\n",
    "0081111406\n",
    "0099111306\n",
    "0093511233\n",
    "0442361130\n",
    "5532252350\n",
    "0532250600\n",
    "0032240000\"\"\".split('\\n\\n')\n",
    "sample = [make_array(group.splitlines()[1:]) for group in sample]"
   ]
  },
  {
   "cell_type": "code",
   "execution_count": 53,
   "id": "1f8ab58e-ef65-434c-8c05-fc25201194ff",
   "metadata": {
    "tags": []
   },
   "outputs": [
    {
     "data": {
      "text/html": [
       "<pre style=\"white-space:pre;overflow-x:auto;line-height:normal;font-family:Menlo,'DejaVu Sans Mono',consolas,'Courier New',monospace\">╭─────── Octopi, Step 0 ────────╮\n",
       "│  5  4  8  3  1  4  3  2  2  3 │\n",
       "│  2  7  4  5  8  5  4  7  1  1 │\n",
       "│  5  2  6  4  5  5  6  1  7  3 │\n",
       "│  6  1  4  1  3  3  6  1  4  6 │\n",
       "│  6  3  5  7  3  8  5  4  7  8 │\n",
       "│  4  1  6  7  5  2  4  6  4  5 │\n",
       "│  2  1  7  6  8  4  1  7  2  1 │\n",
       "│  6  8  8  2  8  8  1  1  3  4 │\n",
       "│  4  8  4  6  8  4  8  5  5  4 │\n",
       "│  5  2  8  3  7  5  1  5  2  6 │\n",
       "╰───────────────────────────────╯\n",
       "</pre>\n"
      ],
      "text/plain": [
       "╭─────── Octopi, Step 0 ────────╮\n",
       "│  5  4  8  3  1  4  3  2  2  3 │\n",
       "│  2  7  4  5  8  5  4  7  1  1 │\n",
       "│  5  2  6  4  5  5  6  1  7  3 │\n",
       "│  6  1  4  1  3  3  6  1  4  6 │\n",
       "│  6  3  5  7  3  8  5  4  7  8 │\n",
       "│  4  1  6  7  5  2  4  6  4  5 │\n",
       "│  2  1  7  6  8  4  1  7  2  1 │\n",
       "│  6  8  8  2  8  8  1  1  3  4 │\n",
       "│  4  8  4  6  8  4  8  5  5  4 │\n",
       "│  5  2  8  3  7  5  1  5  2  6 │\n",
       "╰───────────────────────────────╯\n"
      ]
     },
     "metadata": {},
     "output_type": "display_data"
    },
    {
     "data": {
      "text/html": [
       "<pre style=\"white-space:pre;overflow-x:auto;line-height:normal;font-family:Menlo,'DejaVu Sans Mono',consolas,'Courier New',monospace\">╭─────── Octopi, Step 2 ────────╮\n",
       "│  8  8  <span style=\"color: #008000; text-decoration-color: #008000; font-weight: bold\">0</span>  7  4  7  6  5  5  5 │\n",
       "│  5  <span style=\"color: #008000; text-decoration-color: #008000; font-weight: bold\">0</span>  8  <span style=\"color: #800000; text-decoration-color: #800000; font-weight: bold\">9</span>  <span style=\"color: #008000; text-decoration-color: #008000; font-weight: bold\">0</span>  8  7  <span style=\"color: #008000; text-decoration-color: #008000; font-weight: bold\">0</span>  5  4 │\n",
       "│  8  5  <span style=\"color: #800000; text-decoration-color: #800000; font-weight: bold\">9</span>  7  8  8  <span style=\"color: #800000; text-decoration-color: #800000; font-weight: bold\">9</span>  6  <span style=\"color: #008000; text-decoration-color: #008000; font-weight: bold\">0</span>  8 │\n",
       "│  8  4  8  5  7  6  <span style=\"color: #800000; text-decoration-color: #800000; font-weight: bold\">9</span>  6  <span style=\"color: #008000; text-decoration-color: #008000; font-weight: bold\">0</span>  <span style=\"color: #008000; text-decoration-color: #008000; font-weight: bold\">0</span> │\n",
       "│  8  7  <span style=\"color: #008000; text-decoration-color: #008000; font-weight: bold\">0</span>  <span style=\"color: #008000; text-decoration-color: #008000; font-weight: bold\">0</span>  <span style=\"color: #800000; text-decoration-color: #800000; font-weight: bold\">9</span>  <span style=\"color: #008000; text-decoration-color: #008000; font-weight: bold\">0</span>  8  8  <span style=\"color: #008000; text-decoration-color: #008000; font-weight: bold\">0</span>  <span style=\"color: #008000; text-decoration-color: #008000; font-weight: bold\">0</span> │\n",
       "│  6  5  <span style=\"color: #008000; text-decoration-color: #008000; font-weight: bold\">0</span>  <span style=\"color: #008000; text-decoration-color: #008000; font-weight: bold\">0</span>  <span style=\"color: #008000; text-decoration-color: #008000; font-weight: bold\">0</span>  8  8  <span style=\"color: #800000; text-decoration-color: #800000; font-weight: bold\">9</span>  8  <span style=\"color: #800000; text-decoration-color: #800000; font-weight: bold\">9</span> │\n",
       "│  6  7  <span style=\"color: #008000; text-decoration-color: #008000; font-weight: bold\">0</span>  <span style=\"color: #008000; text-decoration-color: #008000; font-weight: bold\">0</span>  <span style=\"color: #008000; text-decoration-color: #008000; font-weight: bold\">0</span>  <span style=\"color: #008000; text-decoration-color: #008000; font-weight: bold\">0</span>  5  <span style=\"color: #800000; text-decoration-color: #800000; font-weight: bold\">9</span>  4  4 │\n",
       "│  <span style=\"color: #008000; text-decoration-color: #008000; font-weight: bold\">0</span>  <span style=\"color: #008000; text-decoration-color: #008000; font-weight: bold\">0</span>  <span style=\"color: #008000; text-decoration-color: #008000; font-weight: bold\">0</span>  <span style=\"color: #800000; text-decoration-color: #800000; font-weight: bold\">9</span>  <span style=\"color: #008000; text-decoration-color: #008000; font-weight: bold\">0</span>  <span style=\"color: #008000; text-decoration-color: #008000; font-weight: bold\">0</span>  7  4  5  7 │\n",
       "│  <span style=\"color: #800000; text-decoration-color: #800000; font-weight: bold\">9</span>  <span style=\"color: #008000; text-decoration-color: #008000; font-weight: bold\">0</span>  <span style=\"color: #008000; text-decoration-color: #008000; font-weight: bold\">0</span>  <span style=\"color: #008000; text-decoration-color: #008000; font-weight: bold\">0</span>  <span style=\"color: #008000; text-decoration-color: #008000; font-weight: bold\">0</span>  <span style=\"color: #008000; text-decoration-color: #008000; font-weight: bold\">0</span>  <span style=\"color: #008000; text-decoration-color: #008000; font-weight: bold\">0</span>  8  7  7 │\n",
       "│  8  8  <span style=\"color: #008000; text-decoration-color: #008000; font-weight: bold\">0</span>  <span style=\"color: #008000; text-decoration-color: #008000; font-weight: bold\">0</span>  <span style=\"color: #008000; text-decoration-color: #008000; font-weight: bold\">0</span>  <span style=\"color: #008000; text-decoration-color: #008000; font-weight: bold\">0</span>  5  8  4  8 │\n",
       "╰───────────────────────────────╯\n",
       "<span style=\"color: #008080; text-decoration-color: #008080; font-weight: bold\">5</span>\n",
       "</pre>\n"
      ],
      "text/plain": [
       "╭─────── Octopi, Step 2 ────────╮\n",
       "│  8  8  \u001b[1;32m0\u001b[0m  7  4  7  6  5  5  5 │\n",
       "│  5  \u001b[1;32m0\u001b[0m  8  \u001b[1;31m9\u001b[0m  \u001b[1;32m0\u001b[0m  8  7  \u001b[1;32m0\u001b[0m  5  4 │\n",
       "│  8  5  \u001b[1;31m9\u001b[0m  7  8  8  \u001b[1;31m9\u001b[0m  6  \u001b[1;32m0\u001b[0m  8 │\n",
       "│  8  4  8  5  7  6  \u001b[1;31m9\u001b[0m  6  \u001b[1;32m0\u001b[0m  \u001b[1;32m0\u001b[0m │\n",
       "│  8  7  \u001b[1;32m0\u001b[0m  \u001b[1;32m0\u001b[0m  \u001b[1;31m9\u001b[0m  \u001b[1;32m0\u001b[0m  8  8  \u001b[1;32m0\u001b[0m  \u001b[1;32m0\u001b[0m │\n",
       "│  6  5  \u001b[1;32m0\u001b[0m  \u001b[1;32m0\u001b[0m  \u001b[1;32m0\u001b[0m  8  8  \u001b[1;31m9\u001b[0m  8  \u001b[1;31m9\u001b[0m │\n",
       "│  6  7  \u001b[1;32m0\u001b[0m  \u001b[1;32m0\u001b[0m  \u001b[1;32m0\u001b[0m  \u001b[1;32m0\u001b[0m  5  \u001b[1;31m9\u001b[0m  4  4 │\n",
       "│  \u001b[1;32m0\u001b[0m  \u001b[1;32m0\u001b[0m  \u001b[1;32m0\u001b[0m  \u001b[1;31m9\u001b[0m  \u001b[1;32m0\u001b[0m  \u001b[1;32m0\u001b[0m  7  4  5  7 │\n",
       "│  \u001b[1;31m9\u001b[0m  \u001b[1;32m0\u001b[0m  \u001b[1;32m0\u001b[0m  \u001b[1;32m0\u001b[0m  \u001b[1;32m0\u001b[0m  \u001b[1;32m0\u001b[0m  \u001b[1;32m0\u001b[0m  8  7  7 │\n",
       "│  8  8  \u001b[1;32m0\u001b[0m  \u001b[1;32m0\u001b[0m  \u001b[1;32m0\u001b[0m  \u001b[1;32m0\u001b[0m  5  8  4  8 │\n",
       "╰───────────────────────────────╯\n",
       "\u001b[1;36m5\u001b[0m\n"
      ]
     },
     "metadata": {},
     "output_type": "display_data"
    },
    {
     "data": {
      "text/html": [
       "<pre style=\"white-space:pre;overflow-x:auto;line-height:normal;font-family:Menlo,'DejaVu Sans Mono',consolas,'Courier New',monospace\">╭─────── Octopi, Step 2 ────────╮\n",
       "│  8  8  <span style=\"color: #008000; text-decoration-color: #008000; font-weight: bold\">0</span>  7  4  7  6  5  5  5 │\n",
       "│  5  <span style=\"color: #008000; text-decoration-color: #008000; font-weight: bold\">0</span>  8  <span style=\"color: #800000; text-decoration-color: #800000; font-weight: bold\">9</span>  <span style=\"color: #008000; text-decoration-color: #008000; font-weight: bold\">0</span>  8  7  <span style=\"color: #008000; text-decoration-color: #008000; font-weight: bold\">0</span>  5  4 │\n",
       "│  8  5  <span style=\"color: #800000; text-decoration-color: #800000; font-weight: bold\">9</span>  7  8  8  <span style=\"color: #800000; text-decoration-color: #800000; font-weight: bold\">9</span>  6  <span style=\"color: #008000; text-decoration-color: #008000; font-weight: bold\">0</span>  8 │\n",
       "│  8  4  8  5  7  6  <span style=\"color: #800000; text-decoration-color: #800000; font-weight: bold\">9</span>  6  <span style=\"color: #008000; text-decoration-color: #008000; font-weight: bold\">0</span>  <span style=\"color: #008000; text-decoration-color: #008000; font-weight: bold\">0</span> │\n",
       "│  8  7  <span style=\"color: #008000; text-decoration-color: #008000; font-weight: bold\">0</span>  <span style=\"color: #008000; text-decoration-color: #008000; font-weight: bold\">0</span>  <span style=\"color: #800000; text-decoration-color: #800000; font-weight: bold\">9</span>  <span style=\"color: #008000; text-decoration-color: #008000; font-weight: bold\">0</span>  8  8  <span style=\"color: #008000; text-decoration-color: #008000; font-weight: bold\">0</span>  <span style=\"color: #008000; text-decoration-color: #008000; font-weight: bold\">0</span> │\n",
       "│  6  6  <span style=\"color: #008000; text-decoration-color: #008000; font-weight: bold\">0</span>  <span style=\"color: #008000; text-decoration-color: #008000; font-weight: bold\">0</span>  <span style=\"color: #008000; text-decoration-color: #008000; font-weight: bold\">0</span>  8  8  <span style=\"color: #800000; text-decoration-color: #800000; font-weight: bold\">9</span>  8  <span style=\"color: #800000; text-decoration-color: #800000; font-weight: bold\">9</span> │\n",
       "│  6  8  <span style=\"color: #008000; text-decoration-color: #008000; font-weight: bold\">0</span>  <span style=\"color: #008000; text-decoration-color: #008000; font-weight: bold\">0</span>  <span style=\"color: #008000; text-decoration-color: #008000; font-weight: bold\">0</span>  <span style=\"color: #008000; text-decoration-color: #008000; font-weight: bold\">0</span>  5  <span style=\"color: #800000; text-decoration-color: #800000; font-weight: bold\">9</span>  4  3 │\n",
       "│  <span style=\"color: #008000; text-decoration-color: #008000; font-weight: bold\">0</span>  <span style=\"color: #008000; text-decoration-color: #008000; font-weight: bold\">0</span>  <span style=\"color: #008000; text-decoration-color: #008000; font-weight: bold\">0</span>  <span style=\"color: #008000; text-decoration-color: #008000; font-weight: bold\">0</span>  <span style=\"color: #008000; text-decoration-color: #008000; font-weight: bold\">0</span>  <span style=\"color: #008000; text-decoration-color: #008000; font-weight: bold\">0</span>  7  4  5  6 │\n",
       "│  <span style=\"color: #800000; text-decoration-color: #800000; font-weight: bold\">9</span>  <span style=\"color: #008000; text-decoration-color: #008000; font-weight: bold\">0</span>  <span style=\"color: #008000; text-decoration-color: #008000; font-weight: bold\">0</span>  <span style=\"color: #008000; text-decoration-color: #008000; font-weight: bold\">0</span>  <span style=\"color: #008000; text-decoration-color: #008000; font-weight: bold\">0</span>  <span style=\"color: #008000; text-decoration-color: #008000; font-weight: bold\">0</span>  <span style=\"color: #008000; text-decoration-color: #008000; font-weight: bold\">0</span>  8  7  6 │\n",
       "│  8  7  <span style=\"color: #008000; text-decoration-color: #008000; font-weight: bold\">0</span>  <span style=\"color: #008000; text-decoration-color: #008000; font-weight: bold\">0</span>  <span style=\"color: #008000; text-decoration-color: #008000; font-weight: bold\">0</span>  <span style=\"color: #008000; text-decoration-color: #008000; font-weight: bold\">0</span>  6  8  4  8 │\n",
       "╰───────────────────────────────╯\n",
       "</pre>\n"
      ],
      "text/plain": [
       "╭─────── Octopi, Step 2 ────────╮\n",
       "│  8  8  \u001b[1;32m0\u001b[0m  7  4  7  6  5  5  5 │\n",
       "│  5  \u001b[1;32m0\u001b[0m  8  \u001b[1;31m9\u001b[0m  \u001b[1;32m0\u001b[0m  8  7  \u001b[1;32m0\u001b[0m  5  4 │\n",
       "│  8  5  \u001b[1;31m9\u001b[0m  7  8  8  \u001b[1;31m9\u001b[0m  6  \u001b[1;32m0\u001b[0m  8 │\n",
       "│  8  4  8  5  7  6  \u001b[1;31m9\u001b[0m  6  \u001b[1;32m0\u001b[0m  \u001b[1;32m0\u001b[0m │\n",
       "│  8  7  \u001b[1;32m0\u001b[0m  \u001b[1;32m0\u001b[0m  \u001b[1;31m9\u001b[0m  \u001b[1;32m0\u001b[0m  8  8  \u001b[1;32m0\u001b[0m  \u001b[1;32m0\u001b[0m │\n",
       "│  6  6  \u001b[1;32m0\u001b[0m  \u001b[1;32m0\u001b[0m  \u001b[1;32m0\u001b[0m  8  8  \u001b[1;31m9\u001b[0m  8  \u001b[1;31m9\u001b[0m │\n",
       "│  6  8  \u001b[1;32m0\u001b[0m  \u001b[1;32m0\u001b[0m  \u001b[1;32m0\u001b[0m  \u001b[1;32m0\u001b[0m  5  \u001b[1;31m9\u001b[0m  4  3 │\n",
       "│  \u001b[1;32m0\u001b[0m  \u001b[1;32m0\u001b[0m  \u001b[1;32m0\u001b[0m  \u001b[1;32m0\u001b[0m  \u001b[1;32m0\u001b[0m  \u001b[1;32m0\u001b[0m  7  4  5  6 │\n",
       "│  \u001b[1;31m9\u001b[0m  \u001b[1;32m0\u001b[0m  \u001b[1;32m0\u001b[0m  \u001b[1;32m0\u001b[0m  \u001b[1;32m0\u001b[0m  \u001b[1;32m0\u001b[0m  \u001b[1;32m0\u001b[0m  8  7  6 │\n",
       "│  8  7  \u001b[1;32m0\u001b[0m  \u001b[1;32m0\u001b[0m  \u001b[1;32m0\u001b[0m  \u001b[1;32m0\u001b[0m  6  8  4  8 │\n",
       "╰───────────────────────────────╯\n"
      ]
     },
     "metadata": {},
     "output_type": "display_data"
    }
   ],
   "source": [
    "o = Octopi(sample[0])\n",
    "print(o)\n",
    "\n",
    "for i, s in enumerate(sample[1:]):\n",
    "    o.flash()\n",
    "    # print(o)\n",
    "    if not (o.arr == s).all().all():\n",
    "        break\n",
    "print(o, o.sub_step)\n",
    "print(Octopi(s, step=i+1))"
   ]
  },
  {
   "cell_type": "code",
   "execution_count": 37,
   "id": "dc18b87a-983e-42f0-9f1b-4b74908bf992",
   "metadata": {},
   "outputs": [
    {
     "ename": "AttributeError",
     "evalue": "'Octopi' object has no attribute 'sub_step'",
     "output_type": "error",
     "traceback": [
      "\u001b[1;31m---------------------------------------------------------------------------\u001b[0m",
      "\u001b[1;31mAttributeError\u001b[0m                            Traceback (most recent call last)",
      "\u001b[1;32mC:\\Users\\LANCA_~1\\AppData\\Local\\Temp/ipykernel_8724/2986584012.py\u001b[0m in \u001b[0;36m<module>\u001b[1;34m\u001b[0m\n\u001b[1;32m----> 1\u001b[1;33m \u001b[0mo\u001b[0m\u001b[1;33m.\u001b[0m\u001b[0msub_step\u001b[0m\u001b[1;33m\u001b[0m\u001b[1;33m\u001b[0m\u001b[0m\n\u001b[0m",
      "\u001b[1;31mAttributeError\u001b[0m: 'Octopi' object has no attribute 'sub_step'"
     ]
    }
   ],
   "source": [
    "o.sub_step"
   ]
  },
  {
   "cell_type": "code",
   "execution_count": 13,
   "id": "81efc1dc-a192-4c4e-b75f-6645ccf4a513",
   "metadata": {},
   "outputs": [
    {
     "data": {
      "text/html": [
       "<pre style=\"white-space:pre;overflow-x:auto;line-height:normal;font-family:Menlo,'DejaVu Sans Mono',consolas,'Courier New',monospace\">╭─────── Octopi, Step 0 ────────╮\n",
       "│  5  4  8  3  1  4  3  2  2  3 │\n",
       "│  2  7  4  5  8  5  4  7  1  1 │\n",
       "│  5  2  6  4  5  5  6  1  7  3 │\n",
       "│  6  1  4  1  3  3  6  1  4  6 │\n",
       "│  6  3  5  7  3  8  5  4  7  8 │\n",
       "│  4  1  6  7  5  2  4  6  4  5 │\n",
       "│  2  1  7  6  8  4  1  7  2  1 │\n",
       "│  6  8  8  2  8  8  1  1  3  4 │\n",
       "│  4  8  4  6  8  4  8  5  5  4 │\n",
       "│  5  2  8  3  7  5  1  5  2  6 │\n",
       "╰───────────────────────────────╯\n",
       "</pre>\n"
      ],
      "text/plain": [
       "╭─────── Octopi, Step 0 ────────╮\n",
       "│  5  4  8  3  1  4  3  2  2  3 │\n",
       "│  2  7  4  5  8  5  4  7  1  1 │\n",
       "│  5  2  6  4  5  5  6  1  7  3 │\n",
       "│  6  1  4  1  3  3  6  1  4  6 │\n",
       "│  6  3  5  7  3  8  5  4  7  8 │\n",
       "│  4  1  6  7  5  2  4  6  4  5 │\n",
       "│  2  1  7  6  8  4  1  7  2  1 │\n",
       "│  6  8  8  2  8  8  1  1  3  4 │\n",
       "│  4  8  4  6  8  4  8  5  5  4 │\n",
       "│  5  2  8  3  7  5  1  5  2  6 │\n",
       "╰───────────────────────────────╯\n"
      ]
     },
     "metadata": {},
     "output_type": "display_data"
    },
    {
     "data": {
      "text/html": [
       "<pre style=\"white-space:pre;overflow-x:auto;line-height:normal;font-family:Menlo,'DejaVu Sans Mono',consolas,'Courier New',monospace\">Flashing, <span style=\"color: #008080; text-decoration-color: #008080; font-weight: bold\">13</span> points\n",
       "</pre>\n"
      ],
      "text/plain": [
       "Flashing, \u001b[1;36m13\u001b[0m points\n"
      ]
     },
     "metadata": {},
     "output_type": "display_data"
    },
    {
     "data": {
      "text/html": [
       "<pre style=\"white-space:pre;overflow-x:auto;line-height:normal;font-family:Menlo,'DejaVu Sans Mono',consolas,'Courier New',monospace\">Flashing, <span style=\"color: #008080; text-decoration-color: #008080; font-weight: bold\">7</span> points\n",
       "</pre>\n"
      ],
      "text/plain": [
       "Flashing, \u001b[1;36m7\u001b[0m points\n"
      ]
     },
     "metadata": {},
     "output_type": "display_data"
    },
    {
     "data": {
      "text/html": [
       "<pre style=\"white-space:pre;overflow-x:auto;line-height:normal;font-family:Menlo,'DejaVu Sans Mono',consolas,'Courier New',monospace\">Flashing, <span style=\"color: #008080; text-decoration-color: #008080; font-weight: bold\">4</span> points\n",
       "</pre>\n"
      ],
      "text/plain": [
       "Flashing, \u001b[1;36m4\u001b[0m points\n"
      ]
     },
     "metadata": {},
     "output_type": "display_data"
    },
    {
     "data": {
      "text/html": [
       "<pre style=\"white-space:pre;overflow-x:auto;line-height:normal;font-family:Menlo,'DejaVu Sans Mono',consolas,'Courier New',monospace\">Flashing, <span style=\"color: #008080; text-decoration-color: #008080; font-weight: bold\">3</span> points\n",
       "</pre>\n"
      ],
      "text/plain": [
       "Flashing, \u001b[1;36m3\u001b[0m points\n"
      ]
     },
     "metadata": {},
     "output_type": "display_data"
    },
    {
     "data": {
      "text/html": [
       "<pre style=\"white-space:pre;overflow-x:auto;line-height:normal;font-family:Menlo,'DejaVu Sans Mono',consolas,'Courier New',monospace\">Flashing, <span style=\"color: #008080; text-decoration-color: #008080; font-weight: bold\">3</span> points\n",
       "</pre>\n"
      ],
      "text/plain": [
       "Flashing, \u001b[1;36m3\u001b[0m points\n"
      ]
     },
     "metadata": {},
     "output_type": "display_data"
    },
    {
     "data": {
      "text/html": [
       "<pre style=\"white-space:pre;overflow-x:auto;line-height:normal;font-family:Menlo,'DejaVu Sans Mono',consolas,'Courier New',monospace\">╭─────── Octopi, Step 2 ────────╮\n",
       "│  8  8  <span style=\"color: #008000; text-decoration-color: #008000; font-weight: bold\">0</span>  7  4  7  6  5  5  5 │\n",
       "│  5  <span style=\"color: #008000; text-decoration-color: #008000; font-weight: bold\">0</span>  8  <span style=\"color: #800000; text-decoration-color: #800000; font-weight: bold\">9</span>  <span style=\"color: #008000; text-decoration-color: #008000; font-weight: bold\">0</span>  8  7  <span style=\"color: #008000; text-decoration-color: #008000; font-weight: bold\">0</span>  5  4 │\n",
       "│  8  5  <span style=\"color: #800000; text-decoration-color: #800000; font-weight: bold\">9</span>  7  8  8  <span style=\"color: #800000; text-decoration-color: #800000; font-weight: bold\">9</span>  6  <span style=\"color: #008000; text-decoration-color: #008000; font-weight: bold\">0</span>  8 │\n",
       "│  8  4  8  5  7  6  <span style=\"color: #800000; text-decoration-color: #800000; font-weight: bold\">9</span>  6  <span style=\"color: #008000; text-decoration-color: #008000; font-weight: bold\">0</span>  <span style=\"color: #008000; text-decoration-color: #008000; font-weight: bold\">0</span> │\n",
       "│  8  7  <span style=\"color: #008000; text-decoration-color: #008000; font-weight: bold\">0</span>  <span style=\"color: #008000; text-decoration-color: #008000; font-weight: bold\">0</span>  <span style=\"color: #800000; text-decoration-color: #800000; font-weight: bold\">9</span>  <span style=\"color: #008000; text-decoration-color: #008000; font-weight: bold\">0</span>  8  8  <span style=\"color: #008000; text-decoration-color: #008000; font-weight: bold\">0</span>  <span style=\"color: #008000; text-decoration-color: #008000; font-weight: bold\">0</span> │\n",
       "│  6  5  <span style=\"color: #008000; text-decoration-color: #008000; font-weight: bold\">0</span>  <span style=\"color: #008000; text-decoration-color: #008000; font-weight: bold\">0</span>  <span style=\"color: #008000; text-decoration-color: #008000; font-weight: bold\">0</span>  8  8  <span style=\"color: #800000; text-decoration-color: #800000; font-weight: bold\">9</span>  8  <span style=\"color: #800000; text-decoration-color: #800000; font-weight: bold\">9</span> │\n",
       "│  6  7  <span style=\"color: #008000; text-decoration-color: #008000; font-weight: bold\">0</span>  <span style=\"color: #008000; text-decoration-color: #008000; font-weight: bold\">0</span>  <span style=\"color: #008000; text-decoration-color: #008000; font-weight: bold\">0</span>  <span style=\"color: #008000; text-decoration-color: #008000; font-weight: bold\">0</span>  5  <span style=\"color: #800000; text-decoration-color: #800000; font-weight: bold\">9</span>  4  4 │\n",
       "│  <span style=\"color: #008000; text-decoration-color: #008000; font-weight: bold\">0</span>  <span style=\"color: #008000; text-decoration-color: #008000; font-weight: bold\">0</span>  <span style=\"color: #008000; text-decoration-color: #008000; font-weight: bold\">0</span>  <span style=\"color: #800000; text-decoration-color: #800000; font-weight: bold\">9</span>  <span style=\"color: #008000; text-decoration-color: #008000; font-weight: bold\">0</span>  <span style=\"color: #008000; text-decoration-color: #008000; font-weight: bold\">0</span>  7  4  5  7 │\n",
       "│  <span style=\"color: #800000; text-decoration-color: #800000; font-weight: bold\">9</span>  <span style=\"color: #008000; text-decoration-color: #008000; font-weight: bold\">0</span>  <span style=\"color: #008000; text-decoration-color: #008000; font-weight: bold\">0</span>  <span style=\"color: #008000; text-decoration-color: #008000; font-weight: bold\">0</span>  <span style=\"color: #008000; text-decoration-color: #008000; font-weight: bold\">0</span>  <span style=\"color: #008000; text-decoration-color: #008000; font-weight: bold\">0</span>  <span style=\"color: #008000; text-decoration-color: #008000; font-weight: bold\">0</span>  8  7  7 │\n",
       "│  8  8  <span style=\"color: #008000; text-decoration-color: #008000; font-weight: bold\">0</span>  <span style=\"color: #008000; text-decoration-color: #008000; font-weight: bold\">0</span>  <span style=\"color: #008000; text-decoration-color: #008000; font-weight: bold\">0</span>  <span style=\"color: #008000; text-decoration-color: #008000; font-weight: bold\">0</span>  5  8  4  8 │\n",
       "╰───────────────────────────────╯\n",
       "</pre>\n"
      ],
      "text/plain": [
       "╭─────── Octopi, Step 2 ────────╮\n",
       "│  8  8  \u001b[1;32m0\u001b[0m  7  4  7  6  5  5  5 │\n",
       "│  5  \u001b[1;32m0\u001b[0m  8  \u001b[1;31m9\u001b[0m  \u001b[1;32m0\u001b[0m  8  7  \u001b[1;32m0\u001b[0m  5  4 │\n",
       "│  8  5  \u001b[1;31m9\u001b[0m  7  8  8  \u001b[1;31m9\u001b[0m  6  \u001b[1;32m0\u001b[0m  8 │\n",
       "│  8  4  8  5  7  6  \u001b[1;31m9\u001b[0m  6  \u001b[1;32m0\u001b[0m  \u001b[1;32m0\u001b[0m │\n",
       "│  8  7  \u001b[1;32m0\u001b[0m  \u001b[1;32m0\u001b[0m  \u001b[1;31m9\u001b[0m  \u001b[1;32m0\u001b[0m  8  8  \u001b[1;32m0\u001b[0m  \u001b[1;32m0\u001b[0m │\n",
       "│  6  5  \u001b[1;32m0\u001b[0m  \u001b[1;32m0\u001b[0m  \u001b[1;32m0\u001b[0m  8  8  \u001b[1;31m9\u001b[0m  8  \u001b[1;31m9\u001b[0m │\n",
       "│  6  7  \u001b[1;32m0\u001b[0m  \u001b[1;32m0\u001b[0m  \u001b[1;32m0\u001b[0m  \u001b[1;32m0\u001b[0m  5  \u001b[1;31m9\u001b[0m  4  4 │\n",
       "│  \u001b[1;32m0\u001b[0m  \u001b[1;32m0\u001b[0m  \u001b[1;32m0\u001b[0m  \u001b[1;31m9\u001b[0m  \u001b[1;32m0\u001b[0m  \u001b[1;32m0\u001b[0m  7  4  5  7 │\n",
       "│  \u001b[1;31m9\u001b[0m  \u001b[1;32m0\u001b[0m  \u001b[1;32m0\u001b[0m  \u001b[1;32m0\u001b[0m  \u001b[1;32m0\u001b[0m  \u001b[1;32m0\u001b[0m  \u001b[1;32m0\u001b[0m  8  7  7 │\n",
       "│  8  8  \u001b[1;32m0\u001b[0m  \u001b[1;32m0\u001b[0m  \u001b[1;32m0\u001b[0m  \u001b[1;32m0\u001b[0m  5  8  4  8 │\n",
       "╰───────────────────────────────╯\n"
      ]
     },
     "metadata": {},
     "output_type": "display_data"
    }
   ],
   "source": [
    "o = Octopi(\"\"\"5483143223\n",
    "2745854711\n",
    "5264556173\n",
    "6141336146\n",
    "6357385478\n",
    "4167524645\n",
    "2176841721\n",
    "6882881134\n",
    "4846848554\n",
    "5283751526\"\"\")\n",
    "print(o)\n",
    "\n",
    "for _ in range(2):\n",
    "    o.flash()\n",
    "print(o)"
   ]
  },
  {
   "cell_type": "code",
   "execution_count": null,
   "id": "dad02145-4687-400a-8aef-3e26077c6849",
   "metadata": {},
   "outputs": [],
   "source": []
  },
  {
   "cell_type": "code",
   "execution_count": 11,
   "id": "9112c13b-8d19-4312-b050-a05fdda11061",
   "metadata": {},
   "outputs": [
    {
     "data": {
      "text/plain": [
       "array([[ True,  True,  True,  True,  True,  True,  True,  True,  True,\n",
       "         True],\n",
       "       [ True,  True,  True,  True,  True,  True,  True,  True,  True,\n",
       "         True],\n",
       "       [ True,  True,  True,  True,  True,  True,  True,  True,  True,\n",
       "         True],\n",
       "       [ True,  True,  True,  True,  True,  True,  True,  True,  True,\n",
       "         True],\n",
       "       [ True,  True,  True,  True,  True,  True,  True,  True,  True,\n",
       "         True],\n",
       "       [ True, False,  True,  True,  True,  True,  True,  True,  True,\n",
       "         True],\n",
       "       [ True, False,  True,  True,  True,  True,  True,  True,  True,\n",
       "        False],\n",
       "       [ True,  True,  True, False,  True,  True,  True,  True,  True,\n",
       "        False],\n",
       "       [ True,  True,  True,  True,  True,  True,  True,  True,  True,\n",
       "        False],\n",
       "       [ True, False,  True,  True,  True,  True, False,  True,  True,\n",
       "         True]])"
      ]
     },
     "execution_count": 11,
     "metadata": {},
     "output_type": "execute_result"
    }
   ],
   "source": [
    "make_array(\"\"\"8807476555\n",
    "5089087054\n",
    "8597889608\n",
    "8485769600\n",
    "8700908800\n",
    "6600088989\n",
    "6800005943\n",
    "0000007456\n",
    "9000000876\n",
    "8700006848\"\"\".splitlines()) == o.arr"
   ]
  },
  {
   "cell_type": "code",
   "execution_count": null,
   "id": "b2cd530c-8d46-4e98-957f-cd7710565fe4",
   "metadata": {},
   "outputs": [],
   "source": [
    "o.flash()\n",
    "print(o)"
   ]
  },
  {
   "cell_type": "code",
   "execution_count": null,
   "id": "5cffcb12-58e0-4051-a008-617145089e64",
   "metadata": {},
   "outputs": [],
   "source": [
    "list(itertools.permutations(range(-1, 1), 2))"
   ]
  },
  {
   "cell_type": "code",
   "execution_count": null,
   "id": "cc689f65-49d3-4c5b-84e9-17081d9e3225",
   "metadata": {},
   "outputs": [],
   "source": [
    "coords = list(itertools.product(range(-1, 2), range(-1, 2)))\n",
    "coords.pop(coords.index((0, 0)))\n",
    "coords"
   ]
  },
  {
   "cell_type": "code",
   "execution_count": null,
   "id": "09ebb37f-d77d-42b2-9d8f-3fdbc0a449fb",
   "metadata": {},
   "outputs": [],
   "source": [
    "o = Octopi(read_lines(11))\n",
    "print(o)\n",
    "o.increase_energy()\n",
    "print(o)"
   ]
  },
  {
   "cell_type": "code",
   "execution_count": null,
   "id": "25039ad4-1c82-49f8-b35e-6cf17cfd3b1c",
   "metadata": {},
   "outputs": [],
   "source": []
  },
  {
   "cell_type": "code",
   "execution_count": null,
   "id": "f46754b5-6eec-4aa2-b64b-f15088b45a24",
   "metadata": {},
   "outputs": [],
   "source": [
    "o.flash()\n",
    "print(o)"
   ]
  },
  {
   "cell_type": "code",
   "execution_count": null,
   "id": "ae0e5068-f597-4089-ab6b-27b2d6681809",
   "metadata": {},
   "outputs": [],
   "source": [
    "o = Octopi(read_lines(11))\n",
    "print(o)\n",
    "\n",
    "while len(np.where(o.arr >= 8)[0]) > 0:\n",
    "    o.increase_energy()\n",
    "    # print(o)\n",
    "    while len(np.where(o.arr >= 9)[0]) > 0:\n",
    "        o.flash()\n",
    "        # print(o)\n",
    "        \n",
    "print(o)"
   ]
  },
  {
   "cell_type": "code",
   "execution_count": null,
   "id": "a2682178-3cea-4eeb-9e5a-b45a7956a3bb",
   "metadata": {},
   "outputs": [],
   "source": []
  }
 ],
 "metadata": {
  "kernelspec": {
   "display_name": "Python 3 (ipykernel)",
   "language": "python",
   "name": "python3"
  },
  "language_info": {
   "codemirror_mode": {
    "name": "ipython",
    "version": 3
   },
   "file_extension": ".py",
   "mimetype": "text/x-python",
   "name": "python",
   "nbconvert_exporter": "python",
   "pygments_lexer": "ipython3",
   "version": "3.10.0"
  }
 },
 "nbformat": 4,
 "nbformat_minor": 5
}
