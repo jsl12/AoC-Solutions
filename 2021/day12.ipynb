{
 "cells": [
  {
   "cell_type": "code",
   "execution_count": 1,
   "id": "a4a5c4f6-573b-42e0-9c2e-4abdb731f1ff",
   "metadata": {},
   "outputs": [],
   "source": [
    "%load_ext autoreload\n",
    "%autoreload 2"
   ]
  },
  {
   "cell_type": "code",
   "execution_count": 40,
   "id": "9c5fa802-06b5-4d19-bce7-845e43c8cb01",
   "metadata": {},
   "outputs": [],
   "source": [
    "from itertools import combinations\n",
    "\n",
    "from aoc_input import read, read_lines\n",
    "from rich import print\n",
    "from rich.panel import Panel\n",
    "\n",
    "import re\n",
    "import itertools\n",
    "import numpy as np\n",
    "\n",
    "from typing import Iterable, Tuple, List, Dict\n",
    "from collections import Counter\n",
    "\n",
    "from day12 import CaveSystem, part1, part2\n",
    "from day12 import validate_path"
   ]
  },
  {
   "cell_type": "code",
   "execution_count": 46,
   "id": "9fd8ec27-834b-42b1-9d6d-e1199b76b821",
   "metadata": {},
   "outputs": [
    {
     "data": {
      "text/plain": [
       "3000"
      ]
     },
     "execution_count": 46,
     "metadata": {},
     "output_type": "execute_result"
    }
   ],
   "source": [
    "part1(read(12))"
   ]
  },
  {
   "cell_type": "code",
   "execution_count": 47,
   "id": "d2f6dee6-a4dd-4db7-b10a-8a0112ece3c4",
   "metadata": {},
   "outputs": [
    {
     "data": {
      "text/plain": [
       "10"
      ]
     },
     "execution_count": 47,
     "metadata": {},
     "output_type": "execute_result"
    }
   ],
   "source": [
    "part1(\"\"\"start-A\n",
    "start-b\n",
    "A-c\n",
    "A-b\n",
    "b-d\n",
    "A-end\n",
    "b-end\"\"\")"
   ]
  },
  {
   "cell_type": "code",
   "execution_count": 48,
   "id": "17b5f393-a336-4a83-b3fc-9354240a4f3d",
   "metadata": {},
   "outputs": [
    {
     "data": {
      "text/plain": [
       "19"
      ]
     },
     "execution_count": 48,
     "metadata": {},
     "output_type": "execute_result"
    }
   ],
   "source": [
    "part1(\"\"\"dc-end\n",
    "HN-start\n",
    "start-kj\n",
    "dc-start\n",
    "dc-HN\n",
    "LN-dc\n",
    "HN-end\n",
    "kj-sa\n",
    "kj-HN\n",
    "kj-dc\"\"\")"
   ]
  },
  {
   "cell_type": "code",
   "execution_count": 36,
   "id": "14a72f90-fb1a-4ffb-8ba5-6b2a0b53a388",
   "metadata": {},
   "outputs": [
    {
     "data": {
      "text/plain": [
       "False"
      ]
     },
     "execution_count": 36,
     "metadata": {},
     "output_type": "execute_result"
    }
   ],
   "source": [
    "path = ('a', 'b', 'c', 'a', 'B')\n",
    "\n",
    "\n",
    "validate_path(path, 0)"
   ]
  },
  {
   "cell_type": "code",
   "execution_count": 54,
   "id": "dc231fd8-d98a-46bd-84e0-e000718cf888",
   "metadata": {},
   "outputs": [],
   "source": [
    "i = \"\"\"start-A\n",
    "start-b\n",
    "A-c\n",
    "A-b\n",
    "b-d\n",
    "A-end\n",
    "b-end\"\"\""
   ]
  },
  {
   "cell_type": "code",
   "execution_count": 52,
   "id": "2ae1a867-a75d-4433-9973-250b81ab2f70",
   "metadata": {},
   "outputs": [],
   "source": [
    "i = \"\"\"dc-end\n",
    "HN-start\n",
    "start-kj\n",
    "dc-start\n",
    "dc-HN\n",
    "LN-dc\n",
    "HN-end\n",
    "kj-sa\n",
    "kj-HN\n",
    "kj-dc\"\"\""
   ]
  },
  {
   "cell_type": "code",
   "execution_count": 67,
   "id": "1c35ade0-8e7a-4d2c-83c8-959de60b445e",
   "metadata": {},
   "outputs": [
    {
     "data": {
      "text/plain": [
       "74222"
      ]
     },
     "execution_count": 67,
     "metadata": {},
     "output_type": "execute_result"
    }
   ],
   "source": [
    "part2(read(12))"
   ]
  },
  {
   "cell_type": "code",
   "execution_count": 65,
   "id": "ecab2342-3674-4caf-b1aa-dd29b826151d",
   "metadata": {
    "tags": []
   },
   "outputs": [
    {
     "data": {
      "text/html": [
       "<pre style=\"white-space:pre;overflow-x:auto;line-height:normal;font-family:Menlo,'DejaVu Sans Mono',consolas,'Courier New',monospace\"><span style=\"color: #008080; text-decoration-color: #008080; font-weight: bold\">36</span>\n",
       "</pre>\n"
      ],
      "text/plain": [
       "\u001b[1;36m36\u001b[0m\n"
      ]
     },
     "metadata": {},
     "output_type": "display_data"
    }
   ],
   "source": [
    "cs = CaveSystem(i)\n",
    "cs.paths\n",
    "print(len(sorted(cs.traverse(limit=1))))"
   ]
  },
  {
   "cell_type": "code",
   "execution_count": 60,
   "id": "e05ab147-fbb8-47d3-a6c5-a076f2553b03",
   "metadata": {},
   "outputs": [
    {
     "data": {
      "text/plain": [
       "[('a', 2), ('b', 1), ('c', 1), ('B', 1)]"
      ]
     },
     "execution_count": 60,
     "metadata": {},
     "output_type": "execute_result"
    }
   ],
   "source": [
    "Counter(path).most_common()"
   ]
  },
  {
   "cell_type": "code",
   "execution_count": null,
   "id": "4d52597d-2abf-462c-9e46-4c7bdd42b6c7",
   "metadata": {},
   "outputs": [],
   "source": []
  }
 ],
 "metadata": {
  "kernelspec": {
   "display_name": "Python 3 (ipykernel)",
   "language": "python",
   "name": "python3"
  },
  "language_info": {
   "codemirror_mode": {
    "name": "ipython",
    "version": 3
   },
   "file_extension": ".py",
   "mimetype": "text/x-python",
   "name": "python",
   "nbconvert_exporter": "python",
   "pygments_lexer": "ipython3",
   "version": "3.10.0"
  }
 },
 "nbformat": 4,
 "nbformat_minor": 5
}
