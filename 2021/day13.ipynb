{
 "cells": [
  {
   "cell_type": "code",
   "execution_count": 1,
   "id": "fc1c07e3-feb3-4c0a-bc7a-9ad56708b77f",
   "metadata": {},
   "outputs": [],
   "source": [
    "%load_ext autoreload\n",
    "%autoreload 2"
   ]
  },
  {
   "cell_type": "code",
   "execution_count": 2,
   "id": "dccb5f94-c884-43a7-a2d9-d299be750a07",
   "metadata": {},
   "outputs": [],
   "source": [
    "from aoc_input import read, read_lines\n",
    "\n",
    "from itertools import combinations\n",
    "from rich import print\n",
    "from rich.panel import Panel\n",
    "from typing import Iterable, Tuple, List, Dict\n",
    "\n",
    "import re\n",
    "import itertools\n",
    "import numpy as np\n",
    "\n",
    "from day13 import part1, part2\n",
    "from day13 import array_from_input, lines_from_input\n",
    "from day13 import array_to_panel, convert_array, split_and_fold, fold_sequence"
   ]
  },
  {
   "cell_type": "code",
   "execution_count": 3,
   "id": "678e69f5-f8ff-4524-973c-15cefb72aa72",
   "metadata": {},
   "outputs": [],
   "source": [
    "i = \"\"\"6,10\n",
    "0,14\n",
    "9,10\n",
    "0,3\n",
    "10,4\n",
    "4,11\n",
    "6,0\n",
    "6,12\n",
    "4,1\n",
    "0,13\n",
    "10,12\n",
    "3,4\n",
    "3,0\n",
    "8,4\n",
    "1,10\n",
    "2,14\n",
    "8,10\n",
    "9,0\n",
    "\n",
    "fold along y=7\n",
    "fold along x=5\"\"\""
   ]
  },
  {
   "cell_type": "code",
   "execution_count": 4,
   "id": "9adae37c-cd56-483f-ae4f-1f976ec3d500",
   "metadata": {},
   "outputs": [
    {
     "data": {
      "text/plain": [
       "818"
      ]
     },
     "execution_count": 4,
     "metadata": {},
     "output_type": "execute_result"
    }
   ],
   "source": [
    "part1(read(13))"
   ]
  },
  {
   "cell_type": "code",
   "execution_count": 5,
   "id": "445681b3-6c77-45a8-ab51-53f45fc3c48f",
   "metadata": {},
   "outputs": [
    {
     "data": {
      "text/html": [
       "<pre style=\"white-space:pre;overflow-x:auto;line-height:normal;font-family:Menlo,'DejaVu Sans Mono',consolas,'Courier New',monospace\">╭───────────── Day 13 Part 2 ──────────────╮\n",
       "│ #....###...##..###..###..####..##..###.. │\n",
       "│ #....#..#.#..#.#..#.#..#.#....#..#.#..#. │\n",
       "│ #....#..#.#....#..#.#..#.###..#....###.. │\n",
       "│ #....###..#.##.###..###..#....#....#..#. │\n",
       "│ #....#.#..#..#.#....#.#..#....#..#.#..#. │\n",
       "│ ####.#..#..###.#....#..#.####..##..###.. │\n",
       "╰──────────────────────────────────────────╯\n",
       "</pre>\n"
      ],
      "text/plain": [
       "╭───────────── Day 13 Part 2 ──────────────╮\n",
       "│ #....###...##..###..###..####..##..###.. │\n",
       "│ #....#..#.#..#.#..#.#..#.#....#..#.#..#. │\n",
       "│ #....#..#.#....#..#.#..#.###..#....###.. │\n",
       "│ #....###..#.##.###..###..#....#....#..#. │\n",
       "│ #....#.#..#..#.#....#.#..#....#..#.#..#. │\n",
       "│ ####.#..#..###.#....#..#.####..##..###.. │\n",
       "╰──────────────────────────────────────────╯\n"
      ]
     },
     "metadata": {},
     "output_type": "display_data"
    }
   ],
   "source": [
    "part2(read(13))"
   ]
  },
  {
   "cell_type": "code",
   "execution_count": null,
   "id": "114de01f-87ac-4f71-ae6f-ddc58a50487b",
   "metadata": {},
   "outputs": [],
   "source": []
  }
 ],
 "metadata": {
  "kernelspec": {
   "display_name": "Python 3 (ipykernel)",
   "language": "python",
   "name": "python3"
  },
  "language_info": {
   "codemirror_mode": {
    "name": "ipython",
    "version": 3
   },
   "file_extension": ".py",
   "mimetype": "text/x-python",
   "name": "python",
   "nbconvert_exporter": "python",
   "pygments_lexer": "ipython3",
   "version": "3.10.0"
  }
 },
 "nbformat": 4,
 "nbformat_minor": 5
}
