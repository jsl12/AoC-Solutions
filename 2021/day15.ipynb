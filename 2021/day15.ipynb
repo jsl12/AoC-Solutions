{
 "cells": [
  {
   "cell_type": "code",
   "execution_count": 1,
   "id": "9de77f2a-955c-4f02-8e88-0889e755dd5b",
   "metadata": {},
   "outputs": [],
   "source": [
    "%load_ext autoreload\n",
    "%autoreload 2"
   ]
  },
  {
   "cell_type": "code",
   "execution_count": 2,
   "id": "2582bbef-ab3f-4790-8902-14ebfb7c58d1",
   "metadata": {},
   "outputs": [],
   "source": [
    "from aoc_input import read, read_lines\n",
    "\n",
    "from collections import Counter\n",
    "from itertools import combinations\n",
    "from rich import print\n",
    "from rich.panel import Panel\n",
    "from typing import Iterable, Tuple, List, Dict\n",
    "\n",
    "import functools\n",
    "import re\n",
    "import itertools\n",
    "import numpy as np\n",
    "\n",
    "from helpers import make_array, array_to_panel, convert_array\n",
    "from helpers import adjacent, offsets\n",
    "from day15 import ArrayPath"
   ]
  },
  {
   "cell_type": "code",
   "execution_count": 3,
   "id": "4f6b266a-31e4-4520-a275-9edbf04c1141",
   "metadata": {},
   "outputs": [
    {
     "data": {
      "text/html": [
       "<pre style=\"white-space:pre;overflow-x:auto;line-height:normal;font-family:Menlo,'DejaVu Sans Mono',consolas,'Courier New',monospace\">╭─────── Test ────────╮\n",
       "│ 1 1 6 3 7 5 1 7 4 2 │\n",
       "│ 1 3 8 1 3 7 3 6 7 2 │\n",
       "│ 2 1 3 6 5 1 1 3 2 8 │\n",
       "│ 3 6 9 4 9 3 1 5 6 9 │\n",
       "│ 7 4 6 3 4 1 7 1 1 1 │\n",
       "│ 1 3 1 9 1 2 8 1 3 7 │\n",
       "│ 1 3 5 9 9 1 2 4 2 1 │\n",
       "│ 3 1 2 5 4 2 1 6 3 9 │\n",
       "│ 1 2 9 3 1 3 8 5 2 1 │\n",
       "│ 2 3 1 1 9 4 4 5 8 1 │\n",
       "╰─────────────────────╯\n",
       "</pre>\n"
      ],
      "text/plain": [
       "╭─────── Test ────────╮\n",
       "│ 1 1 6 3 7 5 1 7 4 2 │\n",
       "│ 1 3 8 1 3 7 3 6 7 2 │\n",
       "│ 2 1 3 6 5 1 1 3 2 8 │\n",
       "│ 3 6 9 4 9 3 1 5 6 9 │\n",
       "│ 7 4 6 3 4 1 7 1 1 1 │\n",
       "│ 1 3 1 9 1 2 8 1 3 7 │\n",
       "│ 1 3 5 9 9 1 2 4 2 1 │\n",
       "│ 3 1 2 5 4 2 1 6 3 9 │\n",
       "│ 1 2 9 3 1 3 8 5 2 1 │\n",
       "│ 2 3 1 1 9 4 4 5 8 1 │\n",
       "╰─────────────────────╯\n"
      ]
     },
     "execution_count": 3,
     "metadata": {},
     "output_type": "execute_result"
    }
   ],
   "source": [
    "test = \"\"\"1163751742\n",
    "1381373672\n",
    "2136511328\n",
    "3694931569\n",
    "7463417111\n",
    "1319128137\n",
    "1359912421\n",
    "3125421639\n",
    "1293138521\n",
    "2311944581\"\"\"\n",
    "arr = make_array(test)\n",
    "array_to_panel(arr, delim=' ', title='Test')"
   ]
  },
  {
   "cell_type": "code",
   "execution_count": 4,
   "id": "325a86fb-7048-4741-99f5-bc3f80d00f7e",
   "metadata": {},
   "outputs": [
    {
     "data": {
      "text/html": [
       "<pre style=\"white-space:pre;overflow-x:auto;line-height:normal;font-family:Menlo,'DejaVu Sans Mono',consolas,'Courier New',monospace\">╭──── (0, 0) of 1 ────╮\n",
       "│ <span style=\"color: #800000; text-decoration-color: #800000; font-weight: bold\">1</span> <span style=\"color: #008000; text-decoration-color: #008000; font-weight: bold\">1</span> 6 3 7 5 1 7 4 2 │\n",
       "│ <span style=\"color: #008000; text-decoration-color: #008000; font-weight: bold\">1</span> 3 8 1 3 7 3 6 7 2 │\n",
       "│ 2 1 3 6 5 1 1 3 2 8 │\n",
       "│ 3 6 9 4 9 3 1 5 6 9 │\n",
       "│ 7 4 6 3 4 1 7 1 1 1 │\n",
       "│ 1 3 1 9 1 2 8 1 3 7 │\n",
       "│ 1 3 5 9 9 1 2 4 2 1 │\n",
       "│ 3 1 2 5 4 2 1 6 3 9 │\n",
       "│ 1 2 9 3 1 3 8 5 2 1 │\n",
       "│ 2 3 1 1 9 4 4 5 8 1 │\n",
       "╰─────────────────────╯\n",
       "</pre>\n"
      ],
      "text/plain": [
       "╭──── (0, 0) of 1 ────╮\n",
       "│ \u001b[1;31m1\u001b[0m \u001b[1;32m1\u001b[0m 6 3 7 5 1 7 4 2 │\n",
       "│ \u001b[1;32m1\u001b[0m 3 8 1 3 7 3 6 7 2 │\n",
       "│ 2 1 3 6 5 1 1 3 2 8 │\n",
       "│ 3 6 9 4 9 3 1 5 6 9 │\n",
       "│ 7 4 6 3 4 1 7 1 1 1 │\n",
       "│ 1 3 1 9 1 2 8 1 3 7 │\n",
       "│ 1 3 5 9 9 1 2 4 2 1 │\n",
       "│ 3 1 2 5 4 2 1 6 3 9 │\n",
       "│ 1 2 9 3 1 3 8 5 2 1 │\n",
       "│ 2 3 1 1 9 4 4 5 8 1 │\n",
       "╰─────────────────────╯\n"
      ]
     },
     "metadata": {},
     "output_type": "display_data"
    },
    {
     "data": {
      "text/html": [
       "<pre style=\"white-space:pre;overflow-x:auto;line-height:normal;font-family:Menlo,'DejaVu Sans Mono',consolas,'Courier New',monospace\">╭─── (9, 9) of 49 ────╮\n",
       "│ <span style=\"color: #800000; text-decoration-color: #800000; font-weight: bold\">1</span> <span style=\"color: #800000; text-decoration-color: #800000; font-weight: bold\">1</span> 6 3 7 5 1 7 4 2 │\n",
       "│ <span style=\"color: #800000; text-decoration-color: #800000; font-weight: bold\">1</span> <span style=\"color: #800000; text-decoration-color: #800000; font-weight: bold\">3</span> 8 1 3 7 3 6 7 2 │\n",
       "│ <span style=\"color: #800000; text-decoration-color: #800000; font-weight: bold\">2</span> <span style=\"color: #800000; text-decoration-color: #800000; font-weight: bold\">1</span> <span style=\"color: #800000; text-decoration-color: #800000; font-weight: bold\">3</span> <span style=\"color: #800000; text-decoration-color: #800000; font-weight: bold\">6</span> 5 1 1 3 2 8 │\n",
       "│ 3 6 9 <span style=\"color: #800000; text-decoration-color: #800000; font-weight: bold\">4</span> 9 3 1 5 6 9 │\n",
       "│ 7 4 6 <span style=\"color: #800000; text-decoration-color: #800000; font-weight: bold\">3</span> <span style=\"color: #800000; text-decoration-color: #800000; font-weight: bold\">4</span> <span style=\"color: #800000; text-decoration-color: #800000; font-weight: bold\">1</span> 7 1 1 1 │\n",
       "│ 1 3 1 9 1 <span style=\"color: #800000; text-decoration-color: #800000; font-weight: bold\">2</span> 8 1 3 7 │\n",
       "│ 1 3 5 9 9 <span style=\"color: #800000; text-decoration-color: #800000; font-weight: bold\">1</span> <span style=\"color: #800000; text-decoration-color: #800000; font-weight: bold\">2</span> 4 2 1 │\n",
       "│ 3 1 2 5 4 2 <span style=\"color: #800000; text-decoration-color: #800000; font-weight: bold\">1</span> <span style=\"color: #800000; text-decoration-color: #800000; font-weight: bold\">6</span> <span style=\"color: #800000; text-decoration-color: #800000; font-weight: bold\">3</span> 9 │\n",
       "│ 1 2 9 3 1 3 8 5 <span style=\"color: #800000; text-decoration-color: #800000; font-weight: bold\">2</span> <span style=\"color: #800000; text-decoration-color: #800000; font-weight: bold\">1</span> │\n",
       "│ 2 3 1 1 9 4 4 5 <span style=\"color: #008000; text-decoration-color: #008000; font-weight: bold\">8</span> <span style=\"color: #800000; text-decoration-color: #800000; font-weight: bold\">1</span> │\n",
       "╰─────────────────────╯\n",
       "</pre>\n"
      ],
      "text/plain": [
       "╭─── (9, 9) of 49 ────╮\n",
       "│ \u001b[1;31m1\u001b[0m \u001b[1;31m1\u001b[0m 6 3 7 5 1 7 4 2 │\n",
       "│ \u001b[1;31m1\u001b[0m \u001b[1;31m3\u001b[0m 8 1 3 7 3 6 7 2 │\n",
       "│ \u001b[1;31m2\u001b[0m \u001b[1;31m1\u001b[0m \u001b[1;31m3\u001b[0m \u001b[1;31m6\u001b[0m 5 1 1 3 2 8 │\n",
       "│ 3 6 9 \u001b[1;31m4\u001b[0m 9 3 1 5 6 9 │\n",
       "│ 7 4 6 \u001b[1;31m3\u001b[0m \u001b[1;31m4\u001b[0m \u001b[1;31m1\u001b[0m 7 1 1 1 │\n",
       "│ 1 3 1 9 1 \u001b[1;31m2\u001b[0m 8 1 3 7 │\n",
       "│ 1 3 5 9 9 \u001b[1;31m1\u001b[0m \u001b[1;31m2\u001b[0m 4 2 1 │\n",
       "│ 3 1 2 5 4 2 \u001b[1;31m1\u001b[0m \u001b[1;31m6\u001b[0m \u001b[1;31m3\u001b[0m 9 │\n",
       "│ 1 2 9 3 1 3 8 5 \u001b[1;31m2\u001b[0m \u001b[1;31m1\u001b[0m │\n",
       "│ 2 3 1 1 9 4 4 5 \u001b[1;32m8\u001b[0m \u001b[1;31m1\u001b[0m │\n",
       "╰─────────────────────╯\n"
      ]
     },
     "execution_count": 4,
     "metadata": {},
     "output_type": "execute_result"
    }
   ],
   "source": [
    "ap = ArrayPath()\n",
    "# print(ap.path)\n",
    "print(ap.panel(arr))\n",
    "next(ap.traverse(arr, max=45)).panel(arr)"
   ]
  },
  {
   "cell_type": "code",
   "execution_count": null,
   "id": "01518e21-79ac-4552-ab17-68ae44e682e4",
   "metadata": {
    "tags": []
   },
   "outputs": [],
   "source": [
    "ap = ArrayPath()\n",
    "ap.panel(make_array(read(15)))"
   ]
  },
  {
   "cell_type": "code",
   "execution_count": null,
   "id": "9db82e6b-0e8e-4141-96cd-4326003be50e",
   "metadata": {
    "tags": []
   },
   "outputs": [],
   "source": [
    "ap = ArrayPath()\n",
    "# res = sorted(((ap.calc_risk(arr), ap) for i, ap in enumerate(ap.traverse(arr))), key=lambda val: val[0])\n",
    "res = list(ap.traverse(arr))\n",
    "\n",
    "res[0].panel(arr)\n",
    "# res[0][1].panel(arr)"
   ]
  },
  {
   "cell_type": "code",
   "execution_count": null,
   "id": "1a7778f8-fe69-4093-8b67-13a03d781100",
   "metadata": {},
   "outputs": [],
   "source": [
    "sorted(res, key=lambda val: val.calc_risk(arr))[0].panel(arr)"
   ]
  },
  {
   "cell_type": "code",
   "execution_count": null,
   "id": "be9c4f8a-1b91-4073-a293-eb34a8be609a",
   "metadata": {},
   "outputs": [],
   "source": []
  }
 ],
 "metadata": {
  "kernelspec": {
   "display_name": "Python 3 (ipykernel)",
   "language": "python",
   "name": "python3"
  },
  "language_info": {
   "codemirror_mode": {
    "name": "ipython",
    "version": 3
   },
   "file_extension": ".py",
   "mimetype": "text/x-python",
   "name": "python",
   "nbconvert_exporter": "python",
   "pygments_lexer": "ipython3",
   "version": "3.10.0"
  }
 },
 "nbformat": 4,
 "nbformat_minor": 5
}
