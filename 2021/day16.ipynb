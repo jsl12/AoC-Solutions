{
 "cells": [
  {
   "cell_type": "code",
   "execution_count": 1,
   "id": "91590474-930c-48b3-b112-ab53f3cf29db",
   "metadata": {},
   "outputs": [],
   "source": [
    "%load_ext autoreload\n",
    "%autoreload 2"
   ]
  },
  {
   "cell_type": "code",
   "execution_count": 2,
   "id": "778d2bff-ba2e-4b83-9c3d-85d530cc4519",
   "metadata": {},
   "outputs": [],
   "source": [
    "from aoc_input import read, read_lines\n",
    "\n",
    "from collections import Counter\n",
    "from dataclasses import dataclass, field\n",
    "from itertools import combinations\n",
    "from rich import print\n",
    "from rich.panel import Panel\n",
    "from typing import Iterable, Tuple, List, Dict\n",
    "\n",
    "import functools\n",
    "import re\n",
    "import itertools\n",
    "import numpy as np\n",
    "\n",
    "from day16 import to_bits, value_from_bits\n",
    "from day16 import Packet, ValuePacket"
   ]
  },
  {
   "cell_type": "code",
   "execution_count": 88,
   "id": "2b5db7e3-07b6-407c-984e-6a4d42b018b1",
   "metadata": {},
   "outputs": [
    {
     "data": {
      "text/plain": [
       "[ValuePacket(bits='110100101111111000101', nbits=21, version=6, type=4, value=2021)]"
      ]
     },
     "execution_count": 88,
     "metadata": {},
     "output_type": "execute_result"
    }
   ],
   "source": [
    "Packet.from_hex('D2FE28')"
   ]
  },
  {
   "cell_type": "code",
   "execution_count": 89,
   "id": "2aed3f6f-376e-4ef0-b20b-7671c90826ff",
   "metadata": {},
   "outputs": [
    {
     "name": "stdout",
     "output_type": "stream",
     "text": [
      "Payload: 27bits, 110100010100101001000100100\n"
     ]
    },
    {
     "data": {
      "text/plain": [
       "[Packet(bits='00111000000000000110111101000101001010010001001000000000', nbits=56, version=1, type=6),\n",
       " ValuePacket(bits='11010001010', nbits=11, version=6, type=4, value=10),\n",
       " ValuePacket(bits='0101001000100100', nbits=16, version=2, type=4, value=20)]"
      ]
     },
     "execution_count": 89,
     "metadata": {},
     "output_type": "execute_result"
    }
   ],
   "source": [
    "packets = Packet.from_hex('38006F45291200')\n",
    "packets"
   ]
  },
  {
   "cell_type": "code",
   "execution_count": 90,
   "id": "222227d1-9176-4c10-8f66-9d0223fe02b6",
   "metadata": {},
   "outputs": [
    {
     "data": {
      "text/plain": [
       "[Packet(bits='11101110000000001101010000001100100000100011000001100000', nbits=56, version=7, type=3),\n",
       " ValuePacket(bits='01010000001', nbits=11, version=2, type=4, value=1),\n",
       " ValuePacket(bits='10010000010', nbits=11, version=4, type=4, value=2),\n",
       " ValuePacket(bits='00110000011', nbits=11, version=1, type=4, value=3)]"
      ]
     },
     "execution_count": 90,
     "metadata": {},
     "output_type": "execute_result"
    }
   ],
   "source": [
    "packets = Packet.from_hex('EE00D40C823060')\n",
    "packets"
   ]
  },
  {
   "cell_type": "code",
   "execution_count": 87,
   "id": "45ad634a-aecb-4408-9e66-40893b12c2ba",
   "metadata": {},
   "outputs": [
    {
     "name": "stdout",
     "output_type": "stream",
     "text": [
      "Payload: 11bits, 11010001111\n"
     ]
    },
    {
     "ename": "AttributeError",
     "evalue": "'Packet' object has no attribute 'len'",
     "output_type": "error",
     "traceback": [
      "\u001b[1;31m---------------------------------------------------------------------------\u001b[0m",
      "\u001b[1;31mAttributeError\u001b[0m                            Traceback (most recent call last)",
      "\u001b[1;32mC:\\Users\\LANCA_~1\\AppData\\Local\\Temp/ipykernel_16652/1119587306.py\u001b[0m in \u001b[0;36m<module>\u001b[1;34m\u001b[0m\n\u001b[1;32m----> 1\u001b[1;33m \u001b[0mpackets\u001b[0m \u001b[1;33m=\u001b[0m \u001b[0mPacket\u001b[0m\u001b[1;33m.\u001b[0m\u001b[0mfrom_hex\u001b[0m\u001b[1;33m(\u001b[0m\u001b[1;34m'8A004A801A8002F478'\u001b[0m\u001b[1;33m)\u001b[0m\u001b[1;33m\u001b[0m\u001b[1;33m\u001b[0m\u001b[0m\n\u001b[0m\u001b[0;32m      2\u001b[0m \u001b[0mpackets\u001b[0m\u001b[1;33m\u001b[0m\u001b[1;33m\u001b[0m\u001b[0m\n",
      "\u001b[1;32m~\\OneDrive\\Documents\\Software\\Advent of Code\\AoC-Solutions\\2021\\day16.py\u001b[0m in \u001b[0;36mfrom_hex\u001b[1;34m(input_str)\u001b[0m\n\u001b[0;32m     75\u001b[0m     \u001b[1;32mdef\u001b[0m \u001b[0mfrom_hex\u001b[0m\u001b[1;33m(\u001b[0m\u001b[0minput_str\u001b[0m\u001b[1;33m)\u001b[0m\u001b[1;33m:\u001b[0m\u001b[1;33m\u001b[0m\u001b[1;33m\u001b[0m\u001b[0m\n\u001b[0;32m     76\u001b[0m         \u001b[0mbits\u001b[0m \u001b[1;33m=\u001b[0m \u001b[0mto_bits\u001b[0m\u001b[1;33m(\u001b[0m\u001b[0minput_str\u001b[0m\u001b[1;33m)\u001b[0m\u001b[1;33m\u001b[0m\u001b[1;33m\u001b[0m\u001b[0m\n\u001b[1;32m---> 77\u001b[1;33m         \u001b[1;32mreturn\u001b[0m \u001b[0mPacket\u001b[0m\u001b[1;33m.\u001b[0m\u001b[0mfrom_bits\u001b[0m\u001b[1;33m(\u001b[0m\u001b[0mbits\u001b[0m\u001b[1;33m)\u001b[0m\u001b[1;33m\u001b[0m\u001b[1;33m\u001b[0m\u001b[0m\n\u001b[0m\u001b[0;32m     78\u001b[0m \u001b[1;33m\u001b[0m\u001b[0m\n\u001b[0;32m     79\u001b[0m     \u001b[1;33m@\u001b[0m\u001b[0mstaticmethod\u001b[0m\u001b[1;33m\u001b[0m\u001b[1;33m\u001b[0m\u001b[0m\n",
      "\u001b[1;32m~\\OneDrive\\Documents\\Software\\Advent of Code\\AoC-Solutions\\2021\\day16.py\u001b[0m in \u001b[0;36mfrom_bits\u001b[1;34m(bits)\u001b[0m\n\u001b[0;32m    100\u001b[0m                         \u001b[0mremaining_payload\u001b[0m \u001b[1;33m=\u001b[0m \u001b[0mremaining_payload\u001b[0m\u001b[1;33m[\u001b[0m\u001b[0msub_packet\u001b[0m\u001b[1;33m.\u001b[0m\u001b[0mlen\u001b[0m\u001b[1;33m:\u001b[0m\u001b[1;33m]\u001b[0m\u001b[1;33m\u001b[0m\u001b[1;33m\u001b[0m\u001b[0m\n\u001b[0;32m    101\u001b[0m \u001b[1;33m\u001b[0m\u001b[0m\n\u001b[1;32m--> 102\u001b[1;33m         \u001b[1;32mreturn\u001b[0m \u001b[0mlist\u001b[0m\u001b[1;33m(\u001b[0m\u001b[0mgen\u001b[0m\u001b[1;33m(\u001b[0m\u001b[1;33m)\u001b[0m\u001b[1;33m)\u001b[0m\u001b[1;33m\u001b[0m\u001b[1;33m\u001b[0m\u001b[0m\n\u001b[0m\u001b[0;32m    103\u001b[0m \u001b[1;33m\u001b[0m\u001b[0m\n\u001b[0;32m    104\u001b[0m \u001b[1;33m\u001b[0m\u001b[0m\n",
      "\u001b[1;32m~\\OneDrive\\Documents\\Software\\Advent of Code\\AoC-Solutions\\2021\\day16.py\u001b[0m in \u001b[0;36mgen\u001b[1;34m()\u001b[0m\n\u001b[0;32m     96\u001b[0m                     \u001b[0mremaining_payload\u001b[0m \u001b[1;33m=\u001b[0m \u001b[0mbase_packet\u001b[0m\u001b[1;33m.\u001b[0m\u001b[0mbits\u001b[0m\u001b[1;33m[\u001b[0m\u001b[0mbase_packet\u001b[0m\u001b[1;33m.\u001b[0m\u001b[0mpayload_start\u001b[0m\u001b[1;33m(\u001b[0m\u001b[1;33m)\u001b[0m\u001b[1;33m:\u001b[0m\u001b[1;33m]\u001b[0m\u001b[1;33m\u001b[0m\u001b[1;33m\u001b[0m\u001b[0m\n\u001b[0;32m     97\u001b[0m                     \u001b[1;32mfor\u001b[0m \u001b[0mi\u001b[0m \u001b[1;32min\u001b[0m \u001b[0mrange\u001b[0m\u001b[1;33m(\u001b[0m\u001b[0mbase_packet\u001b[0m\u001b[1;33m.\u001b[0m\u001b[0mlength\u001b[0m\u001b[1;33m(\u001b[0m\u001b[1;33m)\u001b[0m\u001b[1;33m)\u001b[0m\u001b[1;33m:\u001b[0m\u001b[1;33m\u001b[0m\u001b[1;33m\u001b[0m\u001b[0m\n\u001b[1;32m---> 98\u001b[1;33m                         \u001b[0msub_packet\u001b[0m \u001b[1;33m=\u001b[0m \u001b[0mPacket\u001b[0m\u001b[1;33m.\u001b[0m\u001b[0mfrom_bits\u001b[0m\u001b[1;33m(\u001b[0m\u001b[0mremaining_payload\u001b[0m\u001b[1;33m)\u001b[0m\u001b[1;33m[\u001b[0m\u001b[1;36m0\u001b[0m\u001b[1;33m]\u001b[0m\u001b[1;33m\u001b[0m\u001b[1;33m\u001b[0m\u001b[0m\n\u001b[0m\u001b[0;32m     99\u001b[0m                         \u001b[1;32myield\u001b[0m \u001b[0msub_packet\u001b[0m\u001b[1;33m\u001b[0m\u001b[1;33m\u001b[0m\u001b[0m\n\u001b[0;32m    100\u001b[0m                         \u001b[0mremaining_payload\u001b[0m \u001b[1;33m=\u001b[0m \u001b[0mremaining_payload\u001b[0m\u001b[1;33m[\u001b[0m\u001b[0msub_packet\u001b[0m\u001b[1;33m.\u001b[0m\u001b[0mlen\u001b[0m\u001b[1;33m:\u001b[0m\u001b[1;33m]\u001b[0m\u001b[1;33m\u001b[0m\u001b[1;33m\u001b[0m\u001b[0m\n",
      "\u001b[1;32m~\\OneDrive\\Documents\\Software\\Advent of Code\\AoC-Solutions\\2021\\day16.py\u001b[0m in \u001b[0;36mfrom_bits\u001b[1;34m(bits)\u001b[0m\n\u001b[0;32m    100\u001b[0m                         \u001b[0mremaining_payload\u001b[0m \u001b[1;33m=\u001b[0m \u001b[0mremaining_payload\u001b[0m\u001b[1;33m[\u001b[0m\u001b[0msub_packet\u001b[0m\u001b[1;33m.\u001b[0m\u001b[0mlen\u001b[0m\u001b[1;33m:\u001b[0m\u001b[1;33m]\u001b[0m\u001b[1;33m\u001b[0m\u001b[1;33m\u001b[0m\u001b[0m\n\u001b[0;32m    101\u001b[0m \u001b[1;33m\u001b[0m\u001b[0m\n\u001b[1;32m--> 102\u001b[1;33m         \u001b[1;32mreturn\u001b[0m \u001b[0mlist\u001b[0m\u001b[1;33m(\u001b[0m\u001b[0mgen\u001b[0m\u001b[1;33m(\u001b[0m\u001b[1;33m)\u001b[0m\u001b[1;33m)\u001b[0m\u001b[1;33m\u001b[0m\u001b[1;33m\u001b[0m\u001b[0m\n\u001b[0m\u001b[0;32m    103\u001b[0m \u001b[1;33m\u001b[0m\u001b[0m\n\u001b[0;32m    104\u001b[0m \u001b[1;33m\u001b[0m\u001b[0m\n",
      "\u001b[1;32m~\\OneDrive\\Documents\\Software\\Advent of Code\\AoC-Solutions\\2021\\day16.py\u001b[0m in \u001b[0;36mgen\u001b[1;34m()\u001b[0m\n\u001b[0;32m     98\u001b[0m                         \u001b[0msub_packet\u001b[0m \u001b[1;33m=\u001b[0m \u001b[0mPacket\u001b[0m\u001b[1;33m.\u001b[0m\u001b[0mfrom_bits\u001b[0m\u001b[1;33m(\u001b[0m\u001b[0mremaining_payload\u001b[0m\u001b[1;33m)\u001b[0m\u001b[1;33m[\u001b[0m\u001b[1;36m0\u001b[0m\u001b[1;33m]\u001b[0m\u001b[1;33m\u001b[0m\u001b[1;33m\u001b[0m\u001b[0m\n\u001b[0;32m     99\u001b[0m                         \u001b[1;32myield\u001b[0m \u001b[0msub_packet\u001b[0m\u001b[1;33m\u001b[0m\u001b[1;33m\u001b[0m\u001b[0m\n\u001b[1;32m--> 100\u001b[1;33m                         \u001b[0mremaining_payload\u001b[0m \u001b[1;33m=\u001b[0m \u001b[0mremaining_payload\u001b[0m\u001b[1;33m[\u001b[0m\u001b[0msub_packet\u001b[0m\u001b[1;33m.\u001b[0m\u001b[0mlen\u001b[0m\u001b[1;33m:\u001b[0m\u001b[1;33m]\u001b[0m\u001b[1;33m\u001b[0m\u001b[1;33m\u001b[0m\u001b[0m\n\u001b[0m\u001b[0;32m    101\u001b[0m \u001b[1;33m\u001b[0m\u001b[0m\n\u001b[0;32m    102\u001b[0m         \u001b[1;32mreturn\u001b[0m \u001b[0mlist\u001b[0m\u001b[1;33m(\u001b[0m\u001b[0mgen\u001b[0m\u001b[1;33m(\u001b[0m\u001b[1;33m)\u001b[0m\u001b[1;33m)\u001b[0m\u001b[1;33m\u001b[0m\u001b[1;33m\u001b[0m\u001b[0m\n",
      "\u001b[1;31mAttributeError\u001b[0m: 'Packet' object has no attribute 'len'"
     ]
    }
   ],
   "source": [
    "packets = Packet.from_hex('8A004A801A8002F478')\n",
    "packets"
   ]
  },
  {
   "cell_type": "code",
   "execution_count": null,
   "id": "a78b58ad-e2a2-449c-a498-d4aa8f778d4b",
   "metadata": {},
   "outputs": [],
   "source": []
  }
 ],
 "metadata": {
  "kernelspec": {
   "display_name": "Python 3 (ipykernel)",
   "language": "python",
   "name": "python3"
  },
  "language_info": {
   "codemirror_mode": {
    "name": "ipython",
    "version": 3
   },
   "file_extension": ".py",
   "mimetype": "text/x-python",
   "name": "python",
   "nbconvert_exporter": "python",
   "pygments_lexer": "ipython3",
   "version": "3.10.0"
  }
 },
 "nbformat": 4,
 "nbformat_minor": 5
}
