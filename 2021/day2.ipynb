{
 "cells": [
  {
   "cell_type": "code",
   "execution_count": 1,
   "id": "a31ba2ec-41a3-4a54-b64e-97946b9f3fb7",
   "metadata": {},
   "outputs": [],
   "source": [
    "from dataclasses import dataclass, field\n",
    "\n",
    "from pathlib import Path\n",
    "from typing import List\n",
    "\n",
    "from rich import print\n",
    "\n",
    "from submarine import Submarine, get_steps"
   ]
  },
  {
   "cell_type": "code",
   "execution_count": 2,
   "id": "05bedf2d-df26-4428-bc11-244894ed0b4a",
   "metadata": {
    "tags": []
   },
   "outputs": [],
   "source": [
    "\n",
    "\n",
    "inp = get_input(2)\n",
    "# print('\\n'.join(inp))"
   ]
  },
  {
   "cell_type": "code",
   "execution_count": 3,
   "id": "eed2925b-3f7e-4cc7-8993-d4c6306b0b5c",
   "metadata": {},
   "outputs": [],
   "source": [
    "test = \"\"\"forward 5\n",
    "down 5\n",
    "forward 8\n",
    "up 3\n",
    "down 8\n",
    "forward 2\n",
    "\"\"\".splitlines()"
   ]
  },
  {
   "cell_type": "code",
   "execution_count": 4,
   "id": "aef6425e-a2be-4c9a-b59f-fa7e5d06fc29",
   "metadata": {},
   "outputs": [
    {
     "data": {
      "text/plain": [
       "1654760"
      ]
     },
     "execution_count": 4,
     "metadata": {},
     "output_type": "execute_result"
    }
   ],
   "source": [
    "def day2(lines: List[str]):\n",
    "    pos = [0, 0]\n",
    "    for direction, n in get_steps(lines):\n",
    "        if direction == 'forward':\n",
    "            pos[0] += n\n",
    "        elif direction == 'down':\n",
    "            pos[1] += n\n",
    "        elif direction == 'up':\n",
    "            pos[1] -= n\n",
    "        else:\n",
    "            print(direction)\n",
    "    return pos[0] * pos[1]\n",
    "\n",
    "day2(inp)"
   ]
  },
  {
   "cell_type": "code",
   "execution_count": 5,
   "id": "33f7d284-83b7-4acd-bc86-cd966ff2d4ef",
   "metadata": {},
   "outputs": [
    {
     "data": {
      "text/plain": [
       "Submarine(pos=Position(horizontal=15, depth=60), aim=Aim(n=10))"
      ]
     },
     "execution_count": 5,
     "metadata": {},
     "output_type": "execute_result"
    }
   ],
   "source": [
    "sub = Submarine()\n",
    "sub.move_lines(test)"
   ]
  },
  {
   "cell_type": "code",
   "execution_count": 6,
   "id": "f36e46b9-72d9-4ae1-aeb5-edbdcefb5780",
   "metadata": {},
   "outputs": [
    {
     "name": "stdout",
     "output_type": "stream",
     "text": [
      "735 µs ± 85.7 µs per loop (mean ± std. dev. of 100 runs, 10 loops each)\n"
     ]
    }
   ],
   "source": [
    "%%timeit -n 10 -r 100\n",
    "day2(inp)"
   ]
  },
  {
   "cell_type": "code",
   "execution_count": 7,
   "id": "86631ebf-992e-419f-8aff-6915d0ea9b57",
   "metadata": {},
   "outputs": [
    {
     "data": {
      "text/plain": [
       "1956047400"
      ]
     },
     "execution_count": 7,
     "metadata": {},
     "output_type": "execute_result"
    }
   ],
   "source": [
    "def day2_2(lines: List[str]):\n",
    "    sub = Submarine().move_lines(lines)\n",
    "    return sub.pos.horizontal * sub.pos.depth\n",
    "\n",
    "day2_2(inp)"
   ]
  },
  {
   "cell_type": "code",
   "execution_count": 8,
   "id": "3352fe77-521d-46dc-a49e-0b453150ed53",
   "metadata": {},
   "outputs": [
    {
     "name": "stdout",
     "output_type": "stream",
     "text": [
      "1.62 ms ± 85.5 µs per loop (mean ± std. dev. of 100 runs, 10 loops each)\n"
     ]
    }
   ],
   "source": [
    "%%timeit -n 10 -r 100\n",
    "day2_2(inp)"
   ]
  },
  {
   "cell_type": "code",
   "execution_count": null,
   "id": "e9fe899b-bcf8-46b2-80d9-03c25f66c010",
   "metadata": {},
   "outputs": [],
   "source": []
  }
 ],
 "metadata": {
  "kernelspec": {
   "display_name": "Python 3 (ipykernel)",
   "language": "python",
   "name": "python3"
  },
  "language_info": {
   "codemirror_mode": {
    "name": "ipython",
    "version": 3
   },
   "file_extension": ".py",
   "mimetype": "text/x-python",
   "name": "python",
   "nbconvert_exporter": "python",
   "pygments_lexer": "ipython3",
   "version": "3.10.0"
  }
 },
 "nbformat": 4,
 "nbformat_minor": 5
}
