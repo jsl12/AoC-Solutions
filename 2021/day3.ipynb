{
 "cells": [
  {
   "cell_type": "code",
   "execution_count": 1,
   "id": "c1b7b5d9-dd04-49fb-be83-c72c0b211002",
   "metadata": {},
   "outputs": [],
   "source": [
    "from collections import Counter\n",
    "from dataclasses import dataclass, field\n",
    "\n",
    "from pathlib import Path\n",
    "from typing import List\n",
    "\n",
    "from rich import print\n",
    "\n",
    "import numpy as np\n",
    "import pandas as pd\n",
    "\n",
    "from submarine import get_input, get_steps, Submarine"
   ]
  },
  {
   "cell_type": "code",
   "execution_count": 2,
   "id": "1f58f7fd-ef57-4945-9ef8-a5895ece46e6",
   "metadata": {},
   "outputs": [],
   "source": [
    "inp = get_input(3)"
   ]
  },
  {
   "cell_type": "code",
   "execution_count": 3,
   "id": "c53019cb-c4c6-4ab5-8a79-6aa6a4ec55db",
   "metadata": {},
   "outputs": [],
   "source": [
    "test = \"\"\"00100\n",
    "11110\n",
    "10110\n",
    "10111\n",
    "10101\n",
    "01111\n",
    "00111\n",
    "11100\n",
    "10000\n",
    "11001\n",
    "00010\n",
    "01010\"\"\".splitlines()"
   ]
  },
  {
   "cell_type": "code",
   "execution_count": 4,
   "id": "c81b46ea-c979-48ff-80c9-d35971b0af32",
   "metadata": {},
   "outputs": [
    {
     "data": {
      "text/plain": [
       "(198, 3148794)"
      ]
     },
     "execution_count": 4,
     "metadata": {},
     "output_type": "execute_result"
    }
   ],
   "source": [
    "def rates(inp):\n",
    "    counts = [Counter(map(lambda s: s[i], inp)) for i in range(len(inp[0]))]\n",
    "    gamma = int(''.join(map(lambda c: c.most_common()[0][0], counts)), 2)\n",
    "    epsilon = int(''.join(map(lambda c: c.most_common()[-1][0], counts)), 2)\n",
    "    return gamma, epsilon\n",
    "\n",
    "def day3(inp):\n",
    "    g, e = rates(inp)\n",
    "    return g * e\n",
    "\n",
    "day3(test), day3(inp)"
   ]
  },
  {
   "cell_type": "code",
   "execution_count": 5,
   "id": "c118b256-a243-4c87-a709-21e6e3d42cf8",
   "metadata": {},
   "outputs": [
    {
     "name": "stdout",
     "output_type": "stream",
     "text": [
      "1.89 ms ± 80 µs per loop (mean ± std. dev. of 10 runs, 100 loops each)\n"
     ]
    }
   ],
   "source": [
    "%%timeit -r 10 -n 100\n",
    "day3(inp)"
   ]
  },
  {
   "cell_type": "code",
   "execution_count": 9,
   "id": "b1d53e1e-90da-4f98-ae50-136e69a980db",
   "metadata": {},
   "outputs": [
    {
     "data": {
      "text/plain": [
       "2795310"
      ]
     },
     "execution_count": 9,
     "metadata": {},
     "output_type": "execute_result"
    }
   ],
   "source": [
    "def get_rating(inp, default_val: str, idx: int):\n",
    "    n = len(inp[0])\n",
    "    get_counts = lambda nums: [Counter(map(lambda s: s[i], nums)) for i in range(n)]\n",
    "    for i in range(n):\n",
    "        counts = get_counts(inp)\n",
    "        pos_counts = counts[i].most_common()\n",
    "        \n",
    "        if pos_counts[0][1] == pos_counts[1][1]:\n",
    "            target = default_val\n",
    "        else:\n",
    "            target = pos_counts[idx][0]\n",
    "        \n",
    "        inp = [num for num in inp if num[i] == target]\n",
    "        if len(inp) == 1:\n",
    "            break\n",
    "    return int(inp[0], 2)\n",
    "\n",
    "def oxygen_rating(inp):\n",
    "    return get_rating(inp, '1', 0)\n",
    "\n",
    "def co2_rating(inp):\n",
    "    return get_rating(inp, '0', -1)\n",
    "\n",
    "def day3_2(inp):\n",
    "    return oxygen_rating(inp) * co2_rating(inp)\n",
    "\n",
    "day3_2(inp)"
   ]
  },
  {
   "cell_type": "code",
   "execution_count": 10,
   "id": "194e71cd-aeeb-48c1-b2c4-61d9d490cb96",
   "metadata": {},
   "outputs": [
    {
     "name": "stdout",
     "output_type": "stream",
     "text": [
      "8.46 ms ± 299 µs per loop (mean ± std. dev. of 10 runs, 100 loops each)\n"
     ]
    }
   ],
   "source": [
    "%%timeit -r 10 -n 100\n",
    "day3_2(inp)"
   ]
  },
  {
   "cell_type": "code",
   "execution_count": null,
   "id": "1d597c90-5be9-4d61-b8e2-5b2c7739ffc4",
   "metadata": {},
   "outputs": [],
   "source": []
  }
 ],
 "metadata": {
  "kernelspec": {
   "display_name": "Python 3 (ipykernel)",
   "language": "python",
   "name": "python3"
  },
  "language_info": {
   "codemirror_mode": {
    "name": "ipython",
    "version": 3
   },
   "file_extension": ".py",
   "mimetype": "text/x-python",
   "name": "python",
   "nbconvert_exporter": "python",
   "pygments_lexer": "ipython3",
   "version": "3.10.0"
  }
 },
 "nbformat": 4,
 "nbformat_minor": 5
}
