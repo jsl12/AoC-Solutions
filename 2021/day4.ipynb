{
 "cells": [
  {
   "cell_type": "code",
   "execution_count": 1,
   "id": "a882e195-5d00-492e-a4ab-6ffe5b3c06c7",
   "metadata": {},
   "outputs": [],
   "source": [
    "%load_ext autoreload\n",
    "%autoreload 2"
   ]
  },
  {
   "cell_type": "code",
   "execution_count": 2,
   "id": "30061a02-8ef5-44be-8573-64818f3ce3c6",
   "metadata": {},
   "outputs": [],
   "source": [
    "import re\n",
    "\n",
    "from collections import Counter\n",
    "from dataclasses import dataclass, field\n",
    "\n",
    "from pathlib import Path\n",
    "from typing import List\n",
    "\n",
    "from rich import print\n",
    "from rich.columns import Columns\n",
    "from rich.console import Console\n",
    "from rich.table import Table\n",
    "from rich.panel import Panel\n",
    "\n",
    "import numpy as np\n",
    "import pandas as pd\n",
    "\n",
    "from aoc_input import read\n",
    "from day4 import part1, part2\n",
    "from bingo import BingoGame"
   ]
  },
  {
   "cell_type": "code",
   "execution_count": 3,
   "id": "4c1834ae-a529-4b77-9ce6-55e482c43bfd",
   "metadata": {},
   "outputs": [],
   "source": [
    "inp = read(4)"
   ]
  },
  {
   "cell_type": "code",
   "execution_count": 4,
   "id": "57b0c14f-9d0f-4db9-88fb-d6cb0809109e",
   "metadata": {},
   "outputs": [],
   "source": [
    "test = \"\"\"7,4,9,5,11,17,23,2,0,14,21,24,10,16,13,6,15,25,12,22,18,20,8,19,3,26,1\n",
    "\n",
    "22 13 17 11  0\n",
    " 8  2 23  4 24\n",
    "21  9 14 16  7\n",
    " 6 10  3 18  5\n",
    " 1 12 20 15 19\n",
    "\n",
    " 3 15  0  2 22\n",
    " 9 18 13 17  5\n",
    "19  8  7 25 23\n",
    "20 11 10 24  4\n",
    "14 21 16 12  6\n",
    "\n",
    "14 21 17 24  4\n",
    "10 16 15  9 19\n",
    "18  8 23 26 20\n",
    "22 11 13  6  5\n",
    " 2  0 12  3  7\"\"\""
   ]
  },
  {
   "cell_type": "code",
   "execution_count": 5,
   "id": "9b7cf52c-3cf1-4a9b-87f5-14789bbbde4f",
   "metadata": {},
   "outputs": [
    {
     "data": {
      "text/html": [
       "<pre style=\"white-space:pre;overflow-x:auto;line-height:normal;font-family:Menlo,'DejaVu Sans Mono',consolas,'Courier New',monospace\">Calling <span style=\"color: #008080; text-decoration-color: #008080; font-weight: bold\">7</span>\n",
       "</pre>\n"
      ],
      "text/plain": [
       "Calling \u001b[1;36m7\u001b[0m\n"
      ]
     },
     "metadata": {},
     "output_type": "display_data"
    },
    {
     "data": {
      "text/html": [
       "<pre style=\"white-space:pre;overflow-x:auto;line-height:normal;font-family:Menlo,'DejaVu Sans Mono',consolas,'Courier New',monospace\">Calling <span style=\"color: #008080; text-decoration-color: #008080; font-weight: bold\">4</span>\n",
       "</pre>\n"
      ],
      "text/plain": [
       "Calling \u001b[1;36m4\u001b[0m\n"
      ]
     },
     "metadata": {},
     "output_type": "display_data"
    },
    {
     "data": {
      "text/html": [
       "<pre style=\"white-space:pre;overflow-x:auto;line-height:normal;font-family:Menlo,'DejaVu Sans Mono',consolas,'Courier New',monospace\">Calling <span style=\"color: #008080; text-decoration-color: #008080; font-weight: bold\">9</span>\n",
       "</pre>\n"
      ],
      "text/plain": [
       "Calling \u001b[1;36m9\u001b[0m\n"
      ]
     },
     "metadata": {},
     "output_type": "display_data"
    },
    {
     "data": {
      "text/html": [
       "<pre style=\"white-space:pre;overflow-x:auto;line-height:normal;font-family:Menlo,'DejaVu Sans Mono',consolas,'Courier New',monospace\">Calling <span style=\"color: #008080; text-decoration-color: #008080; font-weight: bold\">5</span>\n",
       "</pre>\n"
      ],
      "text/plain": [
       "Calling \u001b[1;36m5\u001b[0m\n"
      ]
     },
     "metadata": {},
     "output_type": "display_data"
    },
    {
     "data": {
      "text/html": [
       "<pre style=\"white-space:pre;overflow-x:auto;line-height:normal;font-family:Menlo,'DejaVu Sans Mono',consolas,'Courier New',monospace\">Calling <span style=\"color: #008080; text-decoration-color: #008080; font-weight: bold\">11</span>\n",
       "</pre>\n"
      ],
      "text/plain": [
       "Calling \u001b[1;36m11\u001b[0m\n"
      ]
     },
     "metadata": {},
     "output_type": "display_data"
    },
    {
     "data": {
      "text/html": [
       "<pre style=\"white-space:pre;overflow-x:auto;line-height:normal;font-family:Menlo,'DejaVu Sans Mono',consolas,'Courier New',monospace\">Calling <span style=\"color: #008080; text-decoration-color: #008080; font-weight: bold\">17</span>\n",
       "</pre>\n"
      ],
      "text/plain": [
       "Calling \u001b[1;36m17\u001b[0m\n"
      ]
     },
     "metadata": {},
     "output_type": "display_data"
    },
    {
     "data": {
      "text/html": [
       "<pre style=\"white-space:pre;overflow-x:auto;line-height:normal;font-family:Menlo,'DejaVu Sans Mono',consolas,'Courier New',monospace\">Calling <span style=\"color: #008080; text-decoration-color: #008080; font-weight: bold\">23</span>\n",
       "</pre>\n"
      ],
      "text/plain": [
       "Calling \u001b[1;36m23\u001b[0m\n"
      ]
     },
     "metadata": {},
     "output_type": "display_data"
    },
    {
     "data": {
      "text/html": [
       "<pre style=\"white-space:pre;overflow-x:auto;line-height:normal;font-family:Menlo,'DejaVu Sans Mono',consolas,'Courier New',monospace\">Calling <span style=\"color: #008080; text-decoration-color: #008080; font-weight: bold\">2</span>\n",
       "</pre>\n"
      ],
      "text/plain": [
       "Calling \u001b[1;36m2\u001b[0m\n"
      ]
     },
     "metadata": {},
     "output_type": "display_data"
    },
    {
     "data": {
      "text/html": [
       "<pre style=\"white-space:pre;overflow-x:auto;line-height:normal;font-family:Menlo,'DejaVu Sans Mono',consolas,'Courier New',monospace\">Calling <span style=\"color: #008080; text-decoration-color: #008080; font-weight: bold\">0</span>\n",
       "</pre>\n"
      ],
      "text/plain": [
       "Calling \u001b[1;36m0\u001b[0m\n"
      ]
     },
     "metadata": {},
     "output_type": "display_data"
    },
    {
     "data": {
      "text/html": [
       "<pre style=\"white-space:pre;overflow-x:auto;line-height:normal;font-family:Menlo,'DejaVu Sans Mono',consolas,'Courier New',monospace\">Calling <span style=\"color: #008080; text-decoration-color: #008080; font-weight: bold\">14</span>\n",
       "</pre>\n"
      ],
      "text/plain": [
       "Calling \u001b[1;36m14\u001b[0m\n"
      ]
     },
     "metadata": {},
     "output_type": "display_data"
    },
    {
     "data": {
      "text/html": [
       "<pre style=\"white-space:pre;overflow-x:auto;line-height:normal;font-family:Menlo,'DejaVu Sans Mono',consolas,'Courier New',monospace\">Calling <span style=\"color: #008080; text-decoration-color: #008080; font-weight: bold\">21</span>\n",
       "</pre>\n"
      ],
      "text/plain": [
       "Calling \u001b[1;36m21\u001b[0m\n"
      ]
     },
     "metadata": {},
     "output_type": "display_data"
    },
    {
     "data": {
      "text/html": [
       "<pre style=\"white-space:pre;overflow-x:auto;line-height:normal;font-family:Menlo,'DejaVu Sans Mono',consolas,'Courier New',monospace\">Calling <span style=\"color: #008080; text-decoration-color: #008080; font-weight: bold\">24</span>\n",
       "</pre>\n"
      ],
      "text/plain": [
       "Calling \u001b[1;36m24\u001b[0m\n"
      ]
     },
     "metadata": {},
     "output_type": "display_data"
    },
    {
     "data": {
      "text/html": [
       "<pre style=\"white-space:pre;overflow-x:auto;line-height:normal;font-family:Menlo,'DejaVu Sans Mono',consolas,'Courier New',monospace\">╭──── BingoBoard ─────╮\n",
       "│ <span style=\"color: #800000; text-decoration-color: #800000\"> 14  21  17  24   4</span> │\n",
       "│ <span style=\"color: #008000; text-decoration-color: #008000\"> 10  16  15 </span><span style=\"color: #800000; text-decoration-color: #800000\">  9 </span><span style=\"color: #008000; text-decoration-color: #008000\"> 19</span> │\n",
       "│ <span style=\"color: #008000; text-decoration-color: #008000\"> 18   8 </span><span style=\"color: #800000; text-decoration-color: #800000\"> 23 </span><span style=\"color: #008000; text-decoration-color: #008000\"> 26  20</span> │\n",
       "│ <span style=\"color: #008000; text-decoration-color: #008000\"> 22 </span><span style=\"color: #800000; text-decoration-color: #800000\"> 11 </span><span style=\"color: #008000; text-decoration-color: #008000\"> 13   6 </span><span style=\"color: #800000; text-decoration-color: #800000\">  5</span> │\n",
       "│ <span style=\"color: #800000; text-decoration-color: #800000\">  2   0 </span><span style=\"color: #008000; text-decoration-color: #008000\"> 12   3 </span><span style=\"color: #800000; text-decoration-color: #800000\">  7</span> │\n",
       "╰─────────────────────╯\n",
       "</pre>\n"
      ],
      "text/plain": [
       "╭──── BingoBoard ─────╮\n",
       "│ \u001b[31m 14 \u001b[0m\u001b[31m 21 \u001b[0m\u001b[31m 17 \u001b[0m\u001b[31m 24 \u001b[0m\u001b[31m  4\u001b[0m │\n",
       "│ \u001b[32m 10 \u001b[0m\u001b[32m 16 \u001b[0m\u001b[32m 15 \u001b[0m\u001b[31m  9 \u001b[0m\u001b[32m 19\u001b[0m │\n",
       "│ \u001b[32m 18 \u001b[0m\u001b[32m  8 \u001b[0m\u001b[31m 23 \u001b[0m\u001b[32m 26 \u001b[0m\u001b[32m 20\u001b[0m │\n",
       "│ \u001b[32m 22 \u001b[0m\u001b[31m 11 \u001b[0m\u001b[32m 13 \u001b[0m\u001b[32m  6 \u001b[0m\u001b[31m  5\u001b[0m │\n",
       "│ \u001b[31m  2 \u001b[0m\u001b[31m  0 \u001b[0m\u001b[32m 12 \u001b[0m\u001b[32m  3 \u001b[0m\u001b[31m  7\u001b[0m │\n",
       "╰─────────────────────╯\n"
      ]
     },
     "metadata": {},
     "output_type": "display_data"
    },
    {
     "data": {
      "text/html": [
       "<pre style=\"white-space:pre;overflow-x:auto;line-height:normal;font-family:Menlo,'DejaVu Sans Mono',consolas,'Courier New',monospace\">╭──── BingoBoard ─────╮\n",
       "│ <span style=\"color: #800000; text-decoration-color: #800000\"> 14  21  17  24   4</span> │\n",
       "│ <span style=\"color: #008000; text-decoration-color: #008000\"> 10  16  15 </span><span style=\"color: #800000; text-decoration-color: #800000\">  9 </span><span style=\"color: #008000; text-decoration-color: #008000\"> 19</span> │\n",
       "│ <span style=\"color: #008000; text-decoration-color: #008000\"> 18   8 </span><span style=\"color: #800000; text-decoration-color: #800000\"> 23 </span><span style=\"color: #008000; text-decoration-color: #008000\"> 26  20</span> │\n",
       "│ <span style=\"color: #008000; text-decoration-color: #008000\"> 22 </span><span style=\"color: #800000; text-decoration-color: #800000\"> 11 </span><span style=\"color: #008000; text-decoration-color: #008000\"> 13   6 </span><span style=\"color: #800000; text-decoration-color: #800000\">  5</span> │\n",
       "│ <span style=\"color: #800000; text-decoration-color: #800000\">  2   0 </span><span style=\"color: #008000; text-decoration-color: #008000\"> 12   3 </span><span style=\"color: #800000; text-decoration-color: #800000\">  7</span> │\n",
       "╰─────────────────────╯\n",
       "</pre>\n"
      ],
      "text/plain": [
       "╭──── BingoBoard ─────╮\n",
       "│ \u001b[31m 14 \u001b[0m\u001b[31m 21 \u001b[0m\u001b[31m 17 \u001b[0m\u001b[31m 24 \u001b[0m\u001b[31m  4\u001b[0m │\n",
       "│ \u001b[32m 10 \u001b[0m\u001b[32m 16 \u001b[0m\u001b[32m 15 \u001b[0m\u001b[31m  9 \u001b[0m\u001b[32m 19\u001b[0m │\n",
       "│ \u001b[32m 18 \u001b[0m\u001b[32m  8 \u001b[0m\u001b[31m 23 \u001b[0m\u001b[32m 26 \u001b[0m\u001b[32m 20\u001b[0m │\n",
       "│ \u001b[32m 22 \u001b[0m\u001b[31m 11 \u001b[0m\u001b[32m 13 \u001b[0m\u001b[32m  6 \u001b[0m\u001b[31m  5\u001b[0m │\n",
       "│ \u001b[31m  2 \u001b[0m\u001b[31m  0 \u001b[0m\u001b[32m 12 \u001b[0m\u001b[32m  3 \u001b[0m\u001b[31m  7\u001b[0m │\n",
       "╰─────────────────────╯\n"
      ]
     },
     "metadata": {},
     "output_type": "display_data"
    },
    {
     "data": {
      "text/plain": [
       "4512"
      ]
     },
     "execution_count": 5,
     "metadata": {},
     "output_type": "execute_result"
    }
   ],
   "source": [
    "part1(test)"
   ]
  },
  {
   "cell_type": "code",
   "execution_count": 6,
   "id": "4bc9a217-1d8f-4b72-bf1a-a7fdd8a13c3e",
   "metadata": {},
   "outputs": [
    {
     "data": {
      "text/html": [
       "<pre style=\"white-space:pre;overflow-x:auto;line-height:normal;font-family:Menlo,'DejaVu Sans Mono',consolas,'Courier New',monospace\">Calling <span style=\"color: #008080; text-decoration-color: #008080; font-weight: bold\">1</span>\n",
       "</pre>\n"
      ],
      "text/plain": [
       "Calling \u001b[1;36m1\u001b[0m\n"
      ]
     },
     "metadata": {},
     "output_type": "display_data"
    },
    {
     "data": {
      "text/html": [
       "<pre style=\"white-space:pre;overflow-x:auto;line-height:normal;font-family:Menlo,'DejaVu Sans Mono',consolas,'Courier New',monospace\">Calling <span style=\"color: #008080; text-decoration-color: #008080; font-weight: bold\">76</span>\n",
       "</pre>\n"
      ],
      "text/plain": [
       "Calling \u001b[1;36m76\u001b[0m\n"
      ]
     },
     "metadata": {},
     "output_type": "display_data"
    },
    {
     "data": {
      "text/html": [
       "<pre style=\"white-space:pre;overflow-x:auto;line-height:normal;font-family:Menlo,'DejaVu Sans Mono',consolas,'Courier New',monospace\">Calling <span style=\"color: #008080; text-decoration-color: #008080; font-weight: bold\">38</span>\n",
       "</pre>\n"
      ],
      "text/plain": [
       "Calling \u001b[1;36m38\u001b[0m\n"
      ]
     },
     "metadata": {},
     "output_type": "display_data"
    },
    {
     "data": {
      "text/html": [
       "<pre style=\"white-space:pre;overflow-x:auto;line-height:normal;font-family:Menlo,'DejaVu Sans Mono',consolas,'Courier New',monospace\">Calling <span style=\"color: #008080; text-decoration-color: #008080; font-weight: bold\">96</span>\n",
       "</pre>\n"
      ],
      "text/plain": [
       "Calling \u001b[1;36m96\u001b[0m\n"
      ]
     },
     "metadata": {},
     "output_type": "display_data"
    },
    {
     "data": {
      "text/html": [
       "<pre style=\"white-space:pre;overflow-x:auto;line-height:normal;font-family:Menlo,'DejaVu Sans Mono',consolas,'Courier New',monospace\">Calling <span style=\"color: #008080; text-decoration-color: #008080; font-weight: bold\">62</span>\n",
       "</pre>\n"
      ],
      "text/plain": [
       "Calling \u001b[1;36m62\u001b[0m\n"
      ]
     },
     "metadata": {},
     "output_type": "display_data"
    },
    {
     "data": {
      "text/html": [
       "<pre style=\"white-space:pre;overflow-x:auto;line-height:normal;font-family:Menlo,'DejaVu Sans Mono',consolas,'Courier New',monospace\">Calling <span style=\"color: #008080; text-decoration-color: #008080; font-weight: bold\">41</span>\n",
       "</pre>\n"
      ],
      "text/plain": [
       "Calling \u001b[1;36m41\u001b[0m\n"
      ]
     },
     "metadata": {},
     "output_type": "display_data"
    },
    {
     "data": {
      "text/html": [
       "<pre style=\"white-space:pre;overflow-x:auto;line-height:normal;font-family:Menlo,'DejaVu Sans Mono',consolas,'Courier New',monospace\">Calling <span style=\"color: #008080; text-decoration-color: #008080; font-weight: bold\">27</span>\n",
       "</pre>\n"
      ],
      "text/plain": [
       "Calling \u001b[1;36m27\u001b[0m\n"
      ]
     },
     "metadata": {},
     "output_type": "display_data"
    },
    {
     "data": {
      "text/html": [
       "<pre style=\"white-space:pre;overflow-x:auto;line-height:normal;font-family:Menlo,'DejaVu Sans Mono',consolas,'Courier New',monospace\">Calling <span style=\"color: #008080; text-decoration-color: #008080; font-weight: bold\">33</span>\n",
       "</pre>\n"
      ],
      "text/plain": [
       "Calling \u001b[1;36m33\u001b[0m\n"
      ]
     },
     "metadata": {},
     "output_type": "display_data"
    },
    {
     "data": {
      "text/html": [
       "<pre style=\"white-space:pre;overflow-x:auto;line-height:normal;font-family:Menlo,'DejaVu Sans Mono',consolas,'Courier New',monospace\">Calling <span style=\"color: #008080; text-decoration-color: #008080; font-weight: bold\">4</span>\n",
       "</pre>\n"
      ],
      "text/plain": [
       "Calling \u001b[1;36m4\u001b[0m\n"
      ]
     },
     "metadata": {},
     "output_type": "display_data"
    },
    {
     "data": {
      "text/html": [
       "<pre style=\"white-space:pre;overflow-x:auto;line-height:normal;font-family:Menlo,'DejaVu Sans Mono',consolas,'Courier New',monospace\">Calling <span style=\"color: #008080; text-decoration-color: #008080; font-weight: bold\">2</span>\n",
       "</pre>\n"
      ],
      "text/plain": [
       "Calling \u001b[1;36m2\u001b[0m\n"
      ]
     },
     "metadata": {},
     "output_type": "display_data"
    },
    {
     "data": {
      "text/html": [
       "<pre style=\"white-space:pre;overflow-x:auto;line-height:normal;font-family:Menlo,'DejaVu Sans Mono',consolas,'Courier New',monospace\">Calling <span style=\"color: #008080; text-decoration-color: #008080; font-weight: bold\">94</span>\n",
       "</pre>\n"
      ],
      "text/plain": [
       "Calling \u001b[1;36m94\u001b[0m\n"
      ]
     },
     "metadata": {},
     "output_type": "display_data"
    },
    {
     "data": {
      "text/html": [
       "<pre style=\"white-space:pre;overflow-x:auto;line-height:normal;font-family:Menlo,'DejaVu Sans Mono',consolas,'Courier New',monospace\">Calling <span style=\"color: #008080; text-decoration-color: #008080; font-weight: bold\">15</span>\n",
       "</pre>\n"
      ],
      "text/plain": [
       "Calling \u001b[1;36m15\u001b[0m\n"
      ]
     },
     "metadata": {},
     "output_type": "display_data"
    },
    {
     "data": {
      "text/html": [
       "<pre style=\"white-space:pre;overflow-x:auto;line-height:normal;font-family:Menlo,'DejaVu Sans Mono',consolas,'Courier New',monospace\">Calling <span style=\"color: #008080; text-decoration-color: #008080; font-weight: bold\">89</span>\n",
       "</pre>\n"
      ],
      "text/plain": [
       "Calling \u001b[1;36m89\u001b[0m\n"
      ]
     },
     "metadata": {},
     "output_type": "display_data"
    },
    {
     "data": {
      "text/html": [
       "<pre style=\"white-space:pre;overflow-x:auto;line-height:normal;font-family:Menlo,'DejaVu Sans Mono',consolas,'Courier New',monospace\">Calling <span style=\"color: #008080; text-decoration-color: #008080; font-weight: bold\">25</span>\n",
       "</pre>\n"
      ],
      "text/plain": [
       "Calling \u001b[1;36m25\u001b[0m\n"
      ]
     },
     "metadata": {},
     "output_type": "display_data"
    },
    {
     "data": {
      "text/html": [
       "<pre style=\"white-space:pre;overflow-x:auto;line-height:normal;font-family:Menlo,'DejaVu Sans Mono',consolas,'Courier New',monospace\">Calling <span style=\"color: #008080; text-decoration-color: #008080; font-weight: bold\">66</span>\n",
       "</pre>\n"
      ],
      "text/plain": [
       "Calling \u001b[1;36m66\u001b[0m\n"
      ]
     },
     "metadata": {},
     "output_type": "display_data"
    },
    {
     "data": {
      "text/html": [
       "<pre style=\"white-space:pre;overflow-x:auto;line-height:normal;font-family:Menlo,'DejaVu Sans Mono',consolas,'Courier New',monospace\">Calling <span style=\"color: #008080; text-decoration-color: #008080; font-weight: bold\">14</span>\n",
       "</pre>\n"
      ],
      "text/plain": [
       "Calling \u001b[1;36m14\u001b[0m\n"
      ]
     },
     "metadata": {},
     "output_type": "display_data"
    },
    {
     "data": {
      "text/html": [
       "<pre style=\"white-space:pre;overflow-x:auto;line-height:normal;font-family:Menlo,'DejaVu Sans Mono',consolas,'Courier New',monospace\">Calling <span style=\"color: #008080; text-decoration-color: #008080; font-weight: bold\">30</span>\n",
       "</pre>\n"
      ],
      "text/plain": [
       "Calling \u001b[1;36m30\u001b[0m\n"
      ]
     },
     "metadata": {},
     "output_type": "display_data"
    },
    {
     "data": {
      "text/html": [
       "<pre style=\"white-space:pre;overflow-x:auto;line-height:normal;font-family:Menlo,'DejaVu Sans Mono',consolas,'Courier New',monospace\">Calling <span style=\"color: #008080; text-decoration-color: #008080; font-weight: bold\">0</span>\n",
       "</pre>\n"
      ],
      "text/plain": [
       "Calling \u001b[1;36m0\u001b[0m\n"
      ]
     },
     "metadata": {},
     "output_type": "display_data"
    },
    {
     "data": {
      "text/html": [
       "<pre style=\"white-space:pre;overflow-x:auto;line-height:normal;font-family:Menlo,'DejaVu Sans Mono',consolas,'Courier New',monospace\">Calling <span style=\"color: #008080; text-decoration-color: #008080; font-weight: bold\">71</span>\n",
       "</pre>\n"
      ],
      "text/plain": [
       "Calling \u001b[1;36m71\u001b[0m\n"
      ]
     },
     "metadata": {},
     "output_type": "display_data"
    },
    {
     "data": {
      "text/html": [
       "<pre style=\"white-space:pre;overflow-x:auto;line-height:normal;font-family:Menlo,'DejaVu Sans Mono',consolas,'Courier New',monospace\">Calling <span style=\"color: #008080; text-decoration-color: #008080; font-weight: bold\">21</span>\n",
       "</pre>\n"
      ],
      "text/plain": [
       "Calling \u001b[1;36m21\u001b[0m\n"
      ]
     },
     "metadata": {},
     "output_type": "display_data"
    },
    {
     "data": {
      "text/html": [
       "<pre style=\"white-space:pre;overflow-x:auto;line-height:normal;font-family:Menlo,'DejaVu Sans Mono',consolas,'Courier New',monospace\">Calling <span style=\"color: #008080; text-decoration-color: #008080; font-weight: bold\">48</span>\n",
       "</pre>\n"
      ],
      "text/plain": [
       "Calling \u001b[1;36m48\u001b[0m\n"
      ]
     },
     "metadata": {},
     "output_type": "display_data"
    },
    {
     "data": {
      "text/html": [
       "<pre style=\"white-space:pre;overflow-x:auto;line-height:normal;font-family:Menlo,'DejaVu Sans Mono',consolas,'Courier New',monospace\">Calling <span style=\"color: #008080; text-decoration-color: #008080; font-weight: bold\">44</span>\n",
       "</pre>\n"
      ],
      "text/plain": [
       "Calling \u001b[1;36m44\u001b[0m\n"
      ]
     },
     "metadata": {},
     "output_type": "display_data"
    },
    {
     "data": {
      "text/html": [
       "<pre style=\"white-space:pre;overflow-x:auto;line-height:normal;font-family:Menlo,'DejaVu Sans Mono',consolas,'Courier New',monospace\">Calling <span style=\"color: #008080; text-decoration-color: #008080; font-weight: bold\">87</span>\n",
       "</pre>\n"
      ],
      "text/plain": [
       "Calling \u001b[1;36m87\u001b[0m\n"
      ]
     },
     "metadata": {},
     "output_type": "display_data"
    },
    {
     "data": {
      "text/html": [
       "<pre style=\"white-space:pre;overflow-x:auto;line-height:normal;font-family:Menlo,'DejaVu Sans Mono',consolas,'Courier New',monospace\">Calling <span style=\"color: #008080; text-decoration-color: #008080; font-weight: bold\">73</span>\n",
       "</pre>\n"
      ],
      "text/plain": [
       "Calling \u001b[1;36m73\u001b[0m\n"
      ]
     },
     "metadata": {},
     "output_type": "display_data"
    },
    {
     "data": {
      "text/html": [
       "<pre style=\"white-space:pre;overflow-x:auto;line-height:normal;font-family:Menlo,'DejaVu Sans Mono',consolas,'Courier New',monospace\">Calling <span style=\"color: #008080; text-decoration-color: #008080; font-weight: bold\">60</span>\n",
       "</pre>\n"
      ],
      "text/plain": [
       "Calling \u001b[1;36m60\u001b[0m\n"
      ]
     },
     "metadata": {},
     "output_type": "display_data"
    },
    {
     "data": {
      "text/html": [
       "<pre style=\"white-space:pre;overflow-x:auto;line-height:normal;font-family:Menlo,'DejaVu Sans Mono',consolas,'Courier New',monospace\">Calling <span style=\"color: #008080; text-decoration-color: #008080; font-weight: bold\">50</span>\n",
       "</pre>\n"
      ],
      "text/plain": [
       "Calling \u001b[1;36m50\u001b[0m\n"
      ]
     },
     "metadata": {},
     "output_type": "display_data"
    },
    {
     "data": {
      "text/html": [
       "<pre style=\"white-space:pre;overflow-x:auto;line-height:normal;font-family:Menlo,'DejaVu Sans Mono',consolas,'Courier New',monospace\">Calling <span style=\"color: #008080; text-decoration-color: #008080; font-weight: bold\">77</span>\n",
       "</pre>\n"
      ],
      "text/plain": [
       "Calling \u001b[1;36m77\u001b[0m\n"
      ]
     },
     "metadata": {},
     "output_type": "display_data"
    },
    {
     "data": {
      "text/html": [
       "<pre style=\"white-space:pre;overflow-x:auto;line-height:normal;font-family:Menlo,'DejaVu Sans Mono',consolas,'Courier New',monospace\">Calling <span style=\"color: #008080; text-decoration-color: #008080; font-weight: bold\">45</span>\n",
       "</pre>\n"
      ],
      "text/plain": [
       "Calling \u001b[1;36m45\u001b[0m\n"
      ]
     },
     "metadata": {},
     "output_type": "display_data"
    },
    {
     "data": {
      "text/html": [
       "<pre style=\"white-space:pre;overflow-x:auto;line-height:normal;font-family:Menlo,'DejaVu Sans Mono',consolas,'Courier New',monospace\">Calling <span style=\"color: #008080; text-decoration-color: #008080; font-weight: bold\">29</span>\n",
       "</pre>\n"
      ],
      "text/plain": [
       "Calling \u001b[1;36m29\u001b[0m\n"
      ]
     },
     "metadata": {},
     "output_type": "display_data"
    },
    {
     "data": {
      "text/html": [
       "<pre style=\"white-space:pre;overflow-x:auto;line-height:normal;font-family:Menlo,'DejaVu Sans Mono',consolas,'Courier New',monospace\">Calling <span style=\"color: #008080; text-decoration-color: #008080; font-weight: bold\">18</span>\n",
       "</pre>\n"
      ],
      "text/plain": [
       "Calling \u001b[1;36m18\u001b[0m\n"
      ]
     },
     "metadata": {},
     "output_type": "display_data"
    },
    {
     "data": {
      "text/html": [
       "<pre style=\"white-space:pre;overflow-x:auto;line-height:normal;font-family:Menlo,'DejaVu Sans Mono',consolas,'Courier New',monospace\">Calling <span style=\"color: #008080; text-decoration-color: #008080; font-weight: bold\">5</span>\n",
       "</pre>\n"
      ],
      "text/plain": [
       "Calling \u001b[1;36m5\u001b[0m\n"
      ]
     },
     "metadata": {},
     "output_type": "display_data"
    },
    {
     "data": {
      "text/html": [
       "<pre style=\"white-space:pre;overflow-x:auto;line-height:normal;font-family:Menlo,'DejaVu Sans Mono',consolas,'Courier New',monospace\">╭──── BingoBoard ─────╮\n",
       "│ <span style=\"color: #800000; text-decoration-color: #800000\"> 14 </span><span style=\"color: #008000; text-decoration-color: #008000\"> 91  37 </span><span style=\"color: #800000; text-decoration-color: #800000\">  5 </span><span style=\"color: #008000; text-decoration-color: #008000\"> 98</span> │\n",
       "│ <span style=\"color: #008000; text-decoration-color: #008000\"> 68 </span><span style=\"color: #800000; text-decoration-color: #800000\"> 29 </span><span style=\"color: #008000; text-decoration-color: #008000\"> 34 </span><span style=\"color: #800000; text-decoration-color: #800000\"> 76 </span><span style=\"color: #008000; text-decoration-color: #008000\"> 43</span> │\n",
       "│ <span style=\"color: #008000; text-decoration-color: #008000\"> 75 </span><span style=\"color: #800000; text-decoration-color: #800000\">  0 </span><span style=\"color: #008000; text-decoration-color: #008000\"> 67 </span><span style=\"color: #800000; text-decoration-color: #800000\"> 33 </span><span style=\"color: #008000; text-decoration-color: #008000\"> 69</span> │\n",
       "│ <span style=\"color: #008000; text-decoration-color: #008000\"> 81  47  58 </span><span style=\"color: #800000; text-decoration-color: #800000\"> 30 </span><span style=\"color: #008000; text-decoration-color: #008000\"> 93</span> │\n",
       "│ <span style=\"color: #008000; text-decoration-color: #008000\"> 88  92  42 </span><span style=\"color: #800000; text-decoration-color: #800000\"> 77 </span><span style=\"color: #008000; text-decoration-color: #008000\"> 54</span> │\n",
       "╰─────────────────────╯\n",
       "</pre>\n"
      ],
      "text/plain": [
       "╭──── BingoBoard ─────╮\n",
       "│ \u001b[31m 14 \u001b[0m\u001b[32m 91 \u001b[0m\u001b[32m 37 \u001b[0m\u001b[31m  5 \u001b[0m\u001b[32m 98\u001b[0m │\n",
       "│ \u001b[32m 68 \u001b[0m\u001b[31m 29 \u001b[0m\u001b[32m 34 \u001b[0m\u001b[31m 76 \u001b[0m\u001b[32m 43\u001b[0m │\n",
       "│ \u001b[32m 75 \u001b[0m\u001b[31m  0 \u001b[0m\u001b[32m 67 \u001b[0m\u001b[31m 33 \u001b[0m\u001b[32m 69\u001b[0m │\n",
       "│ \u001b[32m 81 \u001b[0m\u001b[32m 47 \u001b[0m\u001b[32m 58 \u001b[0m\u001b[31m 30 \u001b[0m\u001b[32m 93\u001b[0m │\n",
       "│ \u001b[32m 88 \u001b[0m\u001b[32m 92 \u001b[0m\u001b[32m 42 \u001b[0m\u001b[31m 77 \u001b[0m\u001b[32m 54\u001b[0m │\n",
       "╰─────────────────────╯\n"
      ]
     },
     "metadata": {},
     "output_type": "display_data"
    },
    {
     "data": {
      "text/html": [
       "<pre style=\"white-space:pre;overflow-x:auto;line-height:normal;font-family:Menlo,'DejaVu Sans Mono',consolas,'Courier New',monospace\">╭──── BingoBoard ─────╮\n",
       "│ <span style=\"color: #800000; text-decoration-color: #800000\"> 14 </span><span style=\"color: #008000; text-decoration-color: #008000\"> 91  37 </span><span style=\"color: #800000; text-decoration-color: #800000\">  5 </span><span style=\"color: #008000; text-decoration-color: #008000\"> 98</span> │\n",
       "│ <span style=\"color: #008000; text-decoration-color: #008000\"> 68 </span><span style=\"color: #800000; text-decoration-color: #800000\"> 29 </span><span style=\"color: #008000; text-decoration-color: #008000\"> 34 </span><span style=\"color: #800000; text-decoration-color: #800000\"> 76 </span><span style=\"color: #008000; text-decoration-color: #008000\"> 43</span> │\n",
       "│ <span style=\"color: #008000; text-decoration-color: #008000\"> 75 </span><span style=\"color: #800000; text-decoration-color: #800000\">  0 </span><span style=\"color: #008000; text-decoration-color: #008000\"> 67 </span><span style=\"color: #800000; text-decoration-color: #800000\"> 33 </span><span style=\"color: #008000; text-decoration-color: #008000\"> 69</span> │\n",
       "│ <span style=\"color: #008000; text-decoration-color: #008000\"> 81  47  58 </span><span style=\"color: #800000; text-decoration-color: #800000\"> 30 </span><span style=\"color: #008000; text-decoration-color: #008000\"> 93</span> │\n",
       "│ <span style=\"color: #008000; text-decoration-color: #008000\"> 88  92  42 </span><span style=\"color: #800000; text-decoration-color: #800000\"> 77 </span><span style=\"color: #008000; text-decoration-color: #008000\"> 54</span> │\n",
       "╰─────────────────────╯\n",
       "</pre>\n"
      ],
      "text/plain": [
       "╭──── BingoBoard ─────╮\n",
       "│ \u001b[31m 14 \u001b[0m\u001b[32m 91 \u001b[0m\u001b[32m 37 \u001b[0m\u001b[31m  5 \u001b[0m\u001b[32m 98\u001b[0m │\n",
       "│ \u001b[32m 68 \u001b[0m\u001b[31m 29 \u001b[0m\u001b[32m 34 \u001b[0m\u001b[31m 76 \u001b[0m\u001b[32m 43\u001b[0m │\n",
       "│ \u001b[32m 75 \u001b[0m\u001b[31m  0 \u001b[0m\u001b[32m 67 \u001b[0m\u001b[31m 33 \u001b[0m\u001b[32m 69\u001b[0m │\n",
       "│ \u001b[32m 81 \u001b[0m\u001b[32m 47 \u001b[0m\u001b[32m 58 \u001b[0m\u001b[31m 30 \u001b[0m\u001b[32m 93\u001b[0m │\n",
       "│ \u001b[32m 88 \u001b[0m\u001b[32m 92 \u001b[0m\u001b[32m 42 \u001b[0m\u001b[31m 77 \u001b[0m\u001b[32m 54\u001b[0m │\n",
       "╰─────────────────────╯\n"
      ]
     },
     "metadata": {},
     "output_type": "display_data"
    },
    {
     "data": {
      "text/plain": [
       "5685"
      ]
     },
     "execution_count": 6,
     "metadata": {},
     "output_type": "execute_result"
    }
   ],
   "source": [
    "part1(read(4))"
   ]
  },
  {
   "cell_type": "code",
   "execution_count": 7,
   "id": "72d07645-ac0e-4754-aa1f-725ecb8679ea",
   "metadata": {},
   "outputs": [
    {
     "data": {
      "text/html": [
       "<pre style=\"white-space:pre;overflow-x:auto;line-height:normal;font-family:Menlo,'DejaVu Sans Mono',consolas,'Courier New',monospace\"><span style=\"color: #008080; text-decoration-color: #008080; font-weight: bold\">100</span>\n",
       "</pre>\n"
      ],
      "text/plain": [
       "\u001b[1;36m100\u001b[0m\n"
      ]
     },
     "metadata": {},
     "output_type": "display_data"
    },
    {
     "data": {
      "text/html": [
       "<pre style=\"white-space:pre;overflow-x:auto;line-height:normal;font-family:Menlo,'DejaVu Sans Mono',consolas,'Courier New',monospace\">Calling <span style=\"color: #008080; text-decoration-color: #008080; font-weight: bold\">1</span>\n",
       "</pre>\n"
      ],
      "text/plain": [
       "Calling \u001b[1;36m1\u001b[0m\n"
      ]
     },
     "metadata": {},
     "output_type": "display_data"
    },
    {
     "data": {
      "text/html": [
       "<pre style=\"white-space:pre;overflow-x:auto;line-height:normal;font-family:Menlo,'DejaVu Sans Mono',consolas,'Courier New',monospace\">Calling <span style=\"color: #008080; text-decoration-color: #008080; font-weight: bold\">76</span>\n",
       "</pre>\n"
      ],
      "text/plain": [
       "Calling \u001b[1;36m76\u001b[0m\n"
      ]
     },
     "metadata": {},
     "output_type": "display_data"
    },
    {
     "data": {
      "text/html": [
       "<pre style=\"white-space:pre;overflow-x:auto;line-height:normal;font-family:Menlo,'DejaVu Sans Mono',consolas,'Courier New',monospace\">Calling <span style=\"color: #008080; text-decoration-color: #008080; font-weight: bold\">38</span>\n",
       "</pre>\n"
      ],
      "text/plain": [
       "Calling \u001b[1;36m38\u001b[0m\n"
      ]
     },
     "metadata": {},
     "output_type": "display_data"
    },
    {
     "data": {
      "text/html": [
       "<pre style=\"white-space:pre;overflow-x:auto;line-height:normal;font-family:Menlo,'DejaVu Sans Mono',consolas,'Courier New',monospace\">Calling <span style=\"color: #008080; text-decoration-color: #008080; font-weight: bold\">96</span>\n",
       "</pre>\n"
      ],
      "text/plain": [
       "Calling \u001b[1;36m96\u001b[0m\n"
      ]
     },
     "metadata": {},
     "output_type": "display_data"
    },
    {
     "data": {
      "text/html": [
       "<pre style=\"white-space:pre;overflow-x:auto;line-height:normal;font-family:Menlo,'DejaVu Sans Mono',consolas,'Courier New',monospace\">Calling <span style=\"color: #008080; text-decoration-color: #008080; font-weight: bold\">62</span>\n",
       "</pre>\n"
      ],
      "text/plain": [
       "Calling \u001b[1;36m62\u001b[0m\n"
      ]
     },
     "metadata": {},
     "output_type": "display_data"
    },
    {
     "data": {
      "text/html": [
       "<pre style=\"white-space:pre;overflow-x:auto;line-height:normal;font-family:Menlo,'DejaVu Sans Mono',consolas,'Courier New',monospace\">Calling <span style=\"color: #008080; text-decoration-color: #008080; font-weight: bold\">41</span>\n",
       "</pre>\n"
      ],
      "text/plain": [
       "Calling \u001b[1;36m41\u001b[0m\n"
      ]
     },
     "metadata": {},
     "output_type": "display_data"
    },
    {
     "data": {
      "text/html": [
       "<pre style=\"white-space:pre;overflow-x:auto;line-height:normal;font-family:Menlo,'DejaVu Sans Mono',consolas,'Courier New',monospace\">Calling <span style=\"color: #008080; text-decoration-color: #008080; font-weight: bold\">27</span>\n",
       "</pre>\n"
      ],
      "text/plain": [
       "Calling \u001b[1;36m27\u001b[0m\n"
      ]
     },
     "metadata": {},
     "output_type": "display_data"
    },
    {
     "data": {
      "text/html": [
       "<pre style=\"white-space:pre;overflow-x:auto;line-height:normal;font-family:Menlo,'DejaVu Sans Mono',consolas,'Courier New',monospace\">Calling <span style=\"color: #008080; text-decoration-color: #008080; font-weight: bold\">33</span>\n",
       "</pre>\n"
      ],
      "text/plain": [
       "Calling \u001b[1;36m33\u001b[0m\n"
      ]
     },
     "metadata": {},
     "output_type": "display_data"
    },
    {
     "data": {
      "text/html": [
       "<pre style=\"white-space:pre;overflow-x:auto;line-height:normal;font-family:Menlo,'DejaVu Sans Mono',consolas,'Courier New',monospace\">Calling <span style=\"color: #008080; text-decoration-color: #008080; font-weight: bold\">4</span>\n",
       "</pre>\n"
      ],
      "text/plain": [
       "Calling \u001b[1;36m4\u001b[0m\n"
      ]
     },
     "metadata": {},
     "output_type": "display_data"
    },
    {
     "data": {
      "text/html": [
       "<pre style=\"white-space:pre;overflow-x:auto;line-height:normal;font-family:Menlo,'DejaVu Sans Mono',consolas,'Courier New',monospace\">Calling <span style=\"color: #008080; text-decoration-color: #008080; font-weight: bold\">2</span>\n",
       "</pre>\n"
      ],
      "text/plain": [
       "Calling \u001b[1;36m2\u001b[0m\n"
      ]
     },
     "metadata": {},
     "output_type": "display_data"
    },
    {
     "data": {
      "text/html": [
       "<pre style=\"white-space:pre;overflow-x:auto;line-height:normal;font-family:Menlo,'DejaVu Sans Mono',consolas,'Courier New',monospace\">Calling <span style=\"color: #008080; text-decoration-color: #008080; font-weight: bold\">94</span>\n",
       "</pre>\n"
      ],
      "text/plain": [
       "Calling \u001b[1;36m94\u001b[0m\n"
      ]
     },
     "metadata": {},
     "output_type": "display_data"
    },
    {
     "data": {
      "text/html": [
       "<pre style=\"white-space:pre;overflow-x:auto;line-height:normal;font-family:Menlo,'DejaVu Sans Mono',consolas,'Courier New',monospace\">Calling <span style=\"color: #008080; text-decoration-color: #008080; font-weight: bold\">15</span>\n",
       "</pre>\n"
      ],
      "text/plain": [
       "Calling \u001b[1;36m15\u001b[0m\n"
      ]
     },
     "metadata": {},
     "output_type": "display_data"
    },
    {
     "data": {
      "text/html": [
       "<pre style=\"white-space:pre;overflow-x:auto;line-height:normal;font-family:Menlo,'DejaVu Sans Mono',consolas,'Courier New',monospace\">Calling <span style=\"color: #008080; text-decoration-color: #008080; font-weight: bold\">89</span>\n",
       "</pre>\n"
      ],
      "text/plain": [
       "Calling \u001b[1;36m89\u001b[0m\n"
      ]
     },
     "metadata": {},
     "output_type": "display_data"
    },
    {
     "data": {
      "text/html": [
       "<pre style=\"white-space:pre;overflow-x:auto;line-height:normal;font-family:Menlo,'DejaVu Sans Mono',consolas,'Courier New',monospace\">Calling <span style=\"color: #008080; text-decoration-color: #008080; font-weight: bold\">25</span>\n",
       "</pre>\n"
      ],
      "text/plain": [
       "Calling \u001b[1;36m25\u001b[0m\n"
      ]
     },
     "metadata": {},
     "output_type": "display_data"
    },
    {
     "data": {
      "text/html": [
       "<pre style=\"white-space:pre;overflow-x:auto;line-height:normal;font-family:Menlo,'DejaVu Sans Mono',consolas,'Courier New',monospace\">Calling <span style=\"color: #008080; text-decoration-color: #008080; font-weight: bold\">66</span>\n",
       "</pre>\n"
      ],
      "text/plain": [
       "Calling \u001b[1;36m66\u001b[0m\n"
      ]
     },
     "metadata": {},
     "output_type": "display_data"
    },
    {
     "data": {
      "text/html": [
       "<pre style=\"white-space:pre;overflow-x:auto;line-height:normal;font-family:Menlo,'DejaVu Sans Mono',consolas,'Courier New',monospace\">Calling <span style=\"color: #008080; text-decoration-color: #008080; font-weight: bold\">14</span>\n",
       "</pre>\n"
      ],
      "text/plain": [
       "Calling \u001b[1;36m14\u001b[0m\n"
      ]
     },
     "metadata": {},
     "output_type": "display_data"
    },
    {
     "data": {
      "text/html": [
       "<pre style=\"white-space:pre;overflow-x:auto;line-height:normal;font-family:Menlo,'DejaVu Sans Mono',consolas,'Courier New',monospace\">Calling <span style=\"color: #008080; text-decoration-color: #008080; font-weight: bold\">30</span>\n",
       "</pre>\n"
      ],
      "text/plain": [
       "Calling \u001b[1;36m30\u001b[0m\n"
      ]
     },
     "metadata": {},
     "output_type": "display_data"
    },
    {
     "data": {
      "text/html": [
       "<pre style=\"white-space:pre;overflow-x:auto;line-height:normal;font-family:Menlo,'DejaVu Sans Mono',consolas,'Courier New',monospace\">Calling <span style=\"color: #008080; text-decoration-color: #008080; font-weight: bold\">0</span>\n",
       "</pre>\n"
      ],
      "text/plain": [
       "Calling \u001b[1;36m0\u001b[0m\n"
      ]
     },
     "metadata": {},
     "output_type": "display_data"
    },
    {
     "data": {
      "text/html": [
       "<pre style=\"white-space:pre;overflow-x:auto;line-height:normal;font-family:Menlo,'DejaVu Sans Mono',consolas,'Courier New',monospace\">Calling <span style=\"color: #008080; text-decoration-color: #008080; font-weight: bold\">71</span>\n",
       "</pre>\n"
      ],
      "text/plain": [
       "Calling \u001b[1;36m71\u001b[0m\n"
      ]
     },
     "metadata": {},
     "output_type": "display_data"
    },
    {
     "data": {
      "text/html": [
       "<pre style=\"white-space:pre;overflow-x:auto;line-height:normal;font-family:Menlo,'DejaVu Sans Mono',consolas,'Courier New',monospace\">Calling <span style=\"color: #008080; text-decoration-color: #008080; font-weight: bold\">21</span>\n",
       "</pre>\n"
      ],
      "text/plain": [
       "Calling \u001b[1;36m21\u001b[0m\n"
      ]
     },
     "metadata": {},
     "output_type": "display_data"
    },
    {
     "data": {
      "text/html": [
       "<pre style=\"white-space:pre;overflow-x:auto;line-height:normal;font-family:Menlo,'DejaVu Sans Mono',consolas,'Courier New',monospace\">Calling <span style=\"color: #008080; text-decoration-color: #008080; font-weight: bold\">48</span>\n",
       "</pre>\n"
      ],
      "text/plain": [
       "Calling \u001b[1;36m48\u001b[0m\n"
      ]
     },
     "metadata": {},
     "output_type": "display_data"
    },
    {
     "data": {
      "text/html": [
       "<pre style=\"white-space:pre;overflow-x:auto;line-height:normal;font-family:Menlo,'DejaVu Sans Mono',consolas,'Courier New',monospace\">Calling <span style=\"color: #008080; text-decoration-color: #008080; font-weight: bold\">44</span>\n",
       "</pre>\n"
      ],
      "text/plain": [
       "Calling \u001b[1;36m44\u001b[0m\n"
      ]
     },
     "metadata": {},
     "output_type": "display_data"
    },
    {
     "data": {
      "text/html": [
       "<pre style=\"white-space:pre;overflow-x:auto;line-height:normal;font-family:Menlo,'DejaVu Sans Mono',consolas,'Courier New',monospace\">Calling <span style=\"color: #008080; text-decoration-color: #008080; font-weight: bold\">87</span>\n",
       "</pre>\n"
      ],
      "text/plain": [
       "Calling \u001b[1;36m87\u001b[0m\n"
      ]
     },
     "metadata": {},
     "output_type": "display_data"
    },
    {
     "data": {
      "text/html": [
       "<pre style=\"white-space:pre;overflow-x:auto;line-height:normal;font-family:Menlo,'DejaVu Sans Mono',consolas,'Courier New',monospace\">Calling <span style=\"color: #008080; text-decoration-color: #008080; font-weight: bold\">73</span>\n",
       "</pre>\n"
      ],
      "text/plain": [
       "Calling \u001b[1;36m73\u001b[0m\n"
      ]
     },
     "metadata": {},
     "output_type": "display_data"
    },
    {
     "data": {
      "text/html": [
       "<pre style=\"white-space:pre;overflow-x:auto;line-height:normal;font-family:Menlo,'DejaVu Sans Mono',consolas,'Courier New',monospace\">Calling <span style=\"color: #008080; text-decoration-color: #008080; font-weight: bold\">60</span>\n",
       "</pre>\n"
      ],
      "text/plain": [
       "Calling \u001b[1;36m60\u001b[0m\n"
      ]
     },
     "metadata": {},
     "output_type": "display_data"
    },
    {
     "data": {
      "text/html": [
       "<pre style=\"white-space:pre;overflow-x:auto;line-height:normal;font-family:Menlo,'DejaVu Sans Mono',consolas,'Courier New',monospace\">Calling <span style=\"color: #008080; text-decoration-color: #008080; font-weight: bold\">50</span>\n",
       "</pre>\n"
      ],
      "text/plain": [
       "Calling \u001b[1;36m50\u001b[0m\n"
      ]
     },
     "metadata": {},
     "output_type": "display_data"
    },
    {
     "data": {
      "text/html": [
       "<pre style=\"white-space:pre;overflow-x:auto;line-height:normal;font-family:Menlo,'DejaVu Sans Mono',consolas,'Courier New',monospace\">Calling <span style=\"color: #008080; text-decoration-color: #008080; font-weight: bold\">77</span>\n",
       "</pre>\n"
      ],
      "text/plain": [
       "Calling \u001b[1;36m77\u001b[0m\n"
      ]
     },
     "metadata": {},
     "output_type": "display_data"
    },
    {
     "data": {
      "text/html": [
       "<pre style=\"white-space:pre;overflow-x:auto;line-height:normal;font-family:Menlo,'DejaVu Sans Mono',consolas,'Courier New',monospace\">Calling <span style=\"color: #008080; text-decoration-color: #008080; font-weight: bold\">45</span>\n",
       "</pre>\n"
      ],
      "text/plain": [
       "Calling \u001b[1;36m45\u001b[0m\n"
      ]
     },
     "metadata": {},
     "output_type": "display_data"
    },
    {
     "data": {
      "text/html": [
       "<pre style=\"white-space:pre;overflow-x:auto;line-height:normal;font-family:Menlo,'DejaVu Sans Mono',consolas,'Courier New',monospace\">Calling <span style=\"color: #008080; text-decoration-color: #008080; font-weight: bold\">29</span>\n",
       "</pre>\n"
      ],
      "text/plain": [
       "Calling \u001b[1;36m29\u001b[0m\n"
      ]
     },
     "metadata": {},
     "output_type": "display_data"
    },
    {
     "data": {
      "text/html": [
       "<pre style=\"white-space:pre;overflow-x:auto;line-height:normal;font-family:Menlo,'DejaVu Sans Mono',consolas,'Courier New',monospace\">Calling <span style=\"color: #008080; text-decoration-color: #008080; font-weight: bold\">18</span>\n",
       "</pre>\n"
      ],
      "text/plain": [
       "Calling \u001b[1;36m18\u001b[0m\n"
      ]
     },
     "metadata": {},
     "output_type": "display_data"
    },
    {
     "data": {
      "text/html": [
       "<pre style=\"white-space:pre;overflow-x:auto;line-height:normal;font-family:Menlo,'DejaVu Sans Mono',consolas,'Courier New',monospace\">Calling <span style=\"color: #008080; text-decoration-color: #008080; font-weight: bold\">5</span>\n",
       "</pre>\n"
      ],
      "text/plain": [
       "Calling \u001b[1;36m5\u001b[0m\n"
      ]
     },
     "metadata": {},
     "output_type": "display_data"
    },
    {
     "data": {
      "text/html": [
       "<pre style=\"white-space:pre;overflow-x:auto;line-height:normal;font-family:Menlo,'DejaVu Sans Mono',consolas,'Courier New',monospace\">╭──── BingoBoard ─────╮\n",
       "│ <span style=\"color: #800000; text-decoration-color: #800000\"> 14 </span><span style=\"color: #008000; text-decoration-color: #008000\"> 91  37 </span><span style=\"color: #800000; text-decoration-color: #800000\">  5 </span><span style=\"color: #008000; text-decoration-color: #008000\"> 98</span> │\n",
       "│ <span style=\"color: #008000; text-decoration-color: #008000\"> 68 </span><span style=\"color: #800000; text-decoration-color: #800000\"> 29 </span><span style=\"color: #008000; text-decoration-color: #008000\"> 34 </span><span style=\"color: #800000; text-decoration-color: #800000\"> 76 </span><span style=\"color: #008000; text-decoration-color: #008000\"> 43</span> │\n",
       "│ <span style=\"color: #008000; text-decoration-color: #008000\"> 75 </span><span style=\"color: #800000; text-decoration-color: #800000\">  0 </span><span style=\"color: #008000; text-decoration-color: #008000\"> 67 </span><span style=\"color: #800000; text-decoration-color: #800000\"> 33 </span><span style=\"color: #008000; text-decoration-color: #008000\"> 69</span> │\n",
       "│ <span style=\"color: #008000; text-decoration-color: #008000\"> 81  47  58 </span><span style=\"color: #800000; text-decoration-color: #800000\"> 30 </span><span style=\"color: #008000; text-decoration-color: #008000\"> 93</span> │\n",
       "│ <span style=\"color: #008000; text-decoration-color: #008000\"> 88  92  42 </span><span style=\"color: #800000; text-decoration-color: #800000\"> 77 </span><span style=\"color: #008000; text-decoration-color: #008000\"> 54</span> │\n",
       "╰─────────────────────╯\n",
       "</pre>\n"
      ],
      "text/plain": [
       "╭──── BingoBoard ─────╮\n",
       "│ \u001b[31m 14 \u001b[0m\u001b[32m 91 \u001b[0m\u001b[32m 37 \u001b[0m\u001b[31m  5 \u001b[0m\u001b[32m 98\u001b[0m │\n",
       "│ \u001b[32m 68 \u001b[0m\u001b[31m 29 \u001b[0m\u001b[32m 34 \u001b[0m\u001b[31m 76 \u001b[0m\u001b[32m 43\u001b[0m │\n",
       "│ \u001b[32m 75 \u001b[0m\u001b[31m  0 \u001b[0m\u001b[32m 67 \u001b[0m\u001b[31m 33 \u001b[0m\u001b[32m 69\u001b[0m │\n",
       "│ \u001b[32m 81 \u001b[0m\u001b[32m 47 \u001b[0m\u001b[32m 58 \u001b[0m\u001b[31m 30 \u001b[0m\u001b[32m 93\u001b[0m │\n",
       "│ \u001b[32m 88 \u001b[0m\u001b[32m 92 \u001b[0m\u001b[32m 42 \u001b[0m\u001b[31m 77 \u001b[0m\u001b[32m 54\u001b[0m │\n",
       "╰─────────────────────╯\n"
      ]
     },
     "metadata": {},
     "output_type": "display_data"
    },
    {
     "data": {
      "text/html": [
       "<pre style=\"white-space:pre;overflow-x:auto;line-height:normal;font-family:Menlo,'DejaVu Sans Mono',consolas,'Courier New',monospace\">Calling <span style=\"color: #008080; text-decoration-color: #008080; font-weight: bold\">99</span>\n",
       "</pre>\n"
      ],
      "text/plain": [
       "Calling \u001b[1;36m99\u001b[0m\n"
      ]
     },
     "metadata": {},
     "output_type": "display_data"
    },
    {
     "data": {
      "text/html": [
       "<pre style=\"white-space:pre;overflow-x:auto;line-height:normal;font-family:Menlo,'DejaVu Sans Mono',consolas,'Courier New',monospace\">Calling <span style=\"color: #008080; text-decoration-color: #008080; font-weight: bold\">65</span>\n",
       "</pre>\n"
      ],
      "text/plain": [
       "Calling \u001b[1;36m65\u001b[0m\n"
      ]
     },
     "metadata": {},
     "output_type": "display_data"
    },
    {
     "data": {
      "text/html": [
       "<pre style=\"white-space:pre;overflow-x:auto;line-height:normal;font-family:Menlo,'DejaVu Sans Mono',consolas,'Courier New',monospace\">╭──── BingoBoard ─────╮\n",
       "│ <span style=\"color: #800000; text-decoration-color: #800000\"> 50   4  65  77  25</span> │\n",
       "│ <span style=\"color: #008000; text-decoration-color: #008000\">  6 </span><span style=\"color: #800000; text-decoration-color: #800000\"> 21   5  27 </span><span style=\"color: #008000; text-decoration-color: #008000\"> 92</span> │\n",
       "│ <span style=\"color: #008000; text-decoration-color: #008000\"> 39  63  97  75  79</span> │\n",
       "│ <span style=\"color: #008000; text-decoration-color: #008000\"> 60  34 </span><span style=\"color: #800000; text-decoration-color: #800000\"> 87 </span><span style=\"color: #008000; text-decoration-color: #008000\"> 26  74</span> │\n",
       "│ <span style=\"color: #008000; text-decoration-color: #008000\"> 99  24 </span><span style=\"color: #800000; text-decoration-color: #800000\"> 44 </span><span style=\"color: #008000; text-decoration-color: #008000\"> 85 </span><span style=\"color: #800000; text-decoration-color: #800000\">  2</span> │\n",
       "╰─────────────────────╯\n",
       "</pre>\n"
      ],
      "text/plain": [
       "╭──── BingoBoard ─────╮\n",
       "│ \u001b[31m 50 \u001b[0m\u001b[31m  4 \u001b[0m\u001b[31m 65 \u001b[0m\u001b[31m 77 \u001b[0m\u001b[31m 25\u001b[0m │\n",
       "│ \u001b[32m  6 \u001b[0m\u001b[31m 21 \u001b[0m\u001b[31m  5 \u001b[0m\u001b[31m 27 \u001b[0m\u001b[32m 92\u001b[0m │\n",
       "│ \u001b[32m 39 \u001b[0m\u001b[32m 63 \u001b[0m\u001b[32m 97 \u001b[0m\u001b[32m 75 \u001b[0m\u001b[32m 79\u001b[0m │\n",
       "│ \u001b[32m 60 \u001b[0m\u001b[32m 34 \u001b[0m\u001b[31m 87 \u001b[0m\u001b[32m 26 \u001b[0m\u001b[32m 74\u001b[0m │\n",
       "│ \u001b[32m 99 \u001b[0m\u001b[32m 24 \u001b[0m\u001b[31m 44 \u001b[0m\u001b[32m 85 \u001b[0m\u001b[31m  2\u001b[0m │\n",
       "╰─────────────────────╯\n"
      ]
     },
     "metadata": {},
     "output_type": "display_data"
    },
    {
     "data": {
      "text/html": [
       "<pre style=\"white-space:pre;overflow-x:auto;line-height:normal;font-family:Menlo,'DejaVu Sans Mono',consolas,'Courier New',monospace\">╭──── BingoBoard ─────╮\n",
       "│ <span style=\"color: #008000; text-decoration-color: #008000\"> 95 </span><span style=\"color: #800000; text-decoration-color: #800000\"> 41 </span><span style=\"color: #008000; text-decoration-color: #008000\">  7 </span><span style=\"color: #800000; text-decoration-color: #800000\"> 21 </span><span style=\"color: #008000; text-decoration-color: #008000\"> 32</span> │\n",
       "│ <span style=\"color: #008000; text-decoration-color: #008000\"> 58 </span><span style=\"color: #800000; text-decoration-color: #800000\"> 65 </span><span style=\"color: #008000; text-decoration-color: #008000\"> 16  56  97</span> │\n",
       "│ <span style=\"color: #008000; text-decoration-color: #008000\"> 68 </span><span style=\"color: #800000; text-decoration-color: #800000\"> 25 </span><span style=\"color: #008000; text-decoration-color: #008000\"> 91  83  24</span> │\n",
       "│ <span style=\"color: #008000; text-decoration-color: #008000\"> 66 </span><span style=\"color: #800000; text-decoration-color: #800000\"> 89  15 </span><span style=\"color: #008000; text-decoration-color: #008000\"> 55   6</span> │\n",
       "│ <span style=\"color: #008000; text-decoration-color: #008000\">  2 </span><span style=\"color: #800000; text-decoration-color: #800000\"> 30 </span><span style=\"color: #008000; text-decoration-color: #008000\"> 84  10  90</span> │\n",
       "╰─────────────────────╯\n",
       "</pre>\n"
      ],
      "text/plain": [
       "╭──── BingoBoard ─────╮\n",
       "│ \u001b[32m 95 \u001b[0m\u001b[31m 41 \u001b[0m\u001b[32m  7 \u001b[0m\u001b[31m 21 \u001b[0m\u001b[32m 32\u001b[0m │\n",
       "│ \u001b[32m 58 \u001b[0m\u001b[31m 65 \u001b[0m\u001b[32m 16 \u001b[0m\u001b[32m 56 \u001b[0m\u001b[32m 97\u001b[0m │\n",
       "│ \u001b[32m 68 \u001b[0m\u001b[31m 25 \u001b[0m\u001b[32m 91 \u001b[0m\u001b[32m 83 \u001b[0m\u001b[32m 24\u001b[0m │\n",
       "│ \u001b[32m 66 \u001b[0m\u001b[31m 89 \u001b[0m\u001b[31m 15 \u001b[0m\u001b[32m 55 \u001b[0m\u001b[32m  6\u001b[0m │\n",
       "│ \u001b[32m  2 \u001b[0m\u001b[31m 30 \u001b[0m\u001b[32m 84 \u001b[0m\u001b[32m 10 \u001b[0m\u001b[32m 90\u001b[0m │\n",
       "╰─────────────────────╯\n"
      ]
     },
     "metadata": {},
     "output_type": "display_data"
    },
    {
     "data": {
      "text/html": [
       "<pre style=\"white-space:pre;overflow-x:auto;line-height:normal;font-family:Menlo,'DejaVu Sans Mono',consolas,'Courier New',monospace\">Calling <span style=\"color: #008080; text-decoration-color: #008080; font-weight: bold\">16</span>\n",
       "</pre>\n"
      ],
      "text/plain": [
       "Calling \u001b[1;36m16\u001b[0m\n"
      ]
     },
     "metadata": {},
     "output_type": "display_data"
    },
    {
     "data": {
      "text/html": [
       "<pre style=\"white-space:pre;overflow-x:auto;line-height:normal;font-family:Menlo,'DejaVu Sans Mono',consolas,'Courier New',monospace\">╭──── BingoBoard ─────╮\n",
       "│ <span style=\"color: #008000; text-decoration-color: #008000\"> 93  63  74 </span><span style=\"color: #800000; text-decoration-color: #800000\"> 25 </span><span style=\"color: #008000; text-decoration-color: #008000\"> 57</span> │\n",
       "│ <span style=\"color: #008000; text-decoration-color: #008000\"> 29 </span><span style=\"color: #800000; text-decoration-color: #800000\"> 76 </span><span style=\"color: #008000; text-decoration-color: #008000\">  9 </span><span style=\"color: #800000; text-decoration-color: #800000\"> 45 </span><span style=\"color: #008000; text-decoration-color: #008000\"> 70</span> │\n",
       "│ <span style=\"color: #008000; text-decoration-color: #008000\"> 98 </span><span style=\"color: #800000; text-decoration-color: #800000\"> 77  71  16  41</span> │\n",
       "│ <span style=\"color: #800000; text-decoration-color: #800000\"> 47 </span><span style=\"color: #008000; text-decoration-color: #008000\"> 54 </span><span style=\"color: #800000; text-decoration-color: #800000\"> 18  14 </span><span style=\"color: #008000; text-decoration-color: #008000\"> 55</span> │\n",
       "│ <span style=\"color: #008000; text-decoration-color: #008000\"> 31 </span><span style=\"color: #800000; text-decoration-color: #800000\"> 89 </span><span style=\"color: #008000; text-decoration-color: #008000\"> 67 </span><span style=\"color: #800000; text-decoration-color: #800000\"> 87 </span><span style=\"color: #008000; text-decoration-color: #008000\"> 83</span> │\n",
       "╰─────────────────────╯\n",
       "</pre>\n"
      ],
      "text/plain": [
       "╭──── BingoBoard ─────╮\n",
       "│ \u001b[32m 93 \u001b[0m\u001b[32m 63 \u001b[0m\u001b[32m 74 \u001b[0m\u001b[31m 25 \u001b[0m\u001b[32m 57\u001b[0m │\n",
       "│ \u001b[32m 29 \u001b[0m\u001b[31m 76 \u001b[0m\u001b[32m  9 \u001b[0m\u001b[31m 45 \u001b[0m\u001b[32m 70\u001b[0m │\n",
       "│ \u001b[32m 98 \u001b[0m\u001b[31m 77 \u001b[0m\u001b[31m 71 \u001b[0m\u001b[31m 16 \u001b[0m\u001b[31m 41\u001b[0m │\n",
       "│ \u001b[31m 47 \u001b[0m\u001b[32m 54 \u001b[0m\u001b[31m 18 \u001b[0m\u001b[31m 14 \u001b[0m\u001b[32m 55\u001b[0m │\n",
       "│ \u001b[32m 31 \u001b[0m\u001b[31m 89 \u001b[0m\u001b[32m 67 \u001b[0m\u001b[31m 87 \u001b[0m\u001b[32m 83\u001b[0m │\n",
       "╰─────────────────────╯\n"
      ]
     },
     "metadata": {},
     "output_type": "display_data"
    },
    {
     "data": {
      "text/html": [
       "<pre style=\"white-space:pre;overflow-x:auto;line-height:normal;font-family:Menlo,'DejaVu Sans Mono',consolas,'Courier New',monospace\">Calling <span style=\"color: #008080; text-decoration-color: #008080; font-weight: bold\">93</span>\n",
       "</pre>\n"
      ],
      "text/plain": [
       "Calling \u001b[1;36m93\u001b[0m\n"
      ]
     },
     "metadata": {},
     "output_type": "display_data"
    },
    {
     "data": {
      "text/html": [
       "<pre style=\"white-space:pre;overflow-x:auto;line-height:normal;font-family:Menlo,'DejaVu Sans Mono',consolas,'Courier New',monospace\">╭──── BingoBoard ─────╮\n",
       "│ <span style=\"color: #008000; text-decoration-color: #008000\"> 37 </span><span style=\"color: #800000; text-decoration-color: #800000\">  5 </span><span style=\"color: #008000; text-decoration-color: #008000\"> 63  68  28</span> │\n",
       "│ <span style=\"color: #008000; text-decoration-color: #008000\"> 41 </span><span style=\"color: #800000; text-decoration-color: #800000\"> 50  76  99 </span><span style=\"color: #008000; text-decoration-color: #008000\"> 64</span> │\n",
       "│ <span style=\"color: #008000; text-decoration-color: #008000\"> 34  92  78 </span><span style=\"color: #800000; text-decoration-color: #800000\"> 94  71</span> │\n",
       "│ <span style=\"color: #800000; text-decoration-color: #800000\"> 11  96 </span><span style=\"color: #008000; text-decoration-color: #008000\"> 97  42  58</span> │\n",
       "│ <span style=\"color: #008000; text-decoration-color: #008000\"> 33 </span><span style=\"color: #800000; text-decoration-color: #800000\"> 45   0  93  48</span> │\n",
       "╰─────────────────────╯\n",
       "</pre>\n"
      ],
      "text/plain": [
       "╭──── BingoBoard ─────╮\n",
       "│ \u001b[32m 37 \u001b[0m\u001b[31m  5 \u001b[0m\u001b[32m 63 \u001b[0m\u001b[32m 68 \u001b[0m\u001b[32m 28\u001b[0m │\n",
       "│ \u001b[32m 41 \u001b[0m\u001b[31m 50 \u001b[0m\u001b[31m 76 \u001b[0m\u001b[31m 99 \u001b[0m\u001b[32m 64\u001b[0m │\n",
       "│ \u001b[32m 34 \u001b[0m\u001b[32m 92 \u001b[0m\u001b[32m 78 \u001b[0m\u001b[31m 94 \u001b[0m\u001b[31m 71\u001b[0m │\n",
       "│ \u001b[31m 11 \u001b[0m\u001b[31m 96 \u001b[0m\u001b[32m 97 \u001b[0m\u001b[32m 42 \u001b[0m\u001b[32m 58\u001b[0m │\n",
       "│ \u001b[32m 33 \u001b[0m\u001b[31m 45 \u001b[0m\u001b[31m  0 \u001b[0m\u001b[31m 93 \u001b[0m\u001b[31m 48\u001b[0m │\n",
       "╰─────────────────────╯\n"
      ]
     },
     "metadata": {},
     "output_type": "display_data"
    },
    {
     "data": {
      "text/html": [
       "<pre style=\"white-space:pre;overflow-x:auto;line-height:normal;font-family:Menlo,'DejaVu Sans Mono',consolas,'Courier New',monospace\">Calling <span style=\"color: #008080; text-decoration-color: #008080; font-weight: bold\">95</span>\n",
       "</pre>\n"
      ],
      "text/plain": [
       "Calling \u001b[1;36m95\u001b[0m\n"
      ]
     },
     "metadata": {},
     "output_type": "display_data"
    },
    {
     "data": {
      "text/html": [
       "<pre style=\"white-space:pre;overflow-x:auto;line-height:normal;font-family:Menlo,'DejaVu Sans Mono',consolas,'Courier New',monospace\">Calling <span style=\"color: #008080; text-decoration-color: #008080; font-weight: bold\">37</span>\n",
       "</pre>\n"
      ],
      "text/plain": [
       "Calling \u001b[1;36m37\u001b[0m\n"
      ]
     },
     "metadata": {},
     "output_type": "display_data"
    },
    {
     "data": {
      "text/html": [
       "<pre style=\"white-space:pre;overflow-x:auto;line-height:normal;font-family:Menlo,'DejaVu Sans Mono',consolas,'Courier New',monospace\">╭──── BingoBoard ─────╮\n",
       "│ <span style=\"color: #800000; text-decoration-color: #800000\">  5 </span><span style=\"color: #008000; text-decoration-color: #008000\"> 75 </span><span style=\"color: #800000; text-decoration-color: #800000\"> 18 </span><span style=\"color: #008000; text-decoration-color: #008000\"> 42 </span><span style=\"color: #800000; text-decoration-color: #800000\"> 33</span> │\n",
       "│ <span style=\"color: #800000; text-decoration-color: #800000\"> 72 </span><span style=\"color: #008000; text-decoration-color: #008000\"> 61  36  31 </span><span style=\"color: #800000; text-decoration-color: #800000\"> 29</span> │\n",
       "│ <span style=\"color: #800000; text-decoration-color: #800000\"> 19 </span><span style=\"color: #008000; text-decoration-color: #008000\"> 58 </span><span style=\"color: #800000; text-decoration-color: #800000\">  1 </span><span style=\"color: #008000; text-decoration-color: #008000\"> 34 </span><span style=\"color: #800000; text-decoration-color: #800000\"> 94</span> │\n",
       "│ <span style=\"color: #800000; text-decoration-color: #800000\"> 54 </span><span style=\"color: #008000; text-decoration-color: #008000\"> 84  92 </span><span style=\"color: #800000; text-decoration-color: #800000\"> 99  38</span> │\n",
       "│ <span style=\"color: #800000; text-decoration-color: #800000\"> 76 </span><span style=\"color: #008000; text-decoration-color: #008000\"> 68  79  53 </span><span style=\"color: #800000; text-decoration-color: #800000\"> 37</span> │\n",
       "╰─────────────────────╯\n",
       "</pre>\n"
      ],
      "text/plain": [
       "╭──── BingoBoard ─────╮\n",
       "│ \u001b[31m  5 \u001b[0m\u001b[32m 75 \u001b[0m\u001b[31m 18 \u001b[0m\u001b[32m 42 \u001b[0m\u001b[31m 33\u001b[0m │\n",
       "│ \u001b[31m 72 \u001b[0m\u001b[32m 61 \u001b[0m\u001b[32m 36 \u001b[0m\u001b[32m 31 \u001b[0m\u001b[31m 29\u001b[0m │\n",
       "│ \u001b[31m 19 \u001b[0m\u001b[32m 58 \u001b[0m\u001b[31m  1 \u001b[0m\u001b[32m 34 \u001b[0m\u001b[31m 94\u001b[0m │\n",
       "│ \u001b[31m 54 \u001b[0m\u001b[32m 84 \u001b[0m\u001b[32m 92 \u001b[0m\u001b[31m 99 \u001b[0m\u001b[31m 38\u001b[0m │\n",
       "│ \u001b[31m 76 \u001b[0m\u001b[32m 68 \u001b[0m\u001b[32m 79 \u001b[0m\u001b[32m 53 \u001b[0m\u001b[31m 37\u001b[0m │\n",
       "╰─────────────────────╯\n"
      ]
     },
     "metadata": {},
     "output_type": "display_data"
    },
    {
     "data": {
      "text/html": [
       "<pre style=\"white-space:pre;overflow-x:auto;line-height:normal;font-family:Menlo,'DejaVu Sans Mono',consolas,'Courier New',monospace\">Calling <span style=\"color: #008080; text-decoration-color: #008080; font-weight: bold\">3</span>\n",
       "</pre>\n"
      ],
      "text/plain": [
       "Calling \u001b[1;36m3\u001b[0m\n"
      ]
     },
     "metadata": {},
     "output_type": "display_data"
    },
    {
     "data": {
      "text/html": [
       "<pre style=\"white-space:pre;overflow-x:auto;line-height:normal;font-family:Menlo,'DejaVu Sans Mono',consolas,'Courier New',monospace\">╭──── BingoBoard ─────╮\n",
       "│ <span style=\"color: #800000; text-decoration-color: #800000\"> 96 </span><span style=\"color: #008000; text-decoration-color: #008000\"> 86  67  59  79</span> │\n",
       "│ <span style=\"color: #008000; text-decoration-color: #008000\"> 66 </span><span style=\"color: #800000; text-decoration-color: #800000\">  3  30  77  71</span> │\n",
       "│ <span style=\"color: #800000; text-decoration-color: #800000\">  2 </span><span style=\"color: #008000; text-decoration-color: #008000\"> 91 </span><span style=\"color: #800000; text-decoration-color: #800000\"> 99 </span><span style=\"color: #008000; text-decoration-color: #008000\"> 82  31</span> │\n",
       "│ <span style=\"color: #008000; text-decoration-color: #008000\"> 48 </span><span style=\"color: #800000; text-decoration-color: #800000\"> 65 </span><span style=\"color: #008000; text-decoration-color: #008000\"> 75  98  53</span> │\n",
       "│ <span style=\"color: #008000; text-decoration-color: #008000\"> 63  54  64 </span><span style=\"color: #800000; text-decoration-color: #800000\"> 76   1</span> │\n",
       "╰─────────────────────╯\n",
       "</pre>\n"
      ],
      "text/plain": [
       "╭──── BingoBoard ─────╮\n",
       "│ \u001b[31m 96 \u001b[0m\u001b[32m 86 \u001b[0m\u001b[32m 67 \u001b[0m\u001b[32m 59 \u001b[0m\u001b[32m 79\u001b[0m │\n",
       "│ \u001b[32m 66 \u001b[0m\u001b[31m  3 \u001b[0m\u001b[31m 30 \u001b[0m\u001b[31m 77 \u001b[0m\u001b[31m 71\u001b[0m │\n",
       "│ \u001b[31m  2 \u001b[0m\u001b[32m 91 \u001b[0m\u001b[31m 99 \u001b[0m\u001b[32m 82 \u001b[0m\u001b[32m 31\u001b[0m │\n",
       "│ \u001b[32m 48 \u001b[0m\u001b[31m 65 \u001b[0m\u001b[32m 75 \u001b[0m\u001b[32m 98 \u001b[0m\u001b[32m 53\u001b[0m │\n",
       "│ \u001b[32m 63 \u001b[0m\u001b[32m 54 \u001b[0m\u001b[32m 64 \u001b[0m\u001b[31m 76 \u001b[0m\u001b[31m  1\u001b[0m │\n",
       "╰─────────────────────╯\n"
      ]
     },
     "metadata": {},
     "output_type": "display_data"
    },
    {
     "data": {
      "text/html": [
       "<pre style=\"white-space:pre;overflow-x:auto;line-height:normal;font-family:Menlo,'DejaVu Sans Mono',consolas,'Courier New',monospace\">╭──── BingoBoard ─────╮\n",
       "│ <span style=\"color: #800000; text-decoration-color: #800000\"> 96   0  15 </span><span style=\"color: #008000; text-decoration-color: #008000\"> 90 </span><span style=\"color: #800000; text-decoration-color: #800000\"> 66</span> │\n",
       "│ <span style=\"color: #800000; text-decoration-color: #800000\"> 65 </span><span style=\"color: #008000; text-decoration-color: #008000\"> 43  92  83 </span><span style=\"color: #800000; text-decoration-color: #800000\"> 18</span> │\n",
       "│ <span style=\"color: #800000; text-decoration-color: #800000\">  3 </span><span style=\"color: #008000; text-decoration-color: #008000\"> 47  19   8  32</span> │\n",
       "│ <span style=\"color: #008000; text-decoration-color: #008000\"> 71  26  42  34  28</span> │\n",
       "│ <span style=\"color: #008000; text-decoration-color: #008000\"> 62 </span><span style=\"color: #800000; text-decoration-color: #800000\"> 99 </span><span style=\"color: #008000; text-decoration-color: #008000\"> 55 </span><span style=\"color: #800000; text-decoration-color: #800000\">  5 </span><span style=\"color: #008000; text-decoration-color: #008000\"> 12</span> │\n",
       "╰─────────────────────╯\n",
       "</pre>\n"
      ],
      "text/plain": [
       "╭──── BingoBoard ─────╮\n",
       "│ \u001b[31m 96 \u001b[0m\u001b[31m  0 \u001b[0m\u001b[31m 15 \u001b[0m\u001b[32m 90 \u001b[0m\u001b[31m 66\u001b[0m │\n",
       "│ \u001b[31m 65 \u001b[0m\u001b[32m 43 \u001b[0m\u001b[32m 92 \u001b[0m\u001b[32m 83 \u001b[0m\u001b[31m 18\u001b[0m │\n",
       "│ \u001b[31m  3 \u001b[0m\u001b[32m 47 \u001b[0m\u001b[32m 19 \u001b[0m\u001b[32m  8 \u001b[0m\u001b[32m 32\u001b[0m │\n",
       "│ \u001b[32m 71 \u001b[0m\u001b[32m 26 \u001b[0m\u001b[32m 42 \u001b[0m\u001b[32m 34 \u001b[0m\u001b[32m 28\u001b[0m │\n",
       "│ \u001b[32m 62 \u001b[0m\u001b[31m 99 \u001b[0m\u001b[32m 55 \u001b[0m\u001b[31m  5 \u001b[0m\u001b[32m 12\u001b[0m │\n",
       "╰─────────────────────╯\n"
      ]
     },
     "metadata": {},
     "output_type": "display_data"
    },
    {
     "data": {
      "text/html": [
       "<pre style=\"white-space:pre;overflow-x:auto;line-height:normal;font-family:Menlo,'DejaVu Sans Mono',consolas,'Courier New',monospace\">╭──── BingoBoard ─────╮\n",
       "│ <span style=\"color: #800000; text-decoration-color: #800000\"> 37  99  30  21   3</span> │\n",
       "│ <span style=\"color: #008000; text-decoration-color: #008000\"> 63 </span><span style=\"color: #800000; text-decoration-color: #800000\"> 18 </span><span style=\"color: #008000; text-decoration-color: #008000\"> 68  47 </span><span style=\"color: #800000; text-decoration-color: #800000\"> 27</span> │\n",
       "│ <span style=\"color: #800000; text-decoration-color: #800000\"> 57   0  65 </span><span style=\"color: #008000; text-decoration-color: #008000\"> 85  20</span> │\n",
       "│ <span style=\"color: #008000; text-decoration-color: #008000\">  7  58  40  92  43</span> │\n",
       "│ <span style=\"color: #008000; text-decoration-color: #008000\"> 15  19 </span><span style=\"color: #800000; text-decoration-color: #800000\">  5   4 </span><span style=\"color: #008000; text-decoration-color: #008000\"> 53</span> │\n",
       "╰─────────────────────╯\n",
       "</pre>\n"
      ],
      "text/plain": [
       "╭──── BingoBoard ─────╮\n",
       "│ \u001b[31m 37 \u001b[0m\u001b[31m 99 \u001b[0m\u001b[31m 30 \u001b[0m\u001b[31m 21 \u001b[0m\u001b[31m  3\u001b[0m │\n",
       "│ \u001b[32m 63 \u001b[0m\u001b[31m 18 \u001b[0m\u001b[32m 68 \u001b[0m\u001b[32m 47 \u001b[0m\u001b[31m 27\u001b[0m │\n",
       "│ \u001b[31m 57 \u001b[0m\u001b[31m  0 \u001b[0m\u001b[31m 65 \u001b[0m\u001b[32m 85 \u001b[0m\u001b[32m 20\u001b[0m │\n",
       "│ \u001b[32m  7 \u001b[0m\u001b[32m 58 \u001b[0m\u001b[32m 40 \u001b[0m\u001b[32m 92 \u001b[0m\u001b[32m 43\u001b[0m │\n",
       "│ \u001b[32m 15 \u001b[0m\u001b[32m 19 \u001b[0m\u001b[31m  5 \u001b[0m\u001b[31m  4 \u001b[0m\u001b[32m 53\u001b[0m │\n",
       "╰─────────────────────╯\n"
      ]
     },
     "metadata": {},
     "output_type": "display_data"
    },
    {
     "data": {
      "text/html": [
       "<pre style=\"white-space:pre;overflow-x:auto;line-height:normal;font-family:Menlo,'DejaVu Sans Mono',consolas,'Courier New',monospace\">Calling <span style=\"color: #008080; text-decoration-color: #008080; font-weight: bold\">52</span>\n",
       "</pre>\n"
      ],
      "text/plain": [
       "Calling \u001b[1;36m52\u001b[0m\n"
      ]
     },
     "metadata": {},
     "output_type": "display_data"
    },
    {
     "data": {
      "text/html": [
       "<pre style=\"white-space:pre;overflow-x:auto;line-height:normal;font-family:Menlo,'DejaVu Sans Mono',consolas,'Courier New',monospace\">Calling <span style=\"color: #008080; text-decoration-color: #008080; font-weight: bold\">32</span>\n",
       "</pre>\n"
      ],
      "text/plain": [
       "Calling \u001b[1;36m32\u001b[0m\n"
      ]
     },
     "metadata": {},
     "output_type": "display_data"
    },
    {
     "data": {
      "text/html": [
       "<pre style=\"white-space:pre;overflow-x:auto;line-height:normal;font-family:Menlo,'DejaVu Sans Mono',consolas,'Courier New',monospace\">╭──── BingoBoard ─────╮\n",
       "│ <span style=\"color: #008000; text-decoration-color: #008000\"> 79 </span><span style=\"color: #800000; text-decoration-color: #800000\"> 14 </span><span style=\"color: #008000; text-decoration-color: #008000\"> 40 </span><span style=\"color: #800000; text-decoration-color: #800000\"> 87 </span><span style=\"color: #008000; text-decoration-color: #008000\"> 68</span> │\n",
       "│ <span style=\"color: #008000; text-decoration-color: #008000\"> 16 </span><span style=\"color: #800000; text-decoration-color: #800000\"> 32 </span><span style=\"color: #008000; text-decoration-color: #008000\"> 53  46  98</span> │\n",
       "│ <span style=\"color: #008000; text-decoration-color: #008000\"> 38 </span><span style=\"color: #800000; text-decoration-color: #800000\"> 95  21  89 </span><span style=\"color: #008000; text-decoration-color: #008000\"> 69</span> │\n",
       "│ <span style=\"color: #008000; text-decoration-color: #008000\"> 62 </span><span style=\"color: #800000; text-decoration-color: #800000\"> 60 </span><span style=\"color: #008000; text-decoration-color: #008000\"> 19  81 </span><span style=\"color: #800000; text-decoration-color: #800000\"> 33</span> │\n",
       "│ <span style=\"color: #800000; text-decoration-color: #800000\"> 70  52 </span><span style=\"color: #008000; text-decoration-color: #008000\"> 28  83 </span><span style=\"color: #800000; text-decoration-color: #800000\">  0</span> │\n",
       "╰─────────────────────╯\n",
       "</pre>\n"
      ],
      "text/plain": [
       "╭──── BingoBoard ─────╮\n",
       "│ \u001b[32m 79 \u001b[0m\u001b[31m 14 \u001b[0m\u001b[32m 40 \u001b[0m\u001b[31m 87 \u001b[0m\u001b[32m 68\u001b[0m │\n",
       "│ \u001b[32m 16 \u001b[0m\u001b[31m 32 \u001b[0m\u001b[32m 53 \u001b[0m\u001b[32m 46 \u001b[0m\u001b[32m 98\u001b[0m │\n",
       "│ \u001b[32m 38 \u001b[0m\u001b[31m 95 \u001b[0m\u001b[31m 21 \u001b[0m\u001b[31m 89 \u001b[0m\u001b[32m 69\u001b[0m │\n",
       "│ \u001b[32m 62 \u001b[0m\u001b[31m 60 \u001b[0m\u001b[32m 19 \u001b[0m\u001b[32m 81 \u001b[0m\u001b[31m 33\u001b[0m │\n",
       "│ \u001b[31m 70 \u001b[0m\u001b[31m 52 \u001b[0m\u001b[32m 28 \u001b[0m\u001b[32m 83 \u001b[0m\u001b[31m  0\u001b[0m │\n",
       "╰─────────────────────╯\n"
      ]
     },
     "metadata": {},
     "output_type": "display_data"
    },
    {
     "data": {
      "text/html": [
       "<pre style=\"white-space:pre;overflow-x:auto;line-height:normal;font-family:Menlo,'DejaVu Sans Mono',consolas,'Courier New',monospace\">Calling <span style=\"color: #008080; text-decoration-color: #008080; font-weight: bold\">46</span>\n",
       "</pre>\n"
      ],
      "text/plain": [
       "Calling \u001b[1;36m46\u001b[0m\n"
      ]
     },
     "metadata": {},
     "output_type": "display_data"
    },
    {
     "data": {
      "text/html": [
       "<pre style=\"white-space:pre;overflow-x:auto;line-height:normal;font-family:Menlo,'DejaVu Sans Mono',consolas,'Courier New',monospace\">╭──── BingoBoard ─────╮\n",
       "│ <span style=\"color: #008000; text-decoration-color: #008000\"> 67 </span><span style=\"color: #800000; text-decoration-color: #800000\"> 99 </span><span style=\"color: #008000; text-decoration-color: #008000\"> 24  58 </span><span style=\"color: #800000; text-decoration-color: #800000\"> 76</span> │\n",
       "│ <span style=\"color: #800000; text-decoration-color: #800000\"> 43 </span><span style=\"color: #008000; text-decoration-color: #008000\"> 53  59  54  51</span> │\n",
       "│ <span style=\"color: #008000; text-decoration-color: #008000\"> 47   6  61   8 </span><span style=\"color: #800000; text-decoration-color: #800000\">  2</span> │\n",
       "│ <span style=\"color: #800000; text-decoration-color: #800000\"> 80 </span><span style=\"color: #008000; text-decoration-color: #008000\"> 68  90 </span><span style=\"color: #800000; text-decoration-color: #800000\"> 14   4</span> │\n",
       "│ <span style=\"color: #800000; text-decoration-color: #800000\"> 29  46  94  89  50</span> │\n",
       "╰─────────────────────╯\n",
       "</pre>\n"
      ],
      "text/plain": [
       "╭──── BingoBoard ─────╮\n",
       "│ \u001b[32m 67 \u001b[0m\u001b[31m 99 \u001b[0m\u001b[32m 24 \u001b[0m\u001b[32m 58 \u001b[0m\u001b[31m 76\u001b[0m │\n",
       "│ \u001b[31m 43 \u001b[0m\u001b[32m 53 \u001b[0m\u001b[32m 59 \u001b[0m\u001b[32m 54 \u001b[0m\u001b[32m 51\u001b[0m │\n",
       "│ \u001b[32m 47 \u001b[0m\u001b[32m  6 \u001b[0m\u001b[32m 61 \u001b[0m\u001b[32m  8 \u001b[0m\u001b[31m  2\u001b[0m │\n",
       "│ \u001b[31m 80 \u001b[0m\u001b[32m 68 \u001b[0m\u001b[32m 90 \u001b[0m\u001b[31m 14 \u001b[0m\u001b[31m  4\u001b[0m │\n",
       "│ \u001b[31m 29 \u001b[0m\u001b[31m 46 \u001b[0m\u001b[31m 94 \u001b[0m\u001b[31m 89 \u001b[0m\u001b[31m 50\u001b[0m │\n",
       "╰─────────────────────╯\n"
      ]
     },
     "metadata": {},
     "output_type": "display_data"
    },
    {
     "data": {
      "text/html": [
       "<pre style=\"white-space:pre;overflow-x:auto;line-height:normal;font-family:Menlo,'DejaVu Sans Mono',consolas,'Courier New',monospace\">╭──── BingoBoard ─────╮\n",
       "│ <span style=\"color: #008000; text-decoration-color: #008000\"> 88  57  22 </span><span style=\"color: #800000; text-decoration-color: #800000\"> 66 </span><span style=\"color: #008000; text-decoration-color: #008000\"> 34</span> │\n",
       "│ <span style=\"color: #008000; text-decoration-color: #008000\"> 85 </span><span style=\"color: #800000; text-decoration-color: #800000\"> 16  87  95 </span><span style=\"color: #008000; text-decoration-color: #008000\"> 59</span> │\n",
       "│ <span style=\"color: #008000; text-decoration-color: #008000\"> 73 </span><span style=\"color: #800000; text-decoration-color: #800000\">  2  46   5  29</span> │\n",
       "│ <span style=\"color: #800000; text-decoration-color: #800000\"> 25 </span><span style=\"color: #008000; text-decoration-color: #008000\"> 69  53   6 </span><span style=\"color: #800000; text-decoration-color: #800000\"> 14</span> │\n",
       "│ <span style=\"color: #800000; text-decoration-color: #800000\"> 96  77 </span><span style=\"color: #008000; text-decoration-color: #008000\"> 19  91  43</span> │\n",
       "╰─────────────────────╯\n",
       "</pre>\n"
      ],
      "text/plain": [
       "╭──── BingoBoard ─────╮\n",
       "│ \u001b[32m 88 \u001b[0m\u001b[32m 57 \u001b[0m\u001b[32m 22 \u001b[0m\u001b[31m 66 \u001b[0m\u001b[32m 34\u001b[0m │\n",
       "│ \u001b[32m 85 \u001b[0m\u001b[31m 16 \u001b[0m\u001b[31m 87 \u001b[0m\u001b[31m 95 \u001b[0m\u001b[32m 59\u001b[0m │\n",
       "│ \u001b[32m 73 \u001b[0m\u001b[31m  2 \u001b[0m\u001b[31m 46 \u001b[0m\u001b[31m  5 \u001b[0m\u001b[31m 29\u001b[0m │\n",
       "│ \u001b[31m 25 \u001b[0m\u001b[32m 69 \u001b[0m\u001b[32m 53 \u001b[0m\u001b[32m  6 \u001b[0m\u001b[31m 14\u001b[0m │\n",
       "│ \u001b[31m 96 \u001b[0m\u001b[31m 77 \u001b[0m\u001b[32m 19 \u001b[0m\u001b[32m 91 \u001b[0m\u001b[32m 43\u001b[0m │\n",
       "╰─────────────────────╯\n"
      ]
     },
     "metadata": {},
     "output_type": "display_data"
    },
    {
     "data": {
      "text/html": [
       "<pre style=\"white-space:pre;overflow-x:auto;line-height:normal;font-family:Menlo,'DejaVu Sans Mono',consolas,'Courier New',monospace\">╭──── BingoBoard ─────╮\n",
       "│ <span style=\"color: #008000; text-decoration-color: #008000\"> 79  80  24 </span><span style=\"color: #800000; text-decoration-color: #800000\"> 37 </span><span style=\"color: #008000; text-decoration-color: #008000\"> 51</span> │\n",
       "│ <span style=\"color: #008000; text-decoration-color: #008000\"> 86  70 </span><span style=\"color: #800000; text-decoration-color: #800000\">  1 </span><span style=\"color: #008000; text-decoration-color: #008000\"> 22 </span><span style=\"color: #800000; text-decoration-color: #800000\"> 71</span> │\n",
       "│ <span style=\"color: #800000; text-decoration-color: #800000\"> 52 </span><span style=\"color: #008000; text-decoration-color: #008000\"> 69  10  83  13</span> │\n",
       "│ <span style=\"color: #008000; text-decoration-color: #008000\"> 12  40 </span><span style=\"color: #800000; text-decoration-color: #800000\">  3   0  30</span> │\n",
       "│ <span style=\"color: #800000; text-decoration-color: #800000\"> 46  50  48  76   5</span> │\n",
       "╰─────────────────────╯\n",
       "</pre>\n"
      ],
      "text/plain": [
       "╭──── BingoBoard ─────╮\n",
       "│ \u001b[32m 79 \u001b[0m\u001b[32m 80 \u001b[0m\u001b[32m 24 \u001b[0m\u001b[31m 37 \u001b[0m\u001b[32m 51\u001b[0m │\n",
       "│ \u001b[32m 86 \u001b[0m\u001b[32m 70 \u001b[0m\u001b[31m  1 \u001b[0m\u001b[32m 22 \u001b[0m\u001b[31m 71\u001b[0m │\n",
       "│ \u001b[31m 52 \u001b[0m\u001b[32m 69 \u001b[0m\u001b[32m 10 \u001b[0m\u001b[32m 83 \u001b[0m\u001b[32m 13\u001b[0m │\n",
       "│ \u001b[32m 12 \u001b[0m\u001b[32m 40 \u001b[0m\u001b[31m  3 \u001b[0m\u001b[31m  0 \u001b[0m\u001b[31m 30\u001b[0m │\n",
       "│ \u001b[31m 46 \u001b[0m\u001b[31m 50 \u001b[0m\u001b[31m 48 \u001b[0m\u001b[31m 76 \u001b[0m\u001b[31m  5\u001b[0m │\n",
       "╰─────────────────────╯\n"
      ]
     },
     "metadata": {},
     "output_type": "display_data"
    },
    {
     "data": {
      "text/html": [
       "<pre style=\"white-space:pre;overflow-x:auto;line-height:normal;font-family:Menlo,'DejaVu Sans Mono',consolas,'Courier New',monospace\">Calling <span style=\"color: #008080; text-decoration-color: #008080; font-weight: bold\">80</span>\n",
       "</pre>\n"
      ],
      "text/plain": [
       "Calling \u001b[1;36m80\u001b[0m\n"
      ]
     },
     "metadata": {},
     "output_type": "display_data"
    },
    {
     "data": {
      "text/html": [
       "<pre style=\"white-space:pre;overflow-x:auto;line-height:normal;font-family:Menlo,'DejaVu Sans Mono',consolas,'Courier New',monospace\">Calling <span style=\"color: #008080; text-decoration-color: #008080; font-weight: bold\">98</span>\n",
       "</pre>\n"
      ],
      "text/plain": [
       "Calling \u001b[1;36m98\u001b[0m\n"
      ]
     },
     "metadata": {},
     "output_type": "display_data"
    },
    {
     "data": {
      "text/html": [
       "<pre style=\"white-space:pre;overflow-x:auto;line-height:normal;font-family:Menlo,'DejaVu Sans Mono',consolas,'Courier New',monospace\">Calling <span style=\"color: #008080; text-decoration-color: #008080; font-weight: bold\">63</span>\n",
       "</pre>\n"
      ],
      "text/plain": [
       "Calling \u001b[1;36m63\u001b[0m\n"
      ]
     },
     "metadata": {},
     "output_type": "display_data"
    },
    {
     "data": {
      "text/html": [
       "<pre style=\"white-space:pre;overflow-x:auto;line-height:normal;font-family:Menlo,'DejaVu Sans Mono',consolas,'Courier New',monospace\">╭──── BingoBoard ─────╮\n",
       "│ <span style=\"color: #008000; text-decoration-color: #008000\"> 78 </span><span style=\"color: #800000; text-decoration-color: #800000\">  1  16 </span><span style=\"color: #008000; text-decoration-color: #008000\"> 51 </span><span style=\"color: #800000; text-decoration-color: #800000\"> 87</span> │\n",
       "│ <span style=\"color: #800000; text-decoration-color: #800000\"> 58  94 </span><span style=\"color: #008000; text-decoration-color: #008000\"> 59 </span><span style=\"color: #800000; text-decoration-color: #800000\"> 15 </span><span style=\"color: #008000; text-decoration-color: #008000\"> 43</span> │\n",
       "│ <span style=\"color: #008000; text-decoration-color: #008000\"> 79 </span><span style=\"color: #800000; text-decoration-color: #800000\"> 41  50 </span><span style=\"color: #008000; text-decoration-color: #008000\"> 47  39</span> │\n",
       "│ <span style=\"color: #008000; text-decoration-color: #008000\"> 53 </span><span style=\"color: #800000; text-decoration-color: #800000\"> 37 </span><span style=\"color: #008000; text-decoration-color: #008000\">  9  28  72</span> │\n",
       "│ <span style=\"color: #008000; text-decoration-color: #008000\"> 34 </span><span style=\"color: #800000; text-decoration-color: #800000\"> 63  89 </span><span style=\"color: #008000; text-decoration-color: #008000\"> 35 </span><span style=\"color: #800000; text-decoration-color: #800000\"> 18</span> │\n",
       "╰─────────────────────╯\n",
       "</pre>\n"
      ],
      "text/plain": [
       "╭──── BingoBoard ─────╮\n",
       "│ \u001b[32m 78 \u001b[0m\u001b[31m  1 \u001b[0m\u001b[31m 16 \u001b[0m\u001b[32m 51 \u001b[0m\u001b[31m 87\u001b[0m │\n",
       "│ \u001b[31m 58 \u001b[0m\u001b[31m 94 \u001b[0m\u001b[32m 59 \u001b[0m\u001b[31m 15 \u001b[0m\u001b[32m 43\u001b[0m │\n",
       "│ \u001b[32m 79 \u001b[0m\u001b[31m 41 \u001b[0m\u001b[31m 50 \u001b[0m\u001b[32m 47 \u001b[0m\u001b[32m 39\u001b[0m │\n",
       "│ \u001b[32m 53 \u001b[0m\u001b[31m 37 \u001b[0m\u001b[32m  9 \u001b[0m\u001b[32m 28 \u001b[0m\u001b[32m 72\u001b[0m │\n",
       "│ \u001b[32m 34 \u001b[0m\u001b[31m 63 \u001b[0m\u001b[31m 89 \u001b[0m\u001b[32m 35 \u001b[0m\u001b[31m 18\u001b[0m │\n",
       "╰─────────────────────╯\n"
      ]
     },
     "metadata": {},
     "output_type": "display_data"
    },
    {
     "data": {
      "text/html": [
       "<pre style=\"white-space:pre;overflow-x:auto;line-height:normal;font-family:Menlo,'DejaVu Sans Mono',consolas,'Courier New',monospace\">╭──── BingoBoard ─────╮\n",
       "│ <span style=\"color: #800000; text-decoration-color: #800000\"> 95  14 </span><span style=\"color: #008000; text-decoration-color: #008000\"> 17 </span><span style=\"color: #800000; text-decoration-color: #800000\"> 27 </span><span style=\"color: #008000; text-decoration-color: #008000\"> 42</span> │\n",
       "│ <span style=\"color: #008000; text-decoration-color: #008000\"> 55  43  57 </span><span style=\"color: #800000; text-decoration-color: #800000\"> 29  25</span> │\n",
       "│ <span style=\"color: #800000; text-decoration-color: #800000\"> 34  73 </span><span style=\"color: #008000; text-decoration-color: #008000\"> 86 </span><span style=\"color: #800000; text-decoration-color: #800000\"> 50  16</span> │\n",
       "│ <span style=\"color: #800000; text-decoration-color: #800000\"> 69  37 </span><span style=\"color: #008000; text-decoration-color: #008000\"> 75 </span><span style=\"color: #800000; text-decoration-color: #800000\"> 63 </span><span style=\"color: #008000; text-decoration-color: #008000\"> 39</span> │\n",
       "│ <span style=\"color: #008000; text-decoration-color: #008000\"> 78  79 </span><span style=\"color: #800000; text-decoration-color: #800000\">  3   4  30</span> │\n",
       "╰─────────────────────╯\n",
       "</pre>\n"
      ],
      "text/plain": [
       "╭──── BingoBoard ─────╮\n",
       "│ \u001b[31m 95 \u001b[0m\u001b[31m 14 \u001b[0m\u001b[32m 17 \u001b[0m\u001b[31m 27 \u001b[0m\u001b[32m 42\u001b[0m │\n",
       "│ \u001b[32m 55 \u001b[0m\u001b[32m 43 \u001b[0m\u001b[32m 57 \u001b[0m\u001b[31m 29 \u001b[0m\u001b[31m 25\u001b[0m │\n",
       "│ \u001b[31m 34 \u001b[0m\u001b[31m 73 \u001b[0m\u001b[32m 86 \u001b[0m\u001b[31m 50 \u001b[0m\u001b[31m 16\u001b[0m │\n",
       "│ \u001b[31m 69 \u001b[0m\u001b[31m 37 \u001b[0m\u001b[32m 75 \u001b[0m\u001b[31m 63 \u001b[0m\u001b[32m 39\u001b[0m │\n",
       "│ \u001b[32m 78 \u001b[0m\u001b[32m 79 \u001b[0m\u001b[31m  3 \u001b[0m\u001b[31m  4 \u001b[0m\u001b[31m 30\u001b[0m │\n",
       "╰─────────────────────╯\n"
      ]
     },
     "metadata": {},
     "output_type": "display_data"
    },
    {
     "data": {
      "text/html": [
       "<pre style=\"white-space:pre;overflow-x:auto;line-height:normal;font-family:Menlo,'DejaVu Sans Mono',consolas,'Courier New',monospace\">Calling <span style=\"color: #008080; text-decoration-color: #008080; font-weight: bold\">92</span>\n",
       "</pre>\n"
      ],
      "text/plain": [
       "Calling \u001b[1;36m92\u001b[0m\n"
      ]
     },
     "metadata": {},
     "output_type": "display_data"
    },
    {
     "data": {
      "text/html": [
       "<pre style=\"white-space:pre;overflow-x:auto;line-height:normal;font-family:Menlo,'DejaVu Sans Mono',consolas,'Courier New',monospace\">Calling <span style=\"color: #008080; text-decoration-color: #008080; font-weight: bold\">24</span>\n",
       "</pre>\n"
      ],
      "text/plain": [
       "Calling \u001b[1;36m24\u001b[0m\n"
      ]
     },
     "metadata": {},
     "output_type": "display_data"
    },
    {
     "data": {
      "text/html": [
       "<pre style=\"white-space:pre;overflow-x:auto;line-height:normal;font-family:Menlo,'DejaVu Sans Mono',consolas,'Courier New',monospace\">╭──── BingoBoard ─────╮\n",
       "│ <span style=\"color: #800000; text-decoration-color: #800000\"> 24  65  15   1  89</span> │\n",
       "│ <span style=\"color: #800000; text-decoration-color: #800000\"> 45  60 </span><span style=\"color: #008000; text-decoration-color: #008000\"> 97  23 </span><span style=\"color: #800000; text-decoration-color: #800000\"> 14</span> │\n",
       "│ <span style=\"color: #800000; text-decoration-color: #800000\"> 84 </span><span style=\"color: #008000; text-decoration-color: #008000\"> 56  58 </span><span style=\"color: #800000; text-decoration-color: #800000\">  5 </span><span style=\"color: #008000; text-decoration-color: #008000\"> 54</span> │\n",
       "│ <span style=\"color: #008000; text-decoration-color: #008000\">  3  72  51 </span><span style=\"color: #800000; text-decoration-color: #800000\"> 46 </span><span style=\"color: #008000; text-decoration-color: #008000\"> 79</span> │\n",
       "│ <span style=\"color: #008000; text-decoration-color: #008000\"> 67  70  78  34 </span><span style=\"color: #800000; text-decoration-color: #800000\"> 77</span> │\n",
       "╰─────────────────────╯\n",
       "</pre>\n"
      ],
      "text/plain": [
       "╭──── BingoBoard ─────╮\n",
       "│ \u001b[31m 24 \u001b[0m\u001b[31m 65 \u001b[0m\u001b[31m 15 \u001b[0m\u001b[31m  1 \u001b[0m\u001b[31m 89\u001b[0m │\n",
       "│ \u001b[31m 45 \u001b[0m\u001b[31m 60 \u001b[0m\u001b[32m 97 \u001b[0m\u001b[32m 23 \u001b[0m\u001b[31m 14\u001b[0m │\n",
       "│ \u001b[31m 84 \u001b[0m\u001b[32m 56 \u001b[0m\u001b[32m 58 \u001b[0m\u001b[31m  5 \u001b[0m\u001b[32m 54\u001b[0m │\n",
       "│ \u001b[32m  3 \u001b[0m\u001b[32m 72 \u001b[0m\u001b[32m 51 \u001b[0m\u001b[31m 46 \u001b[0m\u001b[32m 79\u001b[0m │\n",
       "│ \u001b[32m 67 \u001b[0m\u001b[32m 70 \u001b[0m\u001b[32m 78 \u001b[0m\u001b[32m 34 \u001b[0m\u001b[31m 77\u001b[0m │\n",
       "╰─────────────────────╯\n"
      ]
     },
     "metadata": {},
     "output_type": "display_data"
    },
    {
     "data": {
      "text/html": [
       "<pre style=\"white-space:pre;overflow-x:auto;line-height:normal;font-family:Menlo,'DejaVu Sans Mono',consolas,'Courier New',monospace\">╭──── BingoBoard ─────╮\n",
       "│ <span style=\"color: #800000; text-decoration-color: #800000\"> 14 </span><span style=\"color: #008000; text-decoration-color: #008000\"> 55 </span><span style=\"color: #800000; text-decoration-color: #800000\"> 32  21 </span><span style=\"color: #008000; text-decoration-color: #008000\"> 31</span> │\n",
       "│ <span style=\"color: #008000; text-decoration-color: #008000\"> 88  83  23 </span><span style=\"color: #800000; text-decoration-color: #800000\"> 44   4</span> │\n",
       "│ <span style=\"color: #800000; text-decoration-color: #800000\">  1  77  45 </span><span style=\"color: #008000; text-decoration-color: #008000\"> 90  85</span> │\n",
       "│ <span style=\"color: #008000; text-decoration-color: #008000\"> 46  81  51 </span><span style=\"color: #800000; text-decoration-color: #800000\"> 27  62</span> │\n",
       "│ <span style=\"color: #800000; text-decoration-color: #800000\"> 60  24  29  18   0</span> │\n",
       "╰─────────────────────╯\n",
       "</pre>\n"
      ],
      "text/plain": [
       "╭──── BingoBoard ─────╮\n",
       "│ \u001b[31m 14 \u001b[0m\u001b[32m 55 \u001b[0m\u001b[31m 32 \u001b[0m\u001b[31m 21 \u001b[0m\u001b[32m 31\u001b[0m │\n",
       "│ \u001b[32m 88 \u001b[0m\u001b[32m 83 \u001b[0m\u001b[32m 23 \u001b[0m\u001b[31m 44 \u001b[0m\u001b[31m  4\u001b[0m │\n",
       "│ \u001b[31m  1 \u001b[0m\u001b[31m 77 \u001b[0m\u001b[31m 45 \u001b[0m\u001b[32m 90 \u001b[0m\u001b[32m 85\u001b[0m │\n",
       "│ \u001b[32m 46 \u001b[0m\u001b[32m 81 \u001b[0m\u001b[32m 51 \u001b[0m\u001b[31m 27 \u001b[0m\u001b[31m 62\u001b[0m │\n",
       "│ \u001b[31m 60 \u001b[0m\u001b[31m 24 \u001b[0m\u001b[31m 29 \u001b[0m\u001b[31m 18 \u001b[0m\u001b[31m  0\u001b[0m │\n",
       "╰─────────────────────╯\n"
      ]
     },
     "metadata": {},
     "output_type": "display_data"
    },
    {
     "data": {
      "text/html": [
       "<pre style=\"white-space:pre;overflow-x:auto;line-height:normal;font-family:Menlo,'DejaVu Sans Mono',consolas,'Courier New',monospace\">╭──── BingoBoard ─────╮\n",
       "│ <span style=\"color: #800000; text-decoration-color: #800000\"> 38 </span><span style=\"color: #008000; text-decoration-color: #008000\"> 47   7  20  35</span> │\n",
       "│ <span style=\"color: #008000; text-decoration-color: #008000\"> 45 </span><span style=\"color: #800000; text-decoration-color: #800000\"> 76  63  96  24</span> │\n",
       "│ <span style=\"color: #800000; text-decoration-color: #800000\"> 98 </span><span style=\"color: #008000; text-decoration-color: #008000\"> 53 </span><span style=\"color: #800000; text-decoration-color: #800000\">  2  87  80</span> │\n",
       "│ <span style=\"color: #800000; text-decoration-color: #800000\"> 83 </span><span style=\"color: #008000; text-decoration-color: #008000\"> 86 </span><span style=\"color: #800000; text-decoration-color: #800000\"> 92  48   1</span> │\n",
       "│ <span style=\"color: #800000; text-decoration-color: #800000\"> 73  60 </span><span style=\"color: #008000; text-decoration-color: #008000\"> 26 </span><span style=\"color: #800000; text-decoration-color: #800000\"> 94 </span><span style=\"color: #008000; text-decoration-color: #008000\">  6</span> │\n",
       "╰─────────────────────╯\n",
       "</pre>\n"
      ],
      "text/plain": [
       "╭──── BingoBoard ─────╮\n",
       "│ \u001b[31m 38 \u001b[0m\u001b[32m 47 \u001b[0m\u001b[32m  7 \u001b[0m\u001b[32m 20 \u001b[0m\u001b[32m 35\u001b[0m │\n",
       "│ \u001b[32m 45 \u001b[0m\u001b[31m 76 \u001b[0m\u001b[31m 63 \u001b[0m\u001b[31m 96 \u001b[0m\u001b[31m 24\u001b[0m │\n",
       "│ \u001b[31m 98 \u001b[0m\u001b[32m 53 \u001b[0m\u001b[31m  2 \u001b[0m\u001b[31m 87 \u001b[0m\u001b[31m 80\u001b[0m │\n",
       "│ \u001b[31m 83 \u001b[0m\u001b[32m 86 \u001b[0m\u001b[31m 92 \u001b[0m\u001b[31m 48 \u001b[0m\u001b[31m  1\u001b[0m │\n",
       "│ \u001b[31m 73 \u001b[0m\u001b[31m 60 \u001b[0m\u001b[32m 26 \u001b[0m\u001b[31m 94 \u001b[0m\u001b[32m  6\u001b[0m │\n",
       "╰─────────────────────╯\n"
      ]
     },
     "metadata": {},
     "output_type": "display_data"
    },
    {
     "data": {
      "text/html": [
       "<pre style=\"white-space:pre;overflow-x:auto;line-height:normal;font-family:Menlo,'DejaVu Sans Mono',consolas,'Courier New',monospace\">Calling <span style=\"color: #008080; text-decoration-color: #008080; font-weight: bold\">35</span>\n",
       "</pre>\n"
      ],
      "text/plain": [
       "Calling \u001b[1;36m35\u001b[0m\n"
      ]
     },
     "metadata": {},
     "output_type": "display_data"
    },
    {
     "data": {
      "text/html": [
       "<pre style=\"white-space:pre;overflow-x:auto;line-height:normal;font-family:Menlo,'DejaVu Sans Mono',consolas,'Courier New',monospace\">Calling <span style=\"color: #008080; text-decoration-color: #008080; font-weight: bold\">55</span>\n",
       "</pre>\n"
      ],
      "text/plain": [
       "Calling \u001b[1;36m55\u001b[0m\n"
      ]
     },
     "metadata": {},
     "output_type": "display_data"
    },
    {
     "data": {
      "text/html": [
       "<pre style=\"white-space:pre;overflow-x:auto;line-height:normal;font-family:Menlo,'DejaVu Sans Mono',consolas,'Courier New',monospace\">Calling <span style=\"color: #008080; text-decoration-color: #008080; font-weight: bold\">12</span>\n",
       "</pre>\n"
      ],
      "text/plain": [
       "Calling \u001b[1;36m12\u001b[0m\n"
      ]
     },
     "metadata": {},
     "output_type": "display_data"
    },
    {
     "data": {
      "text/html": [
       "<pre style=\"white-space:pre;overflow-x:auto;line-height:normal;font-family:Menlo,'DejaVu Sans Mono',consolas,'Courier New',monospace\">Calling <span style=\"color: #008080; text-decoration-color: #008080; font-weight: bold\">81</span>\n",
       "</pre>\n"
      ],
      "text/plain": [
       "Calling \u001b[1;36m81\u001b[0m\n"
      ]
     },
     "metadata": {},
     "output_type": "display_data"
    },
    {
     "data": {
      "text/html": [
       "<pre style=\"white-space:pre;overflow-x:auto;line-height:normal;font-family:Menlo,'DejaVu Sans Mono',consolas,'Courier New',monospace\">╭──── BingoBoard ─────╮\n",
       "│ <span style=\"color: #800000; text-decoration-color: #800000\"> 45  15  29  81  30</span> │\n",
       "│ <span style=\"color: #008000; text-decoration-color: #008000\"> 75 </span><span style=\"color: #800000; text-decoration-color: #800000\"> 21 </span><span style=\"color: #008000; text-decoration-color: #008000\"> 88  91  49</span> │\n",
       "│ <span style=\"color: #008000; text-decoration-color: #008000\"> 39  20 </span><span style=\"color: #800000; text-decoration-color: #800000\">  4 </span><span style=\"color: #008000; text-decoration-color: #008000\"> 17  78</span> │\n",
       "│ <span style=\"color: #008000; text-decoration-color: #008000\"> 10 </span><span style=\"color: #800000; text-decoration-color: #800000\"> 12  38 </span><span style=\"color: #008000; text-decoration-color: #008000\"> 11   7</span> │\n",
       "│ <span style=\"color: #008000; text-decoration-color: #008000\"> 98   6 </span><span style=\"color: #800000; text-decoration-color: #800000\"> 65 </span><span style=\"color: #008000; text-decoration-color: #008000\"> 69  86</span> │\n",
       "╰─────────────────────╯\n",
       "</pre>\n"
      ],
      "text/plain": [
       "╭──── BingoBoard ─────╮\n",
       "│ \u001b[31m 45 \u001b[0m\u001b[31m 15 \u001b[0m\u001b[31m 29 \u001b[0m\u001b[31m 81 \u001b[0m\u001b[31m 30\u001b[0m │\n",
       "│ \u001b[32m 75 \u001b[0m\u001b[31m 21 \u001b[0m\u001b[32m 88 \u001b[0m\u001b[32m 91 \u001b[0m\u001b[32m 49\u001b[0m │\n",
       "│ \u001b[32m 39 \u001b[0m\u001b[32m 20 \u001b[0m\u001b[31m  4 \u001b[0m\u001b[32m 17 \u001b[0m\u001b[32m 78\u001b[0m │\n",
       "│ \u001b[32m 10 \u001b[0m\u001b[31m 12 \u001b[0m\u001b[31m 38 \u001b[0m\u001b[32m 11 \u001b[0m\u001b[32m  7\u001b[0m │\n",
       "│ \u001b[32m 98 \u001b[0m\u001b[32m  6 \u001b[0m\u001b[31m 65 \u001b[0m\u001b[32m 69 \u001b[0m\u001b[32m 86\u001b[0m │\n",
       "╰─────────────────────╯\n"
      ]
     },
     "metadata": {},
     "output_type": "display_data"
    },
    {
     "data": {
      "text/html": [
       "<pre style=\"white-space:pre;overflow-x:auto;line-height:normal;font-family:Menlo,'DejaVu Sans Mono',consolas,'Courier New',monospace\">╭──── BingoBoard ─────╮\n",
       "│ <span style=\"color: #800000; text-decoration-color: #800000\"> 33 </span><span style=\"color: #008000; text-decoration-color: #008000\"> 68   9 </span><span style=\"color: #800000; text-decoration-color: #800000\"> 12  81</span> │\n",
       "│ <span style=\"color: #800000; text-decoration-color: #800000\"> 60  98 </span><span style=\"color: #008000; text-decoration-color: #008000\"> 28   8 </span><span style=\"color: #800000; text-decoration-color: #800000\"> 99</span> │\n",
       "│ <span style=\"color: #800000; text-decoration-color: #800000\"> 14 </span><span style=\"color: #008000; text-decoration-color: #008000\"> 17   6  82 </span><span style=\"color: #800000; text-decoration-color: #800000\"> 15</span> │\n",
       "│ <span style=\"color: #800000; text-decoration-color: #800000\"> 57 </span><span style=\"color: #008000; text-decoration-color: #008000\"> 69  43 </span><span style=\"color: #800000; text-decoration-color: #800000\"> 38  29</span> │\n",
       "│ <span style=\"color: #800000; text-decoration-color: #800000\"> 47 </span><span style=\"color: #008000; text-decoration-color: #008000\"> 84 </span><span style=\"color: #800000; text-decoration-color: #800000\"> 76 </span><span style=\"color: #008000; text-decoration-color: #008000\"> 22 </span><span style=\"color: #800000; text-decoration-color: #800000\"> 18</span> │\n",
       "╰─────────────────────╯\n",
       "</pre>\n"
      ],
      "text/plain": [
       "╭──── BingoBoard ─────╮\n",
       "│ \u001b[31m 33 \u001b[0m\u001b[32m 68 \u001b[0m\u001b[32m  9 \u001b[0m\u001b[31m 12 \u001b[0m\u001b[31m 81\u001b[0m │\n",
       "│ \u001b[31m 60 \u001b[0m\u001b[31m 98 \u001b[0m\u001b[32m 28 \u001b[0m\u001b[32m  8 \u001b[0m\u001b[31m 99\u001b[0m │\n",
       "│ \u001b[31m 14 \u001b[0m\u001b[32m 17 \u001b[0m\u001b[32m  6 \u001b[0m\u001b[32m 82 \u001b[0m\u001b[31m 15\u001b[0m │\n",
       "│ \u001b[31m 57 \u001b[0m\u001b[32m 69 \u001b[0m\u001b[32m 43 \u001b[0m\u001b[31m 38 \u001b[0m\u001b[31m 29\u001b[0m │\n",
       "│ \u001b[31m 47 \u001b[0m\u001b[32m 84 \u001b[0m\u001b[31m 76 \u001b[0m\u001b[32m 22 \u001b[0m\u001b[31m 18\u001b[0m │\n",
       "╰─────────────────────╯\n"
      ]
     },
     "metadata": {},
     "output_type": "display_data"
    },
    {
     "data": {
      "text/html": [
       "<pre style=\"white-space:pre;overflow-x:auto;line-height:normal;font-family:Menlo,'DejaVu Sans Mono',consolas,'Courier New',monospace\">╭──── BingoBoard ─────╮\n",
       "│ <span style=\"color: #800000; text-decoration-color: #800000\"> 24  21   0 </span><span style=\"color: #008000; text-decoration-color: #008000\"> 49 </span><span style=\"color: #800000; text-decoration-color: #800000\"> 25</span> │\n",
       "│ <span style=\"color: #800000; text-decoration-color: #800000\"> 92 </span><span style=\"color: #008000; text-decoration-color: #008000\"> 42 </span><span style=\"color: #800000; text-decoration-color: #800000\"> 48  12 </span><span style=\"color: #008000; text-decoration-color: #008000\">  7</span> │\n",
       "│ <span style=\"color: #008000; text-decoration-color: #008000\"> 81 </span><span style=\"color: #800000; text-decoration-color: #800000\"> 93 </span><span style=\"color: #008000; text-decoration-color: #008000\"> 59  68 </span><span style=\"color: #800000; text-decoration-color: #800000\">  3</span> │\n",
       "│ <span style=\"color: #800000; text-decoration-color: #800000\"> 14 </span><span style=\"color: #008000; text-decoration-color: #008000\"> 23 </span><span style=\"color: #800000; text-decoration-color: #800000\"> 63 </span><span style=\"color: #008000; text-decoration-color: #008000\"> 39 </span><span style=\"color: #800000; text-decoration-color: #800000\"> 29</span> │\n",
       "│ <span style=\"color: #800000; text-decoration-color: #800000\"> 35 </span><span style=\"color: #008000; text-decoration-color: #008000\"> 43   6 </span><span style=\"color: #800000; text-decoration-color: #800000\"> 44  89</span> │\n",
       "╰─────────────────────╯\n",
       "</pre>\n"
      ],
      "text/plain": [
       "╭──── BingoBoard ─────╮\n",
       "│ \u001b[31m 24 \u001b[0m\u001b[31m 21 \u001b[0m\u001b[31m  0 \u001b[0m\u001b[32m 49 \u001b[0m\u001b[31m 25\u001b[0m │\n",
       "│ \u001b[31m 92 \u001b[0m\u001b[32m 42 \u001b[0m\u001b[31m 48 \u001b[0m\u001b[31m 12 \u001b[0m\u001b[32m  7\u001b[0m │\n",
       "│ \u001b[32m 81 \u001b[0m\u001b[31m 93 \u001b[0m\u001b[32m 59 \u001b[0m\u001b[32m 68 \u001b[0m\u001b[31m  3\u001b[0m │\n",
       "│ \u001b[31m 14 \u001b[0m\u001b[32m 23 \u001b[0m\u001b[31m 63 \u001b[0m\u001b[32m 39 \u001b[0m\u001b[31m 29\u001b[0m │\n",
       "│ \u001b[31m 35 \u001b[0m\u001b[32m 43 \u001b[0m\u001b[32m  6 \u001b[0m\u001b[31m 44 \u001b[0m\u001b[31m 89\u001b[0m │\n",
       "╰─────────────────────╯\n"
      ]
     },
     "metadata": {},
     "output_type": "display_data"
    },
    {
     "data": {
      "text/html": [
       "<pre style=\"white-space:pre;overflow-x:auto;line-height:normal;font-family:Menlo,'DejaVu Sans Mono',consolas,'Courier New',monospace\">╭──── BingoBoard ─────╮\n",
       "│ <span style=\"color: #800000; text-decoration-color: #800000\"> 37 </span><span style=\"color: #008000; text-decoration-color: #008000\"> 68  86 </span><span style=\"color: #800000; text-decoration-color: #800000\"> 44 </span><span style=\"color: #008000; text-decoration-color: #008000\"> 78</span> │\n",
       "│ <span style=\"color: #008000; text-decoration-color: #008000\"> 87  67 </span><span style=\"color: #800000; text-decoration-color: #800000\"> 77 </span><span style=\"color: #008000; text-decoration-color: #008000\"> 70 </span><span style=\"color: #800000; text-decoration-color: #800000\"> 60</span> │\n",
       "│ <span style=\"color: #800000; text-decoration-color: #800000\"> 45 </span><span style=\"color: #008000; text-decoration-color: #008000\"> 34 </span><span style=\"color: #800000; text-decoration-color: #800000\"> 27  15 </span><span style=\"color: #008000; text-decoration-color: #008000\"> 47</span> │\n",
       "│ <span style=\"color: #008000; text-decoration-color: #008000\"> 12 </span><span style=\"color: #800000; text-decoration-color: #800000\"> 21 </span><span style=\"color: #008000; text-decoration-color: #008000\"> 13 </span><span style=\"color: #800000; text-decoration-color: #800000\"> 55 </span><span style=\"color: #008000; text-decoration-color: #008000\"> 26</span> │\n",
       "│ <span style=\"color: #008000; text-decoration-color: #008000\"> 81 </span><span style=\"color: #800000; text-decoration-color: #800000\"> 41  63 </span><span style=\"color: #008000; text-decoration-color: #008000\"> 40  74</span> │\n",
       "╰─────────────────────╯\n",
       "</pre>\n"
      ],
      "text/plain": [
       "╭──── BingoBoard ─────╮\n",
       "│ \u001b[31m 37 \u001b[0m\u001b[32m 68 \u001b[0m\u001b[32m 86 \u001b[0m\u001b[31m 44 \u001b[0m\u001b[32m 78\u001b[0m │\n",
       "│ \u001b[32m 87 \u001b[0m\u001b[32m 67 \u001b[0m\u001b[31m 77 \u001b[0m\u001b[32m 70 \u001b[0m\u001b[31m 60\u001b[0m │\n",
       "│ \u001b[31m 45 \u001b[0m\u001b[32m 34 \u001b[0m\u001b[31m 27 \u001b[0m\u001b[31m 15 \u001b[0m\u001b[32m 47\u001b[0m │\n",
       "│ \u001b[32m 12 \u001b[0m\u001b[31m 21 \u001b[0m\u001b[32m 13 \u001b[0m\u001b[31m 55 \u001b[0m\u001b[32m 26\u001b[0m │\n",
       "│ \u001b[32m 81 \u001b[0m\u001b[31m 41 \u001b[0m\u001b[31m 63 \u001b[0m\u001b[32m 40 \u001b[0m\u001b[32m 74\u001b[0m │\n",
       "╰─────────────────────╯\n"
      ]
     },
     "metadata": {},
     "output_type": "display_data"
    },
    {
     "data": {
      "text/html": [
       "<pre style=\"white-space:pre;overflow-x:auto;line-height:normal;font-family:Menlo,'DejaVu Sans Mono',consolas,'Courier New',monospace\">╭──── BingoBoard ─────╮\n",
       "│ <span style=\"color: #800000; text-decoration-color: #800000\"> 16  73  18  81  89</span> │\n",
       "│ <span style=\"color: #008000; text-decoration-color: #008000\">  6 </span><span style=\"color: #800000; text-decoration-color: #800000\"> 48 </span><span style=\"color: #008000; text-decoration-color: #008000\"> 54 </span><span style=\"color: #800000; text-decoration-color: #800000\"> 93 </span><span style=\"color: #008000; text-decoration-color: #008000\"> 19</span> │\n",
       "│ <span style=\"color: #008000; text-decoration-color: #008000\"> 35 </span><span style=\"color: #800000; text-decoration-color: #800000\"> 52 </span><span style=\"color: #008000; text-decoration-color: #008000\"> 88  49  31</span> │\n",
       "│ <span style=\"color: #008000; text-decoration-color: #008000\"> 43  79  83 </span><span style=\"color: #800000; text-decoration-color: #800000\"> 14 </span><span style=\"color: #008000; text-decoration-color: #008000\"> 28</span> │\n",
       "│ <span style=\"color: #008000; text-decoration-color: #008000\"> 50 </span><span style=\"color: #800000; text-decoration-color: #800000\"> 62  98 </span><span style=\"color: #008000; text-decoration-color: #008000\"> 26  22</span> │\n",
       "╰─────────────────────╯\n",
       "</pre>\n"
      ],
      "text/plain": [
       "╭──── BingoBoard ─────╮\n",
       "│ \u001b[31m 16 \u001b[0m\u001b[31m 73 \u001b[0m\u001b[31m 18 \u001b[0m\u001b[31m 81 \u001b[0m\u001b[31m 89\u001b[0m │\n",
       "│ \u001b[32m  6 \u001b[0m\u001b[31m 48 \u001b[0m\u001b[32m 54 \u001b[0m\u001b[31m 93 \u001b[0m\u001b[32m 19\u001b[0m │\n",
       "│ \u001b[32m 35 \u001b[0m\u001b[31m 52 \u001b[0m\u001b[32m 88 \u001b[0m\u001b[32m 49 \u001b[0m\u001b[32m 31\u001b[0m │\n",
       "│ \u001b[32m 43 \u001b[0m\u001b[32m 79 \u001b[0m\u001b[32m 83 \u001b[0m\u001b[31m 14 \u001b[0m\u001b[32m 28\u001b[0m │\n",
       "│ \u001b[32m 50 \u001b[0m\u001b[31m 62 \u001b[0m\u001b[31m 98 \u001b[0m\u001b[32m 26 \u001b[0m\u001b[32m 22\u001b[0m │\n",
       "╰─────────────────────╯\n"
      ]
     },
     "metadata": {},
     "output_type": "display_data"
    },
    {
     "data": {
      "text/html": [
       "<pre style=\"white-space:pre;overflow-x:auto;line-height:normal;font-family:Menlo,'DejaVu Sans Mono',consolas,'Courier New',monospace\">Calling <span style=\"color: #008080; text-decoration-color: #008080; font-weight: bold\">51</span>\n",
       "</pre>\n"
      ],
      "text/plain": [
       "Calling \u001b[1;36m51\u001b[0m\n"
      ]
     },
     "metadata": {},
     "output_type": "display_data"
    },
    {
     "data": {
      "text/html": [
       "<pre style=\"white-space:pre;overflow-x:auto;line-height:normal;font-family:Menlo,'DejaVu Sans Mono',consolas,'Courier New',monospace\">╭──── BingoBoard ─────╮\n",
       "│ <span style=\"color: #800000; text-decoration-color: #800000\"> 27 </span><span style=\"color: #008000; text-decoration-color: #008000\"> 31 </span><span style=\"color: #800000; text-decoration-color: #800000\"> 15  92  46</span> │\n",
       "│ <span style=\"color: #800000; text-decoration-color: #800000\"> 36 </span><span style=\"color: #008000; text-decoration-color: #008000\"> 23  72  40 </span><span style=\"color: #800000; text-decoration-color: #800000\"> 50</span> │\n",
       "│ <span style=\"color: #800000; text-decoration-color: #800000\"> 51  99  55  89  21</span> │\n",
       "│ <span style=\"color: #800000; text-decoration-color: #800000\"> 12 </span><span style=\"color: #008000; text-decoration-color: #008000\"> 70  84 </span><span style=\"color: #800000; text-decoration-color: #800000\"> 63 </span><span style=\"color: #008000; text-decoration-color: #008000\"> 85</span> │\n",
       "│ <span style=\"color: #008000; text-decoration-color: #008000\"> 78  88 </span><span style=\"color: #800000; text-decoration-color: #800000\"> 77 </span><span style=\"color: #008000; text-decoration-color: #008000\"> 75 </span><span style=\"color: #800000; text-decoration-color: #800000\">  0</span> │\n",
       "╰─────────────────────╯\n",
       "</pre>\n"
      ],
      "text/plain": [
       "╭──── BingoBoard ─────╮\n",
       "│ \u001b[31m 27 \u001b[0m\u001b[32m 31 \u001b[0m\u001b[31m 15 \u001b[0m\u001b[31m 92 \u001b[0m\u001b[31m 46\u001b[0m │\n",
       "│ \u001b[31m 36 \u001b[0m\u001b[32m 23 \u001b[0m\u001b[32m 72 \u001b[0m\u001b[32m 40 \u001b[0m\u001b[31m 50\u001b[0m │\n",
       "│ \u001b[31m 51 \u001b[0m\u001b[31m 99 \u001b[0m\u001b[31m 55 \u001b[0m\u001b[31m 89 \u001b[0m\u001b[31m 21\u001b[0m │\n",
       "│ \u001b[31m 12 \u001b[0m\u001b[32m 70 \u001b[0m\u001b[32m 84 \u001b[0m\u001b[31m 63 \u001b[0m\u001b[32m 85\u001b[0m │\n",
       "│ \u001b[32m 78 \u001b[0m\u001b[32m 88 \u001b[0m\u001b[31m 77 \u001b[0m\u001b[32m 75 \u001b[0m\u001b[31m  0\u001b[0m │\n",
       "╰─────────────────────╯\n"
      ]
     },
     "metadata": {},
     "output_type": "display_data"
    },
    {
     "data": {
      "text/html": [
       "<pre style=\"white-space:pre;overflow-x:auto;line-height:normal;font-family:Menlo,'DejaVu Sans Mono',consolas,'Courier New',monospace\">╭──── BingoBoard ─────╮\n",
       "│ <span style=\"color: #800000; text-decoration-color: #800000\"> 80  50  29 </span><span style=\"color: #008000; text-decoration-color: #008000\"> 53 </span><span style=\"color: #800000; text-decoration-color: #800000\"> 92</span> │\n",
       "│ <span style=\"color: #800000; text-decoration-color: #800000\"> 66 </span><span style=\"color: #008000; text-decoration-color: #008000\"> 90  79 </span><span style=\"color: #800000; text-decoration-color: #800000\"> 98  46</span> │\n",
       "│ <span style=\"color: #800000; text-decoration-color: #800000\"> 40  21 </span><span style=\"color: #008000; text-decoration-color: #008000\"> 58 </span><span style=\"color: #800000; text-decoration-color: #800000\"> 38  60</span> │\n",
       "│ <span style=\"color: #800000; text-decoration-color: #800000\"> 35 </span><span style=\"color: #008000; text-decoration-color: #008000\"> 13  72  28   6</span> │\n",
       "│ <span style=\"color: #008000; text-decoration-color: #008000\"> 48 </span><span style=\"color: #800000; text-decoration-color: #800000\"> 76  51  96  12</span> │\n",
       "╰─────────────────────╯\n",
       "</pre>\n"
      ],
      "text/plain": [
       "╭──── BingoBoard ─────╮\n",
       "│ \u001b[31m 80 \u001b[0m\u001b[31m 50 \u001b[0m\u001b[31m 29 \u001b[0m\u001b[32m 53 \u001b[0m\u001b[31m 92\u001b[0m │\n",
       "│ \u001b[31m 66 \u001b[0m\u001b[32m 90 \u001b[0m\u001b[32m 79 \u001b[0m\u001b[31m 98 \u001b[0m\u001b[31m 46\u001b[0m │\n",
       "│ \u001b[31m 40 \u001b[0m\u001b[31m 21 \u001b[0m\u001b[32m 58 \u001b[0m\u001b[31m 38 \u001b[0m\u001b[31m 60\u001b[0m │\n",
       "│ \u001b[31m 35 \u001b[0m\u001b[32m 13 \u001b[0m\u001b[32m 72 \u001b[0m\u001b[32m 28 \u001b[0m\u001b[32m  6\u001b[0m │\n",
       "│ \u001b[32m 48 \u001b[0m\u001b[31m 76 \u001b[0m\u001b[31m 51 \u001b[0m\u001b[31m 96 \u001b[0m\u001b[31m 12\u001b[0m │\n",
       "╰─────────────────────╯\n"
      ]
     },
     "metadata": {},
     "output_type": "display_data"
    },
    {
     "data": {
      "text/html": [
       "<pre style=\"white-space:pre;overflow-x:auto;line-height:normal;font-family:Menlo,'DejaVu Sans Mono',consolas,'Courier New',monospace\">Calling <span style=\"color: #008080; text-decoration-color: #008080; font-weight: bold\">17</span>\n",
       "</pre>\n"
      ],
      "text/plain": [
       "Calling \u001b[1;36m17\u001b[0m\n"
      ]
     },
     "metadata": {},
     "output_type": "display_data"
    },
    {
     "data": {
      "text/html": [
       "<pre style=\"white-space:pre;overflow-x:auto;line-height:normal;font-family:Menlo,'DejaVu Sans Mono',consolas,'Courier New',monospace\">╭──── BingoBoard ─────╮\n",
       "│ <span style=\"color: #008000; text-decoration-color: #008000\"> 42 </span><span style=\"color: #800000; text-decoration-color: #800000\"> 16 </span><span style=\"color: #008000; text-decoration-color: #008000\"> 82  86 </span><span style=\"color: #800000; text-decoration-color: #800000\"> 76</span> │\n",
       "│ <span style=\"color: #800000; text-decoration-color: #800000\"> 60 </span><span style=\"color: #008000; text-decoration-color: #008000\"> 26 </span><span style=\"color: #800000; text-decoration-color: #800000\"> 27 </span><span style=\"color: #008000; text-decoration-color: #008000\"> 59 </span><span style=\"color: #800000; text-decoration-color: #800000\"> 55</span> │\n",
       "│ <span style=\"color: #800000; text-decoration-color: #800000\">  7 </span><span style=\"color: #008000; text-decoration-color: #008000\"> 53  22  78 </span><span style=\"color: #800000; text-decoration-color: #800000\">  5</span> │\n",
       "│ <span style=\"color: #800000; text-decoration-color: #800000\"> 18 </span><span style=\"color: #008000; text-decoration-color: #008000\"> 61  10 </span><span style=\"color: #800000; text-decoration-color: #800000\"> 15  17</span> │\n",
       "│ <span style=\"color: #800000; text-decoration-color: #800000\"> 28  46  14  87  77</span> │\n",
       "╰─────────────────────╯\n",
       "</pre>\n"
      ],
      "text/plain": [
       "╭──── BingoBoard ─────╮\n",
       "│ \u001b[32m 42 \u001b[0m\u001b[31m 16 \u001b[0m\u001b[32m 82 \u001b[0m\u001b[32m 86 \u001b[0m\u001b[31m 76\u001b[0m │\n",
       "│ \u001b[31m 60 \u001b[0m\u001b[32m 26 \u001b[0m\u001b[31m 27 \u001b[0m\u001b[32m 59 \u001b[0m\u001b[31m 55\u001b[0m │\n",
       "│ \u001b[31m  7 \u001b[0m\u001b[32m 53 \u001b[0m\u001b[32m 22 \u001b[0m\u001b[32m 78 \u001b[0m\u001b[31m  5\u001b[0m │\n",
       "│ \u001b[31m 18 \u001b[0m\u001b[32m 61 \u001b[0m\u001b[32m 10 \u001b[0m\u001b[31m 15 \u001b[0m\u001b[31m 17\u001b[0m │\n",
       "│ \u001b[31m 28 \u001b[0m\u001b[31m 46 \u001b[0m\u001b[31m 14 \u001b[0m\u001b[31m 87 \u001b[0m\u001b[31m 77\u001b[0m │\n",
       "╰─────────────────────╯\n"
      ]
     },
     "metadata": {},
     "output_type": "display_data"
    },
    {
     "data": {
      "text/html": [
       "<pre style=\"white-space:pre;overflow-x:auto;line-height:normal;font-family:Menlo,'DejaVu Sans Mono',consolas,'Courier New',monospace\">╭──── BingoBoard ─────╮\n",
       "│ <span style=\"color: #800000; text-decoration-color: #800000\"> 71 </span><span style=\"color: #008000; text-decoration-color: #008000\"> 26   7  11  79</span> │\n",
       "│ <span style=\"color: #008000; text-decoration-color: #008000\"> 52 </span><span style=\"color: #800000; text-decoration-color: #800000\"> 30 </span><span style=\"color: #008000; text-decoration-color: #008000\"> 47 </span><span style=\"color: #800000; text-decoration-color: #800000\">  1 </span><span style=\"color: #008000; text-decoration-color: #008000\"> 31</span> │\n",
       "│ <span style=\"color: #008000; text-decoration-color: #008000\"> 17  75 </span><span style=\"color: #800000; text-decoration-color: #800000\"> 94 </span><span style=\"color: #008000; text-decoration-color: #008000\"> 91  28</span> │\n",
       "│ <span style=\"color: #008000; text-decoration-color: #008000\"> 81 </span><span style=\"color: #800000; text-decoration-color: #800000\"> 98 </span><span style=\"color: #008000; text-decoration-color: #008000\"> 23 </span><span style=\"color: #800000; text-decoration-color: #800000\"> 55  21</span> │\n",
       "│ <span style=\"color: #800000; text-decoration-color: #800000\"> 77  15 </span><span style=\"color: #008000; text-decoration-color: #008000\"> 39 </span><span style=\"color: #800000; text-decoration-color: #800000\"> 24  16</span> │\n",
       "╰─────────────────────╯\n",
       "</pre>\n"
      ],
      "text/plain": [
       "╭──── BingoBoard ─────╮\n",
       "│ \u001b[31m 71 \u001b[0m\u001b[32m 26 \u001b[0m\u001b[32m  7 \u001b[0m\u001b[32m 11 \u001b[0m\u001b[32m 79\u001b[0m │\n",
       "│ \u001b[32m 52 \u001b[0m\u001b[31m 30 \u001b[0m\u001b[32m 47 \u001b[0m\u001b[31m  1 \u001b[0m\u001b[32m 31\u001b[0m │\n",
       "│ \u001b[32m 17 \u001b[0m\u001b[32m 75 \u001b[0m\u001b[31m 94 \u001b[0m\u001b[32m 91 \u001b[0m\u001b[32m 28\u001b[0m │\n",
       "│ \u001b[32m 81 \u001b[0m\u001b[31m 98 \u001b[0m\u001b[32m 23 \u001b[0m\u001b[31m 55 \u001b[0m\u001b[31m 21\u001b[0m │\n",
       "│ \u001b[31m 77 \u001b[0m\u001b[31m 15 \u001b[0m\u001b[32m 39 \u001b[0m\u001b[31m 24 \u001b[0m\u001b[31m 16\u001b[0m │\n",
       "╰─────────────────────╯\n"
      ]
     },
     "metadata": {},
     "output_type": "display_data"
    },
    {
     "data": {
      "text/html": [
       "<pre style=\"white-space:pre;overflow-x:auto;line-height:normal;font-family:Menlo,'DejaVu Sans Mono',consolas,'Courier New',monospace\">Calling <span style=\"color: #008080; text-decoration-color: #008080; font-weight: bold\">70</span>\n",
       "</pre>\n"
      ],
      "text/plain": [
       "Calling \u001b[1;36m70\u001b[0m\n"
      ]
     },
     "metadata": {},
     "output_type": "display_data"
    },
    {
     "data": {
      "text/html": [
       "<pre style=\"white-space:pre;overflow-x:auto;line-height:normal;font-family:Menlo,'DejaVu Sans Mono',consolas,'Courier New',monospace\">╭──── BingoBoard ─────╮\n",
       "│ <span style=\"color: #008000; text-decoration-color: #008000\"> 31  67 </span><span style=\"color: #800000; text-decoration-color: #800000\"> 70 </span><span style=\"color: #008000; text-decoration-color: #008000\"> 42  43</span> │\n",
       "│ <span style=\"color: #008000; text-decoration-color: #008000\"> 60 </span><span style=\"color: #800000; text-decoration-color: #800000\">  2  89 </span><span style=\"color: #008000; text-decoration-color: #008000\"> 49  22</span> │\n",
       "│ <span style=\"color: #008000; text-decoration-color: #008000\"> 56 </span><span style=\"color: #800000; text-decoration-color: #800000\"> 17  81  24 </span><span style=\"color: #008000; text-decoration-color: #008000\"> 74</span> │\n",
       "│ <span style=\"color: #008000; text-decoration-color: #008000\"> 20 </span><span style=\"color: #800000; text-decoration-color: #800000\"> 65   1  96  51</span> │\n",
       "│ <span style=\"color: #800000; text-decoration-color: #800000\"> 68 </span><span style=\"color: #008000; text-decoration-color: #008000\">  7 </span><span style=\"color: #800000; text-decoration-color: #800000\">  0  38  25</span> │\n",
       "╰─────────────────────╯\n",
       "</pre>\n"
      ],
      "text/plain": [
       "╭──── BingoBoard ─────╮\n",
       "│ \u001b[32m 31 \u001b[0m\u001b[32m 67 \u001b[0m\u001b[31m 70 \u001b[0m\u001b[32m 42 \u001b[0m\u001b[32m 43\u001b[0m │\n",
       "│ \u001b[32m 60 \u001b[0m\u001b[31m  2 \u001b[0m\u001b[31m 89 \u001b[0m\u001b[32m 49 \u001b[0m\u001b[32m 22\u001b[0m │\n",
       "│ \u001b[32m 56 \u001b[0m\u001b[31m 17 \u001b[0m\u001b[31m 81 \u001b[0m\u001b[31m 24 \u001b[0m\u001b[32m 74\u001b[0m │\n",
       "│ \u001b[32m 20 \u001b[0m\u001b[31m 65 \u001b[0m\u001b[31m  1 \u001b[0m\u001b[31m 96 \u001b[0m\u001b[31m 51\u001b[0m │\n",
       "│ \u001b[31m 68 \u001b[0m\u001b[32m  7 \u001b[0m\u001b[31m  0 \u001b[0m\u001b[31m 38 \u001b[0m\u001b[31m 25\u001b[0m │\n",
       "╰─────────────────────╯\n"
      ]
     },
     "metadata": {},
     "output_type": "display_data"
    },
    {
     "data": {
      "text/html": [
       "<pre style=\"white-space:pre;overflow-x:auto;line-height:normal;font-family:Menlo,'DejaVu Sans Mono',consolas,'Courier New',monospace\">╭──── BingoBoard ─────╮\n",
       "│ <span style=\"color: #800000; text-decoration-color: #800000\"> 14  45 </span><span style=\"color: #008000; text-decoration-color: #008000\"> 19 </span><span style=\"color: #800000; text-decoration-color: #800000\"> 33 </span><span style=\"color: #008000; text-decoration-color: #008000\"> 43</span> │\n",
       "│ <span style=\"color: #008000; text-decoration-color: #008000\">  6 </span><span style=\"color: #800000; text-decoration-color: #800000\"> 55   4 </span><span style=\"color: #008000; text-decoration-color: #008000\"> 31 </span><span style=\"color: #800000; text-decoration-color: #800000\"> 80</span> │\n",
       "│ <span style=\"color: #800000; text-decoration-color: #800000\"> 51   2 </span><span style=\"color: #008000; text-decoration-color: #008000\"> 69  68  61</span> │\n",
       "│ <span style=\"color: #008000; text-decoration-color: #008000\"> 71 </span><span style=\"color: #800000; text-decoration-color: #800000\"> 70 </span><span style=\"color: #008000; text-decoration-color: #008000\"> 79  91 </span><span style=\"color: #800000; text-decoration-color: #800000\"> 93</span> │\n",
       "│ <span style=\"color: #800000; text-decoration-color: #800000\"> 66  18 </span><span style=\"color: #008000; text-decoration-color: #008000\"> 54  13 </span><span style=\"color: #800000; text-decoration-color: #800000\"> 87</span> │\n",
       "╰─────────────────────╯\n",
       "</pre>\n"
      ],
      "text/plain": [
       "╭──── BingoBoard ─────╮\n",
       "│ \u001b[31m 14 \u001b[0m\u001b[31m 45 \u001b[0m\u001b[32m 19 \u001b[0m\u001b[31m 33 \u001b[0m\u001b[32m 43\u001b[0m │\n",
       "│ \u001b[32m  6 \u001b[0m\u001b[31m 55 \u001b[0m\u001b[31m  4 \u001b[0m\u001b[32m 31 \u001b[0m\u001b[31m 80\u001b[0m │\n",
       "│ \u001b[31m 51 \u001b[0m\u001b[31m  2 \u001b[0m\u001b[32m 69 \u001b[0m\u001b[32m 68 \u001b[0m\u001b[32m 61\u001b[0m │\n",
       "│ \u001b[32m 71 \u001b[0m\u001b[31m 70 \u001b[0m\u001b[32m 79 \u001b[0m\u001b[32m 91 \u001b[0m\u001b[31m 93\u001b[0m │\n",
       "│ \u001b[31m 66 \u001b[0m\u001b[31m 18 \u001b[0m\u001b[32m 54 \u001b[0m\u001b[32m 13 \u001b[0m\u001b[31m 87\u001b[0m │\n",
       "╰─────────────────────╯\n"
      ]
     },
     "metadata": {},
     "output_type": "display_data"
    },
    {
     "data": {
      "text/html": [
       "<pre style=\"white-space:pre;overflow-x:auto;line-height:normal;font-family:Menlo,'DejaVu Sans Mono',consolas,'Courier New',monospace\">Calling <span style=\"color: #008080; text-decoration-color: #008080; font-weight: bold\">78</span>\n",
       "</pre>\n"
      ],
      "text/plain": [
       "Calling \u001b[1;36m78\u001b[0m\n"
      ]
     },
     "metadata": {},
     "output_type": "display_data"
    },
    {
     "data": {
      "text/html": [
       "<pre style=\"white-space:pre;overflow-x:auto;line-height:normal;font-family:Menlo,'DejaVu Sans Mono',consolas,'Courier New',monospace\">╭──── BingoBoard ─────╮\n",
       "│ <span style=\"color: #008000; text-decoration-color: #008000\"> 85  23 </span><span style=\"color: #800000; text-decoration-color: #800000\"> 65  78  93</span> │\n",
       "│ <span style=\"color: #800000; text-decoration-color: #800000\"> 27 </span><span style=\"color: #008000; text-decoration-color: #008000\"> 53  10 </span><span style=\"color: #800000; text-decoration-color: #800000\"> 12 </span><span style=\"color: #008000; text-decoration-color: #008000\"> 26</span> │\n",
       "│ <span style=\"color: #008000; text-decoration-color: #008000\">  5  34  83 </span><span style=\"color: #800000; text-decoration-color: #800000\"> 25 </span><span style=\"color: #008000; text-decoration-color: #008000\">  6</span> │\n",
       "│ <span style=\"color: #008000; text-decoration-color: #008000\"> 56  40 </span><span style=\"color: #800000; text-decoration-color: #800000\"> 73  29 </span><span style=\"color: #008000; text-decoration-color: #008000\"> 54</span> │\n",
       "│ <span style=\"color: #008000; text-decoration-color: #008000\"> 33  68 </span><span style=\"color: #800000; text-decoration-color: #800000\"> 41  32 </span><span style=\"color: #008000; text-decoration-color: #008000\"> 82</span> │\n",
       "╰─────────────────────╯\n",
       "</pre>\n"
      ],
      "text/plain": [
       "╭──── BingoBoard ─────╮\n",
       "│ \u001b[32m 85 \u001b[0m\u001b[32m 23 \u001b[0m\u001b[31m 65 \u001b[0m\u001b[31m 78 \u001b[0m\u001b[31m 93\u001b[0m │\n",
       "│ \u001b[31m 27 \u001b[0m\u001b[32m 53 \u001b[0m\u001b[32m 10 \u001b[0m\u001b[31m 12 \u001b[0m\u001b[32m 26\u001b[0m │\n",
       "│ \u001b[32m  5 \u001b[0m\u001b[32m 34 \u001b[0m\u001b[32m 83 \u001b[0m\u001b[31m 25 \u001b[0m\u001b[32m  6\u001b[0m │\n",
       "│ \u001b[32m 56 \u001b[0m\u001b[32m 40 \u001b[0m\u001b[31m 73 \u001b[0m\u001b[31m 29 \u001b[0m\u001b[32m 54\u001b[0m │\n",
       "│ \u001b[32m 33 \u001b[0m\u001b[32m 68 \u001b[0m\u001b[31m 41 \u001b[0m\u001b[31m 32 \u001b[0m\u001b[32m 82\u001b[0m │\n",
       "╰─────────────────────╯\n"
      ]
     },
     "metadata": {},
     "output_type": "display_data"
    },
    {
     "data": {
      "text/html": [
       "<pre style=\"white-space:pre;overflow-x:auto;line-height:normal;font-family:Menlo,'DejaVu Sans Mono',consolas,'Courier New',monospace\">Calling <span style=\"color: #008080; text-decoration-color: #008080; font-weight: bold\">61</span>\n",
       "</pre>\n"
      ],
      "text/plain": [
       "Calling \u001b[1;36m61\u001b[0m\n"
      ]
     },
     "metadata": {},
     "output_type": "display_data"
    },
    {
     "data": {
      "text/html": [
       "<pre style=\"white-space:pre;overflow-x:auto;line-height:normal;font-family:Menlo,'DejaVu Sans Mono',consolas,'Courier New',monospace\">╭──── BingoBoard ─────╮\n",
       "│ <span style=\"color: #800000; text-decoration-color: #800000\"> 63 </span><span style=\"color: #008000; text-decoration-color: #008000\"> 31 </span><span style=\"color: #800000; text-decoration-color: #800000\"> 70 </span><span style=\"color: #008000; text-decoration-color: #008000\"> 19  39</span> │\n",
       "│ <span style=\"color: #008000; text-decoration-color: #008000\"> 38 </span><span style=\"color: #800000; text-decoration-color: #800000\"> 87  15 </span><span style=\"color: #008000; text-decoration-color: #008000\"> 90  75</span> │\n",
       "│ <span style=\"color: #008000; text-decoration-color: #008000\"> 61 </span><span style=\"color: #800000; text-decoration-color: #800000\"> 98 </span><span style=\"color: #008000; text-decoration-color: #008000\">  6 </span><span style=\"color: #800000; text-decoration-color: #800000\"> 29 </span><span style=\"color: #008000; text-decoration-color: #008000\"> 86</span> │\n",
       "│ <span style=\"color: #008000; text-decoration-color: #008000\"> 78 </span><span style=\"color: #800000; text-decoration-color: #800000\"> 62  32 </span><span style=\"color: #008000; text-decoration-color: #008000\"> 11 </span><span style=\"color: #800000; text-decoration-color: #800000\"> 60</span> │\n",
       "│ <span style=\"color: #800000; text-decoration-color: #800000\"> 55 </span><span style=\"color: #008000; text-decoration-color: #008000\"> 97  13 </span><span style=\"color: #800000; text-decoration-color: #800000\"> 73 </span><span style=\"color: #008000; text-decoration-color: #008000\"> 82</span> │\n",
       "╰─────────────────────╯\n",
       "</pre>\n"
      ],
      "text/plain": [
       "╭──── BingoBoard ─────╮\n",
       "│ \u001b[31m 63 \u001b[0m\u001b[32m 31 \u001b[0m\u001b[31m 70 \u001b[0m\u001b[32m 19 \u001b[0m\u001b[32m 39\u001b[0m │\n",
       "│ \u001b[32m 38 \u001b[0m\u001b[31m 87 \u001b[0m\u001b[31m 15 \u001b[0m\u001b[32m 90 \u001b[0m\u001b[32m 75\u001b[0m │\n",
       "│ \u001b[32m 61 \u001b[0m\u001b[31m 98 \u001b[0m\u001b[32m  6 \u001b[0m\u001b[31m 29 \u001b[0m\u001b[32m 86\u001b[0m │\n",
       "│ \u001b[32m 78 \u001b[0m\u001b[31m 62 \u001b[0m\u001b[31m 32 \u001b[0m\u001b[32m 11 \u001b[0m\u001b[31m 60\u001b[0m │\n",
       "│ \u001b[31m 55 \u001b[0m\u001b[32m 97 \u001b[0m\u001b[32m 13 \u001b[0m\u001b[31m 73 \u001b[0m\u001b[32m 82\u001b[0m │\n",
       "╰─────────────────────╯\n"
      ]
     },
     "metadata": {},
     "output_type": "display_data"
    },
    {
     "data": {
      "text/html": [
       "<pre style=\"white-space:pre;overflow-x:auto;line-height:normal;font-family:Menlo,'DejaVu Sans Mono',consolas,'Courier New',monospace\">╭──── BingoBoard ─────╮\n",
       "│ <span style=\"color: #800000; text-decoration-color: #800000\"> 62 </span><span style=\"color: #008000; text-decoration-color: #008000\"> 42 </span><span style=\"color: #800000; text-decoration-color: #800000\"> 38  48 </span><span style=\"color: #008000; text-decoration-color: #008000\"> 64</span> │\n",
       "│ <span style=\"color: #008000; text-decoration-color: #008000\"> 61  79 </span><span style=\"color: #800000; text-decoration-color: #800000\"> 78 </span><span style=\"color: #008000; text-decoration-color: #008000\"> 97 </span><span style=\"color: #800000; text-decoration-color: #800000\"> 98</span> │\n",
       "│ <span style=\"color: #800000; text-decoration-color: #800000\"> 89 </span><span style=\"color: #008000; text-decoration-color: #008000\">  7 </span><span style=\"color: #800000; text-decoration-color: #800000\">  3  29 </span><span style=\"color: #008000; text-decoration-color: #008000\"> 68</span> │\n",
       "│ <span style=\"color: #008000; text-decoration-color: #008000\"> 92 </span><span style=\"color: #800000; text-decoration-color: #800000\"> 76  14 </span><span style=\"color: #008000; text-decoration-color: #008000\"> 67 </span><span style=\"color: #800000; text-decoration-color: #800000\">  1</span> │\n",
       "│ <span style=\"color: #800000; text-decoration-color: #800000\"> 41  99 </span><span style=\"color: #008000; text-decoration-color: #008000\"> 72  47 </span><span style=\"color: #800000; text-decoration-color: #800000\"> 60</span> │\n",
       "╰─────────────────────╯\n",
       "</pre>\n"
      ],
      "text/plain": [
       "╭──── BingoBoard ─────╮\n",
       "│ \u001b[31m 62 \u001b[0m\u001b[32m 42 \u001b[0m\u001b[31m 38 \u001b[0m\u001b[31m 48 \u001b[0m\u001b[32m 64\u001b[0m │\n",
       "│ \u001b[32m 61 \u001b[0m\u001b[32m 79 \u001b[0m\u001b[31m 78 \u001b[0m\u001b[32m 97 \u001b[0m\u001b[31m 98\u001b[0m │\n",
       "│ \u001b[31m 89 \u001b[0m\u001b[32m  7 \u001b[0m\u001b[31m  3 \u001b[0m\u001b[31m 29 \u001b[0m\u001b[32m 68\u001b[0m │\n",
       "│ \u001b[32m 92 \u001b[0m\u001b[31m 76 \u001b[0m\u001b[31m 14 \u001b[0m\u001b[32m 67 \u001b[0m\u001b[31m  1\u001b[0m │\n",
       "│ \u001b[31m 41 \u001b[0m\u001b[31m 99 \u001b[0m\u001b[32m 72 \u001b[0m\u001b[32m 47 \u001b[0m\u001b[31m 60\u001b[0m │\n",
       "╰─────────────────────╯\n"
      ]
     },
     "metadata": {},
     "output_type": "display_data"
    },
    {
     "data": {
      "text/html": [
       "<pre style=\"white-space:pre;overflow-x:auto;line-height:normal;font-family:Menlo,'DejaVu Sans Mono',consolas,'Courier New',monospace\">╭──── BingoBoard ─────╮\n",
       "│ <span style=\"color: #800000; text-decoration-color: #800000\"> 51  21 </span><span style=\"color: #008000; text-decoration-color: #008000\"> 79 </span><span style=\"color: #800000; text-decoration-color: #800000\"> 76  32</span> │\n",
       "│ <span style=\"color: #800000; text-decoration-color: #800000\"> 55 </span><span style=\"color: #008000; text-decoration-color: #008000\"> 23  69  19 </span><span style=\"color: #800000; text-decoration-color: #800000\"> 61</span> │\n",
       "│ <span style=\"color: #800000; text-decoration-color: #800000\"> 71 </span><span style=\"color: #008000; text-decoration-color: #008000\"> 54 </span><span style=\"color: #800000; text-decoration-color: #800000\"> 94 </span><span style=\"color: #008000; text-decoration-color: #008000\"> 47 </span><span style=\"color: #800000; text-decoration-color: #800000\"> 92</span> │\n",
       "│ <span style=\"color: #800000; text-decoration-color: #800000\">  5 </span><span style=\"color: #008000; text-decoration-color: #008000\"> 64   6  68 </span><span style=\"color: #800000; text-decoration-color: #800000\"> 16</span> │\n",
       "│ <span style=\"color: #800000; text-decoration-color: #800000\"> 91  81 </span><span style=\"color: #008000; text-decoration-color: #008000\">  9 </span><span style=\"color: #800000; text-decoration-color: #800000\"> 99  30</span> │\n",
       "╰─────────────────────╯\n",
       "</pre>\n"
      ],
      "text/plain": [
       "╭──── BingoBoard ─────╮\n",
       "│ \u001b[31m 51 \u001b[0m\u001b[31m 21 \u001b[0m\u001b[32m 79 \u001b[0m\u001b[31m 76 \u001b[0m\u001b[31m 32\u001b[0m │\n",
       "│ \u001b[31m 55 \u001b[0m\u001b[32m 23 \u001b[0m\u001b[32m 69 \u001b[0m\u001b[32m 19 \u001b[0m\u001b[31m 61\u001b[0m │\n",
       "│ \u001b[31m 71 \u001b[0m\u001b[32m 54 \u001b[0m\u001b[31m 94 \u001b[0m\u001b[32m 47 \u001b[0m\u001b[31m 92\u001b[0m │\n",
       "│ \u001b[31m  5 \u001b[0m\u001b[32m 64 \u001b[0m\u001b[32m  6 \u001b[0m\u001b[32m 68 \u001b[0m\u001b[31m 16\u001b[0m │\n",
       "│ \u001b[31m 91 \u001b[0m\u001b[31m 81 \u001b[0m\u001b[32m  9 \u001b[0m\u001b[31m 99 \u001b[0m\u001b[31m 30\u001b[0m │\n",
       "╰─────────────────────╯\n"
      ]
     },
     "metadata": {},
     "output_type": "display_data"
    },
    {
     "data": {
      "text/html": [
       "<pre style=\"white-space:pre;overflow-x:auto;line-height:normal;font-family:Menlo,'DejaVu Sans Mono',consolas,'Courier New',monospace\">Calling <span style=\"color: #008080; text-decoration-color: #008080; font-weight: bold\">91</span>\n",
       "</pre>\n"
      ],
      "text/plain": [
       "Calling \u001b[1;36m91\u001b[0m\n"
      ]
     },
     "metadata": {},
     "output_type": "display_data"
    },
    {
     "data": {
      "text/html": [
       "<pre style=\"white-space:pre;overflow-x:auto;line-height:normal;font-family:Menlo,'DejaVu Sans Mono',consolas,'Courier New',monospace\">╭──── BingoBoard ─────╮\n",
       "│ <span style=\"color: #008000; text-decoration-color: #008000\"> 20 </span><span style=\"color: #800000; text-decoration-color: #800000\"> 95 </span><span style=\"color: #008000; text-decoration-color: #008000\"> 47  97 </span><span style=\"color: #800000; text-decoration-color: #800000\"> 12</span> │\n",
       "│ <span style=\"color: #800000; text-decoration-color: #800000\"> 92  25 </span><span style=\"color: #008000; text-decoration-color: #008000\"> 68 </span><span style=\"color: #800000; text-decoration-color: #800000\"> 87  91</span> │\n",
       "│ <span style=\"color: #800000; text-decoration-color: #800000\"> 37 </span><span style=\"color: #008000; text-decoration-color: #008000\"> 10 </span><span style=\"color: #800000; text-decoration-color: #800000\"> 78 </span><span style=\"color: #008000; text-decoration-color: #008000\"> 23 </span><span style=\"color: #800000; text-decoration-color: #800000\"> 63</span> │\n",
       "│ <span style=\"color: #800000; text-decoration-color: #800000\"> 74  93 </span><span style=\"color: #008000; text-decoration-color: #008000\"> 58  39 </span><span style=\"color: #800000; text-decoration-color: #800000\">  5</span> │\n",
       "│ <span style=\"color: #800000; text-decoration-color: #800000\"> 76  51  48 </span><span style=\"color: #008000; text-decoration-color: #008000\"> 72 </span><span style=\"color: #800000; text-decoration-color: #800000\"> 16</span> │\n",
       "╰─────────────────────╯\n",
       "</pre>\n"
      ],
      "text/plain": [
       "╭──── BingoBoard ─────╮\n",
       "│ \u001b[32m 20 \u001b[0m\u001b[31m 95 \u001b[0m\u001b[32m 47 \u001b[0m\u001b[32m 97 \u001b[0m\u001b[31m 12\u001b[0m │\n",
       "│ \u001b[31m 92 \u001b[0m\u001b[31m 25 \u001b[0m\u001b[32m 68 \u001b[0m\u001b[31m 87 \u001b[0m\u001b[31m 91\u001b[0m │\n",
       "│ \u001b[31m 37 \u001b[0m\u001b[32m 10 \u001b[0m\u001b[31m 78 \u001b[0m\u001b[32m 23 \u001b[0m\u001b[31m 63\u001b[0m │\n",
       "│ \u001b[31m 74 \u001b[0m\u001b[31m 93 \u001b[0m\u001b[32m 58 \u001b[0m\u001b[32m 39 \u001b[0m\u001b[31m  5\u001b[0m │\n",
       "│ \u001b[31m 76 \u001b[0m\u001b[31m 51 \u001b[0m\u001b[31m 48 \u001b[0m\u001b[32m 72 \u001b[0m\u001b[31m 16\u001b[0m │\n",
       "╰─────────────────────╯\n"
      ]
     },
     "metadata": {},
     "output_type": "display_data"
    },
    {
     "data": {
      "text/html": [
       "<pre style=\"white-space:pre;overflow-x:auto;line-height:normal;font-family:Menlo,'DejaVu Sans Mono',consolas,'Courier New',monospace\">╭──── BingoBoard ─────╮\n",
       "│ <span style=\"color: #008000; text-decoration-color: #008000\"> 47  57  11 </span><span style=\"color: #800000; text-decoration-color: #800000\"> 61  27</span> │\n",
       "│ <span style=\"color: #800000; text-decoration-color: #800000\"> 53 </span><span style=\"color: #008000; text-decoration-color: #008000\"> 10  31 </span><span style=\"color: #800000; text-decoration-color: #800000\"> 91  98</span> │\n",
       "│ <span style=\"color: #800000; text-decoration-color: #800000\"> 76 </span><span style=\"color: #008000; text-decoration-color: #008000\"> 85 </span><span style=\"color: #800000; text-decoration-color: #800000\"> 55  38 </span><span style=\"color: #008000; text-decoration-color: #008000\"> 23</span> │\n",
       "│ <span style=\"color: #008000; text-decoration-color: #008000\">  6 </span><span style=\"color: #800000; text-decoration-color: #800000\"> 81 </span><span style=\"color: #008000; text-decoration-color: #008000\"> 67 </span><span style=\"color: #800000; text-decoration-color: #800000\"> 71  70</span> │\n",
       "│ <span style=\"color: #800000; text-decoration-color: #800000\"> 35  29  17  50 </span><span style=\"color: #008000; text-decoration-color: #008000\"> 56</span> │\n",
       "╰─────────────────────╯\n",
       "</pre>\n"
      ],
      "text/plain": [
       "╭──── BingoBoard ─────╮\n",
       "│ \u001b[32m 47 \u001b[0m\u001b[32m 57 \u001b[0m\u001b[32m 11 \u001b[0m\u001b[31m 61 \u001b[0m\u001b[31m 27\u001b[0m │\n",
       "│ \u001b[31m 53 \u001b[0m\u001b[32m 10 \u001b[0m\u001b[32m 31 \u001b[0m\u001b[31m 91 \u001b[0m\u001b[31m 98\u001b[0m │\n",
       "│ \u001b[31m 76 \u001b[0m\u001b[32m 85 \u001b[0m\u001b[31m 55 \u001b[0m\u001b[31m 38 \u001b[0m\u001b[32m 23\u001b[0m │\n",
       "│ \u001b[32m  6 \u001b[0m\u001b[31m 81 \u001b[0m\u001b[32m 67 \u001b[0m\u001b[31m 71 \u001b[0m\u001b[31m 70\u001b[0m │\n",
       "│ \u001b[31m 35 \u001b[0m\u001b[31m 29 \u001b[0m\u001b[31m 17 \u001b[0m\u001b[31m 50 \u001b[0m\u001b[32m 56\u001b[0m │\n",
       "╰─────────────────────╯\n"
      ]
     },
     "metadata": {},
     "output_type": "display_data"
    },
    {
     "data": {
      "text/html": [
       "<pre style=\"white-space:pre;overflow-x:auto;line-height:normal;font-family:Menlo,'DejaVu Sans Mono',consolas,'Courier New',monospace\">╭──── BingoBoard ─────╮\n",
       "│ <span style=\"color: #800000; text-decoration-color: #800000\"> 33 </span><span style=\"color: #008000; text-decoration-color: #008000\"> 39  59  42 </span><span style=\"color: #800000; text-decoration-color: #800000\"> 45</span> │\n",
       "│ <span style=\"color: #800000; text-decoration-color: #800000\"> 61  50  92 </span><span style=\"color: #008000; text-decoration-color: #008000\">  9  79</span> │\n",
       "│ <span style=\"color: #008000; text-decoration-color: #008000\"> 15 </span><span style=\"color: #800000; text-decoration-color: #800000\">  0 </span><span style=\"color: #008000; text-decoration-color: #008000\"> 28 </span><span style=\"color: #800000; text-decoration-color: #800000\">  5 </span><span style=\"color: #008000; text-decoration-color: #008000\"> 72</span> │\n",
       "│ <span style=\"color: #008000; text-decoration-color: #008000\"> 91 </span><span style=\"color: #800000; text-decoration-color: #800000\"> 24  21  29  87</span> │\n",
       "│ <span style=\"color: #800000; text-decoration-color: #800000\"> 86  76 </span><span style=\"color: #008000; text-decoration-color: #008000\"> 43  31 </span><span style=\"color: #800000; text-decoration-color: #800000\"> 93</span> │\n",
       "╰─────────────────────╯\n",
       "</pre>\n"
      ],
      "text/plain": [
       "╭──── BingoBoard ─────╮\n",
       "│ \u001b[31m 33 \u001b[0m\u001b[32m 39 \u001b[0m\u001b[32m 59 \u001b[0m\u001b[32m 42 \u001b[0m\u001b[31m 45\u001b[0m │\n",
       "│ \u001b[31m 61 \u001b[0m\u001b[31m 50 \u001b[0m\u001b[31m 92 \u001b[0m\u001b[32m  9 \u001b[0m\u001b[32m 79\u001b[0m │\n",
       "│ \u001b[32m 15 \u001b[0m\u001b[31m  0 \u001b[0m\u001b[32m 28 \u001b[0m\u001b[31m  5 \u001b[0m\u001b[32m 72\u001b[0m │\n",
       "│ \u001b[32m 91 \u001b[0m\u001b[31m 24 \u001b[0m\u001b[31m 21 \u001b[0m\u001b[31m 29 \u001b[0m\u001b[31m 87\u001b[0m │\n",
       "│ \u001b[31m 86 \u001b[0m\u001b[31m 76 \u001b[0m\u001b[32m 43 \u001b[0m\u001b[32m 31 \u001b[0m\u001b[31m 93\u001b[0m │\n",
       "╰─────────────────────╯\n"
      ]
     },
     "metadata": {},
     "output_type": "display_data"
    },
    {
     "data": {
      "text/html": [
       "<pre style=\"white-space:pre;overflow-x:auto;line-height:normal;font-family:Menlo,'DejaVu Sans Mono',consolas,'Courier New',monospace\">╭──── BingoBoard ─────╮\n",
       "│ <span style=\"color: #008000; text-decoration-color: #008000\"> 19 </span><span style=\"color: #800000; text-decoration-color: #800000\"> 63 </span><span style=\"color: #008000; text-decoration-color: #008000\"> 58  72  67</span> │\n",
       "│ <span style=\"color: #008000; text-decoration-color: #008000\"> 35 </span><span style=\"color: #800000; text-decoration-color: #800000\"> 93  29  91   0</span> │\n",
       "│ <span style=\"color: #800000; text-decoration-color: #800000\"> 39 </span><span style=\"color: #008000; text-decoration-color: #008000\"> 26  43  84 </span><span style=\"color: #800000; text-decoration-color: #800000\"> 21</span> │\n",
       "│ <span style=\"color: #800000; text-decoration-color: #800000\"> 70 </span><span style=\"color: #008000; text-decoration-color: #008000\"> 42 </span><span style=\"color: #800000; text-decoration-color: #800000\">  2 </span><span style=\"color: #008000; text-decoration-color: #008000\"> 53 </span><span style=\"color: #800000; text-decoration-color: #800000\"> 12</span> │\n",
       "│ <span style=\"color: #800000; text-decoration-color: #800000\"> 59  99 </span><span style=\"color: #008000; text-decoration-color: #008000\">  8 </span><span style=\"color: #800000; text-decoration-color: #800000\">  1 </span><span style=\"color: #008000; text-decoration-color: #008000\"> 86</span> │\n",
       "╰─────────────────────╯\n",
       "</pre>\n"
      ],
      "text/plain": [
       "╭──── BingoBoard ─────╮\n",
       "│ \u001b[32m 19 \u001b[0m\u001b[31m 63 \u001b[0m\u001b[32m 58 \u001b[0m\u001b[32m 72 \u001b[0m\u001b[32m 67\u001b[0m │\n",
       "│ \u001b[32m 35 \u001b[0m\u001b[31m 93 \u001b[0m\u001b[31m 29 \u001b[0m\u001b[31m 91 \u001b[0m\u001b[31m  0\u001b[0m │\n",
       "│ \u001b[31m 39 \u001b[0m\u001b[32m 26 \u001b[0m\u001b[32m 43 \u001b[0m\u001b[32m 84 \u001b[0m\u001b[31m 21\u001b[0m │\n",
       "│ \u001b[31m 70 \u001b[0m\u001b[32m 42 \u001b[0m\u001b[31m  2 \u001b[0m\u001b[32m 53 \u001b[0m\u001b[31m 12\u001b[0m │\n",
       "│ \u001b[31m 59 \u001b[0m\u001b[31m 99 \u001b[0m\u001b[32m  8 \u001b[0m\u001b[31m  1 \u001b[0m\u001b[32m 86\u001b[0m │\n",
       "╰─────────────────────╯\n"
      ]
     },
     "metadata": {},
     "output_type": "display_data"
    },
    {
     "data": {
      "text/html": [
       "<pre style=\"white-space:pre;overflow-x:auto;line-height:normal;font-family:Menlo,'DejaVu Sans Mono',consolas,'Courier New',monospace\">Calling <span style=\"color: #008080; text-decoration-color: #008080; font-weight: bold\">54</span>\n",
       "</pre>\n"
      ],
      "text/plain": [
       "Calling \u001b[1;36m54\u001b[0m\n"
      ]
     },
     "metadata": {},
     "output_type": "display_data"
    },
    {
     "data": {
      "text/html": [
       "<pre style=\"white-space:pre;overflow-x:auto;line-height:normal;font-family:Menlo,'DejaVu Sans Mono',consolas,'Courier New',monospace\">╭──── BingoBoard ─────╮\n",
       "│ <span style=\"color: #008000; text-decoration-color: #008000\"> 13  64 </span><span style=\"color: #800000; text-decoration-color: #800000\"> 38  78  21</span> │\n",
       "│ <span style=\"color: #800000; text-decoration-color: #800000\"> 74  17 </span><span style=\"color: #008000; text-decoration-color: #008000\"> 83  57 </span><span style=\"color: #800000; text-decoration-color: #800000\"> 94</span> │\n",
       "│ <span style=\"color: #800000; text-decoration-color: #800000\"> 25 </span><span style=\"color: #008000; text-decoration-color: #008000\"> 39  69  53 </span><span style=\"color: #800000; text-decoration-color: #800000\">  4</span> │\n",
       "│ <span style=\"color: #800000; text-decoration-color: #800000\"> 54  33  81  50  76</span> │\n",
       "│ <span style=\"color: #800000; text-decoration-color: #800000\"> 42 </span><span style=\"color: #008000; text-decoration-color: #008000\"> 75  19 </span><span style=\"color: #800000; text-decoration-color: #800000\"> 77 </span><span style=\"color: #008000; text-decoration-color: #008000\"> 26</span> │\n",
       "╰─────────────────────╯\n",
       "</pre>\n"
      ],
      "text/plain": [
       "╭──── BingoBoard ─────╮\n",
       "│ \u001b[32m 13 \u001b[0m\u001b[32m 64 \u001b[0m\u001b[31m 38 \u001b[0m\u001b[31m 78 \u001b[0m\u001b[31m 21\u001b[0m │\n",
       "│ \u001b[31m 74 \u001b[0m\u001b[31m 17 \u001b[0m\u001b[32m 83 \u001b[0m\u001b[32m 57 \u001b[0m\u001b[31m 94\u001b[0m │\n",
       "│ \u001b[31m 25 \u001b[0m\u001b[32m 39 \u001b[0m\u001b[32m 69 \u001b[0m\u001b[32m 53 \u001b[0m\u001b[31m  4\u001b[0m │\n",
       "│ \u001b[31m 54 \u001b[0m\u001b[31m 33 \u001b[0m\u001b[31m 81 \u001b[0m\u001b[31m 50 \u001b[0m\u001b[31m 76\u001b[0m │\n",
       "│ \u001b[31m 42 \u001b[0m\u001b[32m 75 \u001b[0m\u001b[32m 19 \u001b[0m\u001b[31m 77 \u001b[0m\u001b[32m 26\u001b[0m │\n",
       "╰─────────────────────╯\n"
      ]
     },
     "metadata": {},
     "output_type": "display_data"
    },
    {
     "data": {
      "text/html": [
       "<pre style=\"white-space:pre;overflow-x:auto;line-height:normal;font-family:Menlo,'DejaVu Sans Mono',consolas,'Courier New',monospace\">Calling <span style=\"color: #008080; text-decoration-color: #008080; font-weight: bold\">8</span>\n",
       "</pre>\n"
      ],
      "text/plain": [
       "Calling \u001b[1;36m8\u001b[0m\n"
      ]
     },
     "metadata": {},
     "output_type": "display_data"
    },
    {
     "data": {
      "text/html": [
       "<pre style=\"white-space:pre;overflow-x:auto;line-height:normal;font-family:Menlo,'DejaVu Sans Mono',consolas,'Courier New',monospace\">╭──── BingoBoard ─────╮\n",
       "│ <span style=\"color: #800000; text-decoration-color: #800000\"> 81  99   5  30 </span><span style=\"color: #008000; text-decoration-color: #008000\"> 10</span> │\n",
       "│ <span style=\"color: #008000; text-decoration-color: #008000\"> 38 </span><span style=\"color: #800000; text-decoration-color: #800000\"> 62 </span><span style=\"color: #008000; text-decoration-color: #008000\"> 57 </span><span style=\"color: #800000; text-decoration-color: #800000\">  8  37</span> │\n",
       "│ <span style=\"color: #800000; text-decoration-color: #800000\">  7 </span><span style=\"color: #008000; text-decoration-color: #008000\"> 86 </span><span style=\"color: #800000; text-decoration-color: #800000\"> 98   3  54</span> │\n",
       "│ <span style=\"color: #800000; text-decoration-color: #800000\"> 46 </span><span style=\"color: #008000; text-decoration-color: #008000\"> 82 </span><span style=\"color: #800000; text-decoration-color: #800000\"> 96  15 </span><span style=\"color: #008000; text-decoration-color: #008000\"> 72</span> │\n",
       "│ <span style=\"color: #008000; text-decoration-color: #008000\"> 83 </span><span style=\"color: #800000; text-decoration-color: #800000\">  1 </span><span style=\"color: #008000; text-decoration-color: #008000\"> 75 </span><span style=\"color: #800000; text-decoration-color: #800000\"> 25  50</span> │\n",
       "╰─────────────────────╯\n",
       "</pre>\n"
      ],
      "text/plain": [
       "╭──── BingoBoard ─────╮\n",
       "│ \u001b[31m 81 \u001b[0m\u001b[31m 99 \u001b[0m\u001b[31m  5 \u001b[0m\u001b[31m 30 \u001b[0m\u001b[32m 10\u001b[0m │\n",
       "│ \u001b[32m 38 \u001b[0m\u001b[31m 62 \u001b[0m\u001b[32m 57 \u001b[0m\u001b[31m  8 \u001b[0m\u001b[31m 37\u001b[0m │\n",
       "│ \u001b[31m  7 \u001b[0m\u001b[32m 86 \u001b[0m\u001b[31m 98 \u001b[0m\u001b[31m  3 \u001b[0m\u001b[31m 54\u001b[0m │\n",
       "│ \u001b[31m 46 \u001b[0m\u001b[32m 82 \u001b[0m\u001b[31m 96 \u001b[0m\u001b[31m 15 \u001b[0m\u001b[32m 72\u001b[0m │\n",
       "│ \u001b[32m 83 \u001b[0m\u001b[31m  1 \u001b[0m\u001b[32m 75 \u001b[0m\u001b[31m 25 \u001b[0m\u001b[31m 50\u001b[0m │\n",
       "╰─────────────────────╯\n"
      ]
     },
     "metadata": {},
     "output_type": "display_data"
    },
    {
     "data": {
      "text/html": [
       "<pre style=\"white-space:pre;overflow-x:auto;line-height:normal;font-family:Menlo,'DejaVu Sans Mono',consolas,'Courier New',monospace\">╭──── BingoBoard ─────╮\n",
       "│ <span style=\"color: #800000; text-decoration-color: #800000\">  8  45  61  54  30</span> │\n",
       "│ <span style=\"color: #008000; text-decoration-color: #008000\"> 85 </span><span style=\"color: #800000; text-decoration-color: #800000\"> 16 </span><span style=\"color: #008000; text-decoration-color: #008000\"> 19  82 </span><span style=\"color: #800000; text-decoration-color: #800000\"> 37</span> │\n",
       "│ <span style=\"color: #800000; text-decoration-color: #800000\"> 56 </span><span style=\"color: #008000; text-decoration-color: #008000\"> 39  11  47 </span><span style=\"color: #800000; text-decoration-color: #800000\">  4</span> │\n",
       "│ <span style=\"color: #800000; text-decoration-color: #800000\"> 74  70 </span><span style=\"color: #008000; text-decoration-color: #008000\"> 10 </span><span style=\"color: #800000; text-decoration-color: #800000\"> 60  91</span> │\n",
       "│ <span style=\"color: #800000; text-decoration-color: #800000\"> 21  63  95 </span><span style=\"color: #008000; text-decoration-color: #008000\"> 53  72</span> │\n",
       "╰─────────────────────╯\n",
       "</pre>\n"
      ],
      "text/plain": [
       "╭──── BingoBoard ─────╮\n",
       "│ \u001b[31m  8 \u001b[0m\u001b[31m 45 \u001b[0m\u001b[31m 61 \u001b[0m\u001b[31m 54 \u001b[0m\u001b[31m 30\u001b[0m │\n",
       "│ \u001b[32m 85 \u001b[0m\u001b[31m 16 \u001b[0m\u001b[32m 19 \u001b[0m\u001b[32m 82 \u001b[0m\u001b[31m 37\u001b[0m │\n",
       "│ \u001b[31m 56 \u001b[0m\u001b[32m 39 \u001b[0m\u001b[32m 11 \u001b[0m\u001b[32m 47 \u001b[0m\u001b[31m  4\u001b[0m │\n",
       "│ \u001b[31m 74 \u001b[0m\u001b[31m 70 \u001b[0m\u001b[32m 10 \u001b[0m\u001b[31m 60 \u001b[0m\u001b[31m 91\u001b[0m │\n",
       "│ \u001b[31m 21 \u001b[0m\u001b[31m 63 \u001b[0m\u001b[31m 95 \u001b[0m\u001b[32m 53 \u001b[0m\u001b[32m 72\u001b[0m │\n",
       "╰─────────────────────╯\n"
      ]
     },
     "metadata": {},
     "output_type": "display_data"
    },
    {
     "data": {
      "text/html": [
       "<pre style=\"white-space:pre;overflow-x:auto;line-height:normal;font-family:Menlo,'DejaVu Sans Mono',consolas,'Courier New',monospace\">Calling <span style=\"color: #008080; text-decoration-color: #008080; font-weight: bold\">72</span>\n",
       "</pre>\n"
      ],
      "text/plain": [
       "Calling \u001b[1;36m72\u001b[0m\n"
      ]
     },
     "metadata": {},
     "output_type": "display_data"
    },
    {
     "data": {
      "text/html": [
       "<pre style=\"white-space:pre;overflow-x:auto;line-height:normal;font-family:Menlo,'DejaVu Sans Mono',consolas,'Courier New',monospace\">╭──── BingoBoard ─────╮\n",
       "│ <span style=\"color: #800000; text-decoration-color: #800000\"> 37  18  32 </span><span style=\"color: #008000; text-decoration-color: #008000\"> 34  85</span> │\n",
       "│ <span style=\"color: #008000; text-decoration-color: #008000\"> 22  31 </span><span style=\"color: #800000; text-decoration-color: #800000\"> 98 </span><span style=\"color: #008000; text-decoration-color: #008000\"> 42  19</span> │\n",
       "│ <span style=\"color: #008000; text-decoration-color: #008000\"> 29 </span><span style=\"color: #800000; text-decoration-color: #800000\"> 72  48  76  25</span> │\n",
       "│ <span style=\"color: #800000; text-decoration-color: #800000\"> 47   1  21 </span><span style=\"color: #008000; text-decoration-color: #008000\">  7  53</span> │\n",
       "│ <span style=\"color: #008000; text-decoration-color: #008000\"> 79  82  86 </span><span style=\"color: #800000; text-decoration-color: #800000\"> 52  78</span> │\n",
       "╰─────────────────────╯\n",
       "</pre>\n"
      ],
      "text/plain": [
       "╭──── BingoBoard ─────╮\n",
       "│ \u001b[31m 37 \u001b[0m\u001b[31m 18 \u001b[0m\u001b[31m 32 \u001b[0m\u001b[32m 34 \u001b[0m\u001b[32m 85\u001b[0m │\n",
       "│ \u001b[32m 22 \u001b[0m\u001b[32m 31 \u001b[0m\u001b[31m 98 \u001b[0m\u001b[32m 42 \u001b[0m\u001b[32m 19\u001b[0m │\n",
       "│ \u001b[32m 29 \u001b[0m\u001b[31m 72 \u001b[0m\u001b[31m 48 \u001b[0m\u001b[31m 76 \u001b[0m\u001b[31m 25\u001b[0m │\n",
       "│ \u001b[31m 47 \u001b[0m\u001b[31m  1 \u001b[0m\u001b[31m 21 \u001b[0m\u001b[32m  7 \u001b[0m\u001b[32m 53\u001b[0m │\n",
       "│ \u001b[32m 79 \u001b[0m\u001b[32m 82 \u001b[0m\u001b[32m 86 \u001b[0m\u001b[31m 52 \u001b[0m\u001b[31m 78\u001b[0m │\n",
       "╰─────────────────────╯\n"
      ]
     },
     "metadata": {},
     "output_type": "display_data"
    },
    {
     "data": {
      "text/html": [
       "<pre style=\"white-space:pre;overflow-x:auto;line-height:normal;font-family:Menlo,'DejaVu Sans Mono',consolas,'Courier New',monospace\">╭──── BingoBoard ─────╮\n",
       "│ <span style=\"color: #800000; text-decoration-color: #800000\"> 51  63 </span><span style=\"color: #008000; text-decoration-color: #008000\"> 68  84  36</span> │\n",
       "│ <span style=\"color: #008000; text-decoration-color: #008000\"> 12 </span><span style=\"color: #800000; text-decoration-color: #800000\"> 33  37 </span><span style=\"color: #008000; text-decoration-color: #008000\"> 31 </span><span style=\"color: #800000; text-decoration-color: #800000\">  8</span> │\n",
       "│ <span style=\"color: #800000; text-decoration-color: #800000\"> 18  41 </span><span style=\"color: #008000; text-decoration-color: #008000\"> 34  74  23</span> │\n",
       "│ <span style=\"color: #008000; text-decoration-color: #008000\"> 72  39  85 </span><span style=\"color: #800000; text-decoration-color: #800000\"> 48  60</span> │\n",
       "│ <span style=\"color: #800000; text-decoration-color: #800000\"> 24 </span><span style=\"color: #008000; text-decoration-color: #008000\"> 19 </span><span style=\"color: #800000; text-decoration-color: #800000\"> 29 </span><span style=\"color: #008000; text-decoration-color: #008000\"> 88 </span><span style=\"color: #800000; text-decoration-color: #800000\">  0</span> │\n",
       "╰─────────────────────╯\n",
       "</pre>\n"
      ],
      "text/plain": [
       "╭──── BingoBoard ─────╮\n",
       "│ \u001b[31m 51 \u001b[0m\u001b[31m 63 \u001b[0m\u001b[32m 68 \u001b[0m\u001b[32m 84 \u001b[0m\u001b[32m 36\u001b[0m │\n",
       "│ \u001b[32m 12 \u001b[0m\u001b[31m 33 \u001b[0m\u001b[31m 37 \u001b[0m\u001b[32m 31 \u001b[0m\u001b[31m  8\u001b[0m │\n",
       "│ \u001b[31m 18 \u001b[0m\u001b[31m 41 \u001b[0m\u001b[32m 34 \u001b[0m\u001b[32m 74 \u001b[0m\u001b[32m 23\u001b[0m │\n",
       "│ \u001b[32m 72 \u001b[0m\u001b[32m 39 \u001b[0m\u001b[32m 85 \u001b[0m\u001b[31m 48 \u001b[0m\u001b[31m 60\u001b[0m │\n",
       "│ \u001b[31m 24 \u001b[0m\u001b[32m 19 \u001b[0m\u001b[31m 29 \u001b[0m\u001b[32m 88 \u001b[0m\u001b[31m  0\u001b[0m │\n",
       "╰─────────────────────╯\n"
      ]
     },
     "metadata": {},
     "output_type": "display_data"
    },
    {
     "data": {
      "text/html": [
       "<pre style=\"white-space:pre;overflow-x:auto;line-height:normal;font-family:Menlo,'DejaVu Sans Mono',consolas,'Courier New',monospace\">╭──── BingoBoard ─────╮\n",
       "│ <span style=\"color: #800000; text-decoration-color: #800000\"> 95  92  91  27 </span><span style=\"color: #008000; text-decoration-color: #008000\"> 26</span> │\n",
       "│ <span style=\"color: #008000; text-decoration-color: #008000\"> 22  43 </span><span style=\"color: #800000; text-decoration-color: #800000\"> 45 </span><span style=\"color: #008000; text-decoration-color: #008000\"> 64 </span><span style=\"color: #800000; text-decoration-color: #800000\"> 62</span> │\n",
       "│ <span style=\"color: #800000; text-decoration-color: #800000\"> 83 </span><span style=\"color: #008000; text-decoration-color: #008000\"> 23 </span><span style=\"color: #800000; text-decoration-color: #800000\"> 25 </span><span style=\"color: #008000; text-decoration-color: #008000\"> 85 </span><span style=\"color: #800000; text-decoration-color: #800000\"> 94</span> │\n",
       "│ <span style=\"color: #800000; text-decoration-color: #800000\"> 84 </span><span style=\"color: #008000; text-decoration-color: #008000\"> 53 </span><span style=\"color: #800000; text-decoration-color: #800000\"> 72 </span><span style=\"color: #008000; text-decoration-color: #008000\"> 28  20</span> │\n",
       "│ <span style=\"color: #008000; text-decoration-color: #008000\"> 75 </span><span style=\"color: #800000; text-decoration-color: #800000\"> 60  52  18  73</span> │\n",
       "╰─────────────────────╯\n",
       "</pre>\n"
      ],
      "text/plain": [
       "╭──── BingoBoard ─────╮\n",
       "│ \u001b[31m 95 \u001b[0m\u001b[31m 92 \u001b[0m\u001b[31m 91 \u001b[0m\u001b[31m 27 \u001b[0m\u001b[32m 26\u001b[0m │\n",
       "│ \u001b[32m 22 \u001b[0m\u001b[32m 43 \u001b[0m\u001b[31m 45 \u001b[0m\u001b[32m 64 \u001b[0m\u001b[31m 62\u001b[0m │\n",
       "│ \u001b[31m 83 \u001b[0m\u001b[32m 23 \u001b[0m\u001b[31m 25 \u001b[0m\u001b[32m 85 \u001b[0m\u001b[31m 94\u001b[0m │\n",
       "│ \u001b[31m 84 \u001b[0m\u001b[32m 53 \u001b[0m\u001b[31m 72 \u001b[0m\u001b[32m 28 \u001b[0m\u001b[32m 20\u001b[0m │\n",
       "│ \u001b[32m 75 \u001b[0m\u001b[31m 60 \u001b[0m\u001b[31m 52 \u001b[0m\u001b[31m 18 \u001b[0m\u001b[31m 73\u001b[0m │\n",
       "╰─────────────────────╯\n"
      ]
     },
     "metadata": {},
     "output_type": "display_data"
    },
    {
     "data": {
      "text/html": [
       "<pre style=\"white-space:pre;overflow-x:auto;line-height:normal;font-family:Menlo,'DejaVu Sans Mono',consolas,'Courier New',monospace\">╭──── BingoBoard ─────╮\n",
       "│ <span style=\"color: #800000; text-decoration-color: #800000\"> 93   5 </span><span style=\"color: #008000; text-decoration-color: #008000\"> 40  64 </span><span style=\"color: #800000; text-decoration-color: #800000\">  2</span> │\n",
       "│ <span style=\"color: #800000; text-decoration-color: #800000\"> 44  51  15  54 </span><span style=\"color: #008000; text-decoration-color: #008000\"> 83</span> │\n",
       "│ <span style=\"color: #008000; text-decoration-color: #008000\"> 69 </span><span style=\"color: #800000; text-decoration-color: #800000\"> 77 </span><span style=\"color: #008000; text-decoration-color: #008000\"> 90  58  11</span> │\n",
       "│ <span style=\"color: #008000; text-decoration-color: #008000\">  0 </span><span style=\"color: #800000; text-decoration-color: #800000\"> 48 </span><span style=\"color: #008000; text-decoration-color: #008000\"> 43 </span><span style=\"color: #800000; text-decoration-color: #800000\"> 30  55</span> │\n",
       "│ <span style=\"color: #800000; text-decoration-color: #800000\"> 25  72  38  73  52</span> │\n",
       "╰─────────────────────╯\n",
       "</pre>\n"
      ],
      "text/plain": [
       "╭──── BingoBoard ─────╮\n",
       "│ \u001b[31m 93 \u001b[0m\u001b[31m  5 \u001b[0m\u001b[32m 40 \u001b[0m\u001b[32m 64 \u001b[0m\u001b[31m  2\u001b[0m │\n",
       "│ \u001b[31m 44 \u001b[0m\u001b[31m 51 \u001b[0m\u001b[31m 15 \u001b[0m\u001b[31m 54 \u001b[0m\u001b[32m 83\u001b[0m │\n",
       "│ \u001b[32m 69 \u001b[0m\u001b[31m 77 \u001b[0m\u001b[32m 90 \u001b[0m\u001b[32m 58 \u001b[0m\u001b[32m 11\u001b[0m │\n",
       "│ \u001b[32m  0 \u001b[0m\u001b[31m 48 \u001b[0m\u001b[32m 43 \u001b[0m\u001b[31m 30 \u001b[0m\u001b[31m 55\u001b[0m │\n",
       "│ \u001b[31m 25 \u001b[0m\u001b[31m 72 \u001b[0m\u001b[31m 38 \u001b[0m\u001b[31m 73 \u001b[0m\u001b[31m 52\u001b[0m │\n",
       "╰─────────────────────╯\n"
      ]
     },
     "metadata": {},
     "output_type": "display_data"
    },
    {
     "data": {
      "text/html": [
       "<pre style=\"white-space:pre;overflow-x:auto;line-height:normal;font-family:Menlo,'DejaVu Sans Mono',consolas,'Courier New',monospace\">╭──── BingoBoard ─────╮\n",
       "│ <span style=\"color: #800000; text-decoration-color: #800000\"> 61 </span><span style=\"color: #008000; text-decoration-color: #008000\"> 69  82  86  68</span> │\n",
       "│ <span style=\"color: #008000; text-decoration-color: #008000\"> 66 </span><span style=\"color: #800000; text-decoration-color: #800000\"> 81 </span><span style=\"color: #008000; text-decoration-color: #008000\"> 28 </span><span style=\"color: #800000; text-decoration-color: #800000\"> 38 </span><span style=\"color: #008000; text-decoration-color: #008000\"> 36</span> │\n",
       "│ <span style=\"color: #008000; text-decoration-color: #008000\"> 26 </span><span style=\"color: #800000; text-decoration-color: #800000\"> 29 </span><span style=\"color: #008000; text-decoration-color: #008000\"> 31  11 </span><span style=\"color: #800000; text-decoration-color: #800000\">  8</span> │\n",
       "│ <span style=\"color: #800000; text-decoration-color: #800000\"> 72  51  12  95  63</span> │\n",
       "│ <span style=\"color: #800000; text-decoration-color: #800000\"> 18  30 </span><span style=\"color: #008000; text-decoration-color: #008000\"> 88 </span><span style=\"color: #800000; text-decoration-color: #800000\"> 17  32</span> │\n",
       "╰─────────────────────╯\n",
       "</pre>\n"
      ],
      "text/plain": [
       "╭──── BingoBoard ─────╮\n",
       "│ \u001b[31m 61 \u001b[0m\u001b[32m 69 \u001b[0m\u001b[32m 82 \u001b[0m\u001b[32m 86 \u001b[0m\u001b[32m 68\u001b[0m │\n",
       "│ \u001b[32m 66 \u001b[0m\u001b[31m 81 \u001b[0m\u001b[32m 28 \u001b[0m\u001b[31m 38 \u001b[0m\u001b[32m 36\u001b[0m │\n",
       "│ \u001b[32m 26 \u001b[0m\u001b[31m 29 \u001b[0m\u001b[32m 31 \u001b[0m\u001b[32m 11 \u001b[0m\u001b[31m  8\u001b[0m │\n",
       "│ \u001b[31m 72 \u001b[0m\u001b[31m 51 \u001b[0m\u001b[31m 12 \u001b[0m\u001b[31m 95 \u001b[0m\u001b[31m 63\u001b[0m │\n",
       "│ \u001b[31m 18 \u001b[0m\u001b[31m 30 \u001b[0m\u001b[32m 88 \u001b[0m\u001b[31m 17 \u001b[0m\u001b[31m 32\u001b[0m │\n",
       "╰─────────────────────╯\n"
      ]
     },
     "metadata": {},
     "output_type": "display_data"
    },
    {
     "data": {
      "text/html": [
       "<pre style=\"white-space:pre;overflow-x:auto;line-height:normal;font-family:Menlo,'DejaVu Sans Mono',consolas,'Courier New',monospace\">╭──── BingoBoard ─────╮\n",
       "│ <span style=\"color: #008000; text-decoration-color: #008000\"> 90 </span><span style=\"color: #800000; text-decoration-color: #800000\"> 32  41 </span><span style=\"color: #008000; text-decoration-color: #008000\"> 39   6</span> │\n",
       "│ <span style=\"color: #008000; text-decoration-color: #008000\"> 36 </span><span style=\"color: #800000; text-decoration-color: #800000\"> 78 </span><span style=\"color: #008000; text-decoration-color: #008000\"> 67 </span><span style=\"color: #800000; text-decoration-color: #800000\"> 24  50</span> │\n",
       "│ <span style=\"color: #800000; text-decoration-color: #800000\"> 55  72  52 </span><span style=\"color: #008000; text-decoration-color: #008000\"> 75 </span><span style=\"color: #800000; text-decoration-color: #800000\"> 44</span> │\n",
       "│ <span style=\"color: #800000; text-decoration-color: #800000\"> 87  15  92 </span><span style=\"color: #008000; text-decoration-color: #008000\"> 31  58</span> │\n",
       "│ <span style=\"color: #008000; text-decoration-color: #008000\"> 83 </span><span style=\"color: #800000; text-decoration-color: #800000\"> 89 </span><span style=\"color: #008000; text-decoration-color: #008000\"> 68  19  43</span> │\n",
       "╰─────────────────────╯\n",
       "</pre>\n"
      ],
      "text/plain": [
       "╭──── BingoBoard ─────╮\n",
       "│ \u001b[32m 90 \u001b[0m\u001b[31m 32 \u001b[0m\u001b[31m 41 \u001b[0m\u001b[32m 39 \u001b[0m\u001b[32m  6\u001b[0m │\n",
       "│ \u001b[32m 36 \u001b[0m\u001b[31m 78 \u001b[0m\u001b[32m 67 \u001b[0m\u001b[31m 24 \u001b[0m\u001b[31m 50\u001b[0m │\n",
       "│ \u001b[31m 55 \u001b[0m\u001b[31m 72 \u001b[0m\u001b[31m 52 \u001b[0m\u001b[32m 75 \u001b[0m\u001b[31m 44\u001b[0m │\n",
       "│ \u001b[31m 87 \u001b[0m\u001b[31m 15 \u001b[0m\u001b[31m 92 \u001b[0m\u001b[32m 31 \u001b[0m\u001b[32m 58\u001b[0m │\n",
       "│ \u001b[32m 83 \u001b[0m\u001b[31m 89 \u001b[0m\u001b[32m 68 \u001b[0m\u001b[32m 19 \u001b[0m\u001b[32m 43\u001b[0m │\n",
       "╰─────────────────────╯\n"
      ]
     },
     "metadata": {},
     "output_type": "display_data"
    },
    {
     "data": {
      "text/html": [
       "<pre style=\"white-space:pre;overflow-x:auto;line-height:normal;font-family:Menlo,'DejaVu Sans Mono',consolas,'Courier New',monospace\">╭──── BingoBoard ─────╮\n",
       "│ <span style=\"color: #008000; text-decoration-color: #008000\"> 69  75 </span><span style=\"color: #800000; text-decoration-color: #800000\"> 94  38  46</span> │\n",
       "│ <span style=\"color: #800000; text-decoration-color: #800000\"> 52 </span><span style=\"color: #008000; text-decoration-color: #008000\"> 64 </span><span style=\"color: #800000; text-decoration-color: #800000\"> 50  72 </span><span style=\"color: #008000; text-decoration-color: #008000\"> 42</span> │\n",
       "│ <span style=\"color: #008000; text-decoration-color: #008000\"> 76 </span><span style=\"color: #800000; text-decoration-color: #800000\"> 63 </span><span style=\"color: #008000; text-decoration-color: #008000\"> 13 </span><span style=\"color: #800000; text-decoration-color: #800000\"> 60 </span><span style=\"color: #008000; text-decoration-color: #008000\"> 10</span> │\n",
       "│ <span style=\"color: #008000; text-decoration-color: #008000\"> 99 </span><span style=\"color: #800000; text-decoration-color: #800000\"> 80 </span><span style=\"color: #008000; text-decoration-color: #008000\"> 43 </span><span style=\"color: #800000; text-decoration-color: #800000\"> 33  17</span> │\n",
       "│ <span style=\"color: #800000; text-decoration-color: #800000\"> 25 </span><span style=\"color: #008000; text-decoration-color: #008000\"> 31 </span><span style=\"color: #800000; text-decoration-color: #800000\">  4  89 </span><span style=\"color: #008000; text-decoration-color: #008000\"> 22</span> │\n",
       "╰─────────────────────╯\n",
       "</pre>\n"
      ],
      "text/plain": [
       "╭──── BingoBoard ─────╮\n",
       "│ \u001b[32m 69 \u001b[0m\u001b[32m 75 \u001b[0m\u001b[31m 94 \u001b[0m\u001b[31m 38 \u001b[0m\u001b[31m 46\u001b[0m │\n",
       "│ \u001b[31m 52 \u001b[0m\u001b[32m 64 \u001b[0m\u001b[31m 50 \u001b[0m\u001b[31m 72 \u001b[0m\u001b[32m 42\u001b[0m │\n",
       "│ \u001b[32m 76 \u001b[0m\u001b[31m 63 \u001b[0m\u001b[32m 13 \u001b[0m\u001b[31m 60 \u001b[0m\u001b[32m 10\u001b[0m │\n",
       "│ \u001b[32m 99 \u001b[0m\u001b[31m 80 \u001b[0m\u001b[32m 43 \u001b[0m\u001b[31m 33 \u001b[0m\u001b[31m 17\u001b[0m │\n",
       "│ \u001b[31m 25 \u001b[0m\u001b[32m 31 \u001b[0m\u001b[31m  4 \u001b[0m\u001b[31m 89 \u001b[0m\u001b[32m 22\u001b[0m │\n",
       "╰─────────────────────╯\n"
      ]
     },
     "metadata": {},
     "output_type": "display_data"
    },
    {
     "data": {
      "text/html": [
       "<pre style=\"white-space:pre;overflow-x:auto;line-height:normal;font-family:Menlo,'DejaVu Sans Mono',consolas,'Courier New',monospace\">Calling <span style=\"color: #008080; text-decoration-color: #008080; font-weight: bold\">40</span>\n",
       "</pre>\n"
      ],
      "text/plain": [
       "Calling \u001b[1;36m40\u001b[0m\n"
      ]
     },
     "metadata": {},
     "output_type": "display_data"
    },
    {
     "data": {
      "text/html": [
       "<pre style=\"white-space:pre;overflow-x:auto;line-height:normal;font-family:Menlo,'DejaVu Sans Mono',consolas,'Courier New',monospace\">╭──── BingoBoard ─────╮\n",
       "│ <span style=\"color: #800000; text-decoration-color: #800000\"> 21 </span><span style=\"color: #008000; text-decoration-color: #008000\"> 43 </span><span style=\"color: #800000; text-decoration-color: #800000\"> 15 </span><span style=\"color: #008000; text-decoration-color: #008000\"> 47 </span><span style=\"color: #800000; text-decoration-color: #800000\"> 61</span> │\n",
       "│ <span style=\"color: #800000; text-decoration-color: #800000\"> 24  76 </span><span style=\"color: #008000; text-decoration-color: #008000\"> 28 </span><span style=\"color: #800000; text-decoration-color: #800000\">  3  27</span> │\n",
       "│ <span style=\"color: #800000; text-decoration-color: #800000\"> 19  62 </span><span style=\"color: #008000; text-decoration-color: #008000\"> 69  82 </span><span style=\"color: #800000; text-decoration-color: #800000\"> 93</span> │\n",
       "│ <span style=\"color: #800000; text-decoration-color: #800000\"> 49  29 </span><span style=\"color: #008000; text-decoration-color: #008000\"> 97  74 </span><span style=\"color: #800000; text-decoration-color: #800000\"> 41</span> │\n",
       "│ <span style=\"color: #800000; text-decoration-color: #800000\"> 92 </span><span style=\"color: #008000; text-decoration-color: #008000\"> 36 </span><span style=\"color: #800000; text-decoration-color: #800000\"> 37  99  40</span> │\n",
       "╰─────────────────────╯\n",
       "</pre>\n"
      ],
      "text/plain": [
       "╭──── BingoBoard ─────╮\n",
       "│ \u001b[31m 21 \u001b[0m\u001b[32m 43 \u001b[0m\u001b[31m 15 \u001b[0m\u001b[32m 47 \u001b[0m\u001b[31m 61\u001b[0m │\n",
       "│ \u001b[31m 24 \u001b[0m\u001b[31m 76 \u001b[0m\u001b[32m 28 \u001b[0m\u001b[31m  3 \u001b[0m\u001b[31m 27\u001b[0m │\n",
       "│ \u001b[31m 19 \u001b[0m\u001b[31m 62 \u001b[0m\u001b[32m 69 \u001b[0m\u001b[32m 82 \u001b[0m\u001b[31m 93\u001b[0m │\n",
       "│ \u001b[31m 49 \u001b[0m\u001b[31m 29 \u001b[0m\u001b[32m 97 \u001b[0m\u001b[32m 74 \u001b[0m\u001b[31m 41\u001b[0m │\n",
       "│ \u001b[31m 92 \u001b[0m\u001b[32m 36 \u001b[0m\u001b[31m 37 \u001b[0m\u001b[31m 99 \u001b[0m\u001b[31m 40\u001b[0m │\n",
       "╰─────────────────────╯\n"
      ]
     },
     "metadata": {},
     "output_type": "display_data"
    },
    {
     "data": {
      "text/html": [
       "<pre style=\"white-space:pre;overflow-x:auto;line-height:normal;font-family:Menlo,'DejaVu Sans Mono',consolas,'Courier New',monospace\">╭──── BingoBoard ─────╮\n",
       "│ <span style=\"color: #008000; text-decoration-color: #008000\"> 20 </span><span style=\"color: #800000; text-decoration-color: #800000\"> 51  81  40 </span><span style=\"color: #008000; text-decoration-color: #008000\"> 69</span> │\n",
       "│ <span style=\"color: #008000; text-decoration-color: #008000\"> 71  10  13 </span><span style=\"color: #800000; text-decoration-color: #800000\"> 93 </span><span style=\"color: #008000; text-decoration-color: #008000\"> 75</span> │\n",
       "│ <span style=\"color: #008000; text-decoration-color: #008000\"> 44  86 </span><span style=\"color: #800000; text-decoration-color: #800000\">  0  95  37</span> │\n",
       "│ <span style=\"color: #800000; text-decoration-color: #800000\"> 99 </span><span style=\"color: #008000; text-decoration-color: #008000\"> 39 </span><span style=\"color: #800000; text-decoration-color: #800000\"> 76  80  66</span> │\n",
       "│ <span style=\"color: #800000; text-decoration-color: #800000\"> 14 </span><span style=\"color: #008000; text-decoration-color: #008000\"> 64  49 </span><span style=\"color: #800000; text-decoration-color: #800000\"> 62  27</span> │\n",
       "╰─────────────────────╯\n",
       "</pre>\n"
      ],
      "text/plain": [
       "╭──── BingoBoard ─────╮\n",
       "│ \u001b[32m 20 \u001b[0m\u001b[31m 51 \u001b[0m\u001b[31m 81 \u001b[0m\u001b[31m 40 \u001b[0m\u001b[32m 69\u001b[0m │\n",
       "│ \u001b[32m 71 \u001b[0m\u001b[32m 10 \u001b[0m\u001b[32m 13 \u001b[0m\u001b[31m 93 \u001b[0m\u001b[32m 75\u001b[0m │\n",
       "│ \u001b[32m 44 \u001b[0m\u001b[32m 86 \u001b[0m\u001b[31m  0 \u001b[0m\u001b[31m 95 \u001b[0m\u001b[31m 37\u001b[0m │\n",
       "│ \u001b[31m 99 \u001b[0m\u001b[32m 39 \u001b[0m\u001b[31m 76 \u001b[0m\u001b[31m 80 \u001b[0m\u001b[31m 66\u001b[0m │\n",
       "│ \u001b[31m 14 \u001b[0m\u001b[32m 64 \u001b[0m\u001b[32m 49 \u001b[0m\u001b[31m 62 \u001b[0m\u001b[31m 27\u001b[0m │\n",
       "╰─────────────────────╯\n"
      ]
     },
     "metadata": {},
     "output_type": "display_data"
    },
    {
     "data": {
      "text/html": [
       "<pre style=\"white-space:pre;overflow-x:auto;line-height:normal;font-family:Menlo,'DejaVu Sans Mono',consolas,'Courier New',monospace\">╭──── BingoBoard ─────╮\n",
       "│ <span style=\"color: #800000; text-decoration-color: #800000\"> 94  44   4 </span><span style=\"color: #008000; text-decoration-color: #008000\"> 86  26</span> │\n",
       "│ <span style=\"color: #008000; text-decoration-color: #008000\"> 39 </span><span style=\"color: #800000; text-decoration-color: #800000\"> 70  54  50  30</span> │\n",
       "│ <span style=\"color: #800000; text-decoration-color: #800000\"> 55  40  12  72  71</span> │\n",
       "│ <span style=\"color: #800000; text-decoration-color: #800000\"> 68 </span><span style=\"color: #008000; text-decoration-color: #008000\">  7 </span><span style=\"color: #800000; text-decoration-color: #800000\"> 66 </span><span style=\"color: #008000; text-decoration-color: #008000\"> 47 </span><span style=\"color: #800000; text-decoration-color: #800000\"> 91</span> │\n",
       "│ <span style=\"color: #800000; text-decoration-color: #800000\"> 31  24 </span><span style=\"color: #008000; text-decoration-color: #008000\"> 13 </span><span style=\"color: #800000; text-decoration-color: #800000\">  1  96</span> │\n",
       "╰─────────────────────╯\n",
       "</pre>\n"
      ],
      "text/plain": [
       "╭──── BingoBoard ─────╮\n",
       "│ \u001b[31m 94 \u001b[0m\u001b[31m 44 \u001b[0m\u001b[31m  4 \u001b[0m\u001b[32m 86 \u001b[0m\u001b[32m 26\u001b[0m │\n",
       "│ \u001b[32m 39 \u001b[0m\u001b[31m 70 \u001b[0m\u001b[31m 54 \u001b[0m\u001b[31m 50 \u001b[0m\u001b[31m 30\u001b[0m │\n",
       "│ \u001b[31m 55 \u001b[0m\u001b[31m 40 \u001b[0m\u001b[31m 12 \u001b[0m\u001b[31m 72 \u001b[0m\u001b[31m 71\u001b[0m │\n",
       "│ \u001b[31m 68 \u001b[0m\u001b[32m  7 \u001b[0m\u001b[31m 66 \u001b[0m\u001b[32m 47 \u001b[0m\u001b[31m 91\u001b[0m │\n",
       "│ \u001b[31m 31 \u001b[0m\u001b[31m 24 \u001b[0m\u001b[32m 13 \u001b[0m\u001b[31m  1 \u001b[0m\u001b[31m 96\u001b[0m │\n",
       "╰─────────────────────╯\n"
      ]
     },
     "metadata": {},
     "output_type": "display_data"
    },
    {
     "data": {
      "text/html": [
       "<pre style=\"white-space:pre;overflow-x:auto;line-height:normal;font-family:Menlo,'DejaVu Sans Mono',consolas,'Courier New',monospace\">╭──── BingoBoard ─────╮\n",
       "│ <span style=\"color: #800000; text-decoration-color: #800000\"> 63  92  71   0 </span><span style=\"color: #008000; text-decoration-color: #008000\"> 83</span> │\n",
       "│ <span style=\"color: #008000; text-decoration-color: #008000\"> 98 </span><span style=\"color: #800000; text-decoration-color: #800000\"> 40  50  55   2</span> │\n",
       "│ <span style=\"color: #800000; text-decoration-color: #800000\"> 88   5 </span><span style=\"color: #008000; text-decoration-color: #008000\"> 85 </span><span style=\"color: #800000; text-decoration-color: #800000\"> 30 </span><span style=\"color: #008000; text-decoration-color: #008000\"> 23</span> │\n",
       "│ <span style=\"color: #008000; text-decoration-color: #008000\"> 10  75 </span><span style=\"color: #800000; text-decoration-color: #800000\"> 81 </span><span style=\"color: #008000; text-decoration-color: #008000\"> 58  68</span> │\n",
       "│ <span style=\"color: #008000; text-decoration-color: #008000\"> 51  31 </span><span style=\"color: #800000; text-decoration-color: #800000\"> 14  89   1</span> │\n",
       "╰─────────────────────╯\n",
       "</pre>\n"
      ],
      "text/plain": [
       "╭──── BingoBoard ─────╮\n",
       "│ \u001b[31m 63 \u001b[0m\u001b[31m 92 \u001b[0m\u001b[31m 71 \u001b[0m\u001b[31m  0 \u001b[0m\u001b[32m 83\u001b[0m │\n",
       "│ \u001b[32m 98 \u001b[0m\u001b[31m 40 \u001b[0m\u001b[31m 50 \u001b[0m\u001b[31m 55 \u001b[0m\u001b[31m  2\u001b[0m │\n",
       "│ \u001b[31m 88 \u001b[0m\u001b[31m  5 \u001b[0m\u001b[32m 85 \u001b[0m\u001b[31m 30 \u001b[0m\u001b[32m 23\u001b[0m │\n",
       "│ \u001b[32m 10 \u001b[0m\u001b[32m 75 \u001b[0m\u001b[31m 81 \u001b[0m\u001b[32m 58 \u001b[0m\u001b[32m 68\u001b[0m │\n",
       "│ \u001b[32m 51 \u001b[0m\u001b[32m 31 \u001b[0m\u001b[31m 14 \u001b[0m\u001b[31m 89 \u001b[0m\u001b[31m  1\u001b[0m │\n",
       "╰─────────────────────╯\n"
      ]
     },
     "metadata": {},
     "output_type": "display_data"
    },
    {
     "data": {
      "text/html": [
       "<pre style=\"white-space:pre;overflow-x:auto;line-height:normal;font-family:Menlo,'DejaVu Sans Mono',consolas,'Courier New',monospace\">Calling <span style=\"color: #008080; text-decoration-color: #008080; font-weight: bold\">74</span>\n",
       "</pre>\n"
      ],
      "text/plain": [
       "Calling \u001b[1;36m74\u001b[0m\n"
      ]
     },
     "metadata": {},
     "output_type": "display_data"
    },
    {
     "data": {
      "text/html": [
       "<pre style=\"white-space:pre;overflow-x:auto;line-height:normal;font-family:Menlo,'DejaVu Sans Mono',consolas,'Courier New',monospace\">╭──── BingoBoard ─────╮\n",
       "│ <span style=\"color: #800000; text-decoration-color: #800000\"> 21  50 </span><span style=\"color: #008000; text-decoration-color: #008000\"> 86 </span><span style=\"color: #800000; text-decoration-color: #800000\">  2  70</span> │\n",
       "│ <span style=\"color: #800000; text-decoration-color: #800000\"> 85 </span><span style=\"color: #008000; text-decoration-color: #008000\"> 19  22 </span><span style=\"color: #800000; text-decoration-color: #800000\"> 93  25</span> │\n",
       "│ <span style=\"color: #800000; text-decoration-color: #800000\"> 99  38  74  30  65</span> │\n",
       "│ <span style=\"color: #800000; text-decoration-color: #800000\"> 81   0 </span><span style=\"color: #008000; text-decoration-color: #008000\"> 47 </span><span style=\"color: #800000; text-decoration-color: #800000\"> 78  63</span> │\n",
       "│ <span style=\"color: #800000; text-decoration-color: #800000\"> 34 </span><span style=\"color: #008000; text-decoration-color: #008000\"> 11 </span><span style=\"color: #800000; text-decoration-color: #800000\"> 51 </span><span style=\"color: #008000; text-decoration-color: #008000\"> 88  64</span> │\n",
       "╰─────────────────────╯\n",
       "</pre>\n"
      ],
      "text/plain": [
       "╭──── BingoBoard ─────╮\n",
       "│ \u001b[31m 21 \u001b[0m\u001b[31m 50 \u001b[0m\u001b[32m 86 \u001b[0m\u001b[31m  2 \u001b[0m\u001b[31m 70\u001b[0m │\n",
       "│ \u001b[31m 85 \u001b[0m\u001b[32m 19 \u001b[0m\u001b[32m 22 \u001b[0m\u001b[31m 93 \u001b[0m\u001b[31m 25\u001b[0m │\n",
       "│ \u001b[31m 99 \u001b[0m\u001b[31m 38 \u001b[0m\u001b[31m 74 \u001b[0m\u001b[31m 30 \u001b[0m\u001b[31m 65\u001b[0m │\n",
       "│ \u001b[31m 81 \u001b[0m\u001b[31m  0 \u001b[0m\u001b[32m 47 \u001b[0m\u001b[31m 78 \u001b[0m\u001b[31m 63\u001b[0m │\n",
       "│ \u001b[31m 34 \u001b[0m\u001b[32m 11 \u001b[0m\u001b[31m 51 \u001b[0m\u001b[32m 88 \u001b[0m\u001b[32m 64\u001b[0m │\n",
       "╰─────────────────────╯\n"
      ]
     },
     "metadata": {},
     "output_type": "display_data"
    },
    {
     "data": {
      "text/html": [
       "<pre style=\"white-space:pre;overflow-x:auto;line-height:normal;font-family:Menlo,'DejaVu Sans Mono',consolas,'Courier New',monospace\">╭──── BingoBoard ─────╮\n",
       "│ <span style=\"color: #800000; text-decoration-color: #800000\"> 63 </span><span style=\"color: #008000; text-decoration-color: #008000\"> 11  86 </span><span style=\"color: #800000; text-decoration-color: #800000\"> 45 </span><span style=\"color: #008000; text-decoration-color: #008000\"> 85</span> │\n",
       "│ <span style=\"color: #008000; text-decoration-color: #008000\"> 96 </span><span style=\"color: #800000; text-decoration-color: #800000\"> 74  66  93  32</span> │\n",
       "│ <span style=\"color: #800000; text-decoration-color: #800000\"> 95  30  99 </span><span style=\"color: #008000; text-decoration-color: #008000\"> 23 </span><span style=\"color: #800000; text-decoration-color: #800000\"> 18</span> │\n",
       "│ <span style=\"color: #800000; text-decoration-color: #800000\"> 69 </span><span style=\"color: #008000; text-decoration-color: #008000\"> 97 </span><span style=\"color: #800000; text-decoration-color: #800000\"> 48  15   1</span> │\n",
       "│ <span style=\"color: #800000; text-decoration-color: #800000\"> 42  87 </span><span style=\"color: #008000; text-decoration-color: #008000\"> 47  83 </span><span style=\"color: #800000; text-decoration-color: #800000\"> 80</span> │\n",
       "╰─────────────────────╯\n",
       "</pre>\n"
      ],
      "text/plain": [
       "╭──── BingoBoard ─────╮\n",
       "│ \u001b[31m 63 \u001b[0m\u001b[32m 11 \u001b[0m\u001b[32m 86 \u001b[0m\u001b[31m 45 \u001b[0m\u001b[32m 85\u001b[0m │\n",
       "│ \u001b[32m 96 \u001b[0m\u001b[31m 74 \u001b[0m\u001b[31m 66 \u001b[0m\u001b[31m 93 \u001b[0m\u001b[31m 32\u001b[0m │\n",
       "│ \u001b[31m 95 \u001b[0m\u001b[31m 30 \u001b[0m\u001b[31m 99 \u001b[0m\u001b[32m 23 \u001b[0m\u001b[31m 18\u001b[0m │\n",
       "│ \u001b[31m 69 \u001b[0m\u001b[32m 97 \u001b[0m\u001b[31m 48 \u001b[0m\u001b[31m 15 \u001b[0m\u001b[31m  1\u001b[0m │\n",
       "│ \u001b[31m 42 \u001b[0m\u001b[31m 87 \u001b[0m\u001b[32m 47 \u001b[0m\u001b[32m 83 \u001b[0m\u001b[31m 80\u001b[0m │\n",
       "╰─────────────────────╯\n"
      ]
     },
     "metadata": {},
     "output_type": "display_data"
    },
    {
     "data": {
      "text/html": [
       "<pre style=\"white-space:pre;overflow-x:auto;line-height:normal;font-family:Menlo,'DejaVu Sans Mono',consolas,'Courier New',monospace\">╭──── BingoBoard ─────╮\n",
       "│ <span style=\"color: #008000; text-decoration-color: #008000\"> 13  79 </span><span style=\"color: #800000; text-decoration-color: #800000\"> 12  71   2</span> │\n",
       "│ <span style=\"color: #800000; text-decoration-color: #800000\"> 60  94  99 </span><span style=\"color: #008000; text-decoration-color: #008000\"> 43  82</span> │\n",
       "│ <span style=\"color: #008000; text-decoration-color: #008000\"> 84 </span><span style=\"color: #800000; text-decoration-color: #800000\"> 89  29  91  87</span> │\n",
       "│ <span style=\"color: #800000; text-decoration-color: #800000\"> 74  80  25  32  21</span> │\n",
       "│ <span style=\"color: #800000; text-decoration-color: #800000\"> 70  14 </span><span style=\"color: #008000; text-decoration-color: #008000\"> 68 </span><span style=\"color: #800000; text-decoration-color: #800000\"> 92 </span><span style=\"color: #008000; text-decoration-color: #008000\"> 11</span> │\n",
       "╰─────────────────────╯\n",
       "</pre>\n"
      ],
      "text/plain": [
       "╭──── BingoBoard ─────╮\n",
       "│ \u001b[32m 13 \u001b[0m\u001b[32m 79 \u001b[0m\u001b[31m 12 \u001b[0m\u001b[31m 71 \u001b[0m\u001b[31m  2\u001b[0m │\n",
       "│ \u001b[31m 60 \u001b[0m\u001b[31m 94 \u001b[0m\u001b[31m 99 \u001b[0m\u001b[32m 43 \u001b[0m\u001b[32m 82\u001b[0m │\n",
       "│ \u001b[32m 84 \u001b[0m\u001b[31m 89 \u001b[0m\u001b[31m 29 \u001b[0m\u001b[31m 91 \u001b[0m\u001b[31m 87\u001b[0m │\n",
       "│ \u001b[31m 74 \u001b[0m\u001b[31m 80 \u001b[0m\u001b[31m 25 \u001b[0m\u001b[31m 32 \u001b[0m\u001b[31m 21\u001b[0m │\n",
       "│ \u001b[31m 70 \u001b[0m\u001b[31m 14 \u001b[0m\u001b[32m 68 \u001b[0m\u001b[31m 92 \u001b[0m\u001b[32m 11\u001b[0m │\n",
       "╰─────────────────────╯\n"
      ]
     },
     "metadata": {},
     "output_type": "display_data"
    },
    {
     "data": {
      "text/html": [
       "<pre style=\"white-space:pre;overflow-x:auto;line-height:normal;font-family:Menlo,'DejaVu Sans Mono',consolas,'Courier New',monospace\">╭──── BingoBoard ─────╮\n",
       "│ <span style=\"color: #008000; text-decoration-color: #008000\"> 34 </span><span style=\"color: #800000; text-decoration-color: #800000\">  8  14 </span><span style=\"color: #008000; text-decoration-color: #008000\"> 42  67</span> │\n",
       "│ <span style=\"color: #008000; text-decoration-color: #008000\"> 66  79 </span><span style=\"color: #800000; text-decoration-color: #800000\"> 65 </span><span style=\"color: #008000; text-decoration-color: #008000\"> 20 </span><span style=\"color: #800000; text-decoration-color: #800000\"> 52</span> │\n",
       "│ <span style=\"color: #800000; text-decoration-color: #800000\"> 37  87  74  24   3</span> │\n",
       "│ <span style=\"color: #800000; text-decoration-color: #800000\"> 59  54  21  32  89</span> │\n",
       "│ <span style=\"color: #800000; text-decoration-color: #800000\"> 31   4  62  76  30</span> │\n",
       "╰─────────────────────╯\n",
       "</pre>\n"
      ],
      "text/plain": [
       "╭──── BingoBoard ─────╮\n",
       "│ \u001b[32m 34 \u001b[0m\u001b[31m  8 \u001b[0m\u001b[31m 14 \u001b[0m\u001b[32m 42 \u001b[0m\u001b[32m 67\u001b[0m │\n",
       "│ \u001b[32m 66 \u001b[0m\u001b[32m 79 \u001b[0m\u001b[31m 65 \u001b[0m\u001b[32m 20 \u001b[0m\u001b[31m 52\u001b[0m │\n",
       "│ \u001b[31m 37 \u001b[0m\u001b[31m 87 \u001b[0m\u001b[31m 74 \u001b[0m\u001b[31m 24 \u001b[0m\u001b[31m  3\u001b[0m │\n",
       "│ \u001b[31m 59 \u001b[0m\u001b[31m 54 \u001b[0m\u001b[31m 21 \u001b[0m\u001b[31m 32 \u001b[0m\u001b[31m 89\u001b[0m │\n",
       "│ \u001b[31m 31 \u001b[0m\u001b[31m  4 \u001b[0m\u001b[31m 62 \u001b[0m\u001b[31m 76 \u001b[0m\u001b[31m 30\u001b[0m │\n",
       "╰─────────────────────╯\n"
      ]
     },
     "metadata": {},
     "output_type": "display_data"
    },
    {
     "data": {
      "text/html": [
       "<pre style=\"white-space:pre;overflow-x:auto;line-height:normal;font-family:Menlo,'DejaVu Sans Mono',consolas,'Courier New',monospace\">Calling <span style=\"color: #008080; text-decoration-color: #008080; font-weight: bold\">68</span>\n",
       "</pre>\n"
      ],
      "text/plain": [
       "Calling \u001b[1;36m68\u001b[0m\n"
      ]
     },
     "metadata": {},
     "output_type": "display_data"
    },
    {
     "data": {
      "text/html": [
       "<pre style=\"white-space:pre;overflow-x:auto;line-height:normal;font-family:Menlo,'DejaVu Sans Mono',consolas,'Courier New',monospace\">╭──── BingoBoard ─────╮\n",
       "│ <span style=\"color: #800000; text-decoration-color: #800000\">  8  72  45  93  68</span> │\n",
       "│ <span style=\"color: #800000; text-decoration-color: #800000\"> 74 </span><span style=\"color: #008000; text-decoration-color: #008000\"> 26  69 </span><span style=\"color: #800000; text-decoration-color: #800000\"> 94  65</span> │\n",
       "│ <span style=\"color: #800000; text-decoration-color: #800000\"> 28 </span><span style=\"color: #008000; text-decoration-color: #008000\">  9  20  47 </span><span style=\"color: #800000; text-decoration-color: #800000\"> 41</span> │\n",
       "│ <span style=\"color: #800000; text-decoration-color: #800000\"> 46  54  21 </span><span style=\"color: #008000; text-decoration-color: #008000\"> 56  22</span> │\n",
       "│ <span style=\"color: #008000; text-decoration-color: #008000\"> 84 </span><span style=\"color: #800000; text-decoration-color: #800000\"> 62  18  15  48</span> │\n",
       "╰─────────────────────╯\n",
       "</pre>\n"
      ],
      "text/plain": [
       "╭──── BingoBoard ─────╮\n",
       "│ \u001b[31m  8 \u001b[0m\u001b[31m 72 \u001b[0m\u001b[31m 45 \u001b[0m\u001b[31m 93 \u001b[0m\u001b[31m 68\u001b[0m │\n",
       "│ \u001b[31m 74 \u001b[0m\u001b[32m 26 \u001b[0m\u001b[32m 69 \u001b[0m\u001b[31m 94 \u001b[0m\u001b[31m 65\u001b[0m │\n",
       "│ \u001b[31m 28 \u001b[0m\u001b[32m  9 \u001b[0m\u001b[32m 20 \u001b[0m\u001b[32m 47 \u001b[0m\u001b[31m 41\u001b[0m │\n",
       "│ \u001b[31m 46 \u001b[0m\u001b[31m 54 \u001b[0m\u001b[31m 21 \u001b[0m\u001b[32m 56 \u001b[0m\u001b[32m 22\u001b[0m │\n",
       "│ \u001b[32m 84 \u001b[0m\u001b[31m 62 \u001b[0m\u001b[31m 18 \u001b[0m\u001b[31m 15 \u001b[0m\u001b[31m 48\u001b[0m │\n",
       "╰─────────────────────╯\n"
      ]
     },
     "metadata": {},
     "output_type": "display_data"
    },
    {
     "data": {
      "text/html": [
       "<pre style=\"white-space:pre;overflow-x:auto;line-height:normal;font-family:Menlo,'DejaVu Sans Mono',consolas,'Courier New',monospace\">╭──── BingoBoard ─────╮\n",
       "│ <span style=\"color: #008000; text-decoration-color: #008000\"> 64 </span><span style=\"color: #800000; text-decoration-color: #800000\"> 24 </span><span style=\"color: #008000; text-decoration-color: #008000\"> 28 </span><span style=\"color: #800000; text-decoration-color: #800000\"> 54 </span><span style=\"color: #008000; text-decoration-color: #008000\"> 53</span> │\n",
       "│ <span style=\"color: #008000; text-decoration-color: #008000\"> 72 </span><span style=\"color: #800000; text-decoration-color: #800000\"> 68   3  73   4</span> │\n",
       "│ <span style=\"color: #800000; text-decoration-color: #800000\"> 83 </span><span style=\"color: #008000; text-decoration-color: #008000\">  6  59 </span><span style=\"color: #800000; text-decoration-color: #800000\"> 66  94</span> │\n",
       "│ <span style=\"color: #800000; text-decoration-color: #800000\"> 87  80  55 </span><span style=\"color: #008000; text-decoration-color: #008000\"> 20 </span><span style=\"color: #800000; text-decoration-color: #800000\"> 16</span> │\n",
       "│ <span style=\"color: #800000; text-decoration-color: #800000\"> 13 </span><span style=\"color: #008000; text-decoration-color: #008000\"> 82 </span><span style=\"color: #800000; text-decoration-color: #800000\"> 74 </span><span style=\"color: #008000; text-decoration-color: #008000\"> 31 </span><span style=\"color: #800000; text-decoration-color: #800000\"> 70</span> │\n",
       "╰─────────────────────╯\n",
       "</pre>\n"
      ],
      "text/plain": [
       "╭──── BingoBoard ─────╮\n",
       "│ \u001b[32m 64 \u001b[0m\u001b[31m 24 \u001b[0m\u001b[32m 28 \u001b[0m\u001b[31m 54 \u001b[0m\u001b[32m 53\u001b[0m │\n",
       "│ \u001b[32m 72 \u001b[0m\u001b[31m 68 \u001b[0m\u001b[31m  3 \u001b[0m\u001b[31m 73 \u001b[0m\u001b[31m  4\u001b[0m │\n",
       "│ \u001b[31m 83 \u001b[0m\u001b[32m  6 \u001b[0m\u001b[32m 59 \u001b[0m\u001b[31m 66 \u001b[0m\u001b[31m 94\u001b[0m │\n",
       "│ \u001b[31m 87 \u001b[0m\u001b[31m 80 \u001b[0m\u001b[31m 55 \u001b[0m\u001b[32m 20 \u001b[0m\u001b[31m 16\u001b[0m │\n",
       "│ \u001b[31m 13 \u001b[0m\u001b[32m 82 \u001b[0m\u001b[31m 74 \u001b[0m\u001b[32m 31 \u001b[0m\u001b[31m 70\u001b[0m │\n",
       "╰─────────────────────╯\n"
      ]
     },
     "metadata": {},
     "output_type": "display_data"
    },
    {
     "data": {
      "text/html": [
       "<pre style=\"white-space:pre;overflow-x:auto;line-height:normal;font-family:Menlo,'DejaVu Sans Mono',consolas,'Courier New',monospace\">╭──── BingoBoard ─────╮\n",
       "│ <span style=\"color: #800000; text-decoration-color: #800000\"> 46  16  45  95  68</span> │\n",
       "│ <span style=\"color: #008000; text-decoration-color: #008000\">  6 </span><span style=\"color: #800000; text-decoration-color: #800000\"> 44 </span><span style=\"color: #008000; text-decoration-color: #008000\"> 31  47 </span><span style=\"color: #800000; text-decoration-color: #800000\"> 73</span> │\n",
       "│ <span style=\"color: #800000; text-decoration-color: #800000\"> 84 </span><span style=\"color: #008000; text-decoration-color: #008000\"> 82 </span><span style=\"color: #800000; text-decoration-color: #800000\"> 71 </span><span style=\"color: #008000; text-decoration-color: #008000\"> 75 </span><span style=\"color: #800000; text-decoration-color: #800000\"> 94</span> │\n",
       "│ <span style=\"color: #800000; text-decoration-color: #800000\"> 26  25  17  32 </span><span style=\"color: #008000; text-decoration-color: #008000\"> 49</span> │\n",
       "│ <span style=\"color: #008000; text-decoration-color: #008000\"> 18 </span><span style=\"color: #800000; text-decoration-color: #800000\"> 96 </span><span style=\"color: #008000; text-decoration-color: #008000\"> 13  58   9</span> │\n",
       "╰─────────────────────╯\n",
       "</pre>\n"
      ],
      "text/plain": [
       "╭──── BingoBoard ─────╮\n",
       "│ \u001b[31m 46 \u001b[0m\u001b[31m 16 \u001b[0m\u001b[31m 45 \u001b[0m\u001b[31m 95 \u001b[0m\u001b[31m 68\u001b[0m │\n",
       "│ \u001b[32m  6 \u001b[0m\u001b[31m 44 \u001b[0m\u001b[32m 31 \u001b[0m\u001b[32m 47 \u001b[0m\u001b[31m 73\u001b[0m │\n",
       "│ \u001b[31m 84 \u001b[0m\u001b[32m 82 \u001b[0m\u001b[31m 71 \u001b[0m\u001b[32m 75 \u001b[0m\u001b[31m 94\u001b[0m │\n",
       "│ \u001b[31m 26 \u001b[0m\u001b[31m 25 \u001b[0m\u001b[31m 17 \u001b[0m\u001b[31m 32 \u001b[0m\u001b[32m 49\u001b[0m │\n",
       "│ \u001b[32m 18 \u001b[0m\u001b[31m 96 \u001b[0m\u001b[32m 13 \u001b[0m\u001b[32m 58 \u001b[0m\u001b[32m  9\u001b[0m │\n",
       "╰─────────────────────╯\n"
      ]
     },
     "metadata": {},
     "output_type": "display_data"
    },
    {
     "data": {
      "text/html": [
       "<pre style=\"white-space:pre;overflow-x:auto;line-height:normal;font-family:Menlo,'DejaVu Sans Mono',consolas,'Courier New',monospace\">Calling <span style=\"color: #008080; text-decoration-color: #008080; font-weight: bold\">75</span>\n",
       "</pre>\n"
      ],
      "text/plain": [
       "Calling \u001b[1;36m75\u001b[0m\n"
      ]
     },
     "metadata": {},
     "output_type": "display_data"
    },
    {
     "data": {
      "text/html": [
       "<pre style=\"white-space:pre;overflow-x:auto;line-height:normal;font-family:Menlo,'DejaVu Sans Mono',consolas,'Courier New',monospace\">╭──── BingoBoard ─────╮\n",
       "│ <span style=\"color: #800000; text-decoration-color: #800000\">  5  75  44 </span><span style=\"color: #008000; text-decoration-color: #008000\"> 88 </span><span style=\"color: #800000; text-decoration-color: #800000\"> 65</span> │\n",
       "│ <span style=\"color: #800000; text-decoration-color: #800000\"> 89  45 </span><span style=\"color: #008000; text-decoration-color: #008000\"> 23  69  19</span> │\n",
       "│ <span style=\"color: #008000; text-decoration-color: #008000\"> 41 </span><span style=\"color: #800000; text-decoration-color: #800000\"> 61 </span><span style=\"color: #008000; text-decoration-color: #008000\"> 67 </span><span style=\"color: #800000; text-decoration-color: #800000\"> 52  54</span> │\n",
       "│ <span style=\"color: #800000; text-decoration-color: #800000\"> 47  38 </span><span style=\"color: #008000; text-decoration-color: #008000\"> 57 </span><span style=\"color: #800000; text-decoration-color: #800000\"> 12  98</span> │\n",
       "│ <span style=\"color: #800000; text-decoration-color: #800000\"> 62  70 </span><span style=\"color: #008000; text-decoration-color: #008000\"> 26 </span><span style=\"color: #800000; text-decoration-color: #800000\"> 87 </span><span style=\"color: #008000; text-decoration-color: #008000\"> 53</span> │\n",
       "╰─────────────────────╯\n",
       "</pre>\n"
      ],
      "text/plain": [
       "╭──── BingoBoard ─────╮\n",
       "│ \u001b[31m  5 \u001b[0m\u001b[31m 75 \u001b[0m\u001b[31m 44 \u001b[0m\u001b[32m 88 \u001b[0m\u001b[31m 65\u001b[0m │\n",
       "│ \u001b[31m 89 \u001b[0m\u001b[31m 45 \u001b[0m\u001b[32m 23 \u001b[0m\u001b[32m 69 \u001b[0m\u001b[32m 19\u001b[0m │\n",
       "│ \u001b[32m 41 \u001b[0m\u001b[31m 61 \u001b[0m\u001b[32m 67 \u001b[0m\u001b[31m 52 \u001b[0m\u001b[31m 54\u001b[0m │\n",
       "│ \u001b[31m 47 \u001b[0m\u001b[31m 38 \u001b[0m\u001b[32m 57 \u001b[0m\u001b[31m 12 \u001b[0m\u001b[31m 98\u001b[0m │\n",
       "│ \u001b[31m 62 \u001b[0m\u001b[31m 70 \u001b[0m\u001b[32m 26 \u001b[0m\u001b[31m 87 \u001b[0m\u001b[32m 53\u001b[0m │\n",
       "╰─────────────────────╯\n"
      ]
     },
     "metadata": {},
     "output_type": "display_data"
    },
    {
     "data": {
      "text/html": [
       "<pre style=\"white-space:pre;overflow-x:auto;line-height:normal;font-family:Menlo,'DejaVu Sans Mono',consolas,'Courier New',monospace\">╭──── BingoBoard ─────╮\n",
       "│ <span style=\"color: #008000; text-decoration-color: #008000\"> 56 </span><span style=\"color: #800000; text-decoration-color: #800000\"> 94 </span><span style=\"color: #008000; text-decoration-color: #008000\"> 79  53   7</span> │\n",
       "│ <span style=\"color: #008000; text-decoration-color: #008000\"> 24 </span><span style=\"color: #800000; text-decoration-color: #800000\"> 12 </span><span style=\"color: #008000; text-decoration-color: #008000\"> 19   6 </span><span style=\"color: #800000; text-decoration-color: #800000\"> 99</span> │\n",
       "│ <span style=\"color: #800000; text-decoration-color: #800000\"> 82  51  41  46 </span><span style=\"color: #008000; text-decoration-color: #008000\"> 43</span> │\n",
       "│ <span style=\"color: #008000; text-decoration-color: #008000\"> 17  49 </span><span style=\"color: #800000; text-decoration-color: #800000\"> 52  78  55</span> │\n",
       "│ <span style=\"color: #800000; text-decoration-color: #800000\"> 75  48  61  70  87</span> │\n",
       "╰─────────────────────╯\n",
       "</pre>\n"
      ],
      "text/plain": [
       "╭──── BingoBoard ─────╮\n",
       "│ \u001b[32m 56 \u001b[0m\u001b[31m 94 \u001b[0m\u001b[32m 79 \u001b[0m\u001b[32m 53 \u001b[0m\u001b[32m  7\u001b[0m │\n",
       "│ \u001b[32m 24 \u001b[0m\u001b[31m 12 \u001b[0m\u001b[32m 19 \u001b[0m\u001b[32m  6 \u001b[0m\u001b[31m 99\u001b[0m │\n",
       "│ \u001b[31m 82 \u001b[0m\u001b[31m 51 \u001b[0m\u001b[31m 41 \u001b[0m\u001b[31m 46 \u001b[0m\u001b[32m 43\u001b[0m │\n",
       "│ \u001b[32m 17 \u001b[0m\u001b[32m 49 \u001b[0m\u001b[31m 52 \u001b[0m\u001b[31m 78 \u001b[0m\u001b[31m 55\u001b[0m │\n",
       "│ \u001b[31m 75 \u001b[0m\u001b[31m 48 \u001b[0m\u001b[31m 61 \u001b[0m\u001b[31m 70 \u001b[0m\u001b[31m 87\u001b[0m │\n",
       "╰─────────────────────╯\n"
      ]
     },
     "metadata": {},
     "output_type": "display_data"
    },
    {
     "data": {
      "text/html": [
       "<pre style=\"white-space:pre;overflow-x:auto;line-height:normal;font-family:Menlo,'DejaVu Sans Mono',consolas,'Courier New',monospace\">╭──── BingoBoard ─────╮\n",
       "│ <span style=\"color: #008000; text-decoration-color: #008000\"> 11 </span><span style=\"color: #800000; text-decoration-color: #800000\"> 93   8  92  55</span> │\n",
       "│ <span style=\"color: #800000; text-decoration-color: #800000\"> 38  72  99   3 </span><span style=\"color: #008000; text-decoration-color: #008000\"> 83</span> │\n",
       "│ <span style=\"color: #008000; text-decoration-color: #008000\"> 12 </span><span style=\"color: #800000; text-decoration-color: #800000\"> 75   0  41  46</span> │\n",
       "│ <span style=\"color: #800000; text-decoration-color: #800000\"> 17  25   5 </span><span style=\"color: #008000; text-decoration-color: #008000\"> 39 </span><span style=\"color: #800000; text-decoration-color: #800000\"> 48</span> │\n",
       "│ <span style=\"color: #800000; text-decoration-color: #800000\"> 14  18 </span><span style=\"color: #008000; text-decoration-color: #008000\"> 86 </span><span style=\"color: #800000; text-decoration-color: #800000\"> 29 </span><span style=\"color: #008000; text-decoration-color: #008000\"> 84</span> │\n",
       "╰─────────────────────╯\n",
       "</pre>\n"
      ],
      "text/plain": [
       "╭──── BingoBoard ─────╮\n",
       "│ \u001b[32m 11 \u001b[0m\u001b[31m 93 \u001b[0m\u001b[31m  8 \u001b[0m\u001b[31m 92 \u001b[0m\u001b[31m 55\u001b[0m │\n",
       "│ \u001b[31m 38 \u001b[0m\u001b[31m 72 \u001b[0m\u001b[31m 99 \u001b[0m\u001b[31m  3 \u001b[0m\u001b[32m 83\u001b[0m │\n",
       "│ \u001b[32m 12 \u001b[0m\u001b[31m 75 \u001b[0m\u001b[31m  0 \u001b[0m\u001b[31m 41 \u001b[0m\u001b[31m 46\u001b[0m │\n",
       "│ \u001b[31m 17 \u001b[0m\u001b[31m 25 \u001b[0m\u001b[31m  5 \u001b[0m\u001b[32m 39 \u001b[0m\u001b[31m 48\u001b[0m │\n",
       "│ \u001b[31m 14 \u001b[0m\u001b[31m 18 \u001b[0m\u001b[32m 86 \u001b[0m\u001b[31m 29 \u001b[0m\u001b[32m 84\u001b[0m │\n",
       "╰─────────────────────╯\n"
      ]
     },
     "metadata": {},
     "output_type": "display_data"
    },
    {
     "data": {
      "text/html": [
       "<pre style=\"white-space:pre;overflow-x:auto;line-height:normal;font-family:Menlo,'DejaVu Sans Mono',consolas,'Courier New',monospace\">╭──── BingoBoard ─────╮\n",
       "│ <span style=\"color: #008000; text-decoration-color: #008000\"> 85 </span><span style=\"color: #800000; text-decoration-color: #800000\"> 96  40  98  24</span> │\n",
       "│ <span style=\"color: #800000; text-decoration-color: #800000\"> 16 </span><span style=\"color: #008000; text-decoration-color: #008000\"> 20  10  23 </span><span style=\"color: #800000; text-decoration-color: #800000\"> 17</span> │\n",
       "│ <span style=\"color: #800000; text-decoration-color: #800000\"> 79 </span><span style=\"color: #008000; text-decoration-color: #008000\"> 59  53  42 </span><span style=\"color: #800000; text-decoration-color: #800000\"> 65</span> │\n",
       "│ <span style=\"color: #800000; text-decoration-color: #800000\"> 67   2   5  80  75</span> │\n",
       "│ <span style=\"color: #800000; text-decoration-color: #800000\"> 62  38 </span><span style=\"color: #008000; text-decoration-color: #008000\"> 19 </span><span style=\"color: #800000; text-decoration-color: #800000\"> 74  73</span> │\n",
       "╰─────────────────────╯\n",
       "</pre>\n"
      ],
      "text/plain": [
       "╭──── BingoBoard ─────╮\n",
       "│ \u001b[32m 85 \u001b[0m\u001b[31m 96 \u001b[0m\u001b[31m 40 \u001b[0m\u001b[31m 98 \u001b[0m\u001b[31m 24\u001b[0m │\n",
       "│ \u001b[31m 16 \u001b[0m\u001b[32m 20 \u001b[0m\u001b[32m 10 \u001b[0m\u001b[32m 23 \u001b[0m\u001b[31m 17\u001b[0m │\n",
       "│ \u001b[31m 79 \u001b[0m\u001b[32m 59 \u001b[0m\u001b[32m 53 \u001b[0m\u001b[32m 42 \u001b[0m\u001b[31m 65\u001b[0m │\n",
       "│ \u001b[31m 67 \u001b[0m\u001b[31m  2 \u001b[0m\u001b[31m  5 \u001b[0m\u001b[31m 80 \u001b[0m\u001b[31m 75\u001b[0m │\n",
       "│ \u001b[31m 62 \u001b[0m\u001b[31m 38 \u001b[0m\u001b[32m 19 \u001b[0m\u001b[31m 74 \u001b[0m\u001b[31m 73\u001b[0m │\n",
       "╰─────────────────────╯\n"
      ]
     },
     "metadata": {},
     "output_type": "display_data"
    },
    {
     "data": {
      "text/html": [
       "<pre style=\"white-space:pre;overflow-x:auto;line-height:normal;font-family:Menlo,'DejaVu Sans Mono',consolas,'Courier New',monospace\">╭──── BingoBoard ─────╮\n",
       "│ <span style=\"color: #008000; text-decoration-color: #008000\"> 43  10  79 </span><span style=\"color: #800000; text-decoration-color: #800000\"> 92   8</span> │\n",
       "│ <span style=\"color: #800000; text-decoration-color: #800000\"> 52 </span><span style=\"color: #008000; text-decoration-color: #008000\"> 36 </span><span style=\"color: #800000; text-decoration-color: #800000\">  4   5 </span><span style=\"color: #008000; text-decoration-color: #008000\"> 67</span> │\n",
       "│ <span style=\"color: #008000; text-decoration-color: #008000\"> 56 </span><span style=\"color: #800000; text-decoration-color: #800000\"> 29  33  24 </span><span style=\"color: #008000; text-decoration-color: #008000\"> 97</span> │\n",
       "│ <span style=\"color: #008000; text-decoration-color: #008000\"> 85 </span><span style=\"color: #800000; text-decoration-color: #800000\"> 17 </span><span style=\"color: #008000; text-decoration-color: #008000\"> 53 </span><span style=\"color: #800000; text-decoration-color: #800000\"> 75  65</span> │\n",
       "│ <span style=\"color: #800000; text-decoration-color: #800000\"> 62 </span><span style=\"color: #008000; text-decoration-color: #008000\"> 64 </span><span style=\"color: #800000; text-decoration-color: #800000\">  1  21 </span><span style=\"color: #008000; text-decoration-color: #008000\"> 83</span> │\n",
       "╰─────────────────────╯\n",
       "</pre>\n"
      ],
      "text/plain": [
       "╭──── BingoBoard ─────╮\n",
       "│ \u001b[32m 43 \u001b[0m\u001b[32m 10 \u001b[0m\u001b[32m 79 \u001b[0m\u001b[31m 92 \u001b[0m\u001b[31m  8\u001b[0m │\n",
       "│ \u001b[31m 52 \u001b[0m\u001b[32m 36 \u001b[0m\u001b[31m  4 \u001b[0m\u001b[31m  5 \u001b[0m\u001b[32m 67\u001b[0m │\n",
       "│ \u001b[32m 56 \u001b[0m\u001b[31m 29 \u001b[0m\u001b[31m 33 \u001b[0m\u001b[31m 24 \u001b[0m\u001b[32m 97\u001b[0m │\n",
       "│ \u001b[32m 85 \u001b[0m\u001b[31m 17 \u001b[0m\u001b[32m 53 \u001b[0m\u001b[31m 75 \u001b[0m\u001b[31m 65\u001b[0m │\n",
       "│ \u001b[31m 62 \u001b[0m\u001b[32m 64 \u001b[0m\u001b[31m  1 \u001b[0m\u001b[31m 21 \u001b[0m\u001b[32m 83\u001b[0m │\n",
       "╰─────────────────────╯\n"
      ]
     },
     "metadata": {},
     "output_type": "display_data"
    },
    {
     "data": {
      "text/html": [
       "<pre style=\"white-space:pre;overflow-x:auto;line-height:normal;font-family:Menlo,'DejaVu Sans Mono',consolas,'Courier New',monospace\">Calling <span style=\"color: #008080; text-decoration-color: #008080; font-weight: bold\">67</span>\n",
       "</pre>\n"
      ],
      "text/plain": [
       "Calling \u001b[1;36m67\u001b[0m\n"
      ]
     },
     "metadata": {},
     "output_type": "display_data"
    },
    {
     "data": {
      "text/html": [
       "<pre style=\"white-space:pre;overflow-x:auto;line-height:normal;font-family:Menlo,'DejaVu Sans Mono',consolas,'Courier New',monospace\">╭──── BingoBoard ─────╮\n",
       "│ <span style=\"color: #008000; text-decoration-color: #008000\"> 31 </span><span style=\"color: #800000; text-decoration-color: #800000\">  4   3  62  51</span> │\n",
       "│ <span style=\"color: #800000; text-decoration-color: #800000\"> 24 </span><span style=\"color: #008000; text-decoration-color: #008000\"> 57 </span><span style=\"color: #800000; text-decoration-color: #800000\"> 78  67 </span><span style=\"color: #008000; text-decoration-color: #008000\"> 53</span> │\n",
       "│ <span style=\"color: #008000; text-decoration-color: #008000\"> 13 </span><span style=\"color: #800000; text-decoration-color: #800000\">  5  76  38  55</span> │\n",
       "│ <span style=\"color: #800000; text-decoration-color: #800000\"> 79 </span><span style=\"color: #008000; text-decoration-color: #008000\">  9 </span><span style=\"color: #800000; text-decoration-color: #800000\"> 75  98  71</span> │\n",
       "│ <span style=\"color: #800000; text-decoration-color: #800000\"> 65   1 </span><span style=\"color: #008000; text-decoration-color: #008000\"> 39 </span><span style=\"color: #800000; text-decoration-color: #800000\"> 18 </span><span style=\"color: #008000; text-decoration-color: #008000\"> 47</span> │\n",
       "╰─────────────────────╯\n",
       "</pre>\n"
      ],
      "text/plain": [
       "╭──── BingoBoard ─────╮\n",
       "│ \u001b[32m 31 \u001b[0m\u001b[31m  4 \u001b[0m\u001b[31m  3 \u001b[0m\u001b[31m 62 \u001b[0m\u001b[31m 51\u001b[0m │\n",
       "│ \u001b[31m 24 \u001b[0m\u001b[32m 57 \u001b[0m\u001b[31m 78 \u001b[0m\u001b[31m 67 \u001b[0m\u001b[32m 53\u001b[0m │\n",
       "│ \u001b[32m 13 \u001b[0m\u001b[31m  5 \u001b[0m\u001b[31m 76 \u001b[0m\u001b[31m 38 \u001b[0m\u001b[31m 55\u001b[0m │\n",
       "│ \u001b[31m 79 \u001b[0m\u001b[32m  9 \u001b[0m\u001b[31m 75 \u001b[0m\u001b[31m 98 \u001b[0m\u001b[31m 71\u001b[0m │\n",
       "│ \u001b[31m 65 \u001b[0m\u001b[31m  1 \u001b[0m\u001b[32m 39 \u001b[0m\u001b[31m 18 \u001b[0m\u001b[32m 47\u001b[0m │\n",
       "╰─────────────────────╯\n"
      ]
     },
     "metadata": {},
     "output_type": "display_data"
    },
    {
     "data": {
      "text/html": [
       "<pre style=\"white-space:pre;overflow-x:auto;line-height:normal;font-family:Menlo,'DejaVu Sans Mono',consolas,'Courier New',monospace\">╭──── BingoBoard ─────╮\n",
       "│ <span style=\"color: #800000; text-decoration-color: #800000\"> 21  37  14  67  95</span> │\n",
       "│ <span style=\"color: #008000; text-decoration-color: #008000\"> 88  39  26 </span><span style=\"color: #800000; text-decoration-color: #800000\"> 38 </span><span style=\"color: #008000; text-decoration-color: #008000\"> 49</span> │\n",
       "│ <span style=\"color: #008000; text-decoration-color: #008000\"> 89  83 </span><span style=\"color: #800000; text-decoration-color: #800000\"> 54  77  96</span> │\n",
       "│ <span style=\"color: #800000; text-decoration-color: #800000\"> 48 </span><span style=\"color: #008000; text-decoration-color: #008000\"> 86 </span><span style=\"color: #800000; text-decoration-color: #800000\"> 94 </span><span style=\"color: #008000; text-decoration-color: #008000\"> 19  20</span> │\n",
       "│ <span style=\"color: #008000; text-decoration-color: #008000\"> 43 </span><span style=\"color: #800000; text-decoration-color: #800000\"> 41   8  74 </span><span style=\"color: #008000; text-decoration-color: #008000\"> 58</span> │\n",
       "╰─────────────────────╯\n",
       "</pre>\n"
      ],
      "text/plain": [
       "╭──── BingoBoard ─────╮\n",
       "│ \u001b[31m 21 \u001b[0m\u001b[31m 37 \u001b[0m\u001b[31m 14 \u001b[0m\u001b[31m 67 \u001b[0m\u001b[31m 95\u001b[0m │\n",
       "│ \u001b[32m 88 \u001b[0m\u001b[32m 39 \u001b[0m\u001b[32m 26 \u001b[0m\u001b[31m 38 \u001b[0m\u001b[32m 49\u001b[0m │\n",
       "│ \u001b[32m 89 \u001b[0m\u001b[32m 83 \u001b[0m\u001b[31m 54 \u001b[0m\u001b[31m 77 \u001b[0m\u001b[31m 96\u001b[0m │\n",
       "│ \u001b[31m 48 \u001b[0m\u001b[32m 86 \u001b[0m\u001b[31m 94 \u001b[0m\u001b[32m 19 \u001b[0m\u001b[32m 20\u001b[0m │\n",
       "│ \u001b[32m 43 \u001b[0m\u001b[31m 41 \u001b[0m\u001b[31m  8 \u001b[0m\u001b[31m 74 \u001b[0m\u001b[32m 58\u001b[0m │\n",
       "╰─────────────────────╯\n"
      ]
     },
     "metadata": {},
     "output_type": "display_data"
    },
    {
     "data": {
      "text/html": [
       "<pre style=\"white-space:pre;overflow-x:auto;line-height:normal;font-family:Menlo,'DejaVu Sans Mono',consolas,'Courier New',monospace\">Calling <span style=\"color: #008080; text-decoration-color: #008080; font-weight: bold\">39</span>\n",
       "</pre>\n"
      ],
      "text/plain": [
       "Calling \u001b[1;36m39\u001b[0m\n"
      ]
     },
     "metadata": {},
     "output_type": "display_data"
    },
    {
     "data": {
      "text/html": [
       "<pre style=\"white-space:pre;overflow-x:auto;line-height:normal;font-family:Menlo,'DejaVu Sans Mono',consolas,'Courier New',monospace\">╭──── BingoBoard ─────╮\n",
       "│ <span style=\"color: #800000; text-decoration-color: #800000\">  1 </span><span style=\"color: #008000; text-decoration-color: #008000\"> 36 </span><span style=\"color: #800000; text-decoration-color: #800000\"> 12 </span><span style=\"color: #008000; text-decoration-color: #008000\"> 90 </span><span style=\"color: #800000; text-decoration-color: #800000\"> 91</span> │\n",
       "│ <span style=\"color: #800000; text-decoration-color: #800000\"> 63  21  98 </span><span style=\"color: #008000; text-decoration-color: #008000\"> 82 </span><span style=\"color: #800000; text-decoration-color: #800000\"> 66</span> │\n",
       "│ <span style=\"color: #800000; text-decoration-color: #800000\"> 39 </span><span style=\"color: #008000; text-decoration-color: #008000\"> 86   7 </span><span style=\"color: #800000; text-decoration-color: #800000\"> 52  77</span> │\n",
       "│ <span style=\"color: #800000; text-decoration-color: #800000\"> 80  81  44  33 </span><span style=\"color: #008000; text-decoration-color: #008000\"> 58</span> │\n",
       "│ <span style=\"color: #008000; text-decoration-color: #008000\"> 78 </span><span style=\"color: #800000; text-decoration-color: #800000\"> 30 </span><span style=\"color: #008000; text-decoration-color: #008000\"> 11 </span><span style=\"color: #800000; text-decoration-color: #800000\"> 51 </span><span style=\"color: #008000; text-decoration-color: #008000\"> 28</span> │\n",
       "╰─────────────────────╯\n",
       "</pre>\n"
      ],
      "text/plain": [
       "╭──── BingoBoard ─────╮\n",
       "│ \u001b[31m  1 \u001b[0m\u001b[32m 36 \u001b[0m\u001b[31m 12 \u001b[0m\u001b[32m 90 \u001b[0m\u001b[31m 91\u001b[0m │\n",
       "│ \u001b[31m 63 \u001b[0m\u001b[31m 21 \u001b[0m\u001b[31m 98 \u001b[0m\u001b[32m 82 \u001b[0m\u001b[31m 66\u001b[0m │\n",
       "│ \u001b[31m 39 \u001b[0m\u001b[32m 86 \u001b[0m\u001b[32m  7 \u001b[0m\u001b[31m 52 \u001b[0m\u001b[31m 77\u001b[0m │\n",
       "│ \u001b[31m 80 \u001b[0m\u001b[31m 81 \u001b[0m\u001b[31m 44 \u001b[0m\u001b[31m 33 \u001b[0m\u001b[32m 58\u001b[0m │\n",
       "│ \u001b[32m 78 \u001b[0m\u001b[31m 30 \u001b[0m\u001b[32m 11 \u001b[0m\u001b[31m 51 \u001b[0m\u001b[32m 28\u001b[0m │\n",
       "╰─────────────────────╯\n"
      ]
     },
     "metadata": {},
     "output_type": "display_data"
    },
    {
     "data": {
      "text/html": [
       "<pre style=\"white-space:pre;overflow-x:auto;line-height:normal;font-family:Menlo,'DejaVu Sans Mono',consolas,'Courier New',monospace\">╭──── BingoBoard ─────╮\n",
       "│ <span style=\"color: #008000; text-decoration-color: #008000\"> 47  43 </span><span style=\"color: #800000; text-decoration-color: #800000\"> 72 </span><span style=\"color: #008000; text-decoration-color: #008000\"> 22 </span><span style=\"color: #800000; text-decoration-color: #800000\">  3</span> │\n",
       "│ <span style=\"color: #800000; text-decoration-color: #800000\"> 19  87 </span><span style=\"color: #008000; text-decoration-color: #008000\"> 53 </span><span style=\"color: #800000; text-decoration-color: #800000\"> 12  60</span> │\n",
       "│ <span style=\"color: #800000; text-decoration-color: #800000\"> 29  40 </span><span style=\"color: #008000; text-decoration-color: #008000\"> 56 </span><span style=\"color: #800000; text-decoration-color: #800000\"> 68  18</span> │\n",
       "│ <span style=\"color: #800000; text-decoration-color: #800000\"> 66 </span><span style=\"color: #008000; text-decoration-color: #008000\"> 97 </span><span style=\"color: #800000; text-decoration-color: #800000\"> 70  33  39</span> │\n",
       "│ <span style=\"color: #800000; text-decoration-color: #800000\"> 85  37   0 </span><span style=\"color: #008000; text-decoration-color: #008000\"> 90 </span><span style=\"color: #800000; text-decoration-color: #800000\"> 98</span> │\n",
       "╰─────────────────────╯\n",
       "</pre>\n"
      ],
      "text/plain": [
       "╭──── BingoBoard ─────╮\n",
       "│ \u001b[32m 47 \u001b[0m\u001b[32m 43 \u001b[0m\u001b[31m 72 \u001b[0m\u001b[32m 22 \u001b[0m\u001b[31m  3\u001b[0m │\n",
       "│ \u001b[31m 19 \u001b[0m\u001b[31m 87 \u001b[0m\u001b[32m 53 \u001b[0m\u001b[31m 12 \u001b[0m\u001b[31m 60\u001b[0m │\n",
       "│ \u001b[31m 29 \u001b[0m\u001b[31m 40 \u001b[0m\u001b[32m 56 \u001b[0m\u001b[31m 68 \u001b[0m\u001b[31m 18\u001b[0m │\n",
       "│ \u001b[31m 66 \u001b[0m\u001b[32m 97 \u001b[0m\u001b[31m 70 \u001b[0m\u001b[31m 33 \u001b[0m\u001b[31m 39\u001b[0m │\n",
       "│ \u001b[31m 85 \u001b[0m\u001b[31m 37 \u001b[0m\u001b[31m  0 \u001b[0m\u001b[32m 90 \u001b[0m\u001b[31m 98\u001b[0m │\n",
       "╰─────────────────────╯\n"
      ]
     },
     "metadata": {},
     "output_type": "display_data"
    },
    {
     "data": {
      "text/html": [
       "<pre style=\"white-space:pre;overflow-x:auto;line-height:normal;font-family:Menlo,'DejaVu Sans Mono',consolas,'Courier New',monospace\">Calling <span style=\"color: #008080; text-decoration-color: #008080; font-weight: bold\">64</span>\n",
       "</pre>\n"
      ],
      "text/plain": [
       "Calling \u001b[1;36m64\u001b[0m\n"
      ]
     },
     "metadata": {},
     "output_type": "display_data"
    },
    {
     "data": {
      "text/html": [
       "<pre style=\"white-space:pre;overflow-x:auto;line-height:normal;font-family:Menlo,'DejaVu Sans Mono',consolas,'Courier New',monospace\">╭──── BingoBoard ─────╮\n",
       "│ <span style=\"color: #008000; text-decoration-color: #008000\"> 79 </span><span style=\"color: #800000; text-decoration-color: #800000\"> 70  92  38 </span><span style=\"color: #008000; text-decoration-color: #008000\"> 47</span> │\n",
       "│ <span style=\"color: #008000; text-decoration-color: #008000\"> 12  82 </span><span style=\"color: #800000; text-decoration-color: #800000\"> 98  46   0</span> │\n",
       "│ <span style=\"color: #800000; text-decoration-color: #800000\"> 76  15 </span><span style=\"color: #008000; text-decoration-color: #008000\"> 53  59  97</span> │\n",
       "│ <span style=\"color: #008000; text-decoration-color: #008000\"> 18 </span><span style=\"color: #800000; text-decoration-color: #800000\"> 52 </span><span style=\"color: #008000; text-decoration-color: #008000\"> 49 </span><span style=\"color: #800000; text-decoration-color: #800000\"> 29  96</span> │\n",
       "│ <span style=\"color: #800000; text-decoration-color: #800000\"> 44  64  68  89  24</span> │\n",
       "╰─────────────────────╯\n",
       "</pre>\n"
      ],
      "text/plain": [
       "╭──── BingoBoard ─────╮\n",
       "│ \u001b[32m 79 \u001b[0m\u001b[31m 70 \u001b[0m\u001b[31m 92 \u001b[0m\u001b[31m 38 \u001b[0m\u001b[32m 47\u001b[0m │\n",
       "│ \u001b[32m 12 \u001b[0m\u001b[32m 82 \u001b[0m\u001b[31m 98 \u001b[0m\u001b[31m 46 \u001b[0m\u001b[31m  0\u001b[0m │\n",
       "│ \u001b[31m 76 \u001b[0m\u001b[31m 15 \u001b[0m\u001b[32m 53 \u001b[0m\u001b[32m 59 \u001b[0m\u001b[32m 97\u001b[0m │\n",
       "│ \u001b[32m 18 \u001b[0m\u001b[31m 52 \u001b[0m\u001b[32m 49 \u001b[0m\u001b[31m 29 \u001b[0m\u001b[31m 96\u001b[0m │\n",
       "│ \u001b[31m 44 \u001b[0m\u001b[31m 64 \u001b[0m\u001b[31m 68 \u001b[0m\u001b[31m 89 \u001b[0m\u001b[31m 24\u001b[0m │\n",
       "╰─────────────────────╯\n"
      ]
     },
     "metadata": {},
     "output_type": "display_data"
    },
    {
     "data": {
      "text/html": [
       "<pre style=\"white-space:pre;overflow-x:auto;line-height:normal;font-family:Menlo,'DejaVu Sans Mono',consolas,'Courier New',monospace\">Calling <span style=\"color: #008080; text-decoration-color: #008080; font-weight: bold\">10</span>\n",
       "</pre>\n"
      ],
      "text/plain": [
       "Calling \u001b[1;36m10\u001b[0m\n"
      ]
     },
     "metadata": {},
     "output_type": "display_data"
    },
    {
     "data": {
      "text/html": [
       "<pre style=\"white-space:pre;overflow-x:auto;line-height:normal;font-family:Menlo,'DejaVu Sans Mono',consolas,'Courier New',monospace\">╭──── BingoBoard ─────╮\n",
       "│ <span style=\"color: #800000; text-decoration-color: #800000\"> 38 </span><span style=\"color: #008000; text-decoration-color: #008000\"> 11 </span><span style=\"color: #800000; text-decoration-color: #800000\"> 54 </span><span style=\"color: #008000; text-decoration-color: #008000\"> 23 </span><span style=\"color: #800000; text-decoration-color: #800000\">  2</span> │\n",
       "│ <span style=\"color: #800000; text-decoration-color: #800000\"> 33  14  10  96  63</span> │\n",
       "│ <span style=\"color: #800000; text-decoration-color: #800000\"> 43   5 </span><span style=\"color: #008000; text-decoration-color: #008000\"> 36  20 </span><span style=\"color: #800000; text-decoration-color: #800000\"> 30</span> │\n",
       "│ <span style=\"color: #800000; text-decoration-color: #800000\"> 70 </span><span style=\"color: #008000; text-decoration-color: #008000\"> 53 </span><span style=\"color: #800000; text-decoration-color: #800000\"> 66  71 </span><span style=\"color: #008000; text-decoration-color: #008000\">  9</span> │\n",
       "│ <span style=\"color: #008000; text-decoration-color: #008000\"> 91  90 </span><span style=\"color: #800000; text-decoration-color: #800000\"> 21 </span><span style=\"color: #008000; text-decoration-color: #008000\">  7  88</span> │\n",
       "╰─────────────────────╯\n",
       "</pre>\n"
      ],
      "text/plain": [
       "╭──── BingoBoard ─────╮\n",
       "│ \u001b[31m 38 \u001b[0m\u001b[32m 11 \u001b[0m\u001b[31m 54 \u001b[0m\u001b[32m 23 \u001b[0m\u001b[31m  2\u001b[0m │\n",
       "│ \u001b[31m 33 \u001b[0m\u001b[31m 14 \u001b[0m\u001b[31m 10 \u001b[0m\u001b[31m 96 \u001b[0m\u001b[31m 63\u001b[0m │\n",
       "│ \u001b[31m 43 \u001b[0m\u001b[31m  5 \u001b[0m\u001b[32m 36 \u001b[0m\u001b[32m 20 \u001b[0m\u001b[31m 30\u001b[0m │\n",
       "│ \u001b[31m 70 \u001b[0m\u001b[32m 53 \u001b[0m\u001b[31m 66 \u001b[0m\u001b[31m 71 \u001b[0m\u001b[32m  9\u001b[0m │\n",
       "│ \u001b[32m 91 \u001b[0m\u001b[32m 90 \u001b[0m\u001b[31m 21 \u001b[0m\u001b[32m  7 \u001b[0m\u001b[32m 88\u001b[0m │\n",
       "╰─────────────────────╯\n"
      ]
     },
     "metadata": {},
     "output_type": "display_data"
    },
    {
     "data": {
      "text/html": [
       "<pre style=\"white-space:pre;overflow-x:auto;line-height:normal;font-family:Menlo,'DejaVu Sans Mono',consolas,'Courier New',monospace\">╭──── BingoBoard ─────╮\n",
       "│ <span style=\"color: #008000; text-decoration-color: #008000\"> 23  86  34  22 </span><span style=\"color: #800000; text-decoration-color: #800000\"> 65</span> │\n",
       "│ <span style=\"color: #800000; text-decoration-color: #800000\"> 71  10  16  50  91</span> │\n",
       "│ <span style=\"color: #800000; text-decoration-color: #800000\"> 66  89 </span><span style=\"color: #008000; text-decoration-color: #008000\"> 49 </span><span style=\"color: #800000; text-decoration-color: #800000\"> 81 </span><span style=\"color: #008000; text-decoration-color: #008000\"> 43</span> │\n",
       "│ <span style=\"color: #008000; text-decoration-color: #008000\"> 40   7  26 </span><span style=\"color: #800000; text-decoration-color: #800000\"> 75  61</span> │\n",
       "│ <span style=\"color: #800000; text-decoration-color: #800000\"> 62 </span><span style=\"color: #008000; text-decoration-color: #008000\"> 59 </span><span style=\"color: #800000; text-decoration-color: #800000\">  2  46  95</span> │\n",
       "╰─────────────────────╯\n",
       "</pre>\n"
      ],
      "text/plain": [
       "╭──── BingoBoard ─────╮\n",
       "│ \u001b[32m 23 \u001b[0m\u001b[32m 86 \u001b[0m\u001b[32m 34 \u001b[0m\u001b[32m 22 \u001b[0m\u001b[31m 65\u001b[0m │\n",
       "│ \u001b[31m 71 \u001b[0m\u001b[31m 10 \u001b[0m\u001b[31m 16 \u001b[0m\u001b[31m 50 \u001b[0m\u001b[31m 91\u001b[0m │\n",
       "│ \u001b[31m 66 \u001b[0m\u001b[31m 89 \u001b[0m\u001b[32m 49 \u001b[0m\u001b[31m 81 \u001b[0m\u001b[32m 43\u001b[0m │\n",
       "│ \u001b[32m 40 \u001b[0m\u001b[32m  7 \u001b[0m\u001b[32m 26 \u001b[0m\u001b[31m 75 \u001b[0m\u001b[31m 61\u001b[0m │\n",
       "│ \u001b[31m 62 \u001b[0m\u001b[32m 59 \u001b[0m\u001b[31m  2 \u001b[0m\u001b[31m 46 \u001b[0m\u001b[31m 95\u001b[0m │\n",
       "╰─────────────────────╯\n"
      ]
     },
     "metadata": {},
     "output_type": "display_data"
    },
    {
     "data": {
      "text/html": [
       "<pre style=\"white-space:pre;overflow-x:auto;line-height:normal;font-family:Menlo,'DejaVu Sans Mono',consolas,'Courier New',monospace\">╭──── BingoBoard ─────╮\n",
       "│ <span style=\"color: #800000; text-decoration-color: #800000\"> 93  92 </span><span style=\"color: #008000; text-decoration-color: #008000\"> 79 </span><span style=\"color: #800000; text-decoration-color: #800000\"> 17  12</span> │\n",
       "│ <span style=\"color: #800000; text-decoration-color: #800000\"> 40 </span><span style=\"color: #008000; text-decoration-color: #008000\"> 88   6  82  34</span> │\n",
       "│ <span style=\"color: #008000; text-decoration-color: #008000\"> 90 </span><span style=\"color: #800000; text-decoration-color: #800000\"> 96 </span><span style=\"color: #008000; text-decoration-color: #008000\"> 53 </span><span style=\"color: #800000; text-decoration-color: #800000\"> 25 </span><span style=\"color: #008000; text-decoration-color: #008000\"> 43</span> │\n",
       "│ <span style=\"color: #008000; text-decoration-color: #008000\"> 14 </span><span style=\"color: #800000; text-decoration-color: #800000\"> 62  54  10  39</span> │\n",
       "│ <span style=\"color: #800000; text-decoration-color: #800000\"> 49  68  41  16  44</span> │\n",
       "╰─────────────────────╯\n",
       "</pre>\n"
      ],
      "text/plain": [
       "╭──── BingoBoard ─────╮\n",
       "│ \u001b[31m 93 \u001b[0m\u001b[31m 92 \u001b[0m\u001b[32m 79 \u001b[0m\u001b[31m 17 \u001b[0m\u001b[31m 12\u001b[0m │\n",
       "│ \u001b[31m 40 \u001b[0m\u001b[32m 88 \u001b[0m\u001b[32m  6 \u001b[0m\u001b[32m 82 \u001b[0m\u001b[32m 34\u001b[0m │\n",
       "│ \u001b[32m 90 \u001b[0m\u001b[31m 96 \u001b[0m\u001b[32m 53 \u001b[0m\u001b[31m 25 \u001b[0m\u001b[32m 43\u001b[0m │\n",
       "│ \u001b[32m 14 \u001b[0m\u001b[31m 62 \u001b[0m\u001b[31m 54 \u001b[0m\u001b[31m 10 \u001b[0m\u001b[31m 39\u001b[0m │\n",
       "│ \u001b[31m 49 \u001b[0m\u001b[31m 68 \u001b[0m\u001b[31m 41 \u001b[0m\u001b[31m 16 \u001b[0m\u001b[31m 44\u001b[0m │\n",
       "╰─────────────────────╯\n"
      ]
     },
     "metadata": {},
     "output_type": "display_data"
    },
    {
     "data": {
      "text/html": [
       "<pre style=\"white-space:pre;overflow-x:auto;line-height:normal;font-family:Menlo,'DejaVu Sans Mono',consolas,'Courier New',monospace\">Calling <span style=\"color: #008080; text-decoration-color: #008080; font-weight: bold\">53</span>\n",
       "</pre>\n"
      ],
      "text/plain": [
       "Calling \u001b[1;36m53\u001b[0m\n"
      ]
     },
     "metadata": {},
     "output_type": "display_data"
    },
    {
     "data": {
      "text/html": [
       "<pre style=\"white-space:pre;overflow-x:auto;line-height:normal;font-family:Menlo,'DejaVu Sans Mono',consolas,'Courier New',monospace\">╭──── BingoBoard ─────╮\n",
       "│ <span style=\"color: #800000; text-decoration-color: #800000\"> 67  93  94  54  53</span> │\n",
       "│ <span style=\"color: #800000; text-decoration-color: #800000\"> 38  71 </span><span style=\"color: #008000; text-decoration-color: #008000\"> 34 </span><span style=\"color: #800000; text-decoration-color: #800000\"> 40  24</span> │\n",
       "│ <span style=\"color: #800000; text-decoration-color: #800000\"> 31  63  30  99  75</span> │\n",
       "│ <span style=\"color: #800000; text-decoration-color: #800000\">  4 </span><span style=\"color: #008000; text-decoration-color: #008000\"> 57  86  19 </span><span style=\"color: #800000; text-decoration-color: #800000\"> 70</span> │\n",
       "│ <span style=\"color: #800000; text-decoration-color: #800000\"> 60 </span><span style=\"color: #008000; text-decoration-color: #008000\"> 49 </span><span style=\"color: #800000; text-decoration-color: #800000\"> 87  68  74</span> │\n",
       "╰─────────────────────╯\n",
       "</pre>\n"
      ],
      "text/plain": [
       "╭──── BingoBoard ─────╮\n",
       "│ \u001b[31m 67 \u001b[0m\u001b[31m 93 \u001b[0m\u001b[31m 94 \u001b[0m\u001b[31m 54 \u001b[0m\u001b[31m 53\u001b[0m │\n",
       "│ \u001b[31m 38 \u001b[0m\u001b[31m 71 \u001b[0m\u001b[32m 34 \u001b[0m\u001b[31m 40 \u001b[0m\u001b[31m 24\u001b[0m │\n",
       "│ \u001b[31m 31 \u001b[0m\u001b[31m 63 \u001b[0m\u001b[31m 30 \u001b[0m\u001b[31m 99 \u001b[0m\u001b[31m 75\u001b[0m │\n",
       "│ \u001b[31m  4 \u001b[0m\u001b[32m 57 \u001b[0m\u001b[32m 86 \u001b[0m\u001b[32m 19 \u001b[0m\u001b[31m 70\u001b[0m │\n",
       "│ \u001b[31m 60 \u001b[0m\u001b[32m 49 \u001b[0m\u001b[31m 87 \u001b[0m\u001b[31m 68 \u001b[0m\u001b[31m 74\u001b[0m │\n",
       "╰─────────────────────╯\n"
      ]
     },
     "metadata": {},
     "output_type": "display_data"
    },
    {
     "data": {
      "text/html": [
       "<pre style=\"white-space:pre;overflow-x:auto;line-height:normal;font-family:Menlo,'DejaVu Sans Mono',consolas,'Courier New',monospace\">╭──── BingoBoard ─────╮\n",
       "│ <span style=\"color: #800000; text-decoration-color: #800000\"> 99  44  53  68  25</span> │\n",
       "│ <span style=\"color: #800000; text-decoration-color: #800000\"> 71  67  16 </span><span style=\"color: #008000; text-decoration-color: #008000\"> 19  36</span> │\n",
       "│ <span style=\"color: #008000; text-decoration-color: #008000\"> 35  58 </span><span style=\"color: #800000; text-decoration-color: #800000\"> 14 </span><span style=\"color: #008000; text-decoration-color: #008000\"> 86 </span><span style=\"color: #800000; text-decoration-color: #800000\"> 48</span> │\n",
       "│ <span style=\"color: #800000; text-decoration-color: #800000\"> 88  18  61  24 </span><span style=\"color: #008000; text-decoration-color: #008000\"> 23</span> │\n",
       "│ <span style=\"color: #008000; text-decoration-color: #008000\"> 87   9 </span><span style=\"color: #800000; text-decoration-color: #800000\"> 91  37  15</span> │\n",
       "╰─────────────────────╯\n",
       "</pre>\n"
      ],
      "text/plain": [
       "╭──── BingoBoard ─────╮\n",
       "│ \u001b[31m 99 \u001b[0m\u001b[31m 44 \u001b[0m\u001b[31m 53 \u001b[0m\u001b[31m 68 \u001b[0m\u001b[31m 25\u001b[0m │\n",
       "│ \u001b[31m 71 \u001b[0m\u001b[31m 67 \u001b[0m\u001b[31m 16 \u001b[0m\u001b[32m 19 \u001b[0m\u001b[32m 36\u001b[0m │\n",
       "│ \u001b[32m 35 \u001b[0m\u001b[32m 58 \u001b[0m\u001b[31m 14 \u001b[0m\u001b[32m 86 \u001b[0m\u001b[31m 48\u001b[0m │\n",
       "│ \u001b[31m 88 \u001b[0m\u001b[31m 18 \u001b[0m\u001b[31m 61 \u001b[0m\u001b[31m 24 \u001b[0m\u001b[32m 23\u001b[0m │\n",
       "│ \u001b[32m 87 \u001b[0m\u001b[32m  9 \u001b[0m\u001b[31m 91 \u001b[0m\u001b[31m 37 \u001b[0m\u001b[31m 15\u001b[0m │\n",
       "╰─────────────────────╯\n"
      ]
     },
     "metadata": {},
     "output_type": "display_data"
    },
    {
     "data": {
      "text/html": [
       "<pre style=\"white-space:pre;overflow-x:auto;line-height:normal;font-family:Menlo,'DejaVu Sans Mono',consolas,'Courier New',monospace\">╭──── BingoBoard ─────╮\n",
       "│ <span style=\"color: #800000; text-decoration-color: #800000\"> 46  99  52 </span><span style=\"color: #008000; text-decoration-color: #008000\"> 47 </span><span style=\"color: #800000; text-decoration-color: #800000\"> 76</span> │\n",
       "│ <span style=\"color: #800000; text-decoration-color: #800000\"> 89  53  24 </span><span style=\"color: #008000; text-decoration-color: #008000\"> 13  59</span> │\n",
       "│ <span style=\"color: #008000; text-decoration-color: #008000\"> 45 </span><span style=\"color: #800000; text-decoration-color: #800000\">  5   1  30 </span><span style=\"color: #008000; text-decoration-color: #008000\"> 19</span> │\n",
       "│ <span style=\"color: #008000; text-decoration-color: #008000\"> 68 </span><span style=\"color: #800000; text-decoration-color: #800000\"> 25 </span><span style=\"color: #008000; text-decoration-color: #008000\"> 22 </span><span style=\"color: #800000; text-decoration-color: #800000\"> 10  73</span> │\n",
       "│ <span style=\"color: #800000; text-decoration-color: #800000\"> 42  27 </span><span style=\"color: #008000; text-decoration-color: #008000\"> 31 </span><span style=\"color: #800000; text-decoration-color: #800000\">  0  94</span> │\n",
       "╰─────────────────────╯\n",
       "</pre>\n"
      ],
      "text/plain": [
       "╭──── BingoBoard ─────╮\n",
       "│ \u001b[31m 46 \u001b[0m\u001b[31m 99 \u001b[0m\u001b[31m 52 \u001b[0m\u001b[32m 47 \u001b[0m\u001b[31m 76\u001b[0m │\n",
       "│ \u001b[31m 89 \u001b[0m\u001b[31m 53 \u001b[0m\u001b[31m 24 \u001b[0m\u001b[32m 13 \u001b[0m\u001b[32m 59\u001b[0m │\n",
       "│ \u001b[32m 45 \u001b[0m\u001b[31m  5 \u001b[0m\u001b[31m  1 \u001b[0m\u001b[31m 30 \u001b[0m\u001b[32m 19\u001b[0m │\n",
       "│ \u001b[32m 68 \u001b[0m\u001b[31m 25 \u001b[0m\u001b[32m 22 \u001b[0m\u001b[31m 10 \u001b[0m\u001b[31m 73\u001b[0m │\n",
       "│ \u001b[31m 42 \u001b[0m\u001b[31m 27 \u001b[0m\u001b[32m 31 \u001b[0m\u001b[31m  0 \u001b[0m\u001b[31m 94\u001b[0m │\n",
       "╰─────────────────────╯\n"
      ]
     },
     "metadata": {},
     "output_type": "display_data"
    },
    {
     "data": {
      "text/html": [
       "<pre style=\"white-space:pre;overflow-x:auto;line-height:normal;font-family:Menlo,'DejaVu Sans Mono',consolas,'Courier New',monospace\">Calling <span style=\"color: #008080; text-decoration-color: #008080; font-weight: bold\">9</span>\n",
       "</pre>\n"
      ],
      "text/plain": [
       "Calling \u001b[1;36m9\u001b[0m\n"
      ]
     },
     "metadata": {},
     "output_type": "display_data"
    },
    {
     "data": {
      "text/html": [
       "<pre style=\"white-space:pre;overflow-x:auto;line-height:normal;font-family:Menlo,'DejaVu Sans Mono',consolas,'Courier New',monospace\">╭──── BingoBoard ─────╮\n",
       "│ <span style=\"color: #008000; text-decoration-color: #008000\"> 20 </span><span style=\"color: #800000; text-decoration-color: #800000\"> 16 </span><span style=\"color: #008000; text-decoration-color: #008000\"> 47 </span><span style=\"color: #800000; text-decoration-color: #800000\"> 78  92</span> │\n",
       "│ <span style=\"color: #800000; text-decoration-color: #800000\"> 88  15  71  67   2</span> │\n",
       "│ <span style=\"color: #800000; text-decoration-color: #800000\">  5  52 </span><span style=\"color: #008000; text-decoration-color: #008000\"> 90 </span><span style=\"color: #800000; text-decoration-color: #800000\"> 70   9</span> │\n",
       "│ <span style=\"color: #800000; text-decoration-color: #800000\"> 22 </span><span style=\"color: #008000; text-decoration-color: #008000\"> 49  28  82 </span><span style=\"color: #800000; text-decoration-color: #800000\"> 27</span> │\n",
       "│ <span style=\"color: #800000; text-decoration-color: #800000\">  6 </span><span style=\"color: #008000; text-decoration-color: #008000\"> 19 </span><span style=\"color: #800000; text-decoration-color: #800000\"> 61  73  48</span> │\n",
       "╰─────────────────────╯\n",
       "</pre>\n"
      ],
      "text/plain": [
       "╭──── BingoBoard ─────╮\n",
       "│ \u001b[32m 20 \u001b[0m\u001b[31m 16 \u001b[0m\u001b[32m 47 \u001b[0m\u001b[31m 78 \u001b[0m\u001b[31m 92\u001b[0m │\n",
       "│ \u001b[31m 88 \u001b[0m\u001b[31m 15 \u001b[0m\u001b[31m 71 \u001b[0m\u001b[31m 67 \u001b[0m\u001b[31m  2\u001b[0m │\n",
       "│ \u001b[31m  5 \u001b[0m\u001b[31m 52 \u001b[0m\u001b[32m 90 \u001b[0m\u001b[31m 70 \u001b[0m\u001b[31m  9\u001b[0m │\n",
       "│ \u001b[31m 22 \u001b[0m\u001b[32m 49 \u001b[0m\u001b[32m 28 \u001b[0m\u001b[32m 82 \u001b[0m\u001b[31m 27\u001b[0m │\n",
       "│ \u001b[31m  6 \u001b[0m\u001b[32m 19 \u001b[0m\u001b[31m 61 \u001b[0m\u001b[31m 73 \u001b[0m\u001b[31m 48\u001b[0m │\n",
       "╰─────────────────────╯\n"
      ]
     },
     "metadata": {},
     "output_type": "display_data"
    },
    {
     "data": {
      "text/html": [
       "<pre style=\"white-space:pre;overflow-x:auto;line-height:normal;font-family:Menlo,'DejaVu Sans Mono',consolas,'Courier New',monospace\">╭──── BingoBoard ─────╮\n",
       "│ <span style=\"color: #008000; text-decoration-color: #008000\"> 59  36 </span><span style=\"color: #800000; text-decoration-color: #800000\"> 70 </span><span style=\"color: #008000; text-decoration-color: #008000\"> 42 </span><span style=\"color: #800000; text-decoration-color: #800000\"> 21</span> │\n",
       "│ <span style=\"color: #800000; text-decoration-color: #800000\">  3  16 </span><span style=\"color: #008000; text-decoration-color: #008000\"> 49  79 </span><span style=\"color: #800000; text-decoration-color: #800000\"> 98</span> │\n",
       "│ <span style=\"color: #800000; text-decoration-color: #800000\"> 74  25   8 </span><span style=\"color: #008000; text-decoration-color: #008000\"> 84  19</span> │\n",
       "│ <span style=\"color: #008000; text-decoration-color: #008000\"> 61 </span><span style=\"color: #800000; text-decoration-color: #800000\"> 80 </span><span style=\"color: #008000; text-decoration-color: #008000\"> 47 </span><span style=\"color: #800000; text-decoration-color: #800000\"> 65  64</span> │\n",
       "│ <span style=\"color: #800000; text-decoration-color: #800000\"> 91  62  52   9  40</span> │\n",
       "╰─────────────────────╯\n",
       "</pre>\n"
      ],
      "text/plain": [
       "╭──── BingoBoard ─────╮\n",
       "│ \u001b[32m 59 \u001b[0m\u001b[32m 36 \u001b[0m\u001b[31m 70 \u001b[0m\u001b[32m 42 \u001b[0m\u001b[31m 21\u001b[0m │\n",
       "│ \u001b[31m  3 \u001b[0m\u001b[31m 16 \u001b[0m\u001b[32m 49 \u001b[0m\u001b[32m 79 \u001b[0m\u001b[31m 98\u001b[0m │\n",
       "│ \u001b[31m 74 \u001b[0m\u001b[31m 25 \u001b[0m\u001b[31m  8 \u001b[0m\u001b[32m 84 \u001b[0m\u001b[32m 19\u001b[0m │\n",
       "│ \u001b[32m 61 \u001b[0m\u001b[31m 80 \u001b[0m\u001b[32m 47 \u001b[0m\u001b[31m 65 \u001b[0m\u001b[31m 64\u001b[0m │\n",
       "│ \u001b[31m 91 \u001b[0m\u001b[31m 62 \u001b[0m\u001b[31m 52 \u001b[0m\u001b[31m  9 \u001b[0m\u001b[31m 40\u001b[0m │\n",
       "╰─────────────────────╯\n"
      ]
     },
     "metadata": {},
     "output_type": "display_data"
    },
    {
     "data": {
      "text/html": [
       "<pre style=\"white-space:pre;overflow-x:auto;line-height:normal;font-family:Menlo,'DejaVu Sans Mono',consolas,'Courier New',monospace\">Calling <span style=\"color: #008080; text-decoration-color: #008080; font-weight: bold\">31</span>\n",
       "</pre>\n"
      ],
      "text/plain": [
       "Calling \u001b[1;36m31\u001b[0m\n"
      ]
     },
     "metadata": {},
     "output_type": "display_data"
    },
    {
     "data": {
      "text/html": [
       "<pre style=\"white-space:pre;overflow-x:auto;line-height:normal;font-family:Menlo,'DejaVu Sans Mono',consolas,'Courier New',monospace\">╭──── BingoBoard ─────╮\n",
       "│ <span style=\"color: #800000; text-decoration-color: #800000\">  8  31  14  70  91</span> │\n",
       "│ <span style=\"color: #800000; text-decoration-color: #800000\"> 53 </span><span style=\"color: #008000; text-decoration-color: #008000\"> 49  86  13 </span><span style=\"color: #800000; text-decoration-color: #800000\"> 21</span> │\n",
       "│ <span style=\"color: #800000; text-decoration-color: #800000\"> 66 </span><span style=\"color: #008000; text-decoration-color: #008000\"> 28 </span><span style=\"color: #800000; text-decoration-color: #800000\"> 76  78  93</span> │\n",
       "│ <span style=\"color: #800000; text-decoration-color: #800000\"> 39  63  80 </span><span style=\"color: #008000; text-decoration-color: #008000\"> 43  23</span> │\n",
       "│ <span style=\"color: #008000; text-decoration-color: #008000\"> 56 </span><span style=\"color: #800000; text-decoration-color: #800000\"> 25  60  67  72</span> │\n",
       "╰─────────────────────╯\n",
       "</pre>\n"
      ],
      "text/plain": [
       "╭──── BingoBoard ─────╮\n",
       "│ \u001b[31m  8 \u001b[0m\u001b[31m 31 \u001b[0m\u001b[31m 14 \u001b[0m\u001b[31m 70 \u001b[0m\u001b[31m 91\u001b[0m │\n",
       "│ \u001b[31m 53 \u001b[0m\u001b[32m 49 \u001b[0m\u001b[32m 86 \u001b[0m\u001b[32m 13 \u001b[0m\u001b[31m 21\u001b[0m │\n",
       "│ \u001b[31m 66 \u001b[0m\u001b[32m 28 \u001b[0m\u001b[31m 76 \u001b[0m\u001b[31m 78 \u001b[0m\u001b[31m 93\u001b[0m │\n",
       "│ \u001b[31m 39 \u001b[0m\u001b[31m 63 \u001b[0m\u001b[31m 80 \u001b[0m\u001b[32m 43 \u001b[0m\u001b[32m 23\u001b[0m │\n",
       "│ \u001b[32m 56 \u001b[0m\u001b[31m 25 \u001b[0m\u001b[31m 60 \u001b[0m\u001b[31m 67 \u001b[0m\u001b[31m 72\u001b[0m │\n",
       "╰─────────────────────╯\n"
      ]
     },
     "metadata": {},
     "output_type": "display_data"
    },
    {
     "data": {
      "text/html": [
       "<pre style=\"white-space:pre;overflow-x:auto;line-height:normal;font-family:Menlo,'DejaVu Sans Mono',consolas,'Courier New',monospace\">╭──── BingoBoard ─────╮\n",
       "│ <span style=\"color: #800000; text-decoration-color: #800000\"> 71  21  63 </span><span style=\"color: #008000; text-decoration-color: #008000\"> 86 </span><span style=\"color: #800000; text-decoration-color: #800000\"> 27</span> │\n",
       "│ <span style=\"color: #800000; text-decoration-color: #800000\"> 53  52  40 </span><span style=\"color: #008000; text-decoration-color: #008000\"> 23 </span><span style=\"color: #800000; text-decoration-color: #800000\"> 81</span> │\n",
       "│ <span style=\"color: #800000; text-decoration-color: #800000\">  2 </span><span style=\"color: #008000; text-decoration-color: #008000\"> 47 </span><span style=\"color: #800000; text-decoration-color: #800000\"> 92  68  15</span> │\n",
       "│ <span style=\"color: #800000; text-decoration-color: #800000\"> 46  45  31   8   1</span> │\n",
       "│ <span style=\"color: #800000; text-decoration-color: #800000\"> 34  80  37 </span><span style=\"color: #008000; text-decoration-color: #008000\"> 11  69</span> │\n",
       "╰─────────────────────╯\n",
       "</pre>\n"
      ],
      "text/plain": [
       "╭──── BingoBoard ─────╮\n",
       "│ \u001b[31m 71 \u001b[0m\u001b[31m 21 \u001b[0m\u001b[31m 63 \u001b[0m\u001b[32m 86 \u001b[0m\u001b[31m 27\u001b[0m │\n",
       "│ \u001b[31m 53 \u001b[0m\u001b[31m 52 \u001b[0m\u001b[31m 40 \u001b[0m\u001b[32m 23 \u001b[0m\u001b[31m 81\u001b[0m │\n",
       "│ \u001b[31m  2 \u001b[0m\u001b[32m 47 \u001b[0m\u001b[31m 92 \u001b[0m\u001b[31m 68 \u001b[0m\u001b[31m 15\u001b[0m │\n",
       "│ \u001b[31m 46 \u001b[0m\u001b[31m 45 \u001b[0m\u001b[31m 31 \u001b[0m\u001b[31m  8 \u001b[0m\u001b[31m  1\u001b[0m │\n",
       "│ \u001b[31m 34 \u001b[0m\u001b[31m 80 \u001b[0m\u001b[31m 37 \u001b[0m\u001b[32m 11 \u001b[0m\u001b[32m 69\u001b[0m │\n",
       "╰─────────────────────╯\n"
      ]
     },
     "metadata": {},
     "output_type": "display_data"
    },
    {
     "data": {
      "text/html": [
       "<pre style=\"white-space:pre;overflow-x:auto;line-height:normal;font-family:Menlo,'DejaVu Sans Mono',consolas,'Courier New',monospace\">Calling <span style=\"color: #008080; text-decoration-color: #008080; font-weight: bold\">6</span>\n",
       "</pre>\n"
      ],
      "text/plain": [
       "Calling \u001b[1;36m6\u001b[0m\n"
      ]
     },
     "metadata": {},
     "output_type": "display_data"
    },
    {
     "data": {
      "text/html": [
       "<pre style=\"white-space:pre;overflow-x:auto;line-height:normal;font-family:Menlo,'DejaVu Sans Mono',consolas,'Courier New',monospace\">╭──── BingoBoard ─────╮\n",
       "│ <span style=\"color: #800000; text-decoration-color: #800000\">  6 </span><span style=\"color: #008000; text-decoration-color: #008000\"> 20 </span><span style=\"color: #800000; text-decoration-color: #800000\"> 41  51  48</span> │\n",
       "│ <span style=\"color: #800000; text-decoration-color: #800000\">  5  67  30  24 </span><span style=\"color: #008000; text-decoration-color: #008000\"> 47</span> │\n",
       "│ <span style=\"color: #008000; text-decoration-color: #008000\">  3 </span><span style=\"color: #800000; text-decoration-color: #800000\">  8  92 </span><span style=\"color: #008000; text-decoration-color: #008000\"> 22 </span><span style=\"color: #800000; text-decoration-color: #800000\"> 39</span> │\n",
       "│ <span style=\"color: #800000; text-decoration-color: #800000\">  4 </span><span style=\"color: #008000; text-decoration-color: #008000\"> 56  36 </span><span style=\"color: #800000; text-decoration-color: #800000\"> 31  75</span> │\n",
       "│ <span style=\"color: #800000; text-decoration-color: #800000\">  2  45 </span><span style=\"color: #008000; text-decoration-color: #008000\"> 85 </span><span style=\"color: #800000; text-decoration-color: #800000\"> 81  96</span> │\n",
       "╰─────────────────────╯\n",
       "</pre>\n"
      ],
      "text/plain": [
       "╭──── BingoBoard ─────╮\n",
       "│ \u001b[31m  6 \u001b[0m\u001b[32m 20 \u001b[0m\u001b[31m 41 \u001b[0m\u001b[31m 51 \u001b[0m\u001b[31m 48\u001b[0m │\n",
       "│ \u001b[31m  5 \u001b[0m\u001b[31m 67 \u001b[0m\u001b[31m 30 \u001b[0m\u001b[31m 24 \u001b[0m\u001b[32m 47\u001b[0m │\n",
       "│ \u001b[32m  3 \u001b[0m\u001b[31m  8 \u001b[0m\u001b[31m 92 \u001b[0m\u001b[32m 22 \u001b[0m\u001b[31m 39\u001b[0m │\n",
       "│ \u001b[31m  4 \u001b[0m\u001b[32m 56 \u001b[0m\u001b[32m 36 \u001b[0m\u001b[31m 31 \u001b[0m\u001b[31m 75\u001b[0m │\n",
       "│ \u001b[31m  2 \u001b[0m\u001b[31m 45 \u001b[0m\u001b[32m 85 \u001b[0m\u001b[31m 81 \u001b[0m\u001b[31m 96\u001b[0m │\n",
       "╰─────────────────────╯\n"
      ]
     },
     "metadata": {},
     "output_type": "display_data"
    },
    {
     "data": {
      "text/html": [
       "<pre style=\"white-space:pre;overflow-x:auto;line-height:normal;font-family:Menlo,'DejaVu Sans Mono',consolas,'Courier New',monospace\">Calling <span style=\"color: #008080; text-decoration-color: #008080; font-weight: bold\">7</span>\n",
       "</pre>\n"
      ],
      "text/plain": [
       "Calling \u001b[1;36m7\u001b[0m\n"
      ]
     },
     "metadata": {},
     "output_type": "display_data"
    },
    {
     "data": {
      "text/html": [
       "<pre style=\"white-space:pre;overflow-x:auto;line-height:normal;font-family:Menlo,'DejaVu Sans Mono',consolas,'Courier New',monospace\">╭──── BingoBoard ─────╮\n",
       "│ <span style=\"color: #800000; text-decoration-color: #800000\"> 81  74   7  33  96</span> │\n",
       "│ <span style=\"color: #800000; text-decoration-color: #800000\"> 75  60  87 </span><span style=\"color: #008000; text-decoration-color: #008000\"> 47 </span><span style=\"color: #800000; text-decoration-color: #800000\"> 91</span> │\n",
       "│ <span style=\"color: #800000; text-decoration-color: #800000\"> 39  73  30  50 </span><span style=\"color: #008000; text-decoration-color: #008000\"> 13</span> │\n",
       "│ <span style=\"color: #008000; text-decoration-color: #008000\">  4 </span><span style=\"color: #800000; text-decoration-color: #800000\"> 41   9 </span><span style=\"color: #008000; text-decoration-color: #008000\"> 43 </span><span style=\"color: #800000; text-decoration-color: #800000\"> 77</span> │\n",
       "│ <span style=\"color: #800000; text-decoration-color: #800000\"> 34 </span><span style=\"color: #008000; text-decoration-color: #008000\"> 82 </span><span style=\"color: #800000; text-decoration-color: #800000\"> 72  48  12</span> │\n",
       "╰─────────────────────╯\n",
       "</pre>\n"
      ],
      "text/plain": [
       "╭──── BingoBoard ─────╮\n",
       "│ \u001b[31m 81 \u001b[0m\u001b[31m 74 \u001b[0m\u001b[31m  7 \u001b[0m\u001b[31m 33 \u001b[0m\u001b[31m 96\u001b[0m │\n",
       "│ \u001b[31m 75 \u001b[0m\u001b[31m 60 \u001b[0m\u001b[31m 87 \u001b[0m\u001b[32m 47 \u001b[0m\u001b[31m 91\u001b[0m │\n",
       "│ \u001b[31m 39 \u001b[0m\u001b[31m 73 \u001b[0m\u001b[31m 30 \u001b[0m\u001b[31m 50 \u001b[0m\u001b[32m 13\u001b[0m │\n",
       "│ \u001b[32m  4 \u001b[0m\u001b[31m 41 \u001b[0m\u001b[31m  9 \u001b[0m\u001b[32m 43 \u001b[0m\u001b[31m 77\u001b[0m │\n",
       "│ \u001b[31m 34 \u001b[0m\u001b[32m 82 \u001b[0m\u001b[31m 72 \u001b[0m\u001b[31m 48 \u001b[0m\u001b[31m 12\u001b[0m │\n",
       "╰─────────────────────╯\n"
      ]
     },
     "metadata": {},
     "output_type": "display_data"
    },
    {
     "data": {
      "text/html": [
       "<pre style=\"white-space:pre;overflow-x:auto;line-height:normal;font-family:Menlo,'DejaVu Sans Mono',consolas,'Courier New',monospace\">╭──── BingoBoard ─────╮\n",
       "│ <span style=\"color: #800000; text-decoration-color: #800000\"> 75   7  51 </span><span style=\"color: #008000; text-decoration-color: #008000\"> 86  79</span> │\n",
       "│ <span style=\"color: #008000; text-decoration-color: #008000\"> 43 </span><span style=\"color: #800000; text-decoration-color: #800000\"> 30  61  39  16</span> │\n",
       "│ <span style=\"color: #800000; text-decoration-color: #800000\"> 85  63 </span><span style=\"color: #008000; text-decoration-color: #008000\"> 90  28 </span><span style=\"color: #800000; text-decoration-color: #800000\"> 96</span> │\n",
       "│ <span style=\"color: #800000; text-decoration-color: #800000\"> 88  78  72  31  73</span> │\n",
       "│ <span style=\"color: #800000; text-decoration-color: #800000\"> 98  87 </span><span style=\"color: #008000; text-decoration-color: #008000\"> 23  19  58</span> │\n",
       "╰─────────────────────╯\n",
       "</pre>\n"
      ],
      "text/plain": [
       "╭──── BingoBoard ─────╮\n",
       "│ \u001b[31m 75 \u001b[0m\u001b[31m  7 \u001b[0m\u001b[31m 51 \u001b[0m\u001b[32m 86 \u001b[0m\u001b[32m 79\u001b[0m │\n",
       "│ \u001b[32m 43 \u001b[0m\u001b[31m 30 \u001b[0m\u001b[31m 61 \u001b[0m\u001b[31m 39 \u001b[0m\u001b[31m 16\u001b[0m │\n",
       "│ \u001b[31m 85 \u001b[0m\u001b[31m 63 \u001b[0m\u001b[32m 90 \u001b[0m\u001b[32m 28 \u001b[0m\u001b[31m 96\u001b[0m │\n",
       "│ \u001b[31m 88 \u001b[0m\u001b[31m 78 \u001b[0m\u001b[31m 72 \u001b[0m\u001b[31m 31 \u001b[0m\u001b[31m 73\u001b[0m │\n",
       "│ \u001b[31m 98 \u001b[0m\u001b[31m 87 \u001b[0m\u001b[32m 23 \u001b[0m\u001b[32m 19 \u001b[0m\u001b[32m 58\u001b[0m │\n",
       "╰─────────────────────╯\n"
      ]
     },
     "metadata": {},
     "output_type": "display_data"
    },
    {
     "data": {
      "text/html": [
       "<pre style=\"white-space:pre;overflow-x:auto;line-height:normal;font-family:Menlo,'DejaVu Sans Mono',consolas,'Courier New',monospace\">╭──── BingoBoard ─────╮\n",
       "│ <span style=\"color: #800000; text-decoration-color: #800000\"> 61  35  81 </span><span style=\"color: #008000; text-decoration-color: #008000\"> 84 </span><span style=\"color: #800000; text-decoration-color: #800000\"> 94</span> │\n",
       "│ <span style=\"color: #800000; text-decoration-color: #800000\"> 11   1 </span><span style=\"color: #008000; text-decoration-color: #008000\"> 58 </span><span style=\"color: #800000; text-decoration-color: #800000\"> 45  77</span> │\n",
       "│ <span style=\"color: #800000; text-decoration-color: #800000\">  6  99  67 </span><span style=\"color: #008000; text-decoration-color: #008000\"> 36  43</span> │\n",
       "│ <span style=\"color: #008000; text-decoration-color: #008000\">  5 </span><span style=\"color: #800000; text-decoration-color: #800000\">  7   0  87  80</span> │\n",
       "│ <span style=\"color: #800000; text-decoration-color: #800000\"> 44  78  39  70 </span><span style=\"color: #008000; text-decoration-color: #008000\"> 20</span> │\n",
       "╰─────────────────────╯\n",
       "</pre>\n"
      ],
      "text/plain": [
       "╭──── BingoBoard ─────╮\n",
       "│ \u001b[31m 61 \u001b[0m\u001b[31m 35 \u001b[0m\u001b[31m 81 \u001b[0m\u001b[32m 84 \u001b[0m\u001b[31m 94\u001b[0m │\n",
       "│ \u001b[31m 11 \u001b[0m\u001b[31m  1 \u001b[0m\u001b[32m 58 \u001b[0m\u001b[31m 45 \u001b[0m\u001b[31m 77\u001b[0m │\n",
       "│ \u001b[31m  6 \u001b[0m\u001b[31m 99 \u001b[0m\u001b[31m 67 \u001b[0m\u001b[32m 36 \u001b[0m\u001b[32m 43\u001b[0m │\n",
       "│ \u001b[32m  5 \u001b[0m\u001b[31m  7 \u001b[0m\u001b[31m  0 \u001b[0m\u001b[31m 87 \u001b[0m\u001b[31m 80\u001b[0m │\n",
       "│ \u001b[31m 44 \u001b[0m\u001b[31m 78 \u001b[0m\u001b[31m 39 \u001b[0m\u001b[31m 70 \u001b[0m\u001b[32m 20\u001b[0m │\n",
       "╰─────────────────────╯\n"
      ]
     },
     "metadata": {},
     "output_type": "display_data"
    },
    {
     "data": {
      "text/html": [
       "<pre style=\"white-space:pre;overflow-x:auto;line-height:normal;font-family:Menlo,'DejaVu Sans Mono',consolas,'Courier New',monospace\">╭──── BingoBoard ─────╮\n",
       "│ <span style=\"color: #008000; text-decoration-color: #008000\"> 79  59 </span><span style=\"color: #800000; text-decoration-color: #800000\"> 48  27 </span><span style=\"color: #008000; text-decoration-color: #008000\"> 36</span> │\n",
       "│ <span style=\"color: #008000; text-decoration-color: #008000\"> 85 </span><span style=\"color: #800000; text-decoration-color: #800000\"> 92  93  76  24</span> │\n",
       "│ <span style=\"color: #800000; text-decoration-color: #800000\">  2  25   7 </span><span style=\"color: #008000; text-decoration-color: #008000\"> 42  90</span> │\n",
       "│ <span style=\"color: #008000; text-decoration-color: #008000\"> 23 </span><span style=\"color: #800000; text-decoration-color: #800000\"> 29  74  35 </span><span style=\"color: #008000; text-decoration-color: #008000\"> 86</span> │\n",
       "│ <span style=\"color: #008000; text-decoration-color: #008000\"> 58 </span><span style=\"color: #800000; text-decoration-color: #800000\"> 60  31  75 </span><span style=\"color: #008000; text-decoration-color: #008000\"> 57</span> │\n",
       "╰─────────────────────╯\n",
       "</pre>\n"
      ],
      "text/plain": [
       "╭──── BingoBoard ─────╮\n",
       "│ \u001b[32m 79 \u001b[0m\u001b[32m 59 \u001b[0m\u001b[31m 48 \u001b[0m\u001b[31m 27 \u001b[0m\u001b[32m 36\u001b[0m │\n",
       "│ \u001b[32m 85 \u001b[0m\u001b[31m 92 \u001b[0m\u001b[31m 93 \u001b[0m\u001b[31m 76 \u001b[0m\u001b[31m 24\u001b[0m │\n",
       "│ \u001b[31m  2 \u001b[0m\u001b[31m 25 \u001b[0m\u001b[31m  7 \u001b[0m\u001b[32m 42 \u001b[0m\u001b[32m 90\u001b[0m │\n",
       "│ \u001b[32m 23 \u001b[0m\u001b[31m 29 \u001b[0m\u001b[31m 74 \u001b[0m\u001b[31m 35 \u001b[0m\u001b[32m 86\u001b[0m │\n",
       "│ \u001b[32m 58 \u001b[0m\u001b[31m 60 \u001b[0m\u001b[31m 31 \u001b[0m\u001b[31m 75 \u001b[0m\u001b[32m 57\u001b[0m │\n",
       "╰─────────────────────╯\n"
      ]
     },
     "metadata": {},
     "output_type": "display_data"
    },
    {
     "data": {
      "text/html": [
       "<pre style=\"white-space:pre;overflow-x:auto;line-height:normal;font-family:Menlo,'DejaVu Sans Mono',consolas,'Courier New',monospace\">╭──── BingoBoard ─────╮\n",
       "│ <span style=\"color: #800000; text-decoration-color: #800000\"> 24  50  93  94 </span><span style=\"color: #008000; text-decoration-color: #008000\"> 57</span> │\n",
       "│ <span style=\"color: #008000; text-decoration-color: #008000\"> 99 </span><span style=\"color: #800000; text-decoration-color: #800000\">  4 </span><span style=\"color: #008000; text-decoration-color: #008000\"> 56 </span><span style=\"color: #800000; text-decoration-color: #800000\">  5 </span><span style=\"color: #008000; text-decoration-color: #008000\"> 28</span> │\n",
       "│ <span style=\"color: #008000; text-decoration-color: #008000\"> 42 </span><span style=\"color: #800000; text-decoration-color: #800000\"> 31 </span><span style=\"color: #008000; text-decoration-color: #008000\"> 22 </span><span style=\"color: #800000; text-decoration-color: #800000\">  6  76</span> │\n",
       "│ <span style=\"color: #800000; text-decoration-color: #800000\"> 90  89  16 </span><span style=\"color: #008000; text-decoration-color: #008000\"> 49  59</span> │\n",
       "│ <span style=\"color: #008000; text-decoration-color: #008000\">  9 </span><span style=\"color: #800000; text-decoration-color: #800000\">  7 </span><span style=\"color: #008000; text-decoration-color: #008000\"> 43 </span><span style=\"color: #800000; text-decoration-color: #800000\"> 71  54</span> │\n",
       "╰─────────────────────╯\n",
       "</pre>\n"
      ],
      "text/plain": [
       "╭──── BingoBoard ─────╮\n",
       "│ \u001b[31m 24 \u001b[0m\u001b[31m 50 \u001b[0m\u001b[31m 93 \u001b[0m\u001b[31m 94 \u001b[0m\u001b[32m 57\u001b[0m │\n",
       "│ \u001b[32m 99 \u001b[0m\u001b[31m  4 \u001b[0m\u001b[32m 56 \u001b[0m\u001b[31m  5 \u001b[0m\u001b[32m 28\u001b[0m │\n",
       "│ \u001b[32m 42 \u001b[0m\u001b[31m 31 \u001b[0m\u001b[32m 22 \u001b[0m\u001b[31m  6 \u001b[0m\u001b[31m 76\u001b[0m │\n",
       "│ \u001b[31m 90 \u001b[0m\u001b[31m 89 \u001b[0m\u001b[31m 16 \u001b[0m\u001b[32m 49 \u001b[0m\u001b[32m 59\u001b[0m │\n",
       "│ \u001b[32m  9 \u001b[0m\u001b[31m  7 \u001b[0m\u001b[32m 43 \u001b[0m\u001b[31m 71 \u001b[0m\u001b[31m 54\u001b[0m │\n",
       "╰─────────────────────╯\n"
      ]
     },
     "metadata": {},
     "output_type": "display_data"
    },
    {
     "data": {
      "text/html": [
       "<pre style=\"white-space:pre;overflow-x:auto;line-height:normal;font-family:Menlo,'DejaVu Sans Mono',consolas,'Courier New',monospace\">Calling <span style=\"color: #008080; text-decoration-color: #008080; font-weight: bold\">47</span>\n",
       "</pre>\n"
      ],
      "text/plain": [
       "Calling \u001b[1;36m47\u001b[0m\n"
      ]
     },
     "metadata": {},
     "output_type": "display_data"
    },
    {
     "data": {
      "text/html": [
       "<pre style=\"white-space:pre;overflow-x:auto;line-height:normal;font-family:Menlo,'DejaVu Sans Mono',consolas,'Courier New',monospace\">╭──── BingoBoard ─────╮\n",
       "│ <span style=\"color: #800000; text-decoration-color: #800000\"> 67  78 </span><span style=\"color: #008000; text-decoration-color: #008000\"> 36 </span><span style=\"color: #800000; text-decoration-color: #800000\"> 64  14</span> │\n",
       "│ <span style=\"color: #800000; text-decoration-color: #800000\"> 46  16  80 </span><span style=\"color: #008000; text-decoration-color: #008000\"> 23 </span><span style=\"color: #800000; text-decoration-color: #800000\"> 94</span> │\n",
       "│ <span style=\"color: #800000; text-decoration-color: #800000\"> 22  47  51  65 </span><span style=\"color: #008000; text-decoration-color: #008000\"> 57</span> │\n",
       "│ <span style=\"color: #008000; text-decoration-color: #008000\"> 33 </span><span style=\"color: #800000; text-decoration-color: #800000\"> 76  21  92 </span><span style=\"color: #008000; text-decoration-color: #008000\"> 97</span> │\n",
       "│ <span style=\"color: #008000; text-decoration-color: #008000\"> 31 </span><span style=\"color: #800000; text-decoration-color: #800000\"> 95  54  27 </span><span style=\"color: #008000; text-decoration-color: #008000\"> 20</span> │\n",
       "╰─────────────────────╯\n",
       "</pre>\n"
      ],
      "text/plain": [
       "╭──── BingoBoard ─────╮\n",
       "│ \u001b[31m 67 \u001b[0m\u001b[31m 78 \u001b[0m\u001b[32m 36 \u001b[0m\u001b[31m 64 \u001b[0m\u001b[31m 14\u001b[0m │\n",
       "│ \u001b[31m 46 \u001b[0m\u001b[31m 16 \u001b[0m\u001b[31m 80 \u001b[0m\u001b[32m 23 \u001b[0m\u001b[31m 94\u001b[0m │\n",
       "│ \u001b[31m 22 \u001b[0m\u001b[31m 47 \u001b[0m\u001b[31m 51 \u001b[0m\u001b[31m 65 \u001b[0m\u001b[32m 57\u001b[0m │\n",
       "│ \u001b[32m 33 \u001b[0m\u001b[31m 76 \u001b[0m\u001b[31m 21 \u001b[0m\u001b[31m 92 \u001b[0m\u001b[32m 97\u001b[0m │\n",
       "│ \u001b[32m 31 \u001b[0m\u001b[31m 95 \u001b[0m\u001b[31m 54 \u001b[0m\u001b[31m 27 \u001b[0m\u001b[32m 20\u001b[0m │\n",
       "╰─────────────────────╯\n"
      ]
     },
     "metadata": {},
     "output_type": "display_data"
    },
    {
     "data": {
      "text/html": [
       "<pre style=\"white-space:pre;overflow-x:auto;line-height:normal;font-family:Menlo,'DejaVu Sans Mono',consolas,'Courier New',monospace\">╭──── BingoBoard ─────╮\n",
       "│ <span style=\"color: #008000; text-decoration-color: #008000\"> 59 </span><span style=\"color: #800000; text-decoration-color: #800000\"> 14  29  53 </span><span style=\"color: #008000; text-decoration-color: #008000\"> 19</span> │\n",
       "│ <span style=\"color: #008000; text-decoration-color: #008000\">  9 </span><span style=\"color: #800000; text-decoration-color: #800000\">  2 </span><span style=\"color: #008000; text-decoration-color: #008000\"> 11 </span><span style=\"color: #800000; text-decoration-color: #800000\"> 33  44</span> │\n",
       "│ <span style=\"color: #800000; text-decoration-color: #800000\"> 81   6  10  47 </span><span style=\"color: #008000; text-decoration-color: #008000\"> 58</span> │\n",
       "│ <span style=\"color: #008000; text-decoration-color: #008000\"> 20  34 </span><span style=\"color: #800000; text-decoration-color: #800000\"> 62  55  40</span> │\n",
       "│ <span style=\"color: #800000; text-decoration-color: #800000\"> 71  38 </span><span style=\"color: #008000; text-decoration-color: #008000\"> 69 </span><span style=\"color: #800000; text-decoration-color: #800000\"> 45  78</span> │\n",
       "╰─────────────────────╯\n",
       "</pre>\n"
      ],
      "text/plain": [
       "╭──── BingoBoard ─────╮\n",
       "│ \u001b[32m 59 \u001b[0m\u001b[31m 14 \u001b[0m\u001b[31m 29 \u001b[0m\u001b[31m 53 \u001b[0m\u001b[32m 19\u001b[0m │\n",
       "│ \u001b[32m  9 \u001b[0m\u001b[31m  2 \u001b[0m\u001b[32m 11 \u001b[0m\u001b[31m 33 \u001b[0m\u001b[31m 44\u001b[0m │\n",
       "│ \u001b[31m 81 \u001b[0m\u001b[31m  6 \u001b[0m\u001b[31m 10 \u001b[0m\u001b[31m 47 \u001b[0m\u001b[32m 58\u001b[0m │\n",
       "│ \u001b[32m 20 \u001b[0m\u001b[32m 34 \u001b[0m\u001b[31m 62 \u001b[0m\u001b[31m 55 \u001b[0m\u001b[31m 40\u001b[0m │\n",
       "│ \u001b[31m 71 \u001b[0m\u001b[31m 38 \u001b[0m\u001b[32m 69 \u001b[0m\u001b[31m 45 \u001b[0m\u001b[31m 78\u001b[0m │\n",
       "╰─────────────────────╯\n"
      ]
     },
     "metadata": {},
     "output_type": "display_data"
    },
    {
     "data": {
      "text/html": [
       "<pre style=\"white-space:pre;overflow-x:auto;line-height:normal;font-family:Menlo,'DejaVu Sans Mono',consolas,'Courier New',monospace\">╭──── BingoBoard ─────╮\n",
       "│ <span style=\"color: #008000; text-decoration-color: #008000\"> 42 </span><span style=\"color: #800000; text-decoration-color: #800000\"> 44  98  89  87</span> │\n",
       "│ <span style=\"color: #800000; text-decoration-color: #800000\"> 65  10  80 </span><span style=\"color: #008000; text-decoration-color: #008000\"> 56 </span><span style=\"color: #800000; text-decoration-color: #800000\"> 41</span> │\n",
       "│ <span style=\"color: #800000; text-decoration-color: #800000\">  3  35  95  48 </span><span style=\"color: #008000; text-decoration-color: #008000\"> 43</span> │\n",
       "│ <span style=\"color: #008000; text-decoration-color: #008000\"> 85  97  83 </span><span style=\"color: #800000; text-decoration-color: #800000\"> 12  94</span> │\n",
       "│ <span style=\"color: #800000; text-decoration-color: #800000\"> 50  38  93  47  17</span> │\n",
       "╰─────────────────────╯\n",
       "</pre>\n"
      ],
      "text/plain": [
       "╭──── BingoBoard ─────╮\n",
       "│ \u001b[32m 42 \u001b[0m\u001b[31m 44 \u001b[0m\u001b[31m 98 \u001b[0m\u001b[31m 89 \u001b[0m\u001b[31m 87\u001b[0m │\n",
       "│ \u001b[31m 65 \u001b[0m\u001b[31m 10 \u001b[0m\u001b[31m 80 \u001b[0m\u001b[32m 56 \u001b[0m\u001b[31m 41\u001b[0m │\n",
       "│ \u001b[31m  3 \u001b[0m\u001b[31m 35 \u001b[0m\u001b[31m 95 \u001b[0m\u001b[31m 48 \u001b[0m\u001b[32m 43\u001b[0m │\n",
       "│ \u001b[32m 85 \u001b[0m\u001b[32m 97 \u001b[0m\u001b[32m 83 \u001b[0m\u001b[31m 12 \u001b[0m\u001b[31m 94\u001b[0m │\n",
       "│ \u001b[31m 50 \u001b[0m\u001b[31m 38 \u001b[0m\u001b[31m 93 \u001b[0m\u001b[31m 47 \u001b[0m\u001b[31m 17\u001b[0m │\n",
       "╰─────────────────────╯\n"
      ]
     },
     "metadata": {},
     "output_type": "display_data"
    },
    {
     "data": {
      "text/html": [
       "<pre style=\"white-space:pre;overflow-x:auto;line-height:normal;font-family:Menlo,'DejaVu Sans Mono',consolas,'Courier New',monospace\">Calling <span style=\"color: #008080; text-decoration-color: #008080; font-weight: bold\">42</span>\n",
       "</pre>\n"
      ],
      "text/plain": [
       "Calling \u001b[1;36m42\u001b[0m\n"
      ]
     },
     "metadata": {},
     "output_type": "display_data"
    },
    {
     "data": {
      "text/html": [
       "<pre style=\"white-space:pre;overflow-x:auto;line-height:normal;font-family:Menlo,'DejaVu Sans Mono',consolas,'Courier New',monospace\">╭──── BingoBoard ─────╮\n",
       "│ <span style=\"color: #800000; text-decoration-color: #800000\"> 89 </span><span style=\"color: #008000; text-decoration-color: #008000\"> 58 </span><span style=\"color: #800000; text-decoration-color: #800000\"> 71  68  15</span> │\n",
       "│ <span style=\"color: #800000; text-decoration-color: #800000\"> 23  65   9 </span><span style=\"color: #008000; text-decoration-color: #008000\"> 36 </span><span style=\"color: #800000; text-decoration-color: #800000\"> 74</span> │\n",
       "│ <span style=\"color: #800000; text-decoration-color: #800000\"> 21  29  42 </span><span style=\"color: #008000; text-decoration-color: #008000\"> 79 </span><span style=\"color: #800000; text-decoration-color: #800000\"> 98</span> │\n",
       "│ <span style=\"color: #800000; text-decoration-color: #800000\"> 55  47  33  39 </span><span style=\"color: #008000; text-decoration-color: #008000\"> 28</span> │\n",
       "│ <span style=\"color: #008000; text-decoration-color: #008000\"> 16 </span><span style=\"color: #800000; text-decoration-color: #800000\"> 75  91 </span><span style=\"color: #008000; text-decoration-color: #008000\"> 69  57</span> │\n",
       "╰─────────────────────╯\n",
       "</pre>\n"
      ],
      "text/plain": [
       "╭──── BingoBoard ─────╮\n",
       "│ \u001b[31m 89 \u001b[0m\u001b[32m 58 \u001b[0m\u001b[31m 71 \u001b[0m\u001b[31m 68 \u001b[0m\u001b[31m 15\u001b[0m │\n",
       "│ \u001b[31m 23 \u001b[0m\u001b[31m 65 \u001b[0m\u001b[31m  9 \u001b[0m\u001b[32m 36 \u001b[0m\u001b[31m 74\u001b[0m │\n",
       "│ \u001b[31m 21 \u001b[0m\u001b[31m 29 \u001b[0m\u001b[31m 42 \u001b[0m\u001b[32m 79 \u001b[0m\u001b[31m 98\u001b[0m │\n",
       "│ \u001b[31m 55 \u001b[0m\u001b[31m 47 \u001b[0m\u001b[31m 33 \u001b[0m\u001b[31m 39 \u001b[0m\u001b[32m 28\u001b[0m │\n",
       "│ \u001b[32m 16 \u001b[0m\u001b[31m 75 \u001b[0m\u001b[31m 91 \u001b[0m\u001b[32m 69 \u001b[0m\u001b[32m 57\u001b[0m │\n",
       "╰─────────────────────╯\n"
      ]
     },
     "metadata": {},
     "output_type": "display_data"
    },
    {
     "data": {
      "text/html": [
       "<pre style=\"white-space:pre;overflow-x:auto;line-height:normal;font-family:Menlo,'DejaVu Sans Mono',consolas,'Courier New',monospace\">╭──── BingoBoard ─────╮\n",
       "│ <span style=\"color: #800000; text-decoration-color: #800000\">  1 </span><span style=\"color: #008000; text-decoration-color: #008000\"> 85 </span><span style=\"color: #800000; text-decoration-color: #800000\"> 63   7   2</span> │\n",
       "│ <span style=\"color: #800000; text-decoration-color: #800000\">  0 </span><span style=\"color: #008000; text-decoration-color: #008000\"> 20 </span><span style=\"color: #800000; text-decoration-color: #800000\"> 61 </span><span style=\"color: #008000; text-decoration-color: #008000\"> 26 </span><span style=\"color: #800000; text-decoration-color: #800000\"> 77</span> │\n",
       "│ <span style=\"color: #800000; text-decoration-color: #800000\"> 99  37  74  42  76</span> │\n",
       "│ <span style=\"color: #800000; text-decoration-color: #800000\"> 25  94 </span><span style=\"color: #008000; text-decoration-color: #008000\"> 19 </span><span style=\"color: #800000; text-decoration-color: #800000\"> 78  60</span> │\n",
       "│ <span style=\"color: #800000; text-decoration-color: #800000\"> 79  72  95 </span><span style=\"color: #008000; text-decoration-color: #008000\"> 22  11</span> │\n",
       "╰─────────────────────╯\n",
       "</pre>\n"
      ],
      "text/plain": [
       "╭──── BingoBoard ─────╮\n",
       "│ \u001b[31m  1 \u001b[0m\u001b[32m 85 \u001b[0m\u001b[31m 63 \u001b[0m\u001b[31m  7 \u001b[0m\u001b[31m  2\u001b[0m │\n",
       "│ \u001b[31m  0 \u001b[0m\u001b[32m 20 \u001b[0m\u001b[31m 61 \u001b[0m\u001b[32m 26 \u001b[0m\u001b[31m 77\u001b[0m │\n",
       "│ \u001b[31m 99 \u001b[0m\u001b[31m 37 \u001b[0m\u001b[31m 74 \u001b[0m\u001b[31m 42 \u001b[0m\u001b[31m 76\u001b[0m │\n",
       "│ \u001b[31m 25 \u001b[0m\u001b[31m 94 \u001b[0m\u001b[32m 19 \u001b[0m\u001b[31m 78 \u001b[0m\u001b[31m 60\u001b[0m │\n",
       "│ \u001b[31m 79 \u001b[0m\u001b[31m 72 \u001b[0m\u001b[31m 95 \u001b[0m\u001b[32m 22 \u001b[0m\u001b[32m 11\u001b[0m │\n",
       "╰─────────────────────╯\n"
      ]
     },
     "metadata": {},
     "output_type": "display_data"
    },
    {
     "data": {
      "text/html": [
       "<pre style=\"white-space:pre;overflow-x:auto;line-height:normal;font-family:Menlo,'DejaVu Sans Mono',consolas,'Courier New',monospace\">╭──── BingoBoard ─────╮\n",
       "│ <span style=\"color: #800000; text-decoration-color: #800000\"> 71 </span><span style=\"color: #008000; text-decoration-color: #008000\"> 36  13 </span><span style=\"color: #800000; text-decoration-color: #800000\"> 68  10</span> │\n",
       "│ <span style=\"color: #800000; text-decoration-color: #800000\"> 84   7  60 </span><span style=\"color: #008000; text-decoration-color: #008000\"> 79 </span><span style=\"color: #800000; text-decoration-color: #800000\"> 41</span> │\n",
       "│ <span style=\"color: #800000; text-decoration-color: #800000\">  1 </span><span style=\"color: #008000; text-decoration-color: #008000\"> 83  43 </span><span style=\"color: #800000; text-decoration-color: #800000\"> 81 </span><span style=\"color: #008000; text-decoration-color: #008000\"> 97</span> │\n",
       "│ <span style=\"color: #008000; text-decoration-color: #008000\"> 90 </span><span style=\"color: #800000; text-decoration-color: #800000\"> 53  80 </span><span style=\"color: #008000; text-decoration-color: #008000\"> 19 </span><span style=\"color: #800000; text-decoration-color: #800000\"> 38</span> │\n",
       "│ <span style=\"color: #800000; text-decoration-color: #800000\"> 48  25  32  42  29</span> │\n",
       "╰─────────────────────╯\n",
       "</pre>\n"
      ],
      "text/plain": [
       "╭──── BingoBoard ─────╮\n",
       "│ \u001b[31m 71 \u001b[0m\u001b[32m 36 \u001b[0m\u001b[32m 13 \u001b[0m\u001b[31m 68 \u001b[0m\u001b[31m 10\u001b[0m │\n",
       "│ \u001b[31m 84 \u001b[0m\u001b[31m  7 \u001b[0m\u001b[31m 60 \u001b[0m\u001b[32m 79 \u001b[0m\u001b[31m 41\u001b[0m │\n",
       "│ \u001b[31m  1 \u001b[0m\u001b[32m 83 \u001b[0m\u001b[32m 43 \u001b[0m\u001b[31m 81 \u001b[0m\u001b[32m 97\u001b[0m │\n",
       "│ \u001b[32m 90 \u001b[0m\u001b[31m 53 \u001b[0m\u001b[31m 80 \u001b[0m\u001b[32m 19 \u001b[0m\u001b[31m 38\u001b[0m │\n",
       "│ \u001b[31m 48 \u001b[0m\u001b[31m 25 \u001b[0m\u001b[31m 32 \u001b[0m\u001b[31m 42 \u001b[0m\u001b[31m 29\u001b[0m │\n",
       "╰─────────────────────╯\n"
      ]
     },
     "metadata": {},
     "output_type": "display_data"
    },
    {
     "data": {
      "text/html": [
       "<pre style=\"white-space:pre;overflow-x:auto;line-height:normal;font-family:Menlo,'DejaVu Sans Mono',consolas,'Courier New',monospace\">Calling <span style=\"color: #008080; text-decoration-color: #008080; font-weight: bold\">90</span>\n",
       "</pre>\n"
      ],
      "text/plain": [
       "Calling \u001b[1;36m90\u001b[0m\n"
      ]
     },
     "metadata": {},
     "output_type": "display_data"
    },
    {
     "data": {
      "text/html": [
       "<pre style=\"white-space:pre;overflow-x:auto;line-height:normal;font-family:Menlo,'DejaVu Sans Mono',consolas,'Courier New',monospace\">╭──── BingoBoard ─────╮\n",
       "│ <span style=\"color: #800000; text-decoration-color: #800000\"> 67  74  95 </span><span style=\"color: #008000; text-decoration-color: #008000\"> 34 </span><span style=\"color: #800000; text-decoration-color: #800000\"> 10</span> │\n",
       "│ <span style=\"color: #800000; text-decoration-color: #800000\"> 39  90 </span><span style=\"color: #008000; text-decoration-color: #008000\"> 59 </span><span style=\"color: #800000; text-decoration-color: #800000\"> 44  51</span> │\n",
       "│ <span style=\"color: #800000; text-decoration-color: #800000\"> 17  16 </span><span style=\"color: #008000; text-decoration-color: #008000\"> 97 </span><span style=\"color: #800000; text-decoration-color: #800000\"> 24  62</span> │\n",
       "│ <span style=\"color: #800000; text-decoration-color: #800000\"> 20  54  76  63 </span><span style=\"color: #008000; text-decoration-color: #008000\"> 88</span> │\n",
       "│ <span style=\"color: #008000; text-decoration-color: #008000\"> 87 </span><span style=\"color: #800000; text-decoration-color: #800000\"> 66  14  78 </span><span style=\"color: #008000; text-decoration-color: #008000\"> 82</span> │\n",
       "╰─────────────────────╯\n",
       "</pre>\n"
      ],
      "text/plain": [
       "╭──── BingoBoard ─────╮\n",
       "│ \u001b[31m 67 \u001b[0m\u001b[31m 74 \u001b[0m\u001b[31m 95 \u001b[0m\u001b[32m 34 \u001b[0m\u001b[31m 10\u001b[0m │\n",
       "│ \u001b[31m 39 \u001b[0m\u001b[31m 90 \u001b[0m\u001b[32m 59 \u001b[0m\u001b[31m 44 \u001b[0m\u001b[31m 51\u001b[0m │\n",
       "│ \u001b[31m 17 \u001b[0m\u001b[31m 16 \u001b[0m\u001b[32m 97 \u001b[0m\u001b[31m 24 \u001b[0m\u001b[31m 62\u001b[0m │\n",
       "│ \u001b[31m 20 \u001b[0m\u001b[31m 54 \u001b[0m\u001b[31m 76 \u001b[0m\u001b[31m 63 \u001b[0m\u001b[32m 88\u001b[0m │\n",
       "│ \u001b[32m 87 \u001b[0m\u001b[31m 66 \u001b[0m\u001b[31m 14 \u001b[0m\u001b[31m 78 \u001b[0m\u001b[32m 82\u001b[0m │\n",
       "╰─────────────────────╯\n"
      ]
     },
     "metadata": {},
     "output_type": "display_data"
    },
    {
     "data": {
      "text/html": [
       "<pre style=\"white-space:pre;overflow-x:auto;line-height:normal;font-family:Menlo,'DejaVu Sans Mono',consolas,'Courier New',monospace\">Calling <span style=\"color: #008080; text-decoration-color: #008080; font-weight: bold\">20</span>\n",
       "</pre>\n"
      ],
      "text/plain": [
       "Calling \u001b[1;36m20\u001b[0m\n"
      ]
     },
     "metadata": {},
     "output_type": "display_data"
    },
    {
     "data": {
      "text/html": [
       "<pre style=\"white-space:pre;overflow-x:auto;line-height:normal;font-family:Menlo,'DejaVu Sans Mono',consolas,'Courier New',monospace\">╭──── BingoBoard ─────╮\n",
       "│ <span style=\"color: #008000; text-decoration-color: #008000\"> 58  34  49 </span><span style=\"color: #800000; text-decoration-color: #800000\"> 29  75</span> │\n",
       "│ <span style=\"color: #800000; text-decoration-color: #800000\"> 17  15 </span><span style=\"color: #008000; text-decoration-color: #008000\"> 28  23  84</span> │\n",
       "│ <span style=\"color: #008000; text-decoration-color: #008000\"> 59 </span><span style=\"color: #800000; text-decoration-color: #800000\"> 25  92  48   0</span> │\n",
       "│ <span style=\"color: #800000; text-decoration-color: #800000\"> 20  81  47   3  71</span> │\n",
       "│ <span style=\"color: #800000; text-decoration-color: #800000\"> 68  60   5 </span><span style=\"color: #008000; text-decoration-color: #008000\"> 22 </span><span style=\"color: #800000; text-decoration-color: #800000\"> 87</span> │\n",
       "╰─────────────────────╯\n",
       "</pre>\n"
      ],
      "text/plain": [
       "╭──── BingoBoard ─────╮\n",
       "│ \u001b[32m 58 \u001b[0m\u001b[32m 34 \u001b[0m\u001b[32m 49 \u001b[0m\u001b[31m 29 \u001b[0m\u001b[31m 75\u001b[0m │\n",
       "│ \u001b[31m 17 \u001b[0m\u001b[31m 15 \u001b[0m\u001b[32m 28 \u001b[0m\u001b[32m 23 \u001b[0m\u001b[32m 84\u001b[0m │\n",
       "│ \u001b[32m 59 \u001b[0m\u001b[31m 25 \u001b[0m\u001b[31m 92 \u001b[0m\u001b[31m 48 \u001b[0m\u001b[31m  0\u001b[0m │\n",
       "│ \u001b[31m 20 \u001b[0m\u001b[31m 81 \u001b[0m\u001b[31m 47 \u001b[0m\u001b[31m  3 \u001b[0m\u001b[31m 71\u001b[0m │\n",
       "│ \u001b[31m 68 \u001b[0m\u001b[31m 60 \u001b[0m\u001b[31m  5 \u001b[0m\u001b[32m 22 \u001b[0m\u001b[31m 87\u001b[0m │\n",
       "╰─────────────────────╯\n"
      ]
     },
     "metadata": {},
     "output_type": "display_data"
    },
    {
     "data": {
      "text/html": [
       "<pre style=\"white-space:pre;overflow-x:auto;line-height:normal;font-family:Menlo,'DejaVu Sans Mono',consolas,'Courier New',monospace\">Calling <span style=\"color: #008080; text-decoration-color: #008080; font-weight: bold\">19</span>\n",
       "</pre>\n"
      ],
      "text/plain": [
       "Calling \u001b[1;36m19\u001b[0m\n"
      ]
     },
     "metadata": {},
     "output_type": "display_data"
    },
    {
     "data": {
      "text/html": [
       "<pre style=\"white-space:pre;overflow-x:auto;line-height:normal;font-family:Menlo,'DejaVu Sans Mono',consolas,'Courier New',monospace\">Calling <span style=\"color: #008080; text-decoration-color: #008080; font-weight: bold\">36</span>\n",
       "</pre>\n"
      ],
      "text/plain": [
       "Calling \u001b[1;36m36\u001b[0m\n"
      ]
     },
     "metadata": {},
     "output_type": "display_data"
    },
    {
     "data": {
      "text/html": [
       "<pre style=\"white-space:pre;overflow-x:auto;line-height:normal;font-family:Menlo,'DejaVu Sans Mono',consolas,'Courier New',monospace\">╭──── BingoBoard ─────╮\n",
       "│ <span style=\"color: #800000; text-decoration-color: #800000\"> 46  51  17 </span><span style=\"color: #008000; text-decoration-color: #008000\"> 23  13</span> │\n",
       "│ <span style=\"color: #008000; text-decoration-color: #008000\"> 20 </span><span style=\"color: #800000; text-decoration-color: #800000\"> 93 </span><span style=\"color: #008000; text-decoration-color: #008000\"> 97 </span><span style=\"color: #800000; text-decoration-color: #800000\"> 99  81</span> │\n",
       "│ <span style=\"color: #800000; text-decoration-color: #800000\"> 57  47  33 </span><span style=\"color: #008000; text-decoration-color: #008000\"> 84 </span><span style=\"color: #800000; text-decoration-color: #800000\"> 44</span> │\n",
       "│ <span style=\"color: #800000; text-decoration-color: #800000\"> 28  96   2 </span><span style=\"color: #008000; text-decoration-color: #008000\"> 43  56</span> │\n",
       "│ <span style=\"color: #008000; text-decoration-color: #008000\"> 68 </span><span style=\"color: #800000; text-decoration-color: #800000\"> 36  62  15   5</span> │\n",
       "╰─────────────────────╯\n",
       "</pre>\n"
      ],
      "text/plain": [
       "╭──── BingoBoard ─────╮\n",
       "│ \u001b[31m 46 \u001b[0m\u001b[31m 51 \u001b[0m\u001b[31m 17 \u001b[0m\u001b[32m 23 \u001b[0m\u001b[32m 13\u001b[0m │\n",
       "│ \u001b[32m 20 \u001b[0m\u001b[31m 93 \u001b[0m\u001b[32m 97 \u001b[0m\u001b[31m 99 \u001b[0m\u001b[31m 81\u001b[0m │\n",
       "│ \u001b[31m 57 \u001b[0m\u001b[31m 47 \u001b[0m\u001b[31m 33 \u001b[0m\u001b[32m 84 \u001b[0m\u001b[31m 44\u001b[0m │\n",
       "│ \u001b[31m 28 \u001b[0m\u001b[31m 96 \u001b[0m\u001b[31m  2 \u001b[0m\u001b[32m 43 \u001b[0m\u001b[32m 56\u001b[0m │\n",
       "│ \u001b[32m 68 \u001b[0m\u001b[31m 36 \u001b[0m\u001b[31m 62 \u001b[0m\u001b[31m 15 \u001b[0m\u001b[31m  5\u001b[0m │\n",
       "╰─────────────────────╯\n"
      ]
     },
     "metadata": {},
     "output_type": "display_data"
    },
    {
     "data": {
      "text/html": [
       "<pre style=\"white-space:pre;overflow-x:auto;line-height:normal;font-family:Menlo,'DejaVu Sans Mono',consolas,'Courier New',monospace\">Calling <span style=\"color: #008080; text-decoration-color: #008080; font-weight: bold\">22</span>\n",
       "</pre>\n"
      ],
      "text/plain": [
       "Calling \u001b[1;36m22\u001b[0m\n"
      ]
     },
     "metadata": {},
     "output_type": "display_data"
    },
    {
     "data": {
      "text/html": [
       "<pre style=\"white-space:pre;overflow-x:auto;line-height:normal;font-family:Menlo,'DejaVu Sans Mono',consolas,'Courier New',monospace\">╭──── BingoBoard ─────╮\n",
       "│ <span style=\"color: #008000; text-decoration-color: #008000\"> 59  86 </span><span style=\"color: #800000; text-decoration-color: #800000\"> 15   3  19</span> │\n",
       "│ <span style=\"color: #800000; text-decoration-color: #800000\"> 89   4  74  61 </span><span style=\"color: #008000; text-decoration-color: #008000\"> 23</span> │\n",
       "│ <span style=\"color: #008000; text-decoration-color: #008000\"> 52 </span><span style=\"color: #800000; text-decoration-color: #800000\"> 98   8 </span><span style=\"color: #008000; text-decoration-color: #008000\"> 79 </span><span style=\"color: #800000; text-decoration-color: #800000\"> 39</span> │\n",
       "│ <span style=\"color: #800000; text-decoration-color: #800000\"> 95  17  22  14  51</span> │\n",
       "│ <span style=\"color: #800000; text-decoration-color: #800000\"> 50  18  94  30 </span><span style=\"color: #008000; text-decoration-color: #008000\"> 84</span> │\n",
       "╰─────────────────────╯\n",
       "</pre>\n"
      ],
      "text/plain": [
       "╭──── BingoBoard ─────╮\n",
       "│ \u001b[32m 59 \u001b[0m\u001b[32m 86 \u001b[0m\u001b[31m 15 \u001b[0m\u001b[31m  3 \u001b[0m\u001b[31m 19\u001b[0m │\n",
       "│ \u001b[31m 89 \u001b[0m\u001b[31m  4 \u001b[0m\u001b[31m 74 \u001b[0m\u001b[31m 61 \u001b[0m\u001b[32m 23\u001b[0m │\n",
       "│ \u001b[32m 52 \u001b[0m\u001b[31m 98 \u001b[0m\u001b[31m  8 \u001b[0m\u001b[32m 79 \u001b[0m\u001b[31m 39\u001b[0m │\n",
       "│ \u001b[31m 95 \u001b[0m\u001b[31m 17 \u001b[0m\u001b[31m 22 \u001b[0m\u001b[31m 14 \u001b[0m\u001b[31m 51\u001b[0m │\n",
       "│ \u001b[31m 50 \u001b[0m\u001b[31m 18 \u001b[0m\u001b[31m 94 \u001b[0m\u001b[31m 30 \u001b[0m\u001b[32m 84\u001b[0m │\n",
       "╰─────────────────────╯\n"
      ]
     },
     "metadata": {},
     "output_type": "display_data"
    },
    {
     "data": {
      "text/html": [
       "<pre style=\"white-space:pre;overflow-x:auto;line-height:normal;font-family:Menlo,'DejaVu Sans Mono',consolas,'Courier New',monospace\">Calling <span style=\"color: #008080; text-decoration-color: #008080; font-weight: bold\">43</span>\n",
       "</pre>\n"
      ],
      "text/plain": [
       "Calling \u001b[1;36m43\u001b[0m\n"
      ]
     },
     "metadata": {},
     "output_type": "display_data"
    },
    {
     "data": {
      "text/html": [
       "<pre style=\"white-space:pre;overflow-x:auto;line-height:normal;font-family:Menlo,'DejaVu Sans Mono',consolas,'Courier New',monospace\">╭──── BingoBoard ─────╮\n",
       "│ <span style=\"color: #008000; text-decoration-color: #008000\"> 59 </span><span style=\"color: #800000; text-decoration-color: #800000\">  4  38  95  99</span> │\n",
       "│ <span style=\"color: #800000; text-decoration-color: #800000\"> 85  68 </span><span style=\"color: #008000; text-decoration-color: #008000\"> 69 </span><span style=\"color: #800000; text-decoration-color: #800000\"> 93  43</span> │\n",
       "│ <span style=\"color: #800000; text-decoration-color: #800000\"> 83 </span><span style=\"color: #008000; text-decoration-color: #008000\"> 57 </span><span style=\"color: #800000; text-decoration-color: #800000\"> 48  42  15</span> │\n",
       "│ <span style=\"color: #800000; text-decoration-color: #800000\"> 47  50  80 </span><span style=\"color: #008000; text-decoration-color: #008000\"> 79 </span><span style=\"color: #800000; text-decoration-color: #800000\"> 90</span> │\n",
       "│ <span style=\"color: #800000; text-decoration-color: #800000\"> 56  87  78  64  25</span> │\n",
       "╰─────────────────────╯\n",
       "</pre>\n"
      ],
      "text/plain": [
       "╭──── BingoBoard ─────╮\n",
       "│ \u001b[32m 59 \u001b[0m\u001b[31m  4 \u001b[0m\u001b[31m 38 \u001b[0m\u001b[31m 95 \u001b[0m\u001b[31m 99\u001b[0m │\n",
       "│ \u001b[31m 85 \u001b[0m\u001b[31m 68 \u001b[0m\u001b[32m 69 \u001b[0m\u001b[31m 93 \u001b[0m\u001b[31m 43\u001b[0m │\n",
       "│ \u001b[31m 83 \u001b[0m\u001b[32m 57 \u001b[0m\u001b[31m 48 \u001b[0m\u001b[31m 42 \u001b[0m\u001b[31m 15\u001b[0m │\n",
       "│ \u001b[31m 47 \u001b[0m\u001b[31m 50 \u001b[0m\u001b[31m 80 \u001b[0m\u001b[32m 79 \u001b[0m\u001b[31m 90\u001b[0m │\n",
       "│ \u001b[31m 56 \u001b[0m\u001b[31m 87 \u001b[0m\u001b[31m 78 \u001b[0m\u001b[31m 64 \u001b[0m\u001b[31m 25\u001b[0m │\n",
       "╰─────────────────────╯\n"
      ]
     },
     "metadata": {},
     "output_type": "display_data"
    },
    {
     "data": {
      "text/html": [
       "<pre style=\"white-space:pre;overflow-x:auto;line-height:normal;font-family:Menlo,'DejaVu Sans Mono',consolas,'Courier New',monospace\">Calling <span style=\"color: #008080; text-decoration-color: #008080; font-weight: bold\">58</span>\n",
       "</pre>\n"
      ],
      "text/plain": [
       "Calling \u001b[1;36m58\u001b[0m\n"
      ]
     },
     "metadata": {},
     "output_type": "display_data"
    },
    {
     "data": {
      "text/html": [
       "<pre style=\"white-space:pre;overflow-x:auto;line-height:normal;font-family:Menlo,'DejaVu Sans Mono',consolas,'Courier New',monospace\">Calling <span style=\"color: #008080; text-decoration-color: #008080; font-weight: bold\">28</span>\n",
       "</pre>\n"
      ],
      "text/plain": [
       "Calling \u001b[1;36m28\u001b[0m\n"
      ]
     },
     "metadata": {},
     "output_type": "display_data"
    },
    {
     "data": {
      "text/html": [
       "<pre style=\"white-space:pre;overflow-x:auto;line-height:normal;font-family:Menlo,'DejaVu Sans Mono',consolas,'Courier New',monospace\">╭──── BingoBoard ─────╮\n",
       "│ <span style=\"color: #800000; text-decoration-color: #800000\">  1  77 </span><span style=\"color: #008000; text-decoration-color: #008000\"> 86 </span><span style=\"color: #800000; text-decoration-color: #800000\"> 43  30</span> │\n",
       "│ <span style=\"color: #800000; text-decoration-color: #800000\"> 28 </span><span style=\"color: #008000; text-decoration-color: #008000\"> 88 </span><span style=\"color: #800000; text-decoration-color: #800000\">  7   5  60</span> │\n",
       "│ <span style=\"color: #800000; text-decoration-color: #800000\"> 66  24   3 </span><span style=\"color: #008000; text-decoration-color: #008000\"> 57 </span><span style=\"color: #800000; text-decoration-color: #800000\"> 33</span> │\n",
       "│ <span style=\"color: #800000; text-decoration-color: #800000\"> 38 </span><span style=\"color: #008000; text-decoration-color: #008000\"> 23  59  84 </span><span style=\"color: #800000; text-decoration-color: #800000\"> 44</span> │\n",
       "│ <span style=\"color: #800000; text-decoration-color: #800000\"> 74  47  17  29 </span><span style=\"color: #008000; text-decoration-color: #008000\"> 85</span> │\n",
       "╰─────────────────────╯\n",
       "</pre>\n"
      ],
      "text/plain": [
       "╭──── BingoBoard ─────╮\n",
       "│ \u001b[31m  1 \u001b[0m\u001b[31m 77 \u001b[0m\u001b[32m 86 \u001b[0m\u001b[31m 43 \u001b[0m\u001b[31m 30\u001b[0m │\n",
       "│ \u001b[31m 28 \u001b[0m\u001b[32m 88 \u001b[0m\u001b[31m  7 \u001b[0m\u001b[31m  5 \u001b[0m\u001b[31m 60\u001b[0m │\n",
       "│ \u001b[31m 66 \u001b[0m\u001b[31m 24 \u001b[0m\u001b[31m  3 \u001b[0m\u001b[32m 57 \u001b[0m\u001b[31m 33\u001b[0m │\n",
       "│ \u001b[31m 38 \u001b[0m\u001b[32m 23 \u001b[0m\u001b[32m 59 \u001b[0m\u001b[32m 84 \u001b[0m\u001b[31m 44\u001b[0m │\n",
       "│ \u001b[31m 74 \u001b[0m\u001b[31m 47 \u001b[0m\u001b[31m 17 \u001b[0m\u001b[31m 29 \u001b[0m\u001b[32m 85\u001b[0m │\n",
       "╰─────────────────────╯\n"
      ]
     },
     "metadata": {},
     "output_type": "display_data"
    },
    {
     "data": {
      "text/html": [
       "<pre style=\"white-space:pre;overflow-x:auto;line-height:normal;font-family:Menlo,'DejaVu Sans Mono',consolas,'Courier New',monospace\">╭──── BingoBoard ─────╮\n",
       "│ <span style=\"color: #800000; text-decoration-color: #800000\"> 58 </span><span style=\"color: #008000; text-decoration-color: #008000\"> 86 </span><span style=\"color: #800000; text-decoration-color: #800000\"> 44  19  74</span> │\n",
       "│ <span style=\"color: #800000; text-decoration-color: #800000\"> 57  89  17   6 </span><span style=\"color: #008000; text-decoration-color: #008000\"> 83</span> │\n",
       "│ <span style=\"color: #008000; text-decoration-color: #008000\"> 77 </span><span style=\"color: #800000; text-decoration-color: #800000\"> 35  60  32 </span><span style=\"color: #008000; text-decoration-color: #008000\"> 13</span> │\n",
       "│ <span style=\"color: #008000; text-decoration-color: #008000\"> 97 </span><span style=\"color: #800000; text-decoration-color: #800000\"> 63  62  28  76</span> │\n",
       "│ <span style=\"color: #800000; text-decoration-color: #800000\"> 55  31 </span><span style=\"color: #008000; text-decoration-color: #008000\"> 11 </span><span style=\"color: #800000; text-decoration-color: #800000\">  0  52</span> │\n",
       "╰─────────────────────╯\n",
       "</pre>\n"
      ],
      "text/plain": [
       "╭──── BingoBoard ─────╮\n",
       "│ \u001b[31m 58 \u001b[0m\u001b[32m 86 \u001b[0m\u001b[31m 44 \u001b[0m\u001b[31m 19 \u001b[0m\u001b[31m 74\u001b[0m │\n",
       "│ \u001b[31m 57 \u001b[0m\u001b[31m 89 \u001b[0m\u001b[31m 17 \u001b[0m\u001b[31m  6 \u001b[0m\u001b[32m 83\u001b[0m │\n",
       "│ \u001b[32m 77 \u001b[0m\u001b[31m 35 \u001b[0m\u001b[31m 60 \u001b[0m\u001b[31m 32 \u001b[0m\u001b[32m 13\u001b[0m │\n",
       "│ \u001b[32m 97 \u001b[0m\u001b[31m 63 \u001b[0m\u001b[31m 62 \u001b[0m\u001b[31m 28 \u001b[0m\u001b[31m 76\u001b[0m │\n",
       "│ \u001b[31m 55 \u001b[0m\u001b[31m 31 \u001b[0m\u001b[32m 11 \u001b[0m\u001b[31m  0 \u001b[0m\u001b[31m 52\u001b[0m │\n",
       "╰─────────────────────╯\n"
      ]
     },
     "metadata": {},
     "output_type": "display_data"
    },
    {
     "data": {
      "text/html": [
       "<pre style=\"white-space:pre;overflow-x:auto;line-height:normal;font-family:Menlo,'DejaVu Sans Mono',consolas,'Courier New',monospace\">╭──── BingoBoard ─────╮\n",
       "│ <span style=\"color: #800000; text-decoration-color: #800000\"> 15  67  40  39  28</span> │\n",
       "│ <span style=\"color: #800000; text-decoration-color: #800000\">  9 </span><span style=\"color: #008000; text-decoration-color: #008000\"> 79 </span><span style=\"color: #800000; text-decoration-color: #800000\"> 22  52  75</span> │\n",
       "│ <span style=\"color: #800000; text-decoration-color: #800000\"> 96  65 </span><span style=\"color: #008000; text-decoration-color: #008000\"> 86 </span><span style=\"color: #800000; text-decoration-color: #800000\"> 98  14</span> │\n",
       "│ <span style=\"color: #800000; text-decoration-color: #800000\"> 97  87  44 </span><span style=\"color: #008000; text-decoration-color: #008000\"> 84 </span><span style=\"color: #800000; text-decoration-color: #800000\"> 68</span> │\n",
       "│ <span style=\"color: #800000; text-decoration-color: #800000\"> 36 </span><span style=\"color: #008000; text-decoration-color: #008000\"> 26 </span><span style=\"color: #800000; text-decoration-color: #800000\"> 89  43  27</span> │\n",
       "╰─────────────────────╯\n",
       "</pre>\n"
      ],
      "text/plain": [
       "╭──── BingoBoard ─────╮\n",
       "│ \u001b[31m 15 \u001b[0m\u001b[31m 67 \u001b[0m\u001b[31m 40 \u001b[0m\u001b[31m 39 \u001b[0m\u001b[31m 28\u001b[0m │\n",
       "│ \u001b[31m  9 \u001b[0m\u001b[32m 79 \u001b[0m\u001b[31m 22 \u001b[0m\u001b[31m 52 \u001b[0m\u001b[31m 75\u001b[0m │\n",
       "│ \u001b[31m 96 \u001b[0m\u001b[31m 65 \u001b[0m\u001b[32m 86 \u001b[0m\u001b[31m 98 \u001b[0m\u001b[31m 14\u001b[0m │\n",
       "│ \u001b[31m 97 \u001b[0m\u001b[31m 87 \u001b[0m\u001b[31m 44 \u001b[0m\u001b[32m 84 \u001b[0m\u001b[31m 68\u001b[0m │\n",
       "│ \u001b[31m 36 \u001b[0m\u001b[32m 26 \u001b[0m\u001b[31m 89 \u001b[0m\u001b[31m 43 \u001b[0m\u001b[31m 27\u001b[0m │\n",
       "╰─────────────────────╯\n"
      ]
     },
     "metadata": {},
     "output_type": "display_data"
    },
    {
     "data": {
      "text/html": [
       "<pre style=\"white-space:pre;overflow-x:auto;line-height:normal;font-family:Menlo,'DejaVu Sans Mono',consolas,'Courier New',monospace\">Calling <span style=\"color: #008080; text-decoration-color: #008080; font-weight: bold\">79</span>\n",
       "</pre>\n"
      ],
      "text/plain": [
       "Calling \u001b[1;36m79\u001b[0m\n"
      ]
     },
     "metadata": {},
     "output_type": "display_data"
    },
    {
     "data": {
      "text/html": [
       "<pre style=\"white-space:pre;overflow-x:auto;line-height:normal;font-family:Menlo,'DejaVu Sans Mono',consolas,'Courier New',monospace\">Calling <span style=\"color: #008080; text-decoration-color: #008080; font-weight: bold\">86</span>\n",
       "</pre>\n"
      ],
      "text/plain": [
       "Calling \u001b[1;36m86\u001b[0m\n"
      ]
     },
     "metadata": {},
     "output_type": "display_data"
    },
    {
     "data": {
      "text/html": [
       "<pre style=\"white-space:pre;overflow-x:auto;line-height:normal;font-family:Menlo,'DejaVu Sans Mono',consolas,'Courier New',monospace\">Calling <span style=\"color: #008080; text-decoration-color: #008080; font-weight: bold\">57</span>\n",
       "</pre>\n"
      ],
      "text/plain": [
       "Calling \u001b[1;36m57\u001b[0m\n"
      ]
     },
     "metadata": {},
     "output_type": "display_data"
    },
    {
     "data": {
      "text/html": [
       "<pre style=\"white-space:pre;overflow-x:auto;line-height:normal;font-family:Menlo,'DejaVu Sans Mono',consolas,'Courier New',monospace\">╭──── BingoBoard ─────╮\n",
       "│ <span style=\"color: #800000; text-decoration-color: #800000\"> 36  20  31  44 </span><span style=\"color: #008000; text-decoration-color: #008000\"> 69</span> │\n",
       "│ <span style=\"color: #008000; text-decoration-color: #008000\"> 30 </span><span style=\"color: #800000; text-decoration-color: #800000\"> 65  55 </span><span style=\"color: #008000; text-decoration-color: #008000\"> 88 </span><span style=\"color: #800000; text-decoration-color: #800000\"> 64</span> │\n",
       "│ <span style=\"color: #800000; text-decoration-color: #800000\"> 74 </span><span style=\"color: #008000; text-decoration-color: #008000\"> 85  82 </span><span style=\"color: #800000; text-decoration-color: #800000\"> 61   5</span> │\n",
       "│ <span style=\"color: #800000; text-decoration-color: #800000\"> 57  17  90  43  54</span> │\n",
       "│ <span style=\"color: #800000; text-decoration-color: #800000\"> 58 </span><span style=\"color: #008000; text-decoration-color: #008000\"> 83 </span><span style=\"color: #800000; text-decoration-color: #800000\"> 52 </span><span style=\"color: #008000; text-decoration-color: #008000\"> 23 </span><span style=\"color: #800000; text-decoration-color: #800000\">  7</span> │\n",
       "╰─────────────────────╯\n",
       "</pre>\n"
      ],
      "text/plain": [
       "╭──── BingoBoard ─────╮\n",
       "│ \u001b[31m 36 \u001b[0m\u001b[31m 20 \u001b[0m\u001b[31m 31 \u001b[0m\u001b[31m 44 \u001b[0m\u001b[32m 69\u001b[0m │\n",
       "│ \u001b[32m 30 \u001b[0m\u001b[31m 65 \u001b[0m\u001b[31m 55 \u001b[0m\u001b[32m 88 \u001b[0m\u001b[31m 64\u001b[0m │\n",
       "│ \u001b[31m 74 \u001b[0m\u001b[32m 85 \u001b[0m\u001b[32m 82 \u001b[0m\u001b[31m 61 \u001b[0m\u001b[31m  5\u001b[0m │\n",
       "│ \u001b[31m 57 \u001b[0m\u001b[31m 17 \u001b[0m\u001b[31m 90 \u001b[0m\u001b[31m 43 \u001b[0m\u001b[31m 54\u001b[0m │\n",
       "│ \u001b[31m 58 \u001b[0m\u001b[32m 83 \u001b[0m\u001b[31m 52 \u001b[0m\u001b[32m 23 \u001b[0m\u001b[31m  7\u001b[0m │\n",
       "╰─────────────────────╯\n"
      ]
     },
     "metadata": {},
     "output_type": "display_data"
    },
    {
     "data": {
      "text/html": [
       "<pre style=\"white-space:pre;overflow-x:auto;line-height:normal;font-family:Menlo,'DejaVu Sans Mono',consolas,'Courier New',monospace\">Calling <span style=\"color: #008080; text-decoration-color: #008080; font-weight: bold\">49</span>\n",
       "</pre>\n"
      ],
      "text/plain": [
       "Calling \u001b[1;36m49\u001b[0m\n"
      ]
     },
     "metadata": {},
     "output_type": "display_data"
    },
    {
     "data": {
      "text/html": [
       "<pre style=\"white-space:pre;overflow-x:auto;line-height:normal;font-family:Menlo,'DejaVu Sans Mono',consolas,'Courier New',monospace\">╭──── BingoBoard ─────╮\n",
       "│ <span style=\"color: #800000; text-decoration-color: #800000\"> 10  43 </span><span style=\"color: #008000; text-decoration-color: #008000\"> 83 </span><span style=\"color: #800000; text-decoration-color: #800000\"> 75   8</span> │\n",
       "│ <span style=\"color: #800000; text-decoration-color: #800000\"> 88  12  38  30   9</span> │\n",
       "│ <span style=\"color: #800000; text-decoration-color: #800000\"> 60  67 </span><span style=\"color: #008000; text-decoration-color: #008000\"> 59 </span><span style=\"color: #800000; text-decoration-color: #800000\"> 76   6</span> │\n",
       "│ <span style=\"color: #800000; text-decoration-color: #800000\"> 55  45  74 </span><span style=\"color: #008000; text-decoration-color: #008000\"> 34 </span><span style=\"color: #800000; text-decoration-color: #800000\"> 25</span> │\n",
       "│ <span style=\"color: #800000; text-decoration-color: #800000\"> 97  49  65  96 </span><span style=\"color: #008000; text-decoration-color: #008000\"> 69</span> │\n",
       "╰─────────────────────╯\n",
       "</pre>\n"
      ],
      "text/plain": [
       "╭──── BingoBoard ─────╮\n",
       "│ \u001b[31m 10 \u001b[0m\u001b[31m 43 \u001b[0m\u001b[32m 83 \u001b[0m\u001b[31m 75 \u001b[0m\u001b[31m  8\u001b[0m │\n",
       "│ \u001b[31m 88 \u001b[0m\u001b[31m 12 \u001b[0m\u001b[31m 38 \u001b[0m\u001b[31m 30 \u001b[0m\u001b[31m  9\u001b[0m │\n",
       "│ \u001b[31m 60 \u001b[0m\u001b[31m 67 \u001b[0m\u001b[32m 59 \u001b[0m\u001b[31m 76 \u001b[0m\u001b[31m  6\u001b[0m │\n",
       "│ \u001b[31m 55 \u001b[0m\u001b[31m 45 \u001b[0m\u001b[31m 74 \u001b[0m\u001b[32m 34 \u001b[0m\u001b[31m 25\u001b[0m │\n",
       "│ \u001b[31m 97 \u001b[0m\u001b[31m 49 \u001b[0m\u001b[31m 65 \u001b[0m\u001b[31m 96 \u001b[0m\u001b[32m 69\u001b[0m │\n",
       "╰─────────────────────╯\n"
      ]
     },
     "metadata": {},
     "output_type": "display_data"
    },
    {
     "data": {
      "text/html": [
       "<pre style=\"white-space:pre;overflow-x:auto;line-height:normal;font-family:Menlo,'DejaVu Sans Mono',consolas,'Courier New',monospace\">Calling <span style=\"color: #008080; text-decoration-color: #008080; font-weight: bold\">83</span>\n",
       "</pre>\n"
      ],
      "text/plain": [
       "Calling \u001b[1;36m83\u001b[0m\n"
      ]
     },
     "metadata": {},
     "output_type": "display_data"
    },
    {
     "data": {
      "text/html": [
       "<pre style=\"white-space:pre;overflow-x:auto;line-height:normal;font-family:Menlo,'DejaVu Sans Mono',consolas,'Courier New',monospace\">Calling <span style=\"color: #008080; text-decoration-color: #008080; font-weight: bold\">84</span>\n",
       "</pre>\n"
      ],
      "text/plain": [
       "Calling \u001b[1;36m84\u001b[0m\n"
      ]
     },
     "metadata": {},
     "output_type": "display_data"
    },
    {
     "data": {
      "text/html": [
       "<pre style=\"white-space:pre;overflow-x:auto;line-height:normal;font-family:Menlo,'DejaVu Sans Mono',consolas,'Courier New',monospace\">Calling <span style=\"color: #008080; text-decoration-color: #008080; font-weight: bold\">97</span>\n",
       "</pre>\n"
      ],
      "text/plain": [
       "Calling \u001b[1;36m97\u001b[0m\n"
      ]
     },
     "metadata": {},
     "output_type": "display_data"
    },
    {
     "data": {
      "text/html": [
       "<pre style=\"white-space:pre;overflow-x:auto;line-height:normal;font-family:Menlo,'DejaVu Sans Mono',consolas,'Courier New',monospace\">Calling <span style=\"color: #008080; text-decoration-color: #008080; font-weight: bold\">11</span>\n",
       "</pre>\n"
      ],
      "text/plain": [
       "Calling \u001b[1;36m11\u001b[0m\n"
      ]
     },
     "metadata": {},
     "output_type": "display_data"
    },
    {
     "data": {
      "text/html": [
       "<pre style=\"white-space:pre;overflow-x:auto;line-height:normal;font-family:Menlo,'DejaVu Sans Mono',consolas,'Courier New',monospace\">Calling <span style=\"color: #008080; text-decoration-color: #008080; font-weight: bold\">85</span>\n",
       "</pre>\n"
      ],
      "text/plain": [
       "Calling \u001b[1;36m85\u001b[0m\n"
      ]
     },
     "metadata": {},
     "output_type": "display_data"
    },
    {
     "data": {
      "text/html": [
       "<pre style=\"white-space:pre;overflow-x:auto;line-height:normal;font-family:Menlo,'DejaVu Sans Mono',consolas,'Courier New',monospace\">Calling <span style=\"color: #008080; text-decoration-color: #008080; font-weight: bold\">26</span>\n",
       "</pre>\n"
      ],
      "text/plain": [
       "Calling \u001b[1;36m26\u001b[0m\n"
      ]
     },
     "metadata": {},
     "output_type": "display_data"
    },
    {
     "data": {
      "text/html": [
       "<pre style=\"white-space:pre;overflow-x:auto;line-height:normal;font-family:Menlo,'DejaVu Sans Mono',consolas,'Courier New',monospace\">Calling <span style=\"color: #008080; text-decoration-color: #008080; font-weight: bold\">69</span>\n",
       "</pre>\n"
      ],
      "text/plain": [
       "Calling \u001b[1;36m69\u001b[0m\n"
      ]
     },
     "metadata": {},
     "output_type": "display_data"
    },
    {
     "data": {
      "text/html": [
       "<pre style=\"white-space:pre;overflow-x:auto;line-height:normal;font-family:Menlo,'DejaVu Sans Mono',consolas,'Courier New',monospace\">Calling <span style=\"color: #008080; text-decoration-color: #008080; font-weight: bold\">23</span>\n",
       "</pre>\n"
      ],
      "text/plain": [
       "Calling \u001b[1;36m23\u001b[0m\n"
      ]
     },
     "metadata": {},
     "output_type": "display_data"
    },
    {
     "data": {
      "text/html": [
       "<pre style=\"white-space:pre;overflow-x:auto;line-height:normal;font-family:Menlo,'DejaVu Sans Mono',consolas,'Courier New',monospace\">Calling <span style=\"color: #008080; text-decoration-color: #008080; font-weight: bold\">59</span>\n",
       "</pre>\n"
      ],
      "text/plain": [
       "Calling \u001b[1;36m59\u001b[0m\n"
      ]
     },
     "metadata": {},
     "output_type": "display_data"
    },
    {
     "data": {
      "text/html": [
       "<pre style=\"white-space:pre;overflow-x:auto;line-height:normal;font-family:Menlo,'DejaVu Sans Mono',consolas,'Courier New',monospace\">Calling <span style=\"color: #008080; text-decoration-color: #008080; font-weight: bold\">82</span>\n",
       "</pre>\n"
      ],
      "text/plain": [
       "Calling \u001b[1;36m82\u001b[0m\n"
      ]
     },
     "metadata": {},
     "output_type": "display_data"
    },
    {
     "data": {
      "text/html": [
       "<pre style=\"white-space:pre;overflow-x:auto;line-height:normal;font-family:Menlo,'DejaVu Sans Mono',consolas,'Courier New',monospace\">Calling <span style=\"color: #008080; text-decoration-color: #008080; font-weight: bold\">88</span>\n",
       "</pre>\n"
      ],
      "text/plain": [
       "Calling \u001b[1;36m88\u001b[0m\n"
      ]
     },
     "metadata": {},
     "output_type": "display_data"
    },
    {
     "data": {
      "text/html": [
       "<pre style=\"white-space:pre;overflow-x:auto;line-height:normal;font-family:Menlo,'DejaVu Sans Mono',consolas,'Courier New',monospace\">Calling <span style=\"color: #008080; text-decoration-color: #008080; font-weight: bold\">34</span>\n",
       "</pre>\n"
      ],
      "text/plain": [
       "Calling \u001b[1;36m34\u001b[0m\n"
      ]
     },
     "metadata": {},
     "output_type": "display_data"
    },
    {
     "data": {
      "text/html": [
       "<pre style=\"white-space:pre;overflow-x:auto;line-height:normal;font-family:Menlo,'DejaVu Sans Mono',consolas,'Courier New',monospace\">Calling <span style=\"color: #008080; text-decoration-color: #008080; font-weight: bold\">56</span>\n",
       "</pre>\n"
      ],
      "text/plain": [
       "Calling \u001b[1;36m56\u001b[0m\n"
      ]
     },
     "metadata": {},
     "output_type": "display_data"
    },
    {
     "data": {
      "text/html": [
       "<pre style=\"white-space:pre;overflow-x:auto;line-height:normal;font-family:Menlo,'DejaVu Sans Mono',consolas,'Courier New',monospace\">Calling <span style=\"color: #008080; text-decoration-color: #008080; font-weight: bold\">13</span>\n",
       "</pre>\n"
      ],
      "text/plain": [
       "Calling \u001b[1;36m13\u001b[0m\n"
      ]
     },
     "metadata": {},
     "output_type": "display_data"
    },
    {
     "data": {
      "text/html": [
       "<pre style=\"white-space:pre;overflow-x:auto;line-height:normal;font-family:Menlo,'DejaVu Sans Mono',consolas,'Courier New',monospace\"><span style=\"color: #008080; text-decoration-color: #008080; font-weight: bold\">100</span> winning boards\n",
       "</pre>\n"
      ],
      "text/plain": [
       "\u001b[1;36m100\u001b[0m winning boards\n"
      ]
     },
     "metadata": {},
     "output_type": "display_data"
    },
    {
     "data": {
      "text/html": [
       "<pre style=\"white-space:pre;overflow-x:auto;line-height:normal;font-family:Menlo,'DejaVu Sans Mono',consolas,'Courier New',monospace\"><span style=\"color: #008080; text-decoration-color: #008080; font-weight: bold\">21070</span>\n",
       "</pre>\n"
      ],
      "text/plain": [
       "\u001b[1;36m21070\u001b[0m\n"
      ]
     },
     "metadata": {},
     "output_type": "display_data"
    }
   ],
   "source": [
    "part2(read(4))"
   ]
  },
  {
   "cell_type": "code",
   "execution_count": null,
   "id": "616618df-c15c-4346-b6b2-48452dc0ab3a",
   "metadata": {},
   "outputs": [],
   "source": []
  }
 ],
 "metadata": {
  "kernelspec": {
   "display_name": "Python 3 (ipykernel)",
   "language": "python",
   "name": "python3"
  },
  "language_info": {
   "codemirror_mode": {
    "name": "ipython",
    "version": 3
   },
   "file_extension": ".py",
   "mimetype": "text/x-python",
   "name": "python",
   "nbconvert_exporter": "python",
   "pygments_lexer": "ipython3",
   "version": "3.10.0"
  }
 },
 "nbformat": 4,
 "nbformat_minor": 5
}
