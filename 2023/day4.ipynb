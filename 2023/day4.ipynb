{
 "cells": [
  {
   "cell_type": "code",
   "execution_count": 1,
   "metadata": {},
   "outputs": [],
   "source": [
    "%load_ext autoreload\n",
    "%autoreload 2"
   ]
  },
  {
   "cell_type": "code",
   "execution_count": 2,
   "metadata": {},
   "outputs": [],
   "source": [
    "import sys\n",
    "from pathlib import Path\n",
    "\n",
    "from rich import print\n",
    "\n",
    "f = Path.cwd().parents[0]\n",
    "if str(f) not in sys.path:\n",
    "    sys.path.insert(0, str(f))\n",
    "import aoc_input"
   ]
  },
  {
   "cell_type": "code",
   "execution_count": 3,
   "metadata": {},
   "outputs": [],
   "source": [
    "# from day4 import part1, part2"
   ]
  },
  {
   "cell_type": "code",
   "execution_count": 4,
   "metadata": {},
   "outputs": [],
   "source": [
    "sample = \"\"\"Card 1: 41 48 83 86 17 | 83 86  6 31 17  9 48 53\n",
    "Card 2: 13 32 20 16 61 | 61 30 68 82 17 32 24 19\n",
    "Card 3:  1 21 53 59 44 | 69 82 63 72 16 21 14  1\n",
    "Card 4: 41 92 73 84 69 | 59 84 76 51 58  5 54 83\n",
    "Card 5: 87 83 26 28 32 | 88 30 70 12 93 22 82 36\n",
    "Card 6: 31 18 13 56 72 | 74 77 10 23 35 67 36 11\"\"\""
   ]
  },
  {
   "cell_type": "code",
   "execution_count": 11,
   "metadata": {},
   "outputs": [
    {
     "data": {
      "text/plain": [
       "Card(id=1, winning={41, 48, 17, 83, 86})"
      ]
     },
     "execution_count": 11,
     "metadata": {},
     "output_type": "execute_result"
    }
   ],
   "source": [
    "import re\n",
    "from dataclasses import dataclass\n",
    "from typing import List\n",
    "\n",
    "card_regex = re.compile(r'Card (?P<id>\\d+): (?P<winning>[\\d ]+) | (?P<have>[\\d ]+)')\n",
    "num_regex = re.compile(r'\\d+')\n",
    "\n",
    "def parse_nums(line: str):\n",
    "    return set(map(int, num_regex.findall(line)))\n",
    "\n",
    "\n",
    "@dataclass\n",
    "class Card:\n",
    "    id: int\n",
    "    winning: List[int]\n",
    "\n",
    "    @classmethod\n",
    "    def from_line(cls, line: str):\n",
    "        m = card_regex.match(line)\n",
    "        self = cls(\n",
    "            id=int(m.group('id')),\n",
    "            winning=parse_nums(m.group('winning'))\n",
    "        )\n",
    "        return self\n",
    "\n",
    "Card.from_line(sample.splitlines()[0])"
   ]
  },
  {
   "cell_type": "code",
   "execution_count": null,
   "metadata": {},
   "outputs": [],
   "source": []
  },
  {
   "cell_type": "code",
   "execution_count": null,
   "metadata": {},
   "outputs": [],
   "source": []
  }
 ],
 "metadata": {
  "kernelspec": {
   "display_name": "aoc",
   "language": "python",
   "name": "python3"
  },
  "language_info": {
   "codemirror_mode": {
    "name": "ipython",
    "version": 3
   },
   "file_extension": ".py",
   "mimetype": "text/x-python",
   "name": "python",
   "nbconvert_exporter": "python",
   "pygments_lexer": "ipython3",
   "version": "3.12.1"
  }
 },
 "nbformat": 4,
 "nbformat_minor": 2
}
