{
 "cells": [
  {
   "cell_type": "code",
   "execution_count": 1,
   "metadata": {},
   "outputs": [],
   "source": [
    "%load_ext autoreload\n",
    "%autoreload 2"
   ]
  },
  {
   "cell_type": "code",
   "execution_count": 2,
   "metadata": {},
   "outputs": [],
   "source": [
    "import sys\n",
    "from pathlib import Path\n",
    "\n",
    "from rich import print\n",
    "\n",
    "f = Path.cwd().parents[0]\n",
    "if str(f) not in sys.path:\n",
    "    sys.path.insert(0, str(f))\n",
    "import aoc_input"
   ]
  },
  {
   "cell_type": "code",
   "execution_count": 3,
   "metadata": {},
   "outputs": [],
   "source": [
    "from day5 import part1\n",
    "from day5 import Map, MapLine, SEED_REGEX, process_seed"
   ]
  },
  {
   "cell_type": "code",
   "execution_count": 4,
   "metadata": {},
   "outputs": [],
   "source": [
    "sample = \"\"\"seeds: 79 14 55 13\n",
    "\n",
    "seed-to-soil map:\n",
    "50 98 2\n",
    "52 50 48\n",
    "\n",
    "soil-to-fertilizer map:\n",
    "0 15 37\n",
    "37 52 2\n",
    "39 0 15\n",
    "\n",
    "fertilizer-to-water map:\n",
    "49 53 8\n",
    "0 11 42\n",
    "42 0 7\n",
    "57 7 4\n",
    "\n",
    "water-to-light map:\n",
    "88 18 7\n",
    "18 25 70\n",
    "\n",
    "light-to-temperature map:\n",
    "45 77 23\n",
    "81 45 19\n",
    "68 64 13\n",
    "\n",
    "temperature-to-humidity map:\n",
    "0 69 1\n",
    "1 0 69\n",
    "\n",
    "humidity-to-location map:\n",
    "60 56 37\n",
    "56 93 4\"\"\""
   ]
  },
  {
   "cell_type": "code",
   "execution_count": 5,
   "metadata": {},
   "outputs": [
    {
     "data": {
      "text/plain": [
       "35"
      ]
     },
     "execution_count": 5,
     "metadata": {},
     "output_type": "execute_result"
    }
   ],
   "source": [
    "part1(sample)"
   ]
  },
  {
   "cell_type": "code",
   "execution_count": 6,
   "metadata": {},
   "outputs": [
    {
     "data": {
      "text/plain": [
       "836040384"
      ]
     },
     "execution_count": 6,
     "metadata": {},
     "output_type": "execute_result"
    }
   ],
   "source": [
    "part1(aoc_input.read(2023, 5))"
   ]
  },
  {
   "cell_type": "code",
   "execution_count": 14,
   "metadata": {},
   "outputs": [],
   "source": [
    "import re\n",
    "from dataclasses import dataclass, field\n",
    "from itertools import count, chain\n",
    "from typing import Dict, Iterable, List\n",
    "\n",
    "from rich.progress import track, Progress"
   ]
  },
  {
   "cell_type": "code",
   "execution_count": 16,
   "metadata": {},
   "outputs": [],
   "source": [
    "def part2(input: str):\n",
    "        parts = input.split('\\n\\n')\n",
    "        seed_input = list(map(int, SEED_REGEX.match(parts.pop(0)).group(1).split(' ')))\n",
    "        \n",
    "        ranges = (seed_input[i:i+2] for i in range(0, len(seed_input), 2))\n",
    "        ranges = (range(start, start+length) for start, length in ranges)\n",
    "        seeds = list(chain(*ranges))\n",
    "\n",
    "        maps = Map.from_parts(parts)\n",
    "        sources = {m.source: m for m in maps}\n",
    "        print(sources)\n",
    "\n",
    "        # s = next(seeds)\n",
    "        # new = process_seed(s, sources)\n",
    "        # print(f'{s} -> {new}')\n",
    "\n",
    "        for s in track(seeds, description=\"Processing...\"):\n",
    "            new = process_seed(s, sources)\n",
    "            print(f'{s} -> {new}')\n",
    "\n",
    "    # locations = {s: process_seed(s, sources) for s in seeds}\n",
    "    # return min(locations.values())\n",
    "\n",
    "part2(aoc_input.read(2023, 5))"
   ]
  },
  {
   "cell_type": "code",
   "execution_count": null,
   "metadata": {},
   "outputs": [],
   "source": []
  },
  {
   "cell_type": "code",
   "execution_count": null,
   "metadata": {},
   "outputs": [],
   "source": []
  }
 ],
 "metadata": {
  "kernelspec": {
   "display_name": "aoc",
   "language": "python",
   "name": "python3"
  },
  "language_info": {
   "codemirror_mode": {
    "name": "ipython",
    "version": 3
   },
   "file_extension": ".py",
   "mimetype": "text/x-python",
   "name": "python",
   "nbconvert_exporter": "python",
   "pygments_lexer": "ipython3",
   "version": "3.12.1"
  }
 },
 "nbformat": 4,
 "nbformat_minor": 2
}
