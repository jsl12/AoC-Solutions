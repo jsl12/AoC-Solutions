{
 "cells": [
  {
   "cell_type": "code",
   "execution_count": 1,
   "metadata": {},
   "outputs": [],
   "source": [
    "%load_ext autoreload\n",
    "%autoreload 2"
   ]
  },
  {
   "cell_type": "code",
   "execution_count": 23,
   "metadata": {},
   "outputs": [],
   "source": [
    "import re\n",
    "import sys\n",
    "from dataclasses import dataclass, field\n",
    "from functools import reduce\n",
    "from itertools import count\n",
    "from pathlib import Path\n",
    "from typing import List\n",
    "\n",
    "import numpy as np\n",
    "import numpy.typing as npt\n",
    "import pandas as pd\n",
    "\n",
    "f = Path.cwd().parents[0]\n",
    "if str(f) not in sys.path:\n",
    "    sys.path.insert(0, str(f))\n",
    "import aoc_input"
   ]
  },
  {
   "cell_type": "code",
   "execution_count": 3,
   "metadata": {},
   "outputs": [],
   "source": [
    "sample = \"\"\"0 3 6 9 12 15\n",
    "1 3 6 10 15 21\n",
    "10 13 16 21 30 45\"\"\""
   ]
  },
  {
   "cell_type": "code",
   "execution_count": 4,
   "metadata": {},
   "outputs": [
    {
     "name": "stdout",
     "output_type": "stream",
     "text": [
      " 0    3    6    9    12   15    \n",
      "    3    3    3    3    3       \n",
      "      0    0    0    0          \n"
     ]
    }
   ],
   "source": [
    "def pyramid_line(vals, width: int = 32):\n",
    "    string = ' '.join(f'{i:<4}' for i in vals)\n",
    "    string = string.center(width)\n",
    "    return string\n",
    "\n",
    "def parse_history(input: str):\n",
    "    vals = np.array([\n",
    "        [int(i) for i in line.split(' ')]\n",
    "        for line in input.splitlines()\n",
    "    ])\n",
    "    for lin in vals:\n",
    "        pyr_line = pyramid_line(lin)\n",
    "        width = len(pyr_line)\n",
    "        print(pyr_line)\n",
    "        while not ((d := np.diff(lin)) == 0).all():\n",
    "            print(pyramid_line(d, width))\n",
    "            lin = d\n",
    "        print(pyramid_line(d, width))\n",
    "        break\n",
    "        # while (c := check_line(lin)):\n",
    "        #     print(c)\n",
    "        #     lin = np.diff(lin)\n",
    "        #     print(lin)\n",
    "    return vals\n",
    "        \n",
    "vals = parse_history(sample)"
   ]
  },
  {
   "cell_type": "code",
   "execution_count": 44,
   "metadata": {},
   "outputs": [
    {
     "name": "stdout",
     "output_type": "stream",
     "text": [
      "[0, 3, 6, 9, 12, 15]\n",
      "[3 3 3 3 3]\n",
      "[0 0 0 0]\n",
      " 0    3    6    9    12   15    \n",
      "    3    3    3    3    3       \n",
      "      0    0    0    0          \n",
      "\n",
      "\n",
      "\n"
     ]
    }
   ],
   "source": [
    "def format_line(vals, width: int = 32):\n",
    "    string = ' '.join(f'{i:<4}' for i in vals)\n",
    "    string = string.center(width)\n",
    "    return string\n",
    "\n",
    "def diff(lst):\n",
    "    yield from ((lst[i+1] - lst[i]) for i in range(0, len(lst) - 1))\n",
    "\n",
    "def check(lst):\n",
    "    return not all(v == 0 for v in diff(lst))\n",
    "\n",
    "@dataclass\n",
    "class Tree:\n",
    "    first_line: List[int]\n",
    "    lines: List[List[int]] = field(default_factory=list)\n",
    "    width: int = field(init=False)\n",
    "\n",
    "    def __post_init__(self):\n",
    "        self.lines = [self.first_line]\n",
    "        self.width = len(format_line(self.first_line))\n",
    "        while self.check():\n",
    "            self.lines.append(self.next_line())\n",
    "\n",
    "    def next_line(self):\n",
    "        return np.diff(self.lines[-1])\n",
    "    \n",
    "    def check(self, i: int = -1):\n",
    "        return not (np.array(self.lines[i]) == 0).all()\n",
    "\n",
    "    def tree_string(self):\n",
    "        return '\\n'.join(map(lambda line: format_line(line, self.width), self.lines))\n",
    "    \n",
    "    def extrapolate(self):\n",
    "        line: List[int]\n",
    "        for i, line in enumerate(self.lines):\n",
    "            print(line)\n",
    "            # line.append(0)\n",
    "\n",
    "\n",
    "for line in sample.splitlines():\n",
    "    vals = [int(i) for i in line.split(' ')]\n",
    "    t = Tree(vals)\n",
    "    t.extrapolate()\n",
    "    print(t.tree_string())\n",
    "    print('\\n\\n')\n",
    "    break"
   ]
  },
  {
   "cell_type": "code",
   "execution_count": 34,
   "metadata": {},
   "outputs": [
    {
     "data": {
      "text/plain": [
       "[0, 3, 6, 9, 12, 15]"
      ]
     },
     "execution_count": 34,
     "metadata": {},
     "output_type": "execute_result"
    }
   ],
   "source": [
    "vals"
   ]
  },
  {
   "cell_type": "code",
   "execution_count": 22,
   "metadata": {},
   "outputs": [
    {
     "ename": "NameError",
     "evalue": "name 'count' is not defined",
     "output_type": "error",
     "traceback": [
      "\u001b[1;31m---------------------------------------------------------------------------\u001b[0m",
      "\u001b[1;31mNameError\u001b[0m                                 Traceback (most recent call last)",
      "Cell \u001b[1;32mIn[22], line 2\u001b[0m\n\u001b[0;32m      1\u001b[0m n \u001b[38;5;241m=\u001b[39m \u001b[38;5;241m40\u001b[39m\n\u001b[1;32m----> 2\u001b[0m idx \u001b[38;5;241m=\u001b[39m [(i, i\u001b[38;5;241m+\u001b[39m\u001b[38;5;241m1\u001b[39m) \u001b[38;5;28;01mfor\u001b[39;00m i \u001b[38;5;129;01min\u001b[39;00m \u001b[43mcount\u001b[49m()]\n\u001b[0;32m      3\u001b[0m \u001b[38;5;28mprint\u001b[39m(idx)\n",
      "\u001b[1;31mNameError\u001b[0m: name 'count' is not defined"
     ]
    }
   ],
   "source": [
    "n = 40\n",
    "idx = [(i, i+1) for i in count()]\n",
    "print(idx)"
   ]
  },
  {
   "cell_type": "code",
   "execution_count": 27,
   "metadata": {},
   "outputs": [
    {
     "name": "stdout",
     "output_type": "stream",
     "text": [
      "(0, 1)\n",
      "(1, 2)\n",
      "(2, 3)\n",
      "(3, 4)\n"
     ]
    }
   ],
   "source": [
    "iterable = range(5)\n",
    "\n",
    "def doubler(iterable):\n",
    "    for i, v in enumerate(iterable):\n",
    "        try:\n",
    "            yield iterable[i], iterable[i+1]\n",
    "        except:\n",
    "            continue\n",
    "    # yield from ((i, i+1) for i, v in enumerate(iterable))\n",
    "\n",
    "for idx in doubler(iterable):\n",
    "    print(idx)"
   ]
  },
  {
   "cell_type": "code",
   "execution_count": 43,
   "metadata": {},
   "outputs": [
    {
     "name": "stdout",
     "output_type": "stream",
     "text": [
      "[0, 3, 6, 9, 12, 15]\n"
     ]
    },
    {
     "data": {
      "text/plain": [
       "[3, 3, 3, 3, 3]"
      ]
     },
     "execution_count": 43,
     "metadata": {},
     "output_type": "execute_result"
    }
   ],
   "source": [
    "\n",
    "\n",
    "list(diff(vals))"
   ]
  },
  {
   "cell_type": "code",
   "execution_count": 35,
   "metadata": {},
   "outputs": [
    {
     "name": "stdout",
     "output_type": "stream",
     "text": [
      "(0, 3)\n",
      "(3, 6)\n",
      "(6, 9)\n",
      "(9, 12)\n",
      "(12, 15)\n"
     ]
    }
   ],
   "source": [
    "for idx in doubler(vals):\n",
    "    print(idx)"
   ]
  },
  {
   "cell_type": "code",
   "execution_count": null,
   "metadata": {},
   "outputs": [],
   "source": []
  }
 ],
 "metadata": {
  "kernelspec": {
   "display_name": "aoc",
   "language": "python",
   "name": "python3"
  },
  "language_info": {
   "codemirror_mode": {
    "name": "ipython",
    "version": 3
   },
   "file_extension": ".py",
   "mimetype": "text/x-python",
   "name": "python",
   "nbconvert_exporter": "python",
   "pygments_lexer": "ipython3",
   "version": "3.12.1"
  }
 },
 "nbformat": 4,
 "nbformat_minor": 2
}
